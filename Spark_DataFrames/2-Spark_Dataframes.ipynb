{
 "cells": [
  {
   "cell_type": "code",
   "execution_count": 72,
   "metadata": {
    "collapsed": true
   },
   "outputs": [
    {
     "name": "stdout",
     "output_type": "stream",
     "text": [
      "Welcome to\n",
      "      ____              __\n",
      "     / __/__  ___ _____/ /__\n",
      "    _\\ \\/ _ \\/ _ `/ __/  '_/\n",
      "   /__ / .__/\\_,_/_/ /_/\\_\\   version 2.2.0\n",
      "      /_/\n",
      "\n",
      "Using Python version 3.6.2 (default, Sep 21 2017 18:29:43)\n",
      "SparkSession available as 'spark'.\n"
     ]
    }
   ],
   "source": [
    "# SPARK_HOME=\"/Users/ssv/spark-2.2.0-bin-hadoop2.7\"\n",
    "import os\n",
    "import sys\n",
    "os.environ[\"PYSPARK_SUBMIT_ARGS\"]='--packages com.databricks:spark-csv_2.10:1.2.0 pyspark-shell'\n",
    "os.environ[\"PYSPARK_PYTHON\"]='python3'\n",
    "# os.environ[\"SPARK_HOME\"]='/usr/hdp/current/spark2-client'\n",
    "os.environ[\"SPARK_HOME\"]='/Users/ssv/spark-2.2.0-bin-hadoop2.7'\n",
    "\n",
    "spark_home = os.environ.get('SPARK_HOME', None)\n",
    "if not spark_home:\n",
    "    raise ValueError('SPARK_HOME environment variable is not set')\n",
    "sys.path.insert(0, os.path.join(spark_home, 'python'))\n",
    "sys.path.insert(0, os.path.join(spark_home, 'python/lib/py4j-0.10.4-src.zip'))\n",
    "os.environ[\"PYSPARK_PYTHON\"] = 'python3'\n",
    "exec(open(os.path.join(spark_home, 'python/pyspark/shell.py')).read())"
   ]
  },
  {
   "cell_type": "code",
   "execution_count": 2,
   "metadata": {
    "collapsed": true
   },
   "outputs": [],
   "source": [
    "from pyspark.sql import SparkSession\n",
    "import json"
   ]
  },
  {
   "cell_type": "code",
   "execution_count": 4,
   "metadata": {
    "collapsed": true
   },
   "outputs": [],
   "source": [
    "?spark.read"
   ]
  },
  {
   "cell_type": "code",
   "execution_count": 5,
   "metadata": {},
   "outputs": [
    {
     "data": {
      "text/html": [
       "\n",
       "        <div>\n",
       "            <p><b>SparkContext</b></p>\n",
       "\n",
       "            <p><a href=\"http://10.0.1.2:4041\">Spark UI</a></p>\n",
       "\n",
       "            <dl>\n",
       "              <dt>Version</dt>\n",
       "                <dd><code>v2.2.0</code></dd>\n",
       "              <dt>Master</dt>\n",
       "                <dd><code>local[*]</code></dd>\n",
       "              <dt>AppName</dt>\n",
       "                <dd><code>pyspark-shell</code></dd>\n",
       "            </dl>\n",
       "        </div>\n",
       "        "
      ],
      "text/plain": [
       "<SparkContext master=local[*] appName=pyspark-shell>"
      ]
     },
     "execution_count": 5,
     "metadata": {},
     "output_type": "execute_result"
    }
   ],
   "source": [
    "sc"
   ]
  },
  {
   "cell_type": "code",
   "execution_count": null,
   "metadata": {
    "collapsed": true
   },
   "outputs": [],
   "source": [
    "spark."
   ]
  },
  {
   "cell_type": "code",
   "execution_count": 6,
   "metadata": {
    "collapsed": true
   },
   "outputs": [],
   "source": [
    " filename = '/Users/ssv/newprolab/labs/lab07/DO_record_per_line.json'"
   ]
  },
  {
   "cell_type": "code",
   "execution_count": 7,
   "metadata": {
    "collapsed": true
   },
   "outputs": [
    {
     "data": {
      "text/plain": [
       "['{\"lang\": \"en\", \"name\": \"Accounting Cycle: The Foundation of Business Measurement and Reporting\", \"cat\": \"3/business_management|6/economics_finance\", \"provider\": \"Canvas Network\", \"id\": 4, \"desc\": \"This course introduces the basic financial statements used by most businesses, as well as the essential tools used to prepare them. This course will serve as a resource to help business students succeed in their upcoming university-level accounting classes, and as a refresher for upper division accounting students who are struggling to recall elementary concepts essential to more advanced accounting topics. Business owners will also benefit from this class by gaining essential skills necessary to organize and manage information pertinent to operating their business. At the conclusion of the class, students will understand the balance sheet, income statement, and cash flow statement. They will be able to differentiate between cash basis and accrual basis techniques, and know when each is appropriate. They\\\\u2019ll also understand the accounting equation, how to journalize and post transactions, how to adjust and close accounts, and how to prepare key financial reports. All material for this class is written and delivered by the professor, and can be previewed here. Students must have access to a spreadsheet program to participate.\"}',\n",
       " '{\"lang\": \"en\", \"name\": \"American Counter Terrorism Law\", \"cat\": \"11/law\", \"provider\": \"Canvas Network\", \"id\": 5, \"desc\": \"This online course will introduce you to American laws related to terrorism and the prevention of terrorism. My approach to the topic is the case-study method. Each week, we will read a case study, along with the statutes, regulations, and other law-related materials relevant to the case. We\\\\u2019ll see how the case was handled in court and what reforms were enacted following the trial. Each week\\\\u2019s assignment will include copies of the relevant laws and court rules, a glossary of terms, background readings, and other supplementary materials. The course will commence with the first attempt by Islamic militants to bring down the World Trade Center towers with a truck bomb in 1993. From there, I\\'ll take you through the major terrorist incidents of the past 20 years, including acts perpetrated by homegrown terrorists, such as the Oklahoma City bombing of 1995 and the trial of the SHAC Seven (animal rights) terrorists in Trenton (NJ) in 2006. Required materials: The textbook for this course is Counter Terrorism Issues: Case Studies in the Courtroom, by Jim Castagnera (estimated cost: $100) Find it at CRC Press\"}']"
      ]
     },
     "execution_count": 7,
     "metadata": {},
     "output_type": "execute_result"
    }
   ],
   "source": [
    "sc.textFile(filename).take(2)"
   ]
  },
  {
   "cell_type": "code",
   "execution_count": 6,
   "metadata": {
    "collapsed": true
   },
   "outputs": [
    {
     "data": {
      "text/plain": [
       "['[',\n",
       " '  {',\n",
       " '    \"id\": 4,',\n",
       " '    \"lang\": \"en\",',\n",
       " '    \"name\": \"Accounting Cycle: The Foundation of Business Measurement and Reporting\",',\n",
       " '    \"desc\": \"This course introduces the basic financial statements used by most businesses, as well as the essential tools used to prepare them. This course will serve as a resource to help business students succeed in their upcoming university-level accounting classes, and as a refresher for upper division accounting students who are struggling to recall elementary concepts essential to more advanced accounting topics. Business owners will also benefit from this class by gaining essential skills necessary to organize and manage information pertinent to operating their business. At the conclusion of the class, students will understand the balance sheet, income statement, and cash flow statement. They will be able to differentiate between cash basis and accrual basis techniques, and know when each is appropriate. They’ll also understand the accounting equation, how to journalize and post transactions, how to adjust and close accounts, and how to prepare key financial reports. All material for this class is written and delivered by the professor, and can be previewed here. Students must have access to a spreadsheet program to participate.\",',\n",
       " '    \"provider\": \"Canvas Network\",',\n",
       " '    \"cat\": \"3/business_management|6/economics_finance\"',\n",
       " '  },',\n",
       " '  {',\n",
       " '    \"id\": 5,',\n",
       " '    \"lang\": \"en\",',\n",
       " '    \"name\": \"American Counter Terrorism Law\",',\n",
       " '    \"desc\": \"This online course will introduce you to American laws related to terrorism and the prevention of terrorism. My approach to the topic is the case-study method. Each week, we will read a case study, along with the statutes, regulations, and other law-related materials relevant to the case. We’ll see how the case was handled in court and what reforms were enacted following the trial. Each week’s assignment will include copies of the relevant laws and court rules, a glossary of terms, background readings, and other supplementary materials. The course will commence with the first attempt by Islamic militants to bring down the World Trade Center towers with a truck bomb in 1993. From there, I\\'ll take you through the major terrorist incidents of the past 20 years, including acts perpetrated by homegrown terrorists, such as the Oklahoma City bombing of 1995 and the trial of the SHAC Seven (animal rights) terrorists in Trenton (NJ) in 2006. Required materials: The textbook for this course is Counter Terrorism Issues: Case Studies in the Courtroom, by Jim Castagnera (estimated cost: $100) Find it at CRC Press\",',\n",
       " '    \"provider\": \"Canvas Network\",',\n",
       " '    \"cat\": \"11/law\"',\n",
       " '  },',\n",
       " '  {',\n",
       " '    \"id\": 6,',\n",
       " '    \"lang\": \"fr\",',\n",
       " '    \"name\": \"Arithmétique: en route pour la cryptographie\",',\n",
       " '    \"desc\": \"This course is taught in French Vous voulez comprendre l\\'arithmétique ? Vous souhaitez découvrir une application des mathématiques à la vie quotidienne ? Ce cours est fait pour vous ! De niveau première année d\\'université, vous apprendrez les bases de l\\'arithmétique (division euclidienne, théorème de Bézout, nombres premiers, congruence). Vous vous êtes déjà demandé comment sont sécurisées les transactions sur Internet ? Vous découvrirez les bases de la cryptographie, en commençant par les codes les plus simples pour aboutir au code RSA. Le code RSA est le code utilisé pour crypter les communications sur internet. Il est basé sur de l\\'arithmétique assez simple que l\\'on comprendra en détail. Vous pourrez en plus mettre en pratique vos connaissances par l\\'apprentissage de notions sur le langage de programmation Python. Vous travaillerez à l\\'aide de cours écrits et de vidéos, d\\'exercices corrigés en vidéos, des quiz, des travaux pratiques. Le cours est entièrement gratuit !\",',\n",
       " '    \"provider\": \"Canvas Network\",',\n",
       " '    \"cat\": \"5/computer_science|15/mathematics_statistics_and_data_analysis\"',\n",
       " '  },']"
      ]
     },
     "execution_count": 6,
     "metadata": {},
     "output_type": "execute_result"
    }
   ],
   "source": [
    "sc.textFile(\"/recsys/DO.json\").take(25)"
   ]
  },
  {
   "cell_type": "code",
   "execution_count": 8,
   "metadata": {
    "collapsed": true
   },
   "outputs": [],
   "source": [
    "json_data = spark.read.json(filename)"
   ]
  },
  {
   "cell_type": "code",
   "execution_count": 9,
   "metadata": {},
   "outputs": [
    {
     "data": {
      "text/plain": [
       "DataFrame[cat: string, desc: string, id: bigint, lang: string, name: string, provider: string]"
      ]
     },
     "execution_count": 9,
     "metadata": {},
     "output_type": "execute_result"
    }
   ],
   "source": [
    "json_data"
   ]
  },
  {
   "cell_type": "code",
   "execution_count": 10,
   "metadata": {},
   "outputs": [
    {
     "name": "stdout",
     "output_type": "stream",
     "text": [
      "+--------------------+--------------------+---+----+--------------------+--------------+\n",
      "|                 cat|                desc| id|lang|                name|      provider|\n",
      "+--------------------+--------------------+---+----+--------------------+--------------+\n",
      "|3/business_manage...|This course intro...|  4|  en|Accounting Cycle:...|Canvas Network|\n",
      "|              11/law|This online cours...|  5|  en|American Counter ...|Canvas Network|\n",
      "|5/computer_scienc...|This course is ta...|  6|  fr|Arithmétique: en ...|Canvas Network|\n",
      "|  14/social_sciences|We live in a digi...|  7|  en|Becoming a Dynami...|Canvas Network|\n",
      "|2/biology_life_sc...|This self-paced c...|  8|  en|           Bioethics|Canvas Network|\n",
      "|9/humanities|15/m...|This game-based c...|  9|  en|College Foundatio...|Canvas Network|\n",
      "|  14/social_sciences|What’s in your di...| 10|  en|Digital Literacies I|Canvas Network|\n",
      "|  14/social_sciences|The goal of the D...| 11|  en|Digital Literacie...|Canvas Network|\n",
      "|  14/social_sciences|Ready to explore ...| 12|  en|Digital Tools for...|Canvas Network|\n",
      "|  14/social_sciences|This self-paced c...| 13|  en|Discover Your Val...|Canvas Network|\n",
      "|  12/medicine_health|What is “interpro...| 14|  en|Enhancing Patient...|Canvas Network|\n",
      "|        16/languages|This course prese...| 15|  en|Ethics and Values...|Canvas Network|\n",
      "|         4/chemistry|Chemistry is an i...| 16|  en| Exploring Chemistry|Canvas Network|\n",
      "|8/engineering_tec...|Are you consideri...| 17|  en|Exploring Enginee...|Canvas Network|\n",
      "|   1/arts_music_film|Princess stories ...| 18|  en|Fairy Tales: Orig...|Canvas Network|\n",
      "|        9/humanities|This first instal...| 19|  en|First Peoples to ...|Canvas Network|\n",
      "|  14/social_sciences|This course exami...| 20|  en| Forums for a Future|Canvas Network|\n",
      "|        9/humanities|This course will ...| 21|  en|From the Gilded A...|Canvas Network|\n",
      "|8/engineering_tec...|The field of tech...| 22|  en|Fundamentals of S...|Canvas Network|\n",
      "|  14/social_sciences|Are you a Higher ...| 23|  en|Hybrid Courses: B...|Canvas Network|\n",
      "+--------------------+--------------------+---+----+--------------------+--------------+\n",
      "only showing top 20 rows\n",
      "\n"
     ]
    }
   ],
   "source": [
    "json_data.show()"
   ]
  },
  {
   "cell_type": "code",
   "execution_count": 11,
   "metadata": {},
   "outputs": [
    {
     "data": {
      "text/plain": [
       "['{\"lang\": \"en\", \"name\": \"Accounting Cycle: The Foundation of Business Measurement and Reporting\", \"cat\": \"3/business_management|6/economics_finance\", \"provider\": \"Canvas Network\", \"id\": 4, \"desc\": \"This course introduces the basic financial statements used by most businesses, as well as the essential tools used to prepare them. This course will serve as a resource to help business students succeed in their upcoming university-level accounting classes, and as a refresher for upper division accounting students who are struggling to recall elementary concepts essential to more advanced accounting topics. Business owners will also benefit from this class by gaining essential skills necessary to organize and manage information pertinent to operating their business. At the conclusion of the class, students will understand the balance sheet, income statement, and cash flow statement. They will be able to differentiate between cash basis and accrual basis techniques, and know when each is appropriate. They\\\\u2019ll also understand the accounting equation, how to journalize and post transactions, how to adjust and close accounts, and how to prepare key financial reports. All material for this class is written and delivered by the professor, and can be previewed here. Students must have access to a spreadsheet program to participate.\"}',\n",
       " '{\"lang\": \"en\", \"name\": \"American Counter Terrorism Law\", \"cat\": \"11/law\", \"provider\": \"Canvas Network\", \"id\": 5, \"desc\": \"This online course will introduce you to American laws related to terrorism and the prevention of terrorism. My approach to the topic is the case-study method. Each week, we will read a case study, along with the statutes, regulations, and other law-related materials relevant to the case. We\\\\u2019ll see how the case was handled in court and what reforms were enacted following the trial. Each week\\\\u2019s assignment will include copies of the relevant laws and court rules, a glossary of terms, background readings, and other supplementary materials. The course will commence with the first attempt by Islamic militants to bring down the World Trade Center towers with a truck bomb in 1993. From there, I\\'ll take you through the major terrorist incidents of the past 20 years, including acts perpetrated by homegrown terrorists, such as the Oklahoma City bombing of 1995 and the trial of the SHAC Seven (animal rights) terrorists in Trenton (NJ) in 2006. Required materials: The textbook for this course is Counter Terrorism Issues: Case Studies in the Courtroom, by Jim Castagnera (estimated cost: $100) Find it at CRC Press\"}',\n",
       " '{\"lang\": \"fr\", \"name\": \"Arithm\\\\u00e9tique: en route pour la cryptographie\", \"cat\": \"5/computer_science|15/mathematics_statistics_and_data_analysis\", \"provider\": \"Canvas Network\", \"id\": 6, \"desc\": \"This course is taught in French Vous voulez comprendre l\\'arithm\\\\u00e9tique ? Vous souhaitez d\\\\u00e9couvrir une application des math\\\\u00e9matiques \\\\u00e0 la vie quotidienne ? Ce cours est fait pour vous ! De niveau premi\\\\u00e8re ann\\\\u00e9e d\\'universit\\\\u00e9, vous apprendrez les bases de l\\'arithm\\\\u00e9tique (division euclidienne, th\\\\u00e9or\\\\u00e8me de B\\\\u00e9zout, nombres premiers, congruence). Vous vous \\\\u00eates d\\\\u00e9j\\\\u00e0 demand\\\\u00e9 comment sont s\\\\u00e9curis\\\\u00e9es les transactions sur Internet ? Vous d\\\\u00e9couvrirez les bases de la cryptographie, en commen\\\\u00e7ant par les codes les plus simples pour aboutir au code RSA. Le code RSA est le code utilis\\\\u00e9 pour crypter les communications sur internet. Il est bas\\\\u00e9 sur de l\\'arithm\\\\u00e9tique assez simple que l\\'on comprendra en d\\\\u00e9tail. Vous pourrez en plus mettre en pratique vos connaissances par l\\'apprentissage de notions sur le langage de programmation Python. Vous travaillerez \\\\u00e0 l\\'aide de cours \\\\u00e9crits et de vid\\\\u00e9os, d\\'exercices corrig\\\\u00e9s en vid\\\\u00e9os, des quiz, des travaux pratiques. Le cours est enti\\\\u00e8rement gratuit !\"}',\n",
       " '{\"lang\": \"en\", \"name\": \"Becoming a Dynamic Educator\", \"cat\": \"14/social_sciences\", \"provider\": \"Canvas Network\", \"id\": 7, \"desc\": \"We live in a digitally connected world. The way information is generated, shared, processed and distributed is significantly impacting how we learn. If you have a passion for teaching and learning, and want to be an awesome educator now and in the coming decades, this course is for you! We will begin the journey of becoming a dynamic educator for the digital age. This course will last 6-8 weeks and will probably take 3-4 hours of your time each week, if you want to earn the certificate of completion. But, no pressure, jump in and out as you like. It\\\\u2019s all about the learning!\"}',\n",
       " '{\"lang\": \"en\", \"name\": \"Bioethics\", \"cat\": \"2/biology_life_sciences\", \"provider\": \"Canvas Network\", \"id\": 8, \"desc\": \"This self-paced course is designed to show that ethical theories can help provide frameworks for moral judgment and decision-making in the wake of recent scientific, technological, and social developments which have resulted in rapid changes in the biological sciences and in health care. This course also presents the academic foundations and historical development of multicultural moral decision-making and helps the student to develop their ability to interrelate reflectively, responsibly, and respectfully with a society of increasing intercultural connections. As grammar first describes how language is used, and then is in a position to prescribe how language ought to be used, is very similar to the approach taken in this course. This course first describes how people do in fact approach moral decision-making, and then is in a position to prescribe how multicultural and intercultural moral decision-making ought to made. Some of the topics to be covered are: Institutional Review Boards (IRB), Moral Development, Kant, Mill, Rawls, Informed Consent, Competency, Information Disclosure, Research on Human subjects, Principlism, and Food Systems.  Required materials: Bioethics: Moral Philosophy, by Jeffrey W. Bulger, published by Plato\\\\u2019s Press, 2013. Cost: $49.96 Purchase at:  http://bioethics.me/ The text for this course (digital access) is required - you will not be able to complete the course without it. Please allow 24 hours for reading rights to become effective after submitting your Access Code for the textbook.\"}']"
      ]
     },
     "execution_count": 11,
     "metadata": {},
     "output_type": "execute_result"
    }
   ],
   "source": [
    "json_data_2 = sc.textFile(\"DO_record_per_line.json\")\n",
    "json_data_2.take(5)"
   ]
  },
  {
   "cell_type": "code",
   "execution_count": 11,
   "metadata": {},
   "outputs": [
    {
     "data": {
      "text/plain": [
       "[{'cat': '3/business_management|6/economics_finance',\n",
       "  'desc': 'This course introduces the basic financial statements used by most businesses, as well as the essential tools used to prepare them. This course will serve as a resource to help business students succeed in their upcoming university-level accounting classes, and as a refresher for upper division accounting students who are struggling to recall elementary concepts essential to more advanced accounting topics. Business owners will also benefit from this class by gaining essential skills necessary to organize and manage information pertinent to operating their business. At the conclusion of the class, students will understand the balance sheet, income statement, and cash flow statement. They will be able to differentiate between cash basis and accrual basis techniques, and know when each is appropriate. They’ll also understand the accounting equation, how to journalize and post transactions, how to adjust and close accounts, and how to prepare key financial reports. All material for this class is written and delivered by the professor, and can be previewed here. Students must have access to a spreadsheet program to participate.',\n",
       "  'id': 4,\n",
       "  'lang': 'en',\n",
       "  'name': 'Accounting Cycle: The Foundation of Business Measurement and Reporting',\n",
       "  'provider': 'Canvas Network'},\n",
       " {'cat': '11/law',\n",
       "  'desc': \"This online course will introduce you to American laws related to terrorism and the prevention of terrorism. My approach to the topic is the case-study method. Each week, we will read a case study, along with the statutes, regulations, and other law-related materials relevant to the case. We’ll see how the case was handled in court and what reforms were enacted following the trial. Each week’s assignment will include copies of the relevant laws and court rules, a glossary of terms, background readings, and other supplementary materials. The course will commence with the first attempt by Islamic militants to bring down the World Trade Center towers with a truck bomb in 1993. From there, I'll take you through the major terrorist incidents of the past 20 years, including acts perpetrated by homegrown terrorists, such as the Oklahoma City bombing of 1995 and the trial of the SHAC Seven (animal rights) terrorists in Trenton (NJ) in 2006. Required materials: The textbook for this course is Counter Terrorism Issues: Case Studies in the Courtroom, by Jim Castagnera (estimated cost: $100) Find it at CRC Press\",\n",
       "  'id': 5,\n",
       "  'lang': 'en',\n",
       "  'name': 'American Counter Terrorism Law',\n",
       "  'provider': 'Canvas Network'},\n",
       " {'cat': '5/computer_science|15/mathematics_statistics_and_data_analysis',\n",
       "  'desc': \"This course is taught in French Vous voulez comprendre l'arithmétique ? Vous souhaitez découvrir une application des mathématiques à la vie quotidienne ? Ce cours est fait pour vous ! De niveau première année d'université, vous apprendrez les bases de l'arithmétique (division euclidienne, théorème de Bézout, nombres premiers, congruence). Vous vous êtes déjà demandé comment sont sécurisées les transactions sur Internet ? Vous découvrirez les bases de la cryptographie, en commençant par les codes les plus simples pour aboutir au code RSA. Le code RSA est le code utilisé pour crypter les communications sur internet. Il est basé sur de l'arithmétique assez simple que l'on comprendra en détail. Vous pourrez en plus mettre en pratique vos connaissances par l'apprentissage de notions sur le langage de programmation Python. Vous travaillerez à l'aide de cours écrits et de vidéos, d'exercices corrigés en vidéos, des quiz, des travaux pratiques. Le cours est entièrement gratuit !\",\n",
       "  'id': 6,\n",
       "  'lang': 'fr',\n",
       "  'name': 'Arithmétique: en route pour la cryptographie',\n",
       "  'provider': 'Canvas Network'}]"
      ]
     },
     "execution_count": 11,
     "metadata": {},
     "output_type": "execute_result"
    }
   ],
   "source": [
    "data = json_data_2.map(lambda x: json.loads(x))\n",
    "data.take(3)"
   ]
  },
  {
   "cell_type": "code",
   "execution_count": 12,
   "metadata": {
    "collapsed": true
   },
   "outputs": [],
   "source": [
    "json_data = spark.read.json(\"DO_record_per_line.json\")"
   ]
  },
  {
   "cell_type": "code",
   "execution_count": 13,
   "metadata": {},
   "outputs": [
    {
     "data": {
      "text/plain": [
       "DataFrame[cat: string, desc: string, id: bigint, lang: string, name: string, provider: string]"
      ]
     },
     "execution_count": 13,
     "metadata": {},
     "output_type": "execute_result"
    }
   ],
   "source": [
    "json_data"
   ]
  },
  {
   "cell_type": "markdown",
   "metadata": {},
   "source": [
    "using dataframes\n",
    "\n",
    "https://spark.apache.org/docs/latest/api/python/pyspark.sql.html#pyspark.sql.DataFrame\n",
    "\n",
    "https://spark.apache.org/docs/latest/sql-programming-guide.html\n",
    "\n",
    "Comparing Pandas and Spark dataframes:\n",
    "\n",
    "https://lab.getbase.com/pandarize-spark-dataframes/\n",
    "\n",
    "https://www.slideshare.net/databricks/spark-sqlsse2015public/14"
   ]
  },
  {
   "cell_type": "markdown",
   "metadata": {},
   "source": [
    "## Dataframes"
   ]
  },
  {
   "cell_type": "code",
   "execution_count": 14,
   "metadata": {},
   "outputs": [
    {
     "name": "stdout",
     "output_type": "stream",
     "text": [
      "root\n",
      " |-- cat: string (nullable = true)\n",
      " |-- desc: string (nullable = true)\n",
      " |-- id: long (nullable = true)\n",
      " |-- lang: string (nullable = true)\n",
      " |-- name: string (nullable = true)\n",
      " |-- provider: string (nullable = true)\n",
      "\n"
     ]
    }
   ],
   "source": [
    "json_data.printSchema()"
   ]
  },
  {
   "cell_type": "code",
   "execution_count": 15,
   "metadata": {},
   "outputs": [
    {
     "name": "stdout",
     "output_type": "stream",
     "text": [
      "+--------------------+--------------------+---+----+--------------------+--------------+\n",
      "|                 cat|                desc| id|lang|                name|      provider|\n",
      "+--------------------+--------------------+---+----+--------------------+--------------+\n",
      "|3/business_manage...|This course intro...|  4|  en|Accounting Cycle:...|Canvas Network|\n",
      "|              11/law|This online cours...|  5|  en|American Counter ...|Canvas Network|\n",
      "|5/computer_scienc...|This course is ta...|  6|  fr|Arithmétique: en ...|Canvas Network|\n",
      "|  14/social_sciences|We live in a digi...|  7|  en|Becoming a Dynami...|Canvas Network|\n",
      "|2/biology_life_sc...|This self-paced c...|  8|  en|           Bioethics|Canvas Network|\n",
      "|9/humanities|15/m...|This game-based c...|  9|  en|College Foundatio...|Canvas Network|\n",
      "|  14/social_sciences|What’s in your di...| 10|  en|Digital Literacies I|Canvas Network|\n",
      "|  14/social_sciences|The goal of the D...| 11|  en|Digital Literacie...|Canvas Network|\n",
      "|  14/social_sciences|Ready to explore ...| 12|  en|Digital Tools for...|Canvas Network|\n",
      "|  14/social_sciences|This self-paced c...| 13|  en|Discover Your Val...|Canvas Network|\n",
      "|  12/medicine_health|What is “interpro...| 14|  en|Enhancing Patient...|Canvas Network|\n",
      "|        16/languages|This course prese...| 15|  en|Ethics and Values...|Canvas Network|\n",
      "|         4/chemistry|Chemistry is an i...| 16|  en| Exploring Chemistry|Canvas Network|\n",
      "|8/engineering_tec...|Are you consideri...| 17|  en|Exploring Enginee...|Canvas Network|\n",
      "|   1/arts_music_film|Princess stories ...| 18|  en|Fairy Tales: Orig...|Canvas Network|\n",
      "|        9/humanities|This first instal...| 19|  en|First Peoples to ...|Canvas Network|\n",
      "|  14/social_sciences|This course exami...| 20|  en| Forums for a Future|Canvas Network|\n",
      "|        9/humanities|This course will ...| 21|  en|From the Gilded A...|Canvas Network|\n",
      "|8/engineering_tec...|The field of tech...| 22|  en|Fundamentals of S...|Canvas Network|\n",
      "|  14/social_sciences|Are you a Higher ...| 23|  en|Hybrid Courses: B...|Canvas Network|\n",
      "+--------------------+--------------------+---+----+--------------------+--------------+\n",
      "only showing top 20 rows\n",
      "\n"
     ]
    }
   ],
   "source": [
    "json_data.show()"
   ]
  },
  {
   "cell_type": "code",
   "execution_count": 26,
   "metadata": {},
   "outputs": [
    {
     "name": "stdout",
     "output_type": "stream",
     "text": [
      "+---+--------------------+-----+----+--------------------+--------+\n",
      "|cat|                desc|   id|lang|                name|provider|\n",
      "+---+--------------------+-----+----+--------------------+--------+\n",
      "|   | Hazte más emplea...|16627|  es|Aprende Excel: Ni...|   Udemy|\n",
      "+---+--------------------+-----+----+--------------------+--------+\n",
      "\n"
     ]
    }
   ],
   "source": [
    "json_data.filter(json_data.id == 16627).show()"
   ]
  },
  {
   "cell_type": "code",
   "execution_count": 15,
   "metadata": {},
   "outputs": [
    {
     "name": "stdout",
     "output_type": "stream",
     "text": [
      "+--------------------+--------------------+---+----+--------------------+--------------+\n",
      "|                 cat|                desc| id|lang|                name|      provider|\n",
      "+--------------------+--------------------+---+----+--------------------+--------------+\n",
      "|3/business_manage...|This course intro...|  4|  en|Accounting Cycle:...|Canvas Network|\n",
      "|              11/law|This online cours...|  5|  en|American Counter ...|Canvas Network|\n",
      "|5/computer_scienc...|This course is ta...|  6|  fr|Arithmétique: en ...|Canvas Network|\n",
      "|  14/social_sciences|We live in a digi...|  7|  en|Becoming a Dynami...|Canvas Network|\n",
      "|2/biology_life_sc...|This self-paced c...|  8|  en|           Bioethics|Canvas Network|\n",
      "|9/humanities|15/m...|This game-based c...|  9|  en|College Foundatio...|Canvas Network|\n",
      "|  14/social_sciences|What’s in your di...| 10|  en|Digital Literacies I|Canvas Network|\n",
      "|  14/social_sciences|The goal of the D...| 11|  en|Digital Literacie...|Canvas Network|\n",
      "|  14/social_sciences|Ready to explore ...| 12|  en|Digital Tools for...|Canvas Network|\n",
      "|  14/social_sciences|This self-paced c...| 13|  en|Discover Your Val...|Canvas Network|\n",
      "|  12/medicine_health|What is “interpro...| 14|  en|Enhancing Patient...|Canvas Network|\n",
      "|        16/languages|This course prese...| 15|  en|Ethics and Values...|Canvas Network|\n",
      "|         4/chemistry|Chemistry is an i...| 16|  en| Exploring Chemistry|Canvas Network|\n",
      "|8/engineering_tec...|Are you consideri...| 17|  en|Exploring Enginee...|Canvas Network|\n",
      "|   1/arts_music_film|Princess stories ...| 18|  en|Fairy Tales: Orig...|Canvas Network|\n",
      "|        9/humanities|This first instal...| 19|  en|First Peoples to ...|Canvas Network|\n",
      "|  14/social_sciences|This course exami...| 20|  en| Forums for a Future|Canvas Network|\n",
      "|        9/humanities|This course will ...| 21|  en|From the Gilded A...|Canvas Network|\n",
      "|8/engineering_tec...|The field of tech...| 22|  en|Fundamentals of S...|Canvas Network|\n",
      "|  14/social_sciences|Are you a Higher ...| 23|  en|Hybrid Courses: B...|Canvas Network|\n",
      "+--------------------+--------------------+---+----+--------------------+--------------+\n",
      "only showing top 20 rows\n",
      "\n"
     ]
    }
   ],
   "source": [
    "json_data.show()"
   ]
  },
  {
   "cell_type": "code",
   "execution_count": 27,
   "metadata": {
    "collapsed": true
   },
   "outputs": [],
   "source": [
    "df = json_data"
   ]
  },
  {
   "cell_type": "code",
   "execution_count": 28,
   "metadata": {},
   "outputs": [
    {
     "name": "stdout",
     "output_type": "stream",
     "text": [
      "+--------------------+\n",
      "|                 cat|\n",
      "+--------------------+\n",
      "|3/business_manage...|\n",
      "|              11/law|\n",
      "|5/computer_scienc...|\n",
      "|  14/social_sciences|\n",
      "|2/biology_life_sc...|\n",
      "|9/humanities|15/m...|\n",
      "|  14/social_sciences|\n",
      "|  14/social_sciences|\n",
      "|  14/social_sciences|\n",
      "|  14/social_sciences|\n",
      "|  12/medicine_health|\n",
      "|        16/languages|\n",
      "|         4/chemistry|\n",
      "|8/engineering_tec...|\n",
      "|   1/arts_music_film|\n",
      "|        9/humanities|\n",
      "|  14/social_sciences|\n",
      "|        9/humanities|\n",
      "|8/engineering_tec...|\n",
      "|  14/social_sciences|\n",
      "+--------------------+\n",
      "only showing top 20 rows\n",
      "\n"
     ]
    }
   ],
   "source": [
    "df.select(\"cat\").show()"
   ]
  },
  {
   "cell_type": "code",
   "execution_count": 29,
   "metadata": {},
   "outputs": [
    {
     "data": {
      "text/plain": [
       "DataFrame[cat: string]"
      ]
     },
     "execution_count": 29,
     "metadata": {},
     "output_type": "execute_result"
    }
   ],
   "source": [
    "df.select(\"cat\")"
   ]
  },
  {
   "cell_type": "code",
   "execution_count": 30,
   "metadata": {},
   "outputs": [
    {
     "data": {
      "text/plain": [
       "Column<b'cat'>"
      ]
     },
     "execution_count": 30,
     "metadata": {},
     "output_type": "execute_result"
    }
   ],
   "source": [
    "df[\"cat\"]"
   ]
  },
  {
   "cell_type": "code",
   "execution_count": 31,
   "metadata": {},
   "outputs": [
    {
     "data": {
      "text/plain": [
       "Column<b'cat'>"
      ]
     },
     "execution_count": 31,
     "metadata": {},
     "output_type": "execute_result"
    }
   ],
   "source": [
    "df.cat"
   ]
  },
  {
   "cell_type": "code",
   "execution_count": 32,
   "metadata": {
    "collapsed": true
   },
   "outputs": [],
   "source": [
    "col = df.cat"
   ]
  },
  {
   "cell_type": "code",
   "execution_count": 22,
   "metadata": {},
   "outputs": [
    {
     "ename": "SyntaxError",
     "evalue": "invalid syntax (<ipython-input-22-c34d512602ca>, line 1)",
     "output_type": "error",
     "traceback": [
      "\u001b[0;36m  File \u001b[0;32m\"<ipython-input-22-c34d512602ca>\"\u001b[0;36m, line \u001b[0;32m1\u001b[0m\n\u001b[0;31m    col.\u001b[0m\n\u001b[0m        ^\u001b[0m\n\u001b[0;31mSyntaxError\u001b[0m\u001b[0;31m:\u001b[0m invalid syntax\n"
     ]
    }
   ],
   "source": [
    "col."
   ]
  },
  {
   "cell_type": "code",
   "execution_count": 37,
   "metadata": {},
   "outputs": [
    {
     "name": "stdout",
     "output_type": "stream",
     "text": [
      "+--------------------+--------------------+-----+----+--------------------+--------+\n",
      "|                 cat|                desc|   id|lang|                name|provider|\n",
      "+--------------------+--------------------+-----+----+--------------------+--------+\n",
      "|                    | La transformació...|11556|  es|Aprendizaje Colab...|   Udemy|\n",
      "|6/economics_finan...|Математическая эк...|13702|  ru|Математическая эк...|  Intuit|\n",
      "|                    | Hazte más emplea...|16627|  es|Aprende Excel: Ni...|   Udemy|\n",
      "|5/computer_scienc...|В курсе рассматри...|16704|  ru|Программирование ...|  Intuit|\n",
      "|  5/computer_science|An introduction t...|21617|  en|Preparing for the...|     edX|\n",
      "|                    | Improve your SAS...|23126|  en|Compass - powerfu...|   Udemy|\n",
      "+--------------------+--------------------+-----+----+--------------------+--------+\n",
      "\n"
     ]
    }
   ],
   "source": [
    "df.filter('id = 23126 or id = 21617 or id = 16627 or id = 11556 or id = 16704 or id = 13702').show()"
   ]
  },
  {
   "cell_type": "code",
   "execution_count": null,
   "metadata": {
    "collapsed": true
   },
   "outputs": [],
   "source": []
  },
  {
   "cell_type": "code",
   "execution_count": 34,
   "metadata": {},
   "outputs": [
    {
     "name": "stdout",
     "output_type": "stream",
     "text": [
      "+------------------+--------------------+---+----+--------------------+--------------+\n",
      "|               cat|                desc| id|lang|                name|      provider|\n",
      "+------------------+--------------------+---+----+--------------------+--------------+\n",
      "|14/social_sciences|Ready to explore ...| 12|  en|Digital Tools for...|Canvas Network|\n",
      "+------------------+--------------------+---+----+--------------------+--------------+\n",
      "\n"
     ]
    }
   ],
   "source": [
    "df.filter(\"id = 12\").show()"
   ]
  },
  {
   "cell_type": "code",
   "execution_count": 40,
   "metadata": {},
   "outputs": [
    {
     "data": {
      "text/plain": [
       "27158"
      ]
     },
     "execution_count": 40,
     "metadata": {},
     "output_type": "execute_result"
    }
   ],
   "source": [
    "df.filter(\"lang = 'es' or lang = 'en' or lang = 'ru' \").count()"
   ]
  },
  {
   "cell_type": "code",
   "execution_count": 39,
   "metadata": {},
   "outputs": [
    {
     "data": {
      "text/plain": [
       "25927"
      ]
     },
     "execution_count": 39,
     "metadata": {},
     "output_type": "execute_result"
    }
   ],
   "source": [
    "df.filter((df.lang == 'es') | (df.lang == 'en')).count()"
   ]
  },
  {
   "cell_type": "code",
   "execution_count": 44,
   "metadata": {},
   "outputs": [
    {
     "name": "stdout",
     "output_type": "stream",
     "text": [
      "+--------------------+-----+\n",
      "|                name|   id|\n",
      "+--------------------+-----+\n",
      "|Functional Progra...|  391|\n",
      "|Scala for Java De...| 4924|\n",
      "|Developing Scalab...|16626|\n",
      "|Scalable Internet...|17609|\n",
      "|The Seductions of...|17640|\n",
      "|Beginning Scala P...|19387|\n",
      "|Scalable Machine ...|21693|\n",
      "|Learning Scala Pr...|22138|\n",
      "|Developing Scalab...|26921|\n",
      "|Scala for Java De...|27728|\n",
      "+--------------------+-----+\n",
      "\n"
     ]
    }
   ],
   "source": [
    "df.filter(df.name.like(\"%Scala%\")).select([\"name\", 'id']).show()"
   ]
  },
  {
   "cell_type": "code",
   "execution_count": 45,
   "metadata": {},
   "outputs": [
    {
     "data": {
      "text/plain": [
       "[Row(name='Functional Programming Principles in Scala'),\n",
       " Row(name='Scala for Java Developers: Transition Up! by Andreas Lauschke'),\n",
       " Row(name='Developing Scalable Apps with Java. with Google App Engine'),\n",
       " Row(name='Scalable Internet Architectures'),\n",
       " Row(name='The Seductions of Scala'),\n",
       " Row(name='Beginning Scala Programming by Infinite Skills'),\n",
       " Row(name='Scalable Machine Learning'),\n",
       " Row(name='Learning Scala Programming'),\n",
       " Row(name='Developing Scalable Apps in Python. with Google App Engine'),\n",
       " Row(name='Scala for Java Developers (in Russian) - Udemy')]"
      ]
     },
     "execution_count": 45,
     "metadata": {},
     "output_type": "execute_result"
    }
   ],
   "source": [
    "scala_titles = df.filter(df.name.like(\"%Scala%\")).select(\"name\")\n",
    "scala_titles.collect()"
   ]
  },
  {
   "cell_type": "code",
   "execution_count": 52,
   "metadata": {},
   "outputs": [
    {
     "data": {
      "text/plain": [
       "[Row(name='scala starting - Udemy')]"
      ]
     },
     "execution_count": 52,
     "metadata": {},
     "output_type": "execute_result"
    }
   ],
   "source": [
    "scala_titles = df.filter(df.name.rlike(\"\\\\bscala\\\\b\")).select(\"name\")\n",
    "scala_titles.collect()"
   ]
  },
  {
   "cell_type": "code",
   "execution_count": 46,
   "metadata": {
    "collapsed": true
   },
   "outputs": [],
   "source": [
    "x = scala_titles.collect()"
   ]
  },
  {
   "cell_type": "code",
   "execution_count": 50,
   "metadata": {},
   "outputs": [
    {
     "data": {
      "text/plain": [
       "'The Seductions of Scala'"
      ]
     },
     "execution_count": 50,
     "metadata": {},
     "output_type": "execute_result"
    }
   ],
   "source": [
    "x[4].name"
   ]
  },
  {
   "cell_type": "code",
   "execution_count": 51,
   "metadata": {},
   "outputs": [
    {
     "data": {
      "text/plain": [
       "[Row(name='Functional Programming Principles in Scala'),\n",
       " Row(name='Scala for Java Developers: Transition Up! by Andreas Lauschke'),\n",
       " Row(name='The Seductions of Scala'),\n",
       " Row(name='Beginning Scala Programming by Infinite Skills'),\n",
       " Row(name='Learning Scala Programming'),\n",
       " Row(name='Scala for Java Developers (in Russian) - Udemy'),\n",
       " Row(name='scala starting - Udemy')]"
      ]
     },
     "execution_count": 51,
     "metadata": {},
     "output_type": "execute_result"
    }
   ],
   "source": [
    "scala_titles = df.filter(df.name.rlike(\"\\\\b[Ss]cala\\\\b\")).select(\"name\")\n",
    "scala_titles.collect()"
   ]
  },
  {
   "cell_type": "code",
   "execution_count": 53,
   "metadata": {
    "collapsed": true
   },
   "outputs": [],
   "source": [
    "xx = df.groupBy(\"provider\").count().collect()"
   ]
  },
  {
   "cell_type": "code",
   "execution_count": 31,
   "metadata": {},
   "outputs": [
    {
     "name": "stdout",
     "output_type": "stream",
     "text": [
      "+--------------------+-----+\n",
      "|            provider|count|\n",
      "+--------------------+-----+\n",
      "|             Udacity|   89|\n",
      "|            CodeMonk|    8|\n",
      "|           Biotech U|    1|\n",
      "|            Matasano|    1|\n",
      "|   Open Yale courses|   42|\n",
      "|              Hexlet|   13|\n",
      "|         FutureLearn|  151|\n",
      "|             Acodemy|    5|\n",
      "|           Postnauka|   26|\n",
      "|               Amlab|    5|\n",
      "|               Udemy|16421|\n",
      "|Open University o...|    4|\n",
      "|Computer Science ...|   11|\n",
      "|      Marist College|    1|\n",
      "|            DataCamp|    9|\n",
      "|NovoED (Venture-lab)|  124|\n",
      "|        Universarium|   69|\n",
      "|          Стратоплан|    5|\n",
      "| Complexity Explorer|   14|\n",
      "|         Code School|   42|\n",
      "+--------------------+-----+\n",
      "only showing top 20 rows\n",
      "\n"
     ]
    }
   ],
   "source": [
    "df.groupBy(\"provider\").count().show()"
   ]
  },
  {
   "cell_type": "code",
   "execution_count": 56,
   "metadata": {},
   "outputs": [
    {
     "name": "stdout",
     "output_type": "stream",
     "text": [
      "+--------------------+-----+\n",
      "|            provider|count|\n",
      "+--------------------+-----+\n",
      "|               Udemy|16421|\n",
      "|               Lynda| 3590|\n",
      "|  MIT OpenCourseWare| 2354|\n",
      "|            Coursera| 1048|\n",
      "|              Intuit|  946|\n",
      "|                 edX|  788|\n",
      "|            O'Reilly|  459|\n",
      "|               ed2go|  399|\n",
      "|             Craftsy|  395|\n",
      "|      Canvas Network|  258|\n",
      "|Harvard Extension...|  242|\n",
      "|        OpenLearning|  237|\n",
      "|         FutureLearn|  151|\n",
      "|NovoED (Venture-lab)|  124|\n",
      "|            Iversity|  102|\n",
      "|             Udacity|   89|\n",
      "|        Universarium|   69|\n",
      "|            Stanford|   51|\n",
      "|          Open2Study|   49|\n",
      "|                    |   44|\n",
      "+--------------------+-----+\n",
      "only showing top 20 rows\n",
      "\n"
     ]
    }
   ],
   "source": [
    "df.groupBy(\"provider\").count().orderBy(\"count\", ascending=False).show()"
   ]
  },
  {
   "cell_type": "code",
   "execution_count": 57,
   "metadata": {},
   "outputs": [
    {
     "data": {
      "text/plain": [
       "[('cat', 'string'),\n",
       " ('desc', 'string'),\n",
       " ('id', 'bigint'),\n",
       " ('lang', 'string'),\n",
       " ('name', 'string'),\n",
       " ('provider', 'string')]"
      ]
     },
     "execution_count": 57,
     "metadata": {},
     "output_type": "execute_result"
    }
   ],
   "source": [
    "df.dtypes"
   ]
  },
  {
   "cell_type": "code",
   "execution_count": 34,
   "metadata": {},
   "outputs": [
    {
     "data": {
      "text/plain": [
       "['cat', 'desc', 'id', 'lang', 'name', 'provider']"
      ]
     },
     "execution_count": 34,
     "metadata": {},
     "output_type": "execute_result"
    }
   ],
   "source": [
    "df.columns"
   ]
  },
  {
   "cell_type": "code",
   "execution_count": 58,
   "metadata": {},
   "outputs": [
    {
     "ename": "AttributeError",
     "evalue": "'DataFrame' object has no attribute 'map'",
     "output_type": "error",
     "traceback": [
      "\u001b[0;31m---------------------------------------------------------------------------\u001b[0m",
      "\u001b[0;31mAttributeError\u001b[0m                            Traceback (most recent call last)",
      "\u001b[0;32m<ipython-input-58-b5f8a422f3ec>\u001b[0m in \u001b[0;36m<module>\u001b[0;34m()\u001b[0m\n\u001b[0;32m----> 1\u001b[0;31m \u001b[0mdf\u001b[0m\u001b[0;34m.\u001b[0m\u001b[0mmap\u001b[0m\u001b[0;34m(\u001b[0m\u001b[0;32mlambda\u001b[0m \u001b[0mx\u001b[0m\u001b[0;34m:\u001b[0m \u001b[0mx\u001b[0m\u001b[0;34m.\u001b[0m\u001b[0mname\u001b[0m\u001b[0;34m)\u001b[0m\u001b[0;34m.\u001b[0m\u001b[0mtake\u001b[0m\u001b[0;34m(\u001b[0m\u001b[0;36m5\u001b[0m\u001b[0;34m)\u001b[0m\u001b[0;34m\u001b[0m\u001b[0m\n\u001b[0m",
      "\u001b[0;32m~/spark-2.2.0-bin-hadoop2.7/python/pyspark/sql/dataframe.py\u001b[0m in \u001b[0;36m__getattr__\u001b[0;34m(self, name)\u001b[0m\n\u001b[1;32m   1018\u001b[0m         \u001b[0;32mif\u001b[0m \u001b[0mname\u001b[0m \u001b[0;32mnot\u001b[0m \u001b[0;32min\u001b[0m \u001b[0mself\u001b[0m\u001b[0;34m.\u001b[0m\u001b[0mcolumns\u001b[0m\u001b[0;34m:\u001b[0m\u001b[0;34m\u001b[0m\u001b[0m\n\u001b[1;32m   1019\u001b[0m             raise AttributeError(\n\u001b[0;32m-> 1020\u001b[0;31m                 \"'%s' object has no attribute '%s'\" % (self.__class__.__name__, name))\n\u001b[0m\u001b[1;32m   1021\u001b[0m         \u001b[0mjc\u001b[0m \u001b[0;34m=\u001b[0m \u001b[0mself\u001b[0m\u001b[0;34m.\u001b[0m\u001b[0m_jdf\u001b[0m\u001b[0;34m.\u001b[0m\u001b[0mapply\u001b[0m\u001b[0;34m(\u001b[0m\u001b[0mname\u001b[0m\u001b[0;34m)\u001b[0m\u001b[0;34m\u001b[0m\u001b[0m\n\u001b[1;32m   1022\u001b[0m         \u001b[0;32mreturn\u001b[0m \u001b[0mColumn\u001b[0m\u001b[0;34m(\u001b[0m\u001b[0mjc\u001b[0m\u001b[0;34m)\u001b[0m\u001b[0;34m\u001b[0m\u001b[0m\n",
      "\u001b[0;31mAttributeError\u001b[0m: 'DataFrame' object has no attribute 'map'"
     ]
    }
   ],
   "source": [
    "df.map(lambda x: x.name).take(5)"
   ]
  },
  {
   "cell_type": "code",
   "execution_count": 59,
   "metadata": {},
   "outputs": [
    {
     "data": {
      "text/plain": [
       "['Accounting Cycle: The Foundation of Business Measurement and Reporting',\n",
       " 'American Counter Terrorism Law',\n",
       " 'Arithmétique: en route pour la cryptographie',\n",
       " 'Becoming a Dynamic Educator',\n",
       " 'Bioethics']"
      ]
     },
     "execution_count": 59,
     "metadata": {},
     "output_type": "execute_result"
    }
   ],
   "source": [
    "df.rdd.map(lambda x: x.name).take(5)"
   ]
  },
  {
   "cell_type": "code",
   "execution_count": 37,
   "metadata": {},
   "outputs": [
    {
     "data": {
      "text/plain": [
       "[Row(cat='3/business_management|6/economics_finance', desc='This course introduces the basic financial statements used by most businesses, as well as the essential tools used to prepare them. This course will serve as a resource to help business students succeed in their upcoming university-level accounting classes, and as a refresher for upper division accounting students who are struggling to recall elementary concepts essential to more advanced accounting topics. Business owners will also benefit from this class by gaining essential skills necessary to organize and manage information pertinent to operating their business. At the conclusion of the class, students will understand the balance sheet, income statement, and cash flow statement. They will be able to differentiate between cash basis and accrual basis techniques, and know when each is appropriate. They’ll also understand the accounting equation, how to journalize and post transactions, how to adjust and close accounts, and how to prepare key financial reports. All material for this class is written and delivered by the professor, and can be previewed here. Students must have access to a spreadsheet program to participate.', id=4, lang='en', name='Accounting Cycle: The Foundation of Business Measurement and Reporting', provider='Canvas Network')]"
      ]
     },
     "execution_count": 37,
     "metadata": {},
     "output_type": "execute_result"
    }
   ],
   "source": [
    "df.rdd.take(1)"
   ]
  },
  {
   "cell_type": "code",
   "execution_count": 38,
   "metadata": {},
   "outputs": [
    {
     "data": {
      "text/plain": [
       "['{\"cat\":\"3/business_management|6/economics_finance\",\"desc\":\"This course introduces the basic financial statements used by most businesses, as well as the essential tools used to prepare them. This course will serve as a resource to help business students succeed in their upcoming university-level accounting classes, and as a refresher for upper division accounting students who are struggling to recall elementary concepts essential to more advanced accounting topics. Business owners will also benefit from this class by gaining essential skills necessary to organize and manage information pertinent to operating their business. At the conclusion of the class, students will understand the balance sheet, income statement, and cash flow statement. They will be able to differentiate between cash basis and accrual basis techniques, and know when each is appropriate. They’ll also understand the accounting equation, how to journalize and post transactions, how to adjust and close accounts, and how to prepare key financial reports. All material for this class is written and delivered by the professor, and can be previewed here. Students must have access to a spreadsheet program to participate.\",\"id\":4,\"lang\":\"en\",\"name\":\"Accounting Cycle: The Foundation of Business Measurement and Reporting\",\"provider\":\"Canvas Network\"}',\n",
       " '{\"cat\":\"11/law\",\"desc\":\"This online course will introduce you to American laws related to terrorism and the prevention of terrorism. My approach to the topic is the case-study method. Each week, we will read a case study, along with the statutes, regulations, and other law-related materials relevant to the case. We’ll see how the case was handled in court and what reforms were enacted following the trial. Each week’s assignment will include copies of the relevant laws and court rules, a glossary of terms, background readings, and other supplementary materials. The course will commence with the first attempt by Islamic militants to bring down the World Trade Center towers with a truck bomb in 1993. From there, I\\'ll take you through the major terrorist incidents of the past 20 years, including acts perpetrated by homegrown terrorists, such as the Oklahoma City bombing of 1995 and the trial of the SHAC Seven (animal rights) terrorists in Trenton (NJ) in 2006. Required materials: The textbook for this course is Counter Terrorism Issues: Case Studies in the Courtroom, by Jim Castagnera (estimated cost: $100) Find it at CRC Press\",\"id\":5,\"lang\":\"en\",\"name\":\"American Counter Terrorism Law\",\"provider\":\"Canvas Network\"}',\n",
       " '{\"cat\":\"5/computer_science|15/mathematics_statistics_and_data_analysis\",\"desc\":\"This course is taught in French Vous voulez comprendre l\\'arithmétique ? Vous souhaitez découvrir une application des mathématiques à la vie quotidienne ? Ce cours est fait pour vous ! De niveau première année d\\'université, vous apprendrez les bases de l\\'arithmétique (division euclidienne, théorème de Bézout, nombres premiers, congruence). Vous vous êtes déjà demandé comment sont sécurisées les transactions sur Internet ? Vous découvrirez les bases de la cryptographie, en commençant par les codes les plus simples pour aboutir au code RSA. Le code RSA est le code utilisé pour crypter les communications sur internet. Il est basé sur de l\\'arithmétique assez simple que l\\'on comprendra en détail. Vous pourrez en plus mettre en pratique vos connaissances par l\\'apprentissage de notions sur le langage de programmation Python. Vous travaillerez à l\\'aide de cours écrits et de vidéos, d\\'exercices corrigés en vidéos, des quiz, des travaux pratiques. Le cours est entièrement gratuit !\",\"id\":6,\"lang\":\"fr\",\"name\":\"Arithmétique: en route pour la cryptographie\",\"provider\":\"Canvas Network\"}']"
      ]
     },
     "execution_count": 38,
     "metadata": {},
     "output_type": "execute_result"
    }
   ],
   "source": [
    "df.toJSON().take(3)"
   ]
  },
  {
   "cell_type": "code",
   "execution_count": 39,
   "metadata": {},
   "outputs": [
    {
     "name": "stdout",
     "output_type": "stream",
     "text": [
      "+--------------------+-----+\n",
      "|                name|  nnn|\n",
      "+--------------------+-----+\n",
      "|Accounting Cycle:...| true|\n",
      "|American Counter ...| true|\n",
      "|Arithmétique: en ...| true|\n",
      "|Becoming a Dynami...| true|\n",
      "|           Bioethics| true|\n",
      "|College Foundatio...| true|\n",
      "|Digital Literacies I| true|\n",
      "|Digital Literacie...| true|\n",
      "|Digital Tools for...| true|\n",
      "|Discover Your Val...| true|\n",
      "|Enhancing Patient...| true|\n",
      "|Ethics and Values...| true|\n",
      "| Exploring Chemistry|false|\n",
      "|Exploring Enginee...|false|\n",
      "|Fairy Tales: Orig...|false|\n",
      "|First Peoples to ...|false|\n",
      "| Forums for a Future|false|\n",
      "|From the Gilded A...|false|\n",
      "|Fundamentals of S...|false|\n",
      "|Hybrid Courses: B...|false|\n",
      "+--------------------+-----+\n",
      "only showing top 20 rows\n",
      "\n"
     ]
    }
   ],
   "source": [
    "df.select(df.name, df.id.between(2, 15).alias('nnn')).show()"
   ]
  },
  {
   "cell_type": "code",
   "execution_count": 40,
   "metadata": {},
   "outputs": [
    {
     "data": {
      "text/plain": [
       "DataFrame[cat: string, desc: string, id: bigint, lang: string, name: string, provider: string]"
      ]
     },
     "execution_count": 40,
     "metadata": {},
     "output_type": "execute_result"
    }
   ],
   "source": [
    "df"
   ]
  },
  {
   "cell_type": "code",
   "execution_count": 41,
   "metadata": {},
   "outputs": [
    {
     "data": {
      "text/plain": [
       "[Row(ids='4'),\n",
       " Row(ids='5'),\n",
       " Row(ids='6'),\n",
       " Row(ids='7'),\n",
       " Row(ids='8'),\n",
       " Row(ids='9'),\n",
       " Row(ids='10'),\n",
       " Row(ids='11'),\n",
       " Row(ids='12'),\n",
       " Row(ids='13'),\n",
       " Row(ids='14'),\n",
       " Row(ids='15'),\n",
       " Row(ids='16'),\n",
       " Row(ids='17'),\n",
       " Row(ids='18'),\n",
       " Row(ids='19'),\n",
       " Row(ids='20'),\n",
       " Row(ids='21'),\n",
       " Row(ids='22'),\n",
       " Row(ids='23'),\n",
       " Row(ids='24'),\n",
       " Row(ids='25'),\n",
       " Row(ids='26'),\n",
       " Row(ids='27'),\n",
       " Row(ids='28'),\n",
       " Row(ids='29'),\n",
       " Row(ids='30'),\n",
       " Row(ids='31'),\n",
       " Row(ids='32'),\n",
       " Row(ids='33'),\n",
       " Row(ids='34'),\n",
       " Row(ids='35'),\n",
       " Row(ids='36'),\n",
       " Row(ids='37'),\n",
       " Row(ids='38'),\n",
       " Row(ids='39'),\n",
       " Row(ids='40'),\n",
       " Row(ids='41'),\n",
       " Row(ids='42'),\n",
       " Row(ids='43'),\n",
       " Row(ids='44'),\n",
       " Row(ids='45'),\n",
       " Row(ids='46'),\n",
       " Row(ids='47'),\n",
       " Row(ids='48'),\n",
       " Row(ids='49'),\n",
       " Row(ids='50'),\n",
       " Row(ids='51'),\n",
       " Row(ids='52'),\n",
       " Row(ids='53'),\n",
       " Row(ids='54'),\n",
       " Row(ids='55'),\n",
       " Row(ids='56'),\n",
       " Row(ids='57'),\n",
       " Row(ids='58'),\n",
       " Row(ids='59'),\n",
       " Row(ids='60'),\n",
       " Row(ids='61'),\n",
       " Row(ids='62'),\n",
       " Row(ids='63'),\n",
       " Row(ids='64'),\n",
       " Row(ids='65'),\n",
       " Row(ids='66'),\n",
       " Row(ids='67'),\n",
       " Row(ids='68'),\n",
       " Row(ids='69'),\n",
       " Row(ids='70'),\n",
       " Row(ids='71'),\n",
       " Row(ids='72'),\n",
       " Row(ids='73'),\n",
       " Row(ids='74'),\n",
       " Row(ids='75'),\n",
       " Row(ids='76'),\n",
       " Row(ids='77'),\n",
       " Row(ids='78'),\n",
       " Row(ids='79'),\n",
       " Row(ids='80'),\n",
       " Row(ids='81'),\n",
       " Row(ids='82'),\n",
       " Row(ids='83'),\n",
       " Row(ids='84'),\n",
       " Row(ids='85'),\n",
       " Row(ids='86'),\n",
       " Row(ids='87'),\n",
       " Row(ids='88'),\n",
       " Row(ids='89'),\n",
       " Row(ids='90'),\n",
       " Row(ids='91'),\n",
       " Row(ids='92'),\n",
       " Row(ids='93'),\n",
       " Row(ids='94'),\n",
       " Row(ids='95'),\n",
       " Row(ids='96'),\n",
       " Row(ids='97'),\n",
       " Row(ids='98'),\n",
       " Row(ids='99'),\n",
       " Row(ids='100'),\n",
       " Row(ids='101'),\n",
       " Row(ids='102'),\n",
       " Row(ids='103'),\n",
       " Row(ids='104'),\n",
       " Row(ids='105'),\n",
       " Row(ids='106'),\n",
       " Row(ids='107'),\n",
       " Row(ids='108'),\n",
       " Row(ids='109'),\n",
       " Row(ids='110'),\n",
       " Row(ids='111'),\n",
       " Row(ids='112'),\n",
       " Row(ids='113'),\n",
       " Row(ids='114'),\n",
       " Row(ids='115'),\n",
       " Row(ids='116'),\n",
       " Row(ids='117'),\n",
       " Row(ids='118'),\n",
       " Row(ids='119'),\n",
       " Row(ids='120'),\n",
       " Row(ids='121'),\n",
       " Row(ids='122'),\n",
       " Row(ids='123'),\n",
       " Row(ids='124'),\n",
       " Row(ids='125'),\n",
       " Row(ids='126'),\n",
       " Row(ids='127'),\n",
       " Row(ids='128'),\n",
       " Row(ids='129'),\n",
       " Row(ids='130'),\n",
       " Row(ids='131'),\n",
       " Row(ids='132'),\n",
       " Row(ids='133'),\n",
       " Row(ids='134'),\n",
       " Row(ids='135'),\n",
       " Row(ids='136'),\n",
       " Row(ids='137'),\n",
       " Row(ids='138'),\n",
       " Row(ids='139'),\n",
       " Row(ids='140'),\n",
       " Row(ids='141'),\n",
       " Row(ids='142'),\n",
       " Row(ids='143'),\n",
       " Row(ids='144'),\n",
       " Row(ids='145'),\n",
       " Row(ids='146'),\n",
       " Row(ids='147'),\n",
       " Row(ids='148'),\n",
       " Row(ids='149'),\n",
       " Row(ids='150'),\n",
       " Row(ids='151'),\n",
       " Row(ids='152'),\n",
       " Row(ids='153'),\n",
       " Row(ids='154'),\n",
       " Row(ids='155'),\n",
       " Row(ids='156'),\n",
       " Row(ids='157'),\n",
       " Row(ids='158'),\n",
       " Row(ids='159'),\n",
       " Row(ids='160'),\n",
       " Row(ids='161'),\n",
       " Row(ids='162'),\n",
       " Row(ids='163'),\n",
       " Row(ids='164'),\n",
       " Row(ids='165'),\n",
       " Row(ids='166'),\n",
       " Row(ids='167'),\n",
       " Row(ids='168'),\n",
       " Row(ids='169'),\n",
       " Row(ids='170'),\n",
       " Row(ids='171'),\n",
       " Row(ids='172'),\n",
       " Row(ids='173'),\n",
       " Row(ids='174'),\n",
       " Row(ids='175'),\n",
       " Row(ids='176'),\n",
       " Row(ids='177'),\n",
       " Row(ids='178'),\n",
       " Row(ids='179'),\n",
       " Row(ids='180'),\n",
       " Row(ids='181'),\n",
       " Row(ids='182'),\n",
       " Row(ids='183'),\n",
       " Row(ids='184'),\n",
       " Row(ids='185'),\n",
       " Row(ids='186'),\n",
       " Row(ids='187'),\n",
       " Row(ids='188'),\n",
       " Row(ids='189'),\n",
       " Row(ids='190'),\n",
       " Row(ids='191'),\n",
       " Row(ids='192'),\n",
       " Row(ids='193'),\n",
       " Row(ids='194'),\n",
       " Row(ids='195'),\n",
       " Row(ids='196'),\n",
       " Row(ids='197'),\n",
       " Row(ids='198'),\n",
       " Row(ids='199'),\n",
       " Row(ids='200'),\n",
       " Row(ids='201'),\n",
       " Row(ids='202'),\n",
       " Row(ids='203'),\n",
       " Row(ids='204'),\n",
       " Row(ids='205'),\n",
       " Row(ids='206'),\n",
       " Row(ids='207'),\n",
       " Row(ids='208'),\n",
       " Row(ids='209'),\n",
       " Row(ids='210'),\n",
       " Row(ids='211'),\n",
       " Row(ids='212'),\n",
       " Row(ids='213'),\n",
       " Row(ids='214'),\n",
       " Row(ids='215'),\n",
       " Row(ids='216'),\n",
       " Row(ids='217'),\n",
       " Row(ids='218'),\n",
       " Row(ids='219'),\n",
       " Row(ids='220'),\n",
       " Row(ids='221'),\n",
       " Row(ids='222'),\n",
       " Row(ids='223'),\n",
       " Row(ids='224'),\n",
       " Row(ids='225'),\n",
       " Row(ids='226'),\n",
       " Row(ids='227'),\n",
       " Row(ids='228'),\n",
       " Row(ids='229'),\n",
       " Row(ids='230'),\n",
       " Row(ids='231'),\n",
       " Row(ids='232'),\n",
       " Row(ids='233'),\n",
       " Row(ids='234'),\n",
       " Row(ids='235'),\n",
       " Row(ids='236'),\n",
       " Row(ids='237'),\n",
       " Row(ids='238'),\n",
       " Row(ids='239'),\n",
       " Row(ids='240'),\n",
       " Row(ids='241'),\n",
       " Row(ids='242'),\n",
       " Row(ids='243'),\n",
       " Row(ids='244'),\n",
       " Row(ids='245'),\n",
       " Row(ids='246'),\n",
       " Row(ids='247'),\n",
       " Row(ids='248'),\n",
       " Row(ids='249'),\n",
       " Row(ids='250'),\n",
       " Row(ids='251'),\n",
       " Row(ids='252'),\n",
       " Row(ids='253'),\n",
       " Row(ids='254'),\n",
       " Row(ids='255'),\n",
       " Row(ids='256'),\n",
       " Row(ids='257'),\n",
       " Row(ids='258'),\n",
       " Row(ids='259'),\n",
       " Row(ids='260'),\n",
       " Row(ids='261'),\n",
       " Row(ids='262'),\n",
       " Row(ids='263'),\n",
       " Row(ids='264'),\n",
       " Row(ids='265'),\n",
       " Row(ids='266'),\n",
       " Row(ids='267'),\n",
       " Row(ids='268'),\n",
       " Row(ids='269'),\n",
       " Row(ids='270'),\n",
       " Row(ids='271'),\n",
       " Row(ids='272'),\n",
       " Row(ids='273'),\n",
       " Row(ids='274'),\n",
       " Row(ids='275'),\n",
       " Row(ids='276'),\n",
       " Row(ids='277'),\n",
       " Row(ids='278'),\n",
       " Row(ids='279'),\n",
       " Row(ids='280'),\n",
       " Row(ids='281'),\n",
       " Row(ids='282'),\n",
       " Row(ids='283'),\n",
       " Row(ids='284'),\n",
       " Row(ids='285'),\n",
       " Row(ids='286'),\n",
       " Row(ids='287'),\n",
       " Row(ids='288'),\n",
       " Row(ids='289'),\n",
       " Row(ids='290'),\n",
       " Row(ids='291'),\n",
       " Row(ids='292'),\n",
       " Row(ids='293'),\n",
       " Row(ids='294'),\n",
       " Row(ids='295'),\n",
       " Row(ids='296'),\n",
       " Row(ids='297'),\n",
       " Row(ids='298'),\n",
       " Row(ids='299'),\n",
       " Row(ids='300'),\n",
       " Row(ids='301'),\n",
       " Row(ids='302'),\n",
       " Row(ids='303'),\n",
       " Row(ids='304'),\n",
       " Row(ids='305'),\n",
       " Row(ids='306'),\n",
       " Row(ids='307'),\n",
       " Row(ids='308'),\n",
       " Row(ids='309'),\n",
       " Row(ids='310'),\n",
       " Row(ids='311'),\n",
       " Row(ids='312'),\n",
       " Row(ids='313'),\n",
       " Row(ids='314'),\n",
       " Row(ids='315'),\n",
       " Row(ids='316'),\n",
       " Row(ids='317'),\n",
       " Row(ids='318'),\n",
       " Row(ids='319'),\n",
       " Row(ids='320'),\n",
       " Row(ids='321'),\n",
       " Row(ids='322'),\n",
       " Row(ids='323'),\n",
       " Row(ids='324'),\n",
       " Row(ids='325'),\n",
       " Row(ids='326'),\n",
       " Row(ids='327'),\n",
       " Row(ids='328'),\n",
       " Row(ids='329'),\n",
       " Row(ids='330'),\n",
       " Row(ids='331'),\n",
       " Row(ids='332'),\n",
       " Row(ids='333'),\n",
       " Row(ids='334'),\n",
       " Row(ids='335'),\n",
       " Row(ids='336'),\n",
       " Row(ids='337'),\n",
       " Row(ids='338'),\n",
       " Row(ids='339'),\n",
       " Row(ids='340'),\n",
       " Row(ids='341'),\n",
       " Row(ids='342'),\n",
       " Row(ids='343'),\n",
       " Row(ids='344'),\n",
       " Row(ids='345'),\n",
       " Row(ids='346'),\n",
       " Row(ids='347'),\n",
       " Row(ids='348'),\n",
       " Row(ids='349'),\n",
       " Row(ids='350'),\n",
       " Row(ids='351'),\n",
       " Row(ids='352'),\n",
       " Row(ids='353'),\n",
       " Row(ids='354'),\n",
       " Row(ids='355'),\n",
       " Row(ids='356'),\n",
       " Row(ids='357'),\n",
       " Row(ids='358'),\n",
       " Row(ids='359'),\n",
       " Row(ids='360'),\n",
       " Row(ids='361'),\n",
       " Row(ids='362'),\n",
       " Row(ids='363'),\n",
       " Row(ids='364'),\n",
       " Row(ids='365'),\n",
       " Row(ids='366'),\n",
       " Row(ids='367'),\n",
       " Row(ids='368'),\n",
       " Row(ids='369'),\n",
       " Row(ids='370'),\n",
       " Row(ids='371'),\n",
       " Row(ids='372'),\n",
       " Row(ids='373'),\n",
       " Row(ids='374'),\n",
       " Row(ids='375'),\n",
       " Row(ids='376'),\n",
       " Row(ids='377'),\n",
       " Row(ids='378'),\n",
       " Row(ids='379'),\n",
       " Row(ids='380'),\n",
       " Row(ids='381'),\n",
       " Row(ids='382'),\n",
       " Row(ids='383'),\n",
       " Row(ids='384'),\n",
       " Row(ids='385'),\n",
       " Row(ids='386'),\n",
       " Row(ids='387'),\n",
       " Row(ids='388'),\n",
       " Row(ids='389'),\n",
       " Row(ids='390'),\n",
       " Row(ids='391'),\n",
       " Row(ids='392'),\n",
       " Row(ids='393'),\n",
       " Row(ids='394'),\n",
       " Row(ids='395'),\n",
       " Row(ids='396'),\n",
       " Row(ids='397'),\n",
       " Row(ids='398'),\n",
       " Row(ids='399'),\n",
       " Row(ids='400'),\n",
       " Row(ids='401'),\n",
       " Row(ids='402'),\n",
       " Row(ids='403'),\n",
       " Row(ids='404'),\n",
       " Row(ids='405'),\n",
       " Row(ids='406'),\n",
       " Row(ids='407'),\n",
       " Row(ids='408'),\n",
       " Row(ids='409'),\n",
       " Row(ids='410'),\n",
       " Row(ids='411'),\n",
       " Row(ids='412'),\n",
       " Row(ids='413'),\n",
       " Row(ids='414'),\n",
       " Row(ids='415'),\n",
       " Row(ids='416'),\n",
       " Row(ids='417'),\n",
       " Row(ids='418'),\n",
       " Row(ids='419'),\n",
       " Row(ids='420'),\n",
       " Row(ids='421'),\n",
       " Row(ids='422'),\n",
       " Row(ids='423'),\n",
       " Row(ids='424'),\n",
       " Row(ids='425'),\n",
       " Row(ids='426'),\n",
       " Row(ids='427'),\n",
       " Row(ids='428'),\n",
       " Row(ids='429'),\n",
       " Row(ids='430'),\n",
       " Row(ids='431'),\n",
       " Row(ids='432'),\n",
       " Row(ids='433'),\n",
       " Row(ids='434'),\n",
       " Row(ids='435'),\n",
       " Row(ids='436'),\n",
       " Row(ids='437'),\n",
       " Row(ids='438'),\n",
       " Row(ids='439'),\n",
       " Row(ids='440'),\n",
       " Row(ids='441'),\n",
       " Row(ids='442'),\n",
       " Row(ids='443'),\n",
       " Row(ids='444'),\n",
       " Row(ids='445'),\n",
       " Row(ids='446'),\n",
       " Row(ids='447'),\n",
       " Row(ids='448'),\n",
       " Row(ids='449'),\n",
       " Row(ids='450'),\n",
       " Row(ids='451'),\n",
       " Row(ids='452'),\n",
       " Row(ids='453'),\n",
       " Row(ids='454'),\n",
       " Row(ids='455'),\n",
       " Row(ids='456'),\n",
       " Row(ids='457'),\n",
       " Row(ids='458'),\n",
       " Row(ids='459'),\n",
       " Row(ids='460'),\n",
       " Row(ids='461'),\n",
       " Row(ids='462'),\n",
       " Row(ids='463'),\n",
       " Row(ids='464'),\n",
       " Row(ids='465'),\n",
       " Row(ids='466'),\n",
       " Row(ids='467'),\n",
       " Row(ids='468'),\n",
       " Row(ids='469'),\n",
       " Row(ids='470'),\n",
       " Row(ids='471'),\n",
       " Row(ids='472'),\n",
       " Row(ids='473'),\n",
       " Row(ids='474'),\n",
       " Row(ids='475'),\n",
       " Row(ids='476'),\n",
       " Row(ids='477'),\n",
       " Row(ids='478'),\n",
       " Row(ids='479'),\n",
       " Row(ids='480'),\n",
       " Row(ids='481'),\n",
       " Row(ids='482'),\n",
       " Row(ids='483'),\n",
       " Row(ids='484'),\n",
       " Row(ids='485'),\n",
       " Row(ids='486'),\n",
       " Row(ids='487'),\n",
       " Row(ids='488'),\n",
       " Row(ids='489'),\n",
       " Row(ids='490'),\n",
       " Row(ids='491'),\n",
       " Row(ids='492'),\n",
       " Row(ids='493'),\n",
       " Row(ids='494'),\n",
       " Row(ids='495'),\n",
       " Row(ids='496'),\n",
       " Row(ids='497'),\n",
       " Row(ids='498'),\n",
       " Row(ids='499'),\n",
       " Row(ids='500'),\n",
       " Row(ids='501'),\n",
       " Row(ids='502'),\n",
       " Row(ids='503'),\n",
       " Row(ids='504'),\n",
       " Row(ids='505'),\n",
       " Row(ids='509'),\n",
       " Row(ids='510'),\n",
       " Row(ids='511'),\n",
       " Row(ids='512'),\n",
       " Row(ids='513'),\n",
       " Row(ids='514'),\n",
       " Row(ids='515'),\n",
       " Row(ids='517'),\n",
       " Row(ids='518'),\n",
       " Row(ids='519'),\n",
       " Row(ids='520'),\n",
       " Row(ids='522'),\n",
       " Row(ids='523'),\n",
       " Row(ids='524'),\n",
       " Row(ids='525'),\n",
       " Row(ids='526'),\n",
       " Row(ids='527'),\n",
       " Row(ids='528'),\n",
       " Row(ids='529'),\n",
       " Row(ids='530'),\n",
       " Row(ids='531'),\n",
       " Row(ids='532'),\n",
       " Row(ids='533'),\n",
       " Row(ids='534'),\n",
       " Row(ids='535'),\n",
       " Row(ids='536'),\n",
       " Row(ids='537'),\n",
       " Row(ids='538'),\n",
       " Row(ids='539'),\n",
       " Row(ids='540'),\n",
       " Row(ids='541'),\n",
       " Row(ids='542'),\n",
       " Row(ids='543'),\n",
       " Row(ids='544'),\n",
       " Row(ids='545'),\n",
       " Row(ids='546'),\n",
       " Row(ids='547'),\n",
       " Row(ids='548'),\n",
       " Row(ids='549'),\n",
       " Row(ids='550'),\n",
       " Row(ids='551'),\n",
       " Row(ids='552'),\n",
       " Row(ids='553'),\n",
       " Row(ids='554'),\n",
       " Row(ids='555'),\n",
       " Row(ids='556'),\n",
       " Row(ids='557'),\n",
       " Row(ids='558'),\n",
       " Row(ids='559'),\n",
       " Row(ids='560'),\n",
       " Row(ids='561'),\n",
       " Row(ids='562'),\n",
       " Row(ids='563'),\n",
       " Row(ids='564'),\n",
       " Row(ids='565'),\n",
       " Row(ids='566'),\n",
       " Row(ids='567'),\n",
       " Row(ids='568'),\n",
       " Row(ids='569'),\n",
       " Row(ids='570'),\n",
       " Row(ids='571'),\n",
       " Row(ids='572'),\n",
       " Row(ids='573'),\n",
       " Row(ids='574'),\n",
       " Row(ids='575'),\n",
       " Row(ids='576'),\n",
       " Row(ids='577'),\n",
       " Row(ids='578'),\n",
       " Row(ids='579'),\n",
       " Row(ids='580'),\n",
       " Row(ids='581'),\n",
       " Row(ids='582'),\n",
       " Row(ids='583'),\n",
       " Row(ids='584'),\n",
       " Row(ids='585'),\n",
       " Row(ids='586'),\n",
       " Row(ids='587'),\n",
       " Row(ids='588'),\n",
       " Row(ids='589'),\n",
       " Row(ids='590'),\n",
       " Row(ids='591'),\n",
       " Row(ids='592'),\n",
       " Row(ids='593'),\n",
       " Row(ids='594'),\n",
       " Row(ids='595'),\n",
       " Row(ids='596'),\n",
       " Row(ids='597'),\n",
       " Row(ids='598'),\n",
       " Row(ids='599'),\n",
       " Row(ids='600'),\n",
       " Row(ids='601'),\n",
       " Row(ids='602'),\n",
       " Row(ids='603'),\n",
       " Row(ids='604'),\n",
       " Row(ids='605'),\n",
       " Row(ids='606'),\n",
       " Row(ids='607'),\n",
       " Row(ids='608'),\n",
       " Row(ids='609'),\n",
       " Row(ids='610'),\n",
       " Row(ids='611'),\n",
       " Row(ids='612'),\n",
       " Row(ids='613'),\n",
       " Row(ids='614'),\n",
       " Row(ids='615'),\n",
       " Row(ids='616'),\n",
       " Row(ids='617'),\n",
       " Row(ids='618'),\n",
       " Row(ids='619'),\n",
       " Row(ids='620'),\n",
       " Row(ids='621'),\n",
       " Row(ids='622'),\n",
       " Row(ids='623'),\n",
       " Row(ids='624'),\n",
       " Row(ids='625'),\n",
       " Row(ids='626'),\n",
       " Row(ids='627'),\n",
       " Row(ids='628'),\n",
       " Row(ids='629'),\n",
       " Row(ids='630'),\n",
       " Row(ids='631'),\n",
       " Row(ids='632'),\n",
       " Row(ids='633'),\n",
       " Row(ids='634'),\n",
       " Row(ids='635'),\n",
       " Row(ids='636'),\n",
       " Row(ids='637'),\n",
       " Row(ids='638'),\n",
       " Row(ids='639'),\n",
       " Row(ids='640'),\n",
       " Row(ids='641'),\n",
       " Row(ids='642'),\n",
       " Row(ids='643'),\n",
       " Row(ids='644'),\n",
       " Row(ids='645'),\n",
       " Row(ids='646'),\n",
       " Row(ids='647'),\n",
       " Row(ids='648'),\n",
       " Row(ids='649'),\n",
       " Row(ids='650'),\n",
       " Row(ids='651'),\n",
       " Row(ids='652'),\n",
       " Row(ids='653'),\n",
       " Row(ids='654'),\n",
       " Row(ids='655'),\n",
       " Row(ids='656'),\n",
       " Row(ids='657'),\n",
       " Row(ids='658'),\n",
       " Row(ids='659'),\n",
       " Row(ids='660'),\n",
       " Row(ids='661'),\n",
       " Row(ids='662'),\n",
       " Row(ids='663'),\n",
       " Row(ids='664'),\n",
       " Row(ids='665'),\n",
       " Row(ids='666'),\n",
       " Row(ids='667'),\n",
       " Row(ids='668'),\n",
       " Row(ids='669'),\n",
       " Row(ids='670'),\n",
       " Row(ids='671'),\n",
       " Row(ids='672'),\n",
       " Row(ids='673'),\n",
       " Row(ids='674'),\n",
       " Row(ids='675'),\n",
       " Row(ids='676'),\n",
       " Row(ids='677'),\n",
       " Row(ids='678'),\n",
       " Row(ids='679'),\n",
       " Row(ids='680'),\n",
       " Row(ids='681'),\n",
       " Row(ids='682'),\n",
       " Row(ids='683'),\n",
       " Row(ids='684'),\n",
       " Row(ids='685'),\n",
       " Row(ids='686'),\n",
       " Row(ids='687'),\n",
       " Row(ids='688'),\n",
       " Row(ids='689'),\n",
       " Row(ids='690'),\n",
       " Row(ids='691'),\n",
       " Row(ids='692'),\n",
       " Row(ids='693'),\n",
       " Row(ids='694'),\n",
       " Row(ids='695'),\n",
       " Row(ids='696'),\n",
       " Row(ids='697'),\n",
       " Row(ids='698'),\n",
       " Row(ids='699'),\n",
       " Row(ids='700'),\n",
       " Row(ids='701'),\n",
       " Row(ids='702'),\n",
       " Row(ids='703'),\n",
       " Row(ids='704'),\n",
       " Row(ids='705'),\n",
       " Row(ids='706'),\n",
       " Row(ids='707'),\n",
       " Row(ids='708'),\n",
       " Row(ids='709'),\n",
       " Row(ids='710'),\n",
       " Row(ids='711'),\n",
       " Row(ids='712'),\n",
       " Row(ids='713'),\n",
       " Row(ids='714'),\n",
       " Row(ids='715'),\n",
       " Row(ids='716'),\n",
       " Row(ids='717'),\n",
       " Row(ids='718'),\n",
       " Row(ids='719'),\n",
       " Row(ids='720'),\n",
       " Row(ids='721'),\n",
       " Row(ids='722'),\n",
       " Row(ids='723'),\n",
       " Row(ids='724'),\n",
       " Row(ids='725'),\n",
       " Row(ids='726'),\n",
       " Row(ids='727'),\n",
       " Row(ids='728'),\n",
       " Row(ids='729'),\n",
       " Row(ids='730'),\n",
       " Row(ids='731'),\n",
       " Row(ids='732'),\n",
       " Row(ids='733'),\n",
       " Row(ids='734'),\n",
       " Row(ids='735'),\n",
       " Row(ids='736'),\n",
       " Row(ids='737'),\n",
       " Row(ids='738'),\n",
       " Row(ids='739'),\n",
       " Row(ids='740'),\n",
       " Row(ids='741'),\n",
       " Row(ids='742'),\n",
       " Row(ids='743'),\n",
       " Row(ids='744'),\n",
       " Row(ids='745'),\n",
       " Row(ids='746'),\n",
       " Row(ids='747'),\n",
       " Row(ids='748'),\n",
       " Row(ids='749'),\n",
       " Row(ids='750'),\n",
       " Row(ids='751'),\n",
       " Row(ids='752'),\n",
       " Row(ids='753'),\n",
       " Row(ids='754'),\n",
       " Row(ids='755'),\n",
       " Row(ids='756'),\n",
       " Row(ids='757'),\n",
       " Row(ids='758'),\n",
       " Row(ids='759'),\n",
       " Row(ids='760'),\n",
       " Row(ids='761'),\n",
       " Row(ids='762'),\n",
       " Row(ids='763'),\n",
       " Row(ids='764'),\n",
       " Row(ids='765'),\n",
       " Row(ids='766'),\n",
       " Row(ids='767'),\n",
       " Row(ids='768'),\n",
       " Row(ids='769'),\n",
       " Row(ids='770'),\n",
       " Row(ids='771'),\n",
       " Row(ids='772'),\n",
       " Row(ids='773'),\n",
       " Row(ids='774'),\n",
       " Row(ids='775'),\n",
       " Row(ids='776'),\n",
       " Row(ids='777'),\n",
       " Row(ids='778'),\n",
       " Row(ids='779'),\n",
       " Row(ids='780'),\n",
       " Row(ids='781'),\n",
       " Row(ids='782'),\n",
       " Row(ids='783'),\n",
       " Row(ids='784'),\n",
       " Row(ids='785'),\n",
       " Row(ids='786'),\n",
       " Row(ids='787'),\n",
       " Row(ids='788'),\n",
       " Row(ids='789'),\n",
       " Row(ids='790'),\n",
       " Row(ids='791'),\n",
       " Row(ids='792'),\n",
       " Row(ids='793'),\n",
       " Row(ids='794'),\n",
       " Row(ids='795'),\n",
       " Row(ids='796'),\n",
       " Row(ids='797'),\n",
       " Row(ids='798'),\n",
       " Row(ids='799'),\n",
       " Row(ids='800'),\n",
       " Row(ids='801'),\n",
       " Row(ids='802'),\n",
       " Row(ids='803'),\n",
       " Row(ids='804'),\n",
       " Row(ids='805'),\n",
       " Row(ids='806'),\n",
       " Row(ids='807'),\n",
       " Row(ids='808'),\n",
       " Row(ids='809'),\n",
       " Row(ids='810'),\n",
       " Row(ids='811'),\n",
       " Row(ids='812'),\n",
       " Row(ids='813'),\n",
       " Row(ids='814'),\n",
       " Row(ids='815'),\n",
       " Row(ids='816'),\n",
       " Row(ids='817'),\n",
       " Row(ids='818'),\n",
       " Row(ids='819'),\n",
       " Row(ids='820'),\n",
       " Row(ids='821'),\n",
       " Row(ids='822'),\n",
       " Row(ids='823'),\n",
       " Row(ids='824'),\n",
       " Row(ids='825'),\n",
       " Row(ids='826'),\n",
       " Row(ids='827'),\n",
       " Row(ids='828'),\n",
       " Row(ids='829'),\n",
       " Row(ids='830'),\n",
       " Row(ids='831'),\n",
       " Row(ids='832'),\n",
       " Row(ids='833'),\n",
       " Row(ids='834'),\n",
       " Row(ids='835'),\n",
       " Row(ids='836'),\n",
       " Row(ids='837'),\n",
       " Row(ids='838'),\n",
       " Row(ids='839'),\n",
       " Row(ids='840'),\n",
       " Row(ids='841'),\n",
       " Row(ids='842'),\n",
       " Row(ids='843'),\n",
       " Row(ids='844'),\n",
       " Row(ids='845'),\n",
       " Row(ids='846'),\n",
       " Row(ids='847'),\n",
       " Row(ids='848'),\n",
       " Row(ids='849'),\n",
       " Row(ids='850'),\n",
       " Row(ids='851'),\n",
       " Row(ids='852'),\n",
       " Row(ids='853'),\n",
       " Row(ids='854'),\n",
       " Row(ids='855'),\n",
       " Row(ids='856'),\n",
       " Row(ids='857'),\n",
       " Row(ids='858'),\n",
       " Row(ids='859'),\n",
       " Row(ids='860'),\n",
       " Row(ids='861'),\n",
       " Row(ids='862'),\n",
       " Row(ids='863'),\n",
       " Row(ids='864'),\n",
       " Row(ids='865'),\n",
       " Row(ids='866'),\n",
       " Row(ids='867'),\n",
       " Row(ids='868'),\n",
       " Row(ids='869'),\n",
       " Row(ids='870'),\n",
       " Row(ids='871'),\n",
       " Row(ids='872'),\n",
       " Row(ids='873'),\n",
       " Row(ids='874'),\n",
       " Row(ids='875'),\n",
       " Row(ids='876'),\n",
       " Row(ids='877'),\n",
       " Row(ids='878'),\n",
       " Row(ids='879'),\n",
       " Row(ids='880'),\n",
       " Row(ids='881'),\n",
       " Row(ids='882'),\n",
       " Row(ids='883'),\n",
       " Row(ids='884'),\n",
       " Row(ids='885'),\n",
       " Row(ids='886'),\n",
       " Row(ids='887'),\n",
       " Row(ids='888'),\n",
       " Row(ids='889'),\n",
       " Row(ids='890'),\n",
       " Row(ids='891'),\n",
       " Row(ids='892'),\n",
       " Row(ids='893'),\n",
       " Row(ids='894'),\n",
       " Row(ids='895'),\n",
       " Row(ids='896'),\n",
       " Row(ids='897'),\n",
       " Row(ids='898'),\n",
       " Row(ids='899'),\n",
       " Row(ids='900'),\n",
       " Row(ids='901'),\n",
       " Row(ids='902'),\n",
       " Row(ids='903'),\n",
       " Row(ids='904'),\n",
       " Row(ids='905'),\n",
       " Row(ids='906'),\n",
       " Row(ids='907'),\n",
       " Row(ids='908'),\n",
       " Row(ids='909'),\n",
       " Row(ids='910'),\n",
       " Row(ids='911'),\n",
       " Row(ids='912'),\n",
       " Row(ids='913'),\n",
       " Row(ids='914'),\n",
       " Row(ids='915'),\n",
       " Row(ids='916'),\n",
       " Row(ids='917'),\n",
       " Row(ids='918'),\n",
       " Row(ids='919'),\n",
       " Row(ids='920'),\n",
       " Row(ids='921'),\n",
       " Row(ids='922'),\n",
       " Row(ids='923'),\n",
       " Row(ids='924'),\n",
       " Row(ids='925'),\n",
       " Row(ids='926'),\n",
       " Row(ids='927'),\n",
       " Row(ids='928'),\n",
       " Row(ids='929'),\n",
       " Row(ids='930'),\n",
       " Row(ids='931'),\n",
       " Row(ids='932'),\n",
       " Row(ids='933'),\n",
       " Row(ids='934'),\n",
       " Row(ids='935'),\n",
       " Row(ids='936'),\n",
       " Row(ids='937'),\n",
       " Row(ids='938'),\n",
       " Row(ids='939'),\n",
       " Row(ids='940'),\n",
       " Row(ids='941'),\n",
       " Row(ids='942'),\n",
       " Row(ids='943'),\n",
       " Row(ids='944'),\n",
       " Row(ids='945'),\n",
       " Row(ids='946'),\n",
       " Row(ids='947'),\n",
       " Row(ids='948'),\n",
       " Row(ids='949'),\n",
       " Row(ids='950'),\n",
       " Row(ids='951'),\n",
       " Row(ids='952'),\n",
       " Row(ids='953'),\n",
       " Row(ids='954'),\n",
       " Row(ids='955'),\n",
       " Row(ids='956'),\n",
       " Row(ids='957'),\n",
       " Row(ids='958'),\n",
       " Row(ids='959'),\n",
       " Row(ids='960'),\n",
       " Row(ids='961'),\n",
       " Row(ids='962'),\n",
       " Row(ids='963'),\n",
       " Row(ids='964'),\n",
       " Row(ids='965'),\n",
       " Row(ids='966'),\n",
       " Row(ids='967'),\n",
       " Row(ids='968'),\n",
       " Row(ids='969'),\n",
       " Row(ids='970'),\n",
       " Row(ids='971'),\n",
       " Row(ids='972'),\n",
       " Row(ids='973'),\n",
       " Row(ids='974'),\n",
       " Row(ids='975'),\n",
       " Row(ids='976'),\n",
       " Row(ids='977'),\n",
       " Row(ids='978'),\n",
       " Row(ids='979'),\n",
       " Row(ids='980'),\n",
       " Row(ids='981'),\n",
       " Row(ids='982'),\n",
       " Row(ids='983'),\n",
       " Row(ids='984'),\n",
       " Row(ids='985'),\n",
       " Row(ids='986'),\n",
       " Row(ids='987'),\n",
       " Row(ids='988'),\n",
       " Row(ids='989'),\n",
       " Row(ids='990'),\n",
       " Row(ids='991'),\n",
       " Row(ids='992'),\n",
       " Row(ids='993'),\n",
       " Row(ids='994'),\n",
       " Row(ids='995'),\n",
       " Row(ids='996'),\n",
       " Row(ids='997'),\n",
       " Row(ids='998'),\n",
       " Row(ids='999'),\n",
       " Row(ids='1000'),\n",
       " Row(ids='1001'),\n",
       " Row(ids='1002'),\n",
       " Row(ids='1003'),\n",
       " Row(ids='1004'),\n",
       " Row(ids='1005'),\n",
       " Row(ids='1006'),\n",
       " Row(ids='1007'),\n",
       " Row(ids='1008'),\n",
       " ...]"
      ]
     },
     "execution_count": 41,
     "metadata": {},
     "output_type": "execute_result"
    }
   ],
   "source": [
    "df.select(df.id.cast(\"string\").alias('ids')).collect()"
   ]
  },
  {
   "cell_type": "code",
   "execution_count": 42,
   "metadata": {},
   "outputs": [
    {
     "data": {
      "text/plain": [
       "DataFrame[cat: string, desc: string, id: bigint, lang: string, name: string, provider: string]"
      ]
     },
     "execution_count": 42,
     "metadata": {},
     "output_type": "execute_result"
    }
   ],
   "source": [
    "df"
   ]
  },
  {
   "cell_type": "code",
   "execution_count": 43,
   "metadata": {},
   "outputs": [
    {
     "data": {
      "text/plain": [
       "[Row(cat='2/biology_life_sciences', desc='Learn the basics of genetics, with a personal twist. This class is all about DNA and how it shapes who we are.', id=3727, lang='en', name='Tales from the Genome. Introduction to Genetics for Beginners', provider='Udacity'),\n",
       " Row(cat='5/computer_science', desc='Learn essential computer science and object-oriented programming concepts in this introductory Java course.', id=3728, lang='en', name='Intro to Java Programming. Building Programs with Classes & Objects', provider='Udacity'),\n",
       " Row(cat='5/computer_science', desc=\"Learn key computer science concepts in this introductory Python course. You'll learn by doing, and will build your own search engine and social network.\", id=3729, lang='en', name='Intro to Computer Science. Build a Search Engine & a Social Network', provider='Udacity'),\n",
       " Row(cat='5/computer_science', desc='Learn how to model problems, and how to optimize performance by using some of the advanced features of Python.', id=3730, lang='en', name='Design of Computer Programs. Programming Principles', provider='Udacity'),\n",
       " Row(cat='5/computer_science', desc='This class will give you an introduction to the design and analysis of algorithms, enabling you to analyze networks and discover how individuals are connected.', id=3731, lang='en', name='Intro to Algorithms. Social Network Analysis', provider='Udacity'),\n",
       " Row(cat='15/mathematics_statistics_and_data_analysis', desc='Write Python code to find numerical solutions to systems of differential equations. The models you create will fight wildfires, bring spaceships back to earth, and more!', id=3732, lang='en', name='Differential Equations in Action. Making Math Matter', provider='Udacity'),\n",
       " Row(cat='5/computer_science', desc='Starting from the basics of how the web works, you will learn everything you need to know to build your own blog and scale it to support large numbers of users.', id=3733, lang='en', name='Web Development. How to Build a Blog', provider='Udacity'),\n",
       " Row(cat='5/computer_science', desc=\"Learn how to build high-performance web games with HTML5. We'll port industry-standard development techniques to the web and use them to create a game.\", id=3734, lang='en', name='HTML5 Game Development. Building High Performance Web Apps', provider='Udacity'),\n",
       " Row(cat='5/computer_science', desc=\"In this course, you'll learn how to build great mobile web experiences. We'll cover performance issues on mobile, and how to make use of mobile sensors.\", id=3735, lang='en', name='Mobile Web Development. Building Mobile Web Experiences', provider='Udacity'),\n",
       " Row(cat='5/computer_science', desc='Learn how to catch bugs and break software as you discover different testing methods that will help you build better software.', id=3736, lang='en', name='Software Testing. How to Make Software Fail', provider='Udacity'),\n",
       " Row(cat='5/computer_science', desc='In this course you will learn how to debug programs systematically using scientific methods and build several automated debugging tools in Python.', id=3737, lang='en', name='Software Debugging. Automating the Boring Tasks', provider='Udacity'),\n",
       " Row(cat='5/computer_science', desc='This course is an introduction to the fundamentals of programming languages. Concepts include how to specify and process valid strings, sentences and program structures.', id=3738, lang='en', name='Programming Languages. Building a Web Browser', provider='Udacity'),\n",
       " Row(cat='5/computer_science', desc='This course will introduce you to the basics of AI. Topics include machine learning, probabilistic reasoning, robotics, computer vision, and natural language processing.', id=3739, lang='en', name='Intro to Artificial Intelligence. Learn the Fundamentals of AI', provider='Udacity'),\n",
       " Row(cat='5/computer_science', desc='This course will teach you the principles of 3D computer graphics: meshes, transforms, lighting, animation, and making interactive 3D applications run in a browser.', id=3740, lang='en', name='Interactive 3D Graphics. Creating Virtual Worlds', provider='Udacity'),\n",
       " Row(cat='5/computer_science', desc='Learn the basic concepts in theoretical computer science. Discover what they imply for solving tough computational challenges.', id=3741, lang='en', name='Intro to Theoretical Computer Science. Dealing with Challenging Problems', provider='Udacity'),\n",
       " Row(cat='5/computer_science', desc='Learn the fundamentals of parallel computing with the GPU and the CUDA programming environment by coding a series of image processing algorithms. #filters, #cuda.', id=3742, lang='en', name='Intro to Parallel Programming. Using CUDA to Harness the Power of GPUs', provider='Udacity'),\n",
       " Row(cat='5/computer_science', desc='This course will teach you how to efficiently verify chip functionality, learn about automated test generation, and learn to improve code reuse.', id=3743, lang='en', name='Functional Hardware Verification. How to Verify Chips and Eliminate Bugs', provider='Udacity'),\n",
       " Row(cat='5/computer_science', desc='Learn how to program all the major systems of a robotic car. Topics include planning, search, localization, tracking, and control.', id=3744, lang='en', name='Artificial Intelligence for Robotics. Programming a Robotic Car', provider='Udacity'),\n",
       " Row(cat='5/computer_science', desc='Cryptography is present in everyday life, from paying with a credit card to using the telephone.  Learn all about making and breaking puzzles in computing.', id=3745, lang='en', name='Applied Cryptography. Science of Secrets', provider='Udacity'),\n",
       " Row(cat='1/arts_music_film', desc='This course will provide you with the insight to start recognizing the role of design in today’s world, and to start making better design decisions in your own life.', id=3746, lang='en', name='Intro to the Design of Everyday Things. Principles of Design', provider='Udacity'),\n",
       " Row(cat='3/business_management', desc='Learn what it takes to build a successful startup using the Customer Development process, where entrepreneurs \"get out of the building\" to gather and iterate on feedback.', id=3747, lang='en', name='How to Build a Startup. The Lean LaunchPad', provider='Udacity'),\n",
       " Row(cat='15/mathematics_statistics_and_data_analysis', desc='A brief review of introductory algebra topics including integer operations, scientific notation, algebraic expressions, linear equations, and graphing.', id=3748, lang='en', name='Intro Algebra Review. A Quick Refresher', provider='Udacity'),\n",
       " Row(cat='15/mathematics_statistics_and_data_analysis', desc='Learn the basics of Algebra through intuition and problem solving! From fractions to factors to functions, we’ll cover a breadth of topics.', id=3749, lang='en', name='Visualizing Algebra. Patterns and Problems', provider='Udacity'),\n",
       " Row(cat='15/mathematics_statistics_and_data_analysis', desc='Gain an in-depth understanding of algebraic principles and learn how to use them to solve problems you may meet in everyday life.', id=3750, lang='en', name='College Algebra. Bringing Symbols to Life', provider='Udacity'),\n",
       " Row(cat='13/physics', desc='Go to the places where big physics discoveries were made in the past and make them yourself. You’ll visit Italy, the Netherlands, and the UK as you learn basic physics.', id=3751, lang='en', name='Intro to Physics. Landmarks in Physics', provider='Udacity'),\n",
       " Row(cat='9/humanities', desc='Go on a journey through psychological concepts and principles to enable you to gain a more in-depth understanding of human thought and behavior.', id=3752, lang='en', name='Intro to Psychology. The Science of Thought and Behavior', provider='Udacity'),\n",
       " Row(cat='15/mathematics_statistics_and_data_analysis', desc=\"We live in a time of unprecedented access to information. You'll learn how to use statistics to interpret that information and make decisions.\", id=3753, lang='en', name='Statistics. The Science of Decisions', provider='Udacity'),\n",
       " Row(cat='15/mathematics_statistics_and_data_analysis', desc='Get ready to analyze, visualize, and interpret data! Thought-provoking examples and chances to combine statistics and programming will keep you engaged and challenged.', id=3754, lang='en', name='Intro to Statistics. Making Decisions Based on Data', provider='Udacity'),\n",
       " Row(cat='15/mathematics_statistics_and_data_analysis', desc='Data Scientists spend most of their time cleaning data. In this course, you will learn to convert and manipulate messy data to extract what you need.', id=7935, lang='en', name='Data Wrangling with MongoDB. Data Manipulation and Retrieval', provider='Udacity'),\n",
       " Row(cat='5/computer_science', desc=\"In this short class you'll build powerful apps without writing code. Great if you're an aspiring developer or someone who wants to learn what programmers do.\", id=7936, lang='en', name='Intro to Point & Click App Development. Think It. Build It.', provider='Udacity'),\n",
       " Row(cat='15/mathematics_statistics_and_data_analysis', desc='What does a data scientist do? In this course, we will survey the main topics in data science so you can understand the skills that are needed to become a data scientist!', id=7937, lang='en', name='Intro to Data Science. Learn What It Takes to Become a Data Scientist', provider='Udacity'),\n",
       " Row(cat='15/mathematics_statistics_and_data_analysis', desc='In this short course, learn the fundamentals of MapReduce and Apache Hadoop to start making sense of Big Data in the real world!', id=7938, lang='en', name='Intro to Hadoop and MapReduce. How to Process Big Data', provider='Udacity'),\n",
       " Row(cat='15/mathematics_statistics_and_data_analysis', desc='Data is everywhere and so much of it is unexplored. Learn how to investigate and summarize data sets using R and eventually create your own analysis.', id=7939, lang='en', name='Data Analysis with R. Visually Analyze and Summarize Data Sets', provider='Udacity'),\n",
       " Row(cat='5/computer_science', desc=\"Ten minutes into this class you'll make your own completely personalized version of the insanely addictive game 2048. Even if you've never coded before. Pretty cool, no?\", id=12082, lang='en', name='Make Your Own 2048. Your Tiles. Your Styles.', provider='Udacity'),\n",
       " Row(cat='15/mathematics_statistics_and_data_analysis', desc=\"In this course, you'll learn how to apply Supervised Learning techniques important for solving a range of data science problems. And for surviving the robot uprising.\", id=12083, lang='en', name='Machine Learning: Supervised Learning. Conversations on Analyzing Data', provider='Udacity'),\n",
       " Row(cat='15/mathematics_statistics_and_data_analysis', desc=\"Ever wonder how Netflix can predict what movies you'll like? Or how Amazon knows what you want to buy before you do? The answer can be found in Unsupervised Learning!\", id=12084, lang='en', name='Machine Learning: Unsupervised Learning. Conversations on Analyzing Data', provider='Udacity'),\n",
       " Row(cat='15/mathematics_statistics_and_data_analysis', desc='Can we program machines to learn like humans? This course will teach you the algorithms for designing self-learning agents like us!', id=12085, lang='en', name='Machine Learning: Reinforcement Learning. Conversations on Analyzing Data', provider='Udacity'),\n",
       " Row(cat='5/computer_science', desc='Introductory programming class to learn Object-Oriented Programming, a must-have technique to reuse and share code easily. Learn by making projects that spread happiness!', id=12223, lang='en', name='Programming Foundations with Python. Learn Object-Oriented Programming', provider='Udacity'),\n",
       " Row(cat='', desc='Learn how browsers convert HTML, CSS and JavaScript into websites while you experiment with Chrome Developer Tools to measure and optimize website speed!', id=16482, lang='en', name='Website Performance Optimization. The Critical Rendering Path', provider='Udacity'),\n",
       " Row(cat='', desc=\"This is a design course made for developers. You'll learn UX design skills which will help you make 5-star mobile apps that your users will love.\", id=16624, lang='en', name='UX Design for Mobile Developers. Learn to Design a 5-Star Android App', provider='Udacity'),\n",
       " Row(cat='', desc=\"Build a cloud-connected Android app, and learn the tools, principles, and best practices of mobile and Android development that you'll apply to your own projects.\", id=16625, lang='en', name='Developing Android Apps. Android Fundamentals', provider='Udacity'),\n",
       " Row(cat='', desc='You will learn about challenges of building applications that can serve hundreds of thousands of users, and how you can prepare for them as a developer.', id=16626, lang='en', name='Developing Scalable Apps with Java. with Google App Engine', provider='Udacity'),\n",
       " Row(cat='15/mathematics_statistics_and_data_analysis', desc='Intro to Inferential Statistics will teach you how to test your hypotheses and begin to make predictions based on statistical results drawn from data!', id=16987, lang='en', name='Intro to Inferential Statistics. Making Predictions from Data', provider='Udacity'),\n",
       " Row(cat='15/mathematics_statistics_and_data_analysis', desc='Intro to Descriptive Statistics will teach you the basic concepts of statistics that can be used to extract information from data.', id=16988, lang='en', name='Intro to Descriptive Statistics. Mathematics for Understanding Data', provider='Udacity'),\n",
       " Row(cat='', desc='This is an advanced Computer Networking course that delves into the latest concepts and tools used by the CN industry.', id=17006, lang='en', name='Computer Networking. Security and Software Defined Networking', provider='Udacity'),\n",
       " Row(cat='5/computer_science', desc='Software Development Processes explores requirements engineering, architecture and design, testing, and software quality in general.', id=17007, lang='en', name='Software Development Process. From Idea to Product', provider='Udacity'),\n",
       " Row(cat='', desc='Learn how to convert digital design mockups into static web pages and how to build a responsive portfolio site to showcase your work.', id=19245, lang='en', name='Intro to HTML and CSS. Not Your Typical Intro to Web Dev', provider='Udacity'),\n",
       " Row(cat='', desc='Learn to use version control, an important tool for any developer.  The course will focus on Git, a specific version control system, and GitHub, a collaboration platform.', id=19246, lang='en', name='How to Use Git and GitHub. Version Control for Code', provider='Udacity'),\n",
       " Row(cat='', desc='Learn JavaScript syntax and coding conventions that web developers use to create interactive and dynamic websites while you create an online résumé for your portfolio.', id=19247, lang='en', name='JavaScript Basics. The Programming Language of the Web', provider='Udacity'),\n",
       " Row(cat='', desc=\"Build a variety of JavaScript objects and explore how their inheritance models affect your app's in-memory model. Gain simplicity and modularity in your own code.\", id=19248, lang='en', name='Object-Oriented JavaScript. Writing Reusable and Maintainable Code', provider='Udacity'),\n",
       " Row(cat='', desc='Learn how to find insights from data and prepare for a career in data science.', id=19936, lang='en', name='Data Analyst Nanodegree. Discover Insights from Data', provider='Udacity'),\n",
       " Row(cat='', desc='Become a Front-End Web Developer by completing a variety of projects for your portfolio - become an HTML, CSS and JavaScript pro!', id=19937, lang='en', name='Front-End Web Developer Nanodegree. Creating Stunning User Experiences', provider='Udacity'),\n",
       " Row(cat='', desc='Learn how to perform asynchronous requests as you build a web app with data from Google Street View, the New York Times and Wikipedia!', id=20487, lang='en', name='Intro to AJAX. Making Asynchronous Requests with jQuery', provider='Udacity'),\n",
       " Row(cat='5/computer_science', desc='Learn how you can use HTML5 Canvas to create and modify images or even interactive animations.', id=20488, lang='en', name='HTML5 Canvas. From Pixels to Animation!', provider='Udacity'),\n",
       " Row(cat='', desc='Learn how to access and modify the DOM with ease using jQuery!', id=20644, lang='en', name='Intro to jQuery. Manipulating Websites with Ease', provider='Udacity'),\n",
       " Row(cat='', desc='Learn the fundamentals of data visualization and apply design and narrative concepts to create your own visualization.', id=20841, lang='en', name='Data Visualization and D3.js. Communicating with Data', provider='Udacity'),\n",
       " Row(cat='15/mathematics_statistics_and_data_analysis', desc=\"This class will teach you the end-to-end process of investigating data through a machine learning lens, and you'll apply what you've learned to a real-world data set.\", id=20842, lang='en', name='Intro to Machine Learning. Pattern Recognition for Fun and Profit', provider='Udacity'),\n",
       " Row(cat='5/computer_science', desc='Take the first step in becoming an iOS Developer by learning about Swift and writing your first app.', id=21108, lang='en', name='Intro to iOS App Development with Swift. Make Your First iPhone App', provider='Udacity'),\n",
       " Row(cat='', desc='The world is trending in real time! Learn Apache Storm, taught by Twitter, to scalably analyze real-time tweets and drive d3 visualizations. Storm is free, open and fun!', id=21312, lang='en', name='Real-Time Analytics with Apache Storm. The \"Hadoop of Real-Time\"', provider='Udacity'),\n",
       " Row(cat='', desc='Learn how to create server-side, data-driven web applications that support any front-end and can scale to support hundreds of thousands of users.', id=21442, lang='en', name='Full Stack Web Developer Nanodegree. Building Complex Web Applications', provider='Udacity'),\n",
       " Row(cat='', desc='Learn how to build advanced, modern iOS applications with polished user interfaces on top of industry-standard frameworks.', id=21453, lang='en', name='iOS Developer Nanodegree. Programming Apps for the iPhone and iPad', provider='Udacity'),\n",
       " Row(cat='', desc='Learn the importance of code organization and how to implement it with either vanilla JavaScript or an organizational library or framework.', id=21468, lang='en', name='JavaScript Design Patterns. Organizing code in a disorganized world', provider='Udacity'),\n",
       " Row(cat='', desc=\"Learn and practice strategies for developing websites that look great on every device! Made with Google's Pete LePage.\", id=22077, lang='en', name='Responsive Web Design Fundamentals. Great Experiences on Any Device', provider='Udacity'),\n",
       " Row(cat='', desc='This course will teach you how to start from scratch in understanding and paying attention to what is important in the data and how to answer questions about data', id=22078, lang='en', name='Model Building and Validation. Advanced Techniques for Analyzing Data', provider='Udacity'),\n",
       " Row(cat='5/computer_science', desc='Welcome to the world of programming. Learn to code and how to \"think like a programmer.\" Show off your own website when you\\'re done.', id=22113, lang='en', name='Introduction to Programming Nanodegree. Build your programming foundation', provider='Udacity'),\n",
       " Row(cat='', desc='Learn the fundamentals of back-end web development by creating your own web application from the ground up using the iterative development process.', id=22173, lang='en', name='Full Stack Foundations. Build a data-driven web app with Python', provider='Udacity'),\n",
       " Row(cat='', desc='Relational databases are a powerful tool used throughout the industry. Learn the basics of SQL and how to connect your Python code to a relational database.', id=22174, lang='en', name='Intro to Relational Databases. SQL, DB-API, and More!', provider='Udacity'),\n",
       " Row(cat='', desc='The twin goals of knowledge-based artificial intelligence (AI) are to build AI agents capable of human-level intelligence and gain insights into human cognition.', id=22341, lang='en', name='Knowledge-Based AI: Cognitive Systems. The Core of Artificial Intelligence', provider='Udacity'),\n",
       " Row(cat='', desc='This survey course provides a broad, forward-facing overview of contemporary health informatics within the context of the US healthcare delivery system.', id=22342, lang='en', name='Health Informatics in the Cloud. Applications and Analysis', provider='Udacity'),\n",
       " Row(cat='15/mathematics_statistics_and_data_analysis', desc=\"In this course, you'll learn how to apply Supervised, Unsupervised and Reinforcement Learning techniques for solving a range of data science problems.\", id=22343, lang='en', name='Machine Learning. Supervised, Unsupervised & Reinforcement', provider='Udacity'),\n",
       " Row(cat='', desc='The HPCA course covers performance measurement, pipelining, and improved parallelism through various means.', id=22344, lang='en', name='High Performance Computer Architecture. Pipelines, Caches, and MultiCores', provider='Udacity'),\n",
       " Row(cat='5/computer_science', desc='Learn tools and techniques that will help you recognize when problems you encounter are intractable and when there an efficient solution.', id=22363, lang='en', name='Computability, Complexity & Algorithms. The Power and Limitation of Algorithms', provider='Udacity'),\n",
       " Row(cat='', desc='Learn the iOS UIKit framework, which is the cornerstone of creating user interfaces in all iOS apps and crucial for any iOS Developer to be intimately familiar with.', id=22380, lang='en', name='UIKit Fundamentals. Learn the iOS User Interface Library', provider='Udacity'),\n",
       " Row(cat='', desc='Go beyond image tags! Learn how to make images a part of your responsive design workflow.', id=22440, lang='en', name='Responsive Images. Fewer Bytes, Faster Loads', provider='Udacity'),\n",
       " Row(cat='', desc='Learn how to iterate on your web applications with confidence using the red-green-refactor workflow cycle and automated testing frameworks.', id=22441, lang='en', name='JavaScript Testing. Developing Apps with Confidence', provider='Udacity'),\n",
       " Row(cat='', desc='Learn how to incorporate networking into your apps to access data from around the world. Build the On the Map app to share location and fun links with fellow students.', id=26219, lang='en', name='iOS Networking with Swift. Web Services, APIs, and JSON', provider='Udacity'),\n",
       " Row(cat='', desc=\"Persisting data is a core skill for any iOS developer. Learn how to store app data to your device's hard drive using two common techniques: Core Data & NSKeyedArchiver.\", id=26786, lang='en', name='iOS Persistence and Core Data. Storing Your App’s Data', provider='Udacity'),\n",
       " Row(cat='', desc='Performance matters to users, so it must matter to you. Learn how to identify and fix bottlenecks in your Android applications, and ensure a smooth user experience.', id=26920, lang='en', name='Android Performance. Optimizing Apps for Speed and Usability', provider='Udacity'),\n",
       " Row(cat='', desc='You will learn about challenges of building applications that can serve hundreds of thousands of users, and how you can prepare for them as a developer.', id=26921, lang='en', name='Developing Scalable Apps in Python. with Google App Engine', provider='Udacity'),\n",
       " Row(cat='', desc='Learn to implement the OAuth 2.0 framework to allow users to securely and easily login to your web applications.', id=27154, lang='en', name='Authentication & Authorization: OAuth. Implementing Web Security with OAuth 2.0', provider='Udacity'),\n",
       " Row(cat='', desc=\"This course will demystify the browser's rendering pipeline and make it easy for you to build high performance web apps.\", id=27543, lang='en', name='Browser Rendering Optimization. Building 60 FPS Web Apps', provider='Udacity'),\n",
       " Row(cat='', desc='This course will cover the design and analysis of A/B tests, which are online experiments used throughout tech industry by companies like Google, Amazon, and Netflix.', id=27857, lang='en', name='A/B Testing. Online Experiment Design and Analysis', provider='Udacity'),\n",
       " Row(cat='', desc='Learn the process of building an app, taking your ideas from drawing board to App Store!', id=28082, lang='en', name='How to Make an iOS App. From Drawing Board to App Store', provider='Udacity'),\n",
       " Row(cat='5/computer_science', desc='Learn the basics of Android and Java programming, and take the first step on your journey to becoming an Android developer!', id=28239, lang='en', name='Android App Development for Beginners. How to Make Your First Android App', provider='Udacity'),\n",
       " Row(cat='', desc='Learn how to extend your app with Android Wear, Google Cast, Android TV and Android Auto.', id=28240, lang='en', name='Android Ubiquitous Computing. Extend Apps to Wearables, TV and Auto', provider='Udacity'),\n",
       " Row(cat='', desc='Learn how to access Google’s APIs -- including Location, Maps, Analytics and Advertising -- and build better apps!', id=28241, lang='en', name='Google Play Services. Use Google APIs to Improve Your Apps', provider='Udacity'),\n",
       " Row(cat='', desc=\"Learn and apply the material design principles that define Android's visual language to your apps.\", id=28242, lang='en', name='Android Design for Developers. Make Your Apps Material', provider='Udacity'),\n",
       " Row(cat='', desc='Build bigger and better Android and Java apps using the Gradle build tool.', id=28243, lang='en', name='Gradle for Android and Java. Build Better Apps Though Automation', provider='Udacity'),\n",
       " Row(cat='5/computer_science', desc='Make your app production-ready by applying advanced features like library integration, material design, widgets, receiving cloud messages, and more!', id=28244, lang='en', name='Advanced Android App Development. Productionize and Publish Your Apps', provider='Udacity')]"
      ]
     },
     "execution_count": 43,
     "metadata": {},
     "output_type": "execute_result"
    }
   ],
   "source": [
    "df[df.provider.isin(\"Udacity\")].collect()"
   ]
  },
  {
   "cell_type": "code",
   "execution_count": 44,
   "metadata": {},
   "outputs": [
    {
     "data": {
      "text/plain": [
       "[Row(cat='', desc=\" Learn how to code in HTML in 1 hour. This class is set up for complete beginners! Have you ever wanted to learn to code but don't know where to start? Learning how to code can get you a better job and lead to a better future. This course starts you off with the basic coding language of HTML. This is a very condensed 1 hour tutorial that will show you how to code in HTML. Enroll to begin your journey to be a web development master. What are the requirements? An internet connection An up to date web browser What am I going to get from this course? Over 21 lectures and 1 hour of content! Learn the basics of programming Learn HTML Give you a platform for furthur development What is the target audience? Complete beginners People who want to become web developers SECTION 1: Let's learn some HTML\\nIntroduction to the courseSpecial student promotion2. Course requirements and format3. What is JSBIn4. Setting up the HTML Document5. Header and paragraph tags6. Style7. More than one style8. Bold, Italics, underline and tags within tags9. More Tags10. Setting up a link11. Adding an image12. Adding a link to the image13. Lists14. Tables15. Playing around with styles16. Forms17. Radio, checkboxes and password18. Submit buttons19. Script tags and javascriptSECTION 2: Congratulations you are finished!\\n20 Course conclusion\", id=3755, lang='en', name='HTML Lessons - HTML Video Tutorial', provider='Udemy'),\n",
       " Row(cat='', desc=\" Have you ever wanted to learn to code. This course will show you the basics of coding in 1 hour! Have you ever wanted to learn to code but don't know where to start? Learning how to code can get you a better job and lead to a better future. This course starts you off with the basic coding language of jQuery. This is a very condensed 1 hour tutorial that will show you how to code in jQuery. Enroll to begin your journey to be a web development master. What are the requirements? An internet connection What am I going to get from this course? Over 25 lectures and 1 hour of content! To learn good development practices To learn jQuery What is the target audience? Complete Beginners SECTION 1: Let's Learn jQuery\\nCourse introductionCourse requirementsSECTION 2: What is jQuery\\njQuery Library fileSetting up the code in JavaScriptjQuery environmentsSECTION 3: Let's code something cool!\\nAdding in a FadeoutExplaining the jQuery SyntaxMore events you can useAdding in a second buttonId and classAdding classes to different HTML tagsFade out timingToggleToggle ParametersSelecting HTML elementsHide and showScript tagsSECTION 4: Animations\\nAnimationSliding backSliding slowGrowing a div tagShrinking a div tagIncremental growMore thoughts about div tagsSECTION 5: Congratulations your are finished!\\nConclusion\", id=3756, lang='en', name='JQuery Training - JQuery Video Tutorial', provider='Udemy'),\n",
       " Row(cat='', desc=\" Most of John Bura's courses are on sale for 9 dollars! https://www.udemy.com/u/johnbura/ Sale ends Oct 31 2013! Act now! So you want to make apps but you don't know where to start. You start a few tutorials on the internet but you end up without an app or any\\xa0knowledge\\xa0whatsoever.\\xa0\\nIf you want to make apps you pretty much have to use Xcode, Apple's app making program. But when you download it and take a look it seems really complicated to use. There are tons of books on how to program and use Xcode but none of them are that user friendly.\\xa0 What are the requirements? A mac computer Xcode What am I going to get from this course? Over 18 lectures and 1 hour of content! To have a basic understanding of Xcode To learn a lot of information in 1 hour What is the target audience? Complete beginners People who want to become software developers SECTION 1: Introduction\\nCourse IntroductionSECTION 2: Xcode Infographic\\nXCode InfoGraphicSECTION 3: Let's learn Xcode\\nCourse requirementsOpening a projectMore about XcodeStoryboards and testing your appChanging the view controllersAdding more tabsAdding other movementAdding in the other toolbarsChanging the color of the toolbarsChanging the layoutAdding in a buttonButton prototpyingChanging colors in XcodeTransparent BackgroundsDevice orientationConclusion\", id=3757, lang='en', name='Xcode Tutorial for Beginners - Learn Xcode Basics', provider='Udemy')]"
      ]
     },
     "execution_count": 44,
     "metadata": {},
     "output_type": "execute_result"
    }
   ],
   "source": [
    "df[df.provider.endswith(\"emy\")].take(3)"
   ]
  },
  {
   "cell_type": "code",
   "execution_count": 45,
   "metadata": {},
   "outputs": [
    {
     "name": "stdout",
     "output_type": "stream",
     "text": [
      "+--------------------+----------------------------------------------------------+\n",
      "|                name|CASE WHEN (id > 7) THEN 1 WHEN (id < 6) THEN -1 ELSE 0 END|\n",
      "+--------------------+----------------------------------------------------------+\n",
      "|Accounting Cycle:...|                                                        -1|\n",
      "|American Counter ...|                                                        -1|\n",
      "|Arithmétique: en ...|                                                         0|\n",
      "|Becoming a Dynami...|                                                         0|\n",
      "|           Bioethics|                                                         1|\n",
      "|College Foundatio...|                                                         1|\n",
      "|Digital Literacies I|                                                         1|\n",
      "|Digital Literacie...|                                                         1|\n",
      "|Digital Tools for...|                                                         1|\n",
      "|Discover Your Val...|                                                         1|\n",
      "|Enhancing Patient...|                                                         1|\n",
      "|Ethics and Values...|                                                         1|\n",
      "| Exploring Chemistry|                                                         1|\n",
      "|Exploring Enginee...|                                                         1|\n",
      "|Fairy Tales: Orig...|                                                         1|\n",
      "|First Peoples to ...|                                                         1|\n",
      "| Forums for a Future|                                                         1|\n",
      "|From the Gilded A...|                                                         1|\n",
      "|Fundamentals of S...|                                                         1|\n",
      "|Hybrid Courses: B...|                                                         1|\n",
      "+--------------------+----------------------------------------------------------+\n",
      "only showing top 20 rows\n",
      "\n"
     ]
    }
   ],
   "source": [
    "from pyspark.sql import functions as F\n",
    "df.select(df.name, F.when(df.id > 7, 1).when(df.id < 6, -1).otherwise(0)).show()"
   ]
  },
  {
   "cell_type": "code",
   "execution_count": 46,
   "metadata": {},
   "outputs": [
    {
     "data": {
      "text/plain": [
       "[Row(col='3/'),\n",
       " Row(col='11'),\n",
       " Row(col='5/'),\n",
       " Row(col='14'),\n",
       " Row(col='2/'),\n",
       " Row(col='9/'),\n",
       " Row(col='14'),\n",
       " Row(col='14'),\n",
       " Row(col='14'),\n",
       " Row(col='14')]"
      ]
     },
     "execution_count": 46,
     "metadata": {},
     "output_type": "execute_result"
    }
   ],
   "source": [
    "df.select(df.cat.substr(1, 2).alias(\"col\")).take(10)"
   ]
  },
  {
   "cell_type": "code",
   "execution_count": 47,
   "metadata": {
    "collapsed": true
   },
   "outputs": [],
   "source": [
    "x = df.select(F.array([df.id, df.lang]).alias(\"arr\")).take(10)"
   ]
  },
  {
   "cell_type": "code",
   "execution_count": 48,
   "metadata": {},
   "outputs": [
    {
     "data": {
      "text/plain": [
       "[Row(arr=['4', 'en']),\n",
       " Row(arr=['5', 'en']),\n",
       " Row(arr=['6', 'fr']),\n",
       " Row(arr=['7', 'en']),\n",
       " Row(arr=['8', 'en']),\n",
       " Row(arr=['9', 'en']),\n",
       " Row(arr=['10', 'en']),\n",
       " Row(arr=['11', 'en']),\n",
       " Row(arr=['12', 'en']),\n",
       " Row(arr=['13', 'en'])]"
      ]
     },
     "execution_count": 48,
     "metadata": {},
     "output_type": "execute_result"
    }
   ],
   "source": [
    "x"
   ]
  },
  {
   "cell_type": "code",
   "execution_count": 49,
   "metadata": {
    "collapsed": true
   },
   "outputs": [],
   "source": [
    "r = x[2]"
   ]
  },
  {
   "cell_type": "code",
   "execution_count": 50,
   "metadata": {},
   "outputs": [
    {
     "data": {
      "text/plain": [
       "['6', 'fr']"
      ]
     },
     "execution_count": 50,
     "metadata": {},
     "output_type": "execute_result"
    }
   ],
   "source": [
    "r.arr"
   ]
  },
  {
   "cell_type": "code",
   "execution_count": 51,
   "metadata": {},
   "outputs": [
    {
     "data": {
      "text/plain": [
       "[Row(s='4en'),\n",
       " Row(s='5en'),\n",
       " Row(s='6fr'),\n",
       " Row(s='7en'),\n",
       " Row(s='8en'),\n",
       " Row(s='9en'),\n",
       " Row(s='10en'),\n",
       " Row(s='11en'),\n",
       " Row(s='12en'),\n",
       " Row(s='13en')]"
      ]
     },
     "execution_count": 51,
     "metadata": {},
     "output_type": "execute_result"
    }
   ],
   "source": [
    "df.select(F.concat(df.id, df.lang).alias('s')).take(10)"
   ]
  },
  {
   "cell_type": "code",
   "execution_count": 52,
   "metadata": {},
   "outputs": [
    {
     "data": {
      "text/plain": [
       "[Row(s='4_en'),\n",
       " Row(s='5_en'),\n",
       " Row(s='6_fr'),\n",
       " Row(s='7_en'),\n",
       " Row(s='8_en'),\n",
       " Row(s='9_en'),\n",
       " Row(s='10_en'),\n",
       " Row(s='11_en'),\n",
       " Row(s='12_en'),\n",
       " Row(s='13_en')]"
      ]
     },
     "execution_count": 52,
     "metadata": {},
     "output_type": "execute_result"
    }
   ],
   "source": [
    "df.select(F.concat_ws('_', df.id, df.lang).alias('s')).take(10)"
   ]
  },
  {
   "cell_type": "code",
   "execution_count": 53,
   "metadata": {},
   "outputs": [
    {
     "data": {
      "text/plain": [
       "[Row(newcol='5'),\n",
       " Row(newcol='5'),\n",
       " Row(newcol='5'),\n",
       " Row(newcol='5'),\n",
       " Row(newcol='5'),\n",
       " Row(newcol='5'),\n",
       " Row(newcol='5'),\n",
       " Row(newcol='5'),\n",
       " Row(newcol='5'),\n",
       " Row(newcol='5')]"
      ]
     },
     "execution_count": 53,
     "metadata": {},
     "output_type": "execute_result"
    }
   ],
   "source": [
    "df.select(F.lit(\"5\").alias(\"newcol\")).take(10)"
   ]
  },
  {
   "cell_type": "code",
   "execution_count": 54,
   "metadata": {},
   "outputs": [
    {
     "data": {
      "text/plain": [
       "[Row(map={4: 'en'}),\n",
       " Row(map={5: 'en'}),\n",
       " Row(map={6: 'fr'}),\n",
       " Row(map={7: 'en'}),\n",
       " Row(map={8: 'en'}),\n",
       " Row(map={9: 'en'}),\n",
       " Row(map={10: 'en'}),\n",
       " Row(map={11: 'en'}),\n",
       " Row(map={12: 'en'}),\n",
       " Row(map={13: 'en'})]"
      ]
     },
     "execution_count": 54,
     "metadata": {},
     "output_type": "execute_result"
    }
   ],
   "source": [
    "df.select(F.create_map([df.id, df.lang]).alias(\"map\")).take(10)"
   ]
  },
  {
   "cell_type": "code",
   "execution_count": 55,
   "metadata": {
    "collapsed": true
   },
   "outputs": [],
   "source": [
    "from pyspark.sql import Row\n",
    "eDF = spark.createDataFrame([Row(a=1, tlist=[u'Hey, Jude', u'Do not be afraid', u'Take a sad song and make it better'])])"
   ]
  },
  {
   "cell_type": "code",
   "execution_count": 56,
   "metadata": {},
   "outputs": [
    {
     "name": "stdout",
     "output_type": "stream",
     "text": [
      "+---+-----------------------------------------------------------------+\n",
      "|a  |tlist                                                            |\n",
      "+---+-----------------------------------------------------------------+\n",
      "|1  |[Hey, Jude, Do not be afraid, Take a sad song and make it better]|\n",
      "+---+-----------------------------------------------------------------+\n",
      "\n"
     ]
    }
   ],
   "source": [
    "eDF.show(truncate=False)"
   ]
  },
  {
   "cell_type": "code",
   "execution_count": 57,
   "metadata": {},
   "outputs": [
    {
     "data": {
      "text/plain": [
       "[Row(expl='Hey, Jude'),\n",
       " Row(expl='Do not be afraid'),\n",
       " Row(expl='Take a sad song and make it better')]"
      ]
     },
     "execution_count": 57,
     "metadata": {},
     "output_type": "execute_result"
    }
   ],
   "source": [
    "eDF.select(F.explode(eDF.tlist).alias(\"expl\")).collect()"
   ]
  },
  {
   "cell_type": "code",
   "execution_count": 58,
   "metadata": {},
   "outputs": [
    {
     "data": {
      "text/plain": [
       "[Row(tlist=['Hey, Jude', 'Do not be afraid', 'Take a sad song and make it better'], array_contains(tlist, Hey, Jude)=True)]"
      ]
     },
     "execution_count": 58,
     "metadata": {},
     "output_type": "execute_result"
    }
   ],
   "source": [
    "eDF.select(eDF.tlist, F.array_contains(eDF.tlist, \"Hey, Jude\")).collect()"
   ]
  },
  {
   "cell_type": "code",
   "execution_count": 60,
   "metadata": {},
   "outputs": [
    {
     "name": "stdout",
     "output_type": "stream",
     "text": [
      "+--------------------+--------------------+---+----+--------------------+--------------+\n",
      "|                 cat|                desc| id|lang|                name|      provider|\n",
      "+--------------------+--------------------+---+----+--------------------+--------------+\n",
      "|3/business_manage...|This course intro...|  4|  en|Accounting Cycle:...|Canvas Network|\n",
      "|              11/law|This online cours...|  5|  en|American Counter ...|Canvas Network|\n",
      "|5/computer_scienc...|This course is ta...|  6|  fr|Arithmétique: en ...|Canvas Network|\n",
      "|  14/social_sciences|We live in a digi...|  7|  en|Becoming a Dynami...|Canvas Network|\n",
      "|2/biology_life_sc...|This self-paced c...|  8|  en|           Bioethics|Canvas Network|\n",
      "|9/humanities|15/m...|This game-based c...|  9|  en|College Foundatio...|Canvas Network|\n",
      "|  14/social_sciences|What’s in your di...| 10|  en|Digital Literacies I|Canvas Network|\n",
      "|  14/social_sciences|The goal of the D...| 11|  en|Digital Literacie...|Canvas Network|\n",
      "|  14/social_sciences|Ready to explore ...| 12|  en|Digital Tools for...|Canvas Network|\n",
      "|  14/social_sciences|This self-paced c...| 13|  en|Discover Your Val...|Canvas Network|\n",
      "|  12/medicine_health|What is “interpro...| 14|  en|Enhancing Patient...|Canvas Network|\n",
      "|        16/languages|This course prese...| 15|  en|Ethics and Values...|Canvas Network|\n",
      "|         4/chemistry|Chemistry is an i...| 16|  en| Exploring Chemistry|Canvas Network|\n",
      "|8/engineering_tec...|Are you consideri...| 17|  en|Exploring Enginee...|Canvas Network|\n",
      "|   1/arts_music_film|Princess stories ...| 18|  en|Fairy Tales: Orig...|Canvas Network|\n",
      "|        9/humanities|This first instal...| 19|  en|First Peoples to ...|Canvas Network|\n",
      "|  14/social_sciences|This course exami...| 20|  en| Forums for a Future|Canvas Network|\n",
      "|        9/humanities|This course will ...| 21|  en|From the Gilded A...|Canvas Network|\n",
      "|8/engineering_tec...|The field of tech...| 22|  en|Fundamentals of S...|Canvas Network|\n",
      "|  14/social_sciences|Are you a Higher ...| 23|  en|Hybrid Courses: B...|Canvas Network|\n",
      "+--------------------+--------------------+---+----+--------------------+--------------+\n",
      "only showing top 20 rows\n",
      "\n"
     ]
    }
   ],
   "source": [
    "df.show()"
   ]
  },
  {
   "cell_type": "code",
   "execution_count": 60,
   "metadata": {},
   "outputs": [
    {
     "data": {
      "text/plain": [
       "[Row(d=61, name='Accounting Cycle: The Foundation of Business Measurement and Reporting', provider='Canvas Network'),\n",
       " Row(d=24, name='American Counter Terrorism Law', provider='Canvas Network'),\n",
       " Row(d=40, name='Arithmétique: en route pour la cryptographie', provider='Canvas Network'),\n",
       " Row(d=23, name='Becoming a Dynamic Educator', provider='Canvas Network'),\n",
       " Row(d=12, name='Bioethics', provider='Canvas Network'),\n",
       " Row(d=40, name='College Foundations: Reading, Writing, and Math', provider='Canvas Network'),\n",
       " Row(d=17, name='Digital Literacies I', provider='Canvas Network'),\n",
       " Row(d=18, name='Digital Literacies II', provider='Canvas Network'),\n",
       " Row(d=30, name='Digital Tools for the K-12 Educator', provider='Canvas Network'),\n",
       " Row(d=52, name='Discover Your Value: Turning Experience into College Credit', provider='Canvas Network')]"
      ]
     },
     "execution_count": 60,
     "metadata": {},
     "output_type": "execute_result"
    }
   ],
   "source": [
    "df.select(F.levenshtein('name', 'provider').alias('d'), 'name', 'provider').take(10)"
   ]
  },
  {
   "cell_type": "code",
   "execution_count": 61,
   "metadata": {},
   "outputs": [
    {
     "data": {
      "text/plain": [
       "[Row(s=['', 'business_management', 'economics_finance']),\n",
       " Row(s=['', 'law']),\n",
       " Row(s=['', 'computer_science', 'mathematics_statistics_and_data_analysis']),\n",
       " Row(s=['', 'social_sciences']),\n",
       " Row(s=['', 'biology_life_sciences']),\n",
       " Row(s=['', 'humanities', 'mathematics_statistics_and_data_analysis']),\n",
       " Row(s=['', 'social_sciences']),\n",
       " Row(s=['', 'social_sciences']),\n",
       " Row(s=['', 'social_sciences']),\n",
       " Row(s=['', 'social_sciences'])]"
      ]
     },
     "execution_count": 61,
     "metadata": {},
     "output_type": "execute_result"
    }
   ],
   "source": [
    "df.select(F.split(df.cat, '\\|?[0-9]+/').alias('s')).take(10)"
   ]
  },
  {
   "cell_type": "markdown",
   "metadata": {},
   "source": [
    "** using dataframes **\n",
    "\n",
    "https://spark.apache.org/docs/latest/sql-programming-guide.html"
   ]
  },
  {
   "cell_type": "markdown",
   "metadata": {},
   "source": [
    "## examples on SQL"
   ]
  },
  {
   "cell_type": "code",
   "execution_count": 61,
   "metadata": {
    "collapsed": true
   },
   "outputs": [],
   "source": [
    "df.registerTempTable(\"courses\")"
   ]
  },
  {
   "cell_type": "code",
   "execution_count": 62,
   "metadata": {},
   "outputs": [
    {
     "data": {
      "text/plain": [
       "DataFrame[database: string, tableName: string, isTemporary: boolean]"
      ]
     },
     "execution_count": 62,
     "metadata": {},
     "output_type": "execute_result"
    }
   ],
   "source": [
    "spark.sql(\"SHOW TABLES\")"
   ]
  },
  {
   "cell_type": "code",
   "execution_count": 63,
   "metadata": {},
   "outputs": [
    {
     "name": "stdout",
     "output_type": "stream",
     "text": [
      "+--------+---------+-----------+\n",
      "|database|tableName|isTemporary|\n",
      "+--------+---------+-----------+\n",
      "|        |  courses|       true|\n",
      "+--------+---------+-----------+\n",
      "\n"
     ]
    }
   ],
   "source": [
    "spark.sql(\"SHOW TABLES\").show()"
   ]
  },
  {
   "cell_type": "code",
   "execution_count": 65,
   "metadata": {},
   "outputs": [
    {
     "data": {
      "text/plain": [
       "DataFrame[cat: string, desc: string, id: bigint, lang: string, name: string, provider: string]"
      ]
     },
     "execution_count": 65,
     "metadata": {},
     "output_type": "execute_result"
    }
   ],
   "source": [
    "df"
   ]
  },
  {
   "cell_type": "code",
   "execution_count": 66,
   "metadata": {},
   "outputs": [
    {
     "name": "stdout",
     "output_type": "stream",
     "text": [
      "+--------------------+--------------------+---+----+--------------------+--------------+\n",
      "|                 cat|                desc| id|lang|                name|      provider|\n",
      "+--------------------+--------------------+---+----+--------------------+--------------+\n",
      "|3/business_manage...|This course intro...|  4|  en|Accounting Cycle:...|Canvas Network|\n",
      "|              11/law|This online cours...|  5|  en|American Counter ...|Canvas Network|\n",
      "|5/computer_scienc...|This course is ta...|  6|  fr|Arithmétique: en ...|Canvas Network|\n",
      "|  14/social_sciences|We live in a digi...|  7|  en|Becoming a Dynami...|Canvas Network|\n",
      "|2/biology_life_sc...|This self-paced c...|  8|  en|           Bioethics|Canvas Network|\n",
      "|9/humanities|15/m...|This game-based c...|  9|  en|College Foundatio...|Canvas Network|\n",
      "|  14/social_sciences|What’s in your di...| 10|  en|Digital Literacies I|Canvas Network|\n",
      "|  14/social_sciences|The goal of the D...| 11|  en|Digital Literacie...|Canvas Network|\n",
      "|  14/social_sciences|Ready to explore ...| 12|  en|Digital Tools for...|Canvas Network|\n",
      "|  14/social_sciences|This self-paced c...| 13|  en|Discover Your Val...|Canvas Network|\n",
      "|  12/medicine_health|What is “interpro...| 14|  en|Enhancing Patient...|Canvas Network|\n",
      "|        16/languages|This course prese...| 15|  en|Ethics and Values...|Canvas Network|\n",
      "|         4/chemistry|Chemistry is an i...| 16|  en| Exploring Chemistry|Canvas Network|\n",
      "|8/engineering_tec...|Are you consideri...| 17|  en|Exploring Enginee...|Canvas Network|\n",
      "|   1/arts_music_film|Princess stories ...| 18|  en|Fairy Tales: Orig...|Canvas Network|\n",
      "|        9/humanities|This first instal...| 19|  en|First Peoples to ...|Canvas Network|\n",
      "|  14/social_sciences|This course exami...| 20|  en| Forums for a Future|Canvas Network|\n",
      "|        9/humanities|This course will ...| 21|  en|From the Gilded A...|Canvas Network|\n",
      "|8/engineering_tec...|The field of tech...| 22|  en|Fundamentals of S...|Canvas Network|\n",
      "|  14/social_sciences|Are you a Higher ...| 23|  en|Hybrid Courses: B...|Canvas Network|\n",
      "+--------------------+--------------------+---+----+--------------------+--------------+\n",
      "only showing top 20 rows\n",
      "\n"
     ]
    }
   ],
   "source": [
    "df.show()"
   ]
  },
  {
   "cell_type": "code",
   "execution_count": 67,
   "metadata": {},
   "outputs": [
    {
     "data": {
      "text/plain": [
       "DataFrame[count(1): bigint]"
      ]
     },
     "execution_count": 67,
     "metadata": {},
     "output_type": "execute_result"
    }
   ],
   "source": [
    "spark.sql(\"SELECT COUNT(*) FROM courses WHERE provider='Udacity'\")"
   ]
  },
  {
   "cell_type": "code",
   "execution_count": 68,
   "metadata": {},
   "outputs": [
    {
     "name": "stdout",
     "output_type": "stream",
     "text": [
      "+--------+\n",
      "|count(1)|\n",
      "+--------+\n",
      "|      89|\n",
      "+--------+\n",
      "\n"
     ]
    }
   ],
   "source": [
    "spark.sql(\"SELECT COUNT(*) FROM courses WHERE provider='Udacity'\").show()"
   ]
  },
  {
   "cell_type": "code",
   "execution_count": 69,
   "metadata": {
    "collapsed": true
   },
   "outputs": [],
   "source": [
    "result=spark.sql(\"SELECT COUNT(*) FROM courses WHERE provider='Udacity'\").collect()"
   ]
  },
  {
   "cell_type": "code",
   "execution_count": 70,
   "metadata": {},
   "outputs": [
    {
     "data": {
      "text/plain": [
       "[Row(count(1)=89)]"
      ]
     },
     "execution_count": 70,
     "metadata": {},
     "output_type": "execute_result"
    }
   ],
   "source": [
    "result"
   ]
  },
  {
   "cell_type": "code",
   "execution_count": 71,
   "metadata": {},
   "outputs": [
    {
     "data": {
      "text/plain": [
       "89"
      ]
     },
     "execution_count": 71,
     "metadata": {},
     "output_type": "execute_result"
    }
   ],
   "source": [
    "result[0][0]"
   ]
  },
  {
   "cell_type": "code",
   "execution_count": 72,
   "metadata": {
    "collapsed": true
   },
   "outputs": [],
   "source": [
    "result=spark.sql(\"SELECT COUNT(*) as UdacityCount FROM courses WHERE provider='Udacity'\").collect()"
   ]
  },
  {
   "cell_type": "code",
   "execution_count": 73,
   "metadata": {},
   "outputs": [
    {
     "data": {
      "text/plain": [
       "89"
      ]
     },
     "execution_count": 73,
     "metadata": {},
     "output_type": "execute_result"
    }
   ],
   "source": [
    "result[0].UdacityCount"
   ]
  },
  {
   "cell_type": "code",
   "execution_count": 74,
   "metadata": {},
   "outputs": [
    {
     "data": {
      "text/plain": [
       "[Row(count(1)=67)]"
      ]
     },
     "execution_count": 74,
     "metadata": {},
     "output_type": "execute_result"
    }
   ],
   "source": [
    "sqlCtx.sql(\"SELECT COUNT(*) FROM courses WHERE desc LIKE '%machine learning%'\").collect()"
   ]
  },
  {
   "cell_type": "code",
   "execution_count": 75,
   "metadata": {},
   "outputs": [
    {
     "data": {
      "text/plain": [
       "[Row(name='Introduction to Data Science'),\n",
       " Row(name='Linear and Integer Programming'),\n",
       " Row(name='Machine Learning'),\n",
       " Row(name='Coding the Matrix: Linear Algebra through Computer Science Applications'),\n",
       " Row(name='Machine Learning'),\n",
       " Row(name='Neural Networks for Machine Learning'),\n",
       " Row(name='Natural Language Processing'),\n",
       " Row(name='Natural Language Processing'),\n",
       " Row(name='Probabilistic Graphical Models'),\n",
       " Row(name='ELEC301x: Discrete Time Signals and Systems'),\n",
       " Row(name='CS188.1x: Artificial Intelligence'),\n",
       " Row(name='Big Data Analytics'),\n",
       " Row(name='Machine Learning'),\n",
       " Row(name='Prediction: Machine Learning and Statistics'),\n",
       " Row(name='Principles of Autonomy and Decision Making'),\n",
       " Row(name='Topics in Statistics: Statistical Learning Theory'),\n",
       " Row(name='Computational Biology: Genomes, Networks, Evolution'),\n",
       " Row(name='Introduction to Convex Optimization'),\n",
       " Row(name='Bioinformatics and Proteomics'),\n",
       " Row(name='Underactuated Robotics'),\n",
       " Row(name='Algorithms for Computer Animation'),\n",
       " Row(name='Advanced Natural Language Processing'),\n",
       " Row(name='Machine Learning'),\n",
       " Row(name='Computational Models of Discourse'),\n",
       " Row(name='Medical Decision Support (Spring 2003)'),\n",
       " Row(name='Out of Context: A Course on Computer Systems That Adapt To, and Learn From, Context'),\n",
       " Row(name='Intro to Artificial Intelligence. Learn the Fundamentals of AI'),\n",
       " Row(name='Machine Learning Techniques for Analysing Web Data'),\n",
       " Row(name='Data Organization - Learn Big Data Management'),\n",
       " Row(name=\"Hilary Mason: Advanced Machine Learning by O&'Reilly Media\"),\n",
       " Row(name='CS1156x: Learning From Data'),\n",
       " Row(name='Introduction to Machine Learning (CSC2515, Fall 2008)'),\n",
       " Row(name='Advanced Machine Learning (CSC2535, Spring 2013)'),\n",
       " Row(name='Discrete Inference and Learning in Artificial Vision'),\n",
       " Row(name='機器學習基石 (Machine Learning Foundations)'),\n",
       " Row(name='Philosophy and the Sciences'),\n",
       " Row(name='Monte Carlo Methods for Inference and Data Analysis'),\n",
       " Row(name='Practical Machine Learning'),\n",
       " Row(name='CVX101: Convex Optimization'),\n",
       " Row(name='StatLearning: Statistical Learning'),\n",
       " Row(name='6.00.2x: Introduction to Computational Thinking and Data Science'),\n",
       " Row(name='Machine Learning'),\n",
       " Row(name='ELEC1200.1x: A System View of Communications: From Signals to Packets (Part 1)'),\n",
       " Row(name='LINK5.10x: Data, Analytics and Learning'),\n",
       " Row(name='Process Mining: Data science in Action'),\n",
       " Row(name='Hilary Mason: Advanced Machine Learning'),\n",
       " Row(name='Hilary Mason: An Introduction to Machine Learning with Web Data'),\n",
       " Row(name='Just Enough Math'),\n",
       " Row(name='Data Just Right LiveLessons by Pearson'),\n",
       " Row(name='R Programming LiveLessons by Pearson'),\n",
       " Row(name='Cloud Computing Applications'),\n",
       " Row(name='Big Data Analytics for Healthcare'),\n",
       " Row(name='機器學習技法 (Machine Learning Techniques)'),\n",
       " Row(name='Intro to Machine Learning. Pattern Recognition for Fun and Profit'),\n",
       " Row(name='Big Data Science with the BD2K-LINCS Data Coordination and Integration Center'),\n",
       " Row(name='Discrete Time Signals and Systems'),\n",
       " Row(name='Scalable Machine Learning'),\n",
       " Row(name='Artificial Intelligence'),\n",
       " Row(name='Learning From Data'),\n",
       " Row(name='Data, Analytics and Learning'),\n",
       " Row(name='Машинное обучение'),\n",
       " Row(name='Big Data Hadoop MasterClass - Udemy'),\n",
       " Row(name='Building Interactive Graphs with ggplot2 and Shiny'),\n",
       " Row(name='Introduction To Data Science - Udemy'),\n",
       " Row(name='Introduction to Big Data & Hadoop - Udemy'),\n",
       " Row(name='Spring Security - Udemy'),\n",
       " Row(name='Machine Learning - Udemy')]"
      ]
     },
     "execution_count": 75,
     "metadata": {},
     "output_type": "execute_result"
    }
   ],
   "source": [
    "sqlCtx.sql(\"SELECT name FROM courses WHERE desc LIKE '%machine learning%'\").collect()"
   ]
  },
  {
   "cell_type": "code",
   "execution_count": 76,
   "metadata": {},
   "outputs": [
    {
     "data": {
      "text/plain": [
       "[Row(name='Introduction to Data Science'),\n",
       " Row(name='Linear and Integer Programming'),\n",
       " Row(name='Machine Learning'),\n",
       " Row(name='Coding the Matrix: Linear Algebra through Computer Science Applications'),\n",
       " Row(name='Machine Learning'),\n",
       " Row(name='Neural Networks for Machine Learning'),\n",
       " Row(name='Natural Language Processing'),\n",
       " Row(name='Natural Language Processing'),\n",
       " Row(name='Probabilistic Graphical Models'),\n",
       " Row(name='ELEC301x: Discrete Time Signals and Systems'),\n",
       " Row(name='CS188.1x: Artificial Intelligence'),\n",
       " Row(name='Big Data Analytics'),\n",
       " Row(name='Machine Learning'),\n",
       " Row(name='Prediction: Machine Learning and Statistics'),\n",
       " Row(name='Principles of Autonomy and Decision Making'),\n",
       " Row(name='Topics in Statistics: Statistical Learning Theory'),\n",
       " Row(name='Computational Biology: Genomes, Networks, Evolution'),\n",
       " Row(name='Introduction to Convex Optimization'),\n",
       " Row(name='Bioinformatics and Proteomics'),\n",
       " Row(name='Underactuated Robotics'),\n",
       " Row(name='Algorithms for Computer Animation'),\n",
       " Row(name='Advanced Natural Language Processing'),\n",
       " Row(name='Machine Learning'),\n",
       " Row(name='Computational Models of Discourse'),\n",
       " Row(name='Medical Decision Support (Spring 2003)'),\n",
       " Row(name='Out of Context: A Course on Computer Systems That Adapt To, and Learn From, Context'),\n",
       " Row(name='Intro to Artificial Intelligence. Learn the Fundamentals of AI'),\n",
       " Row(name='Machine Learning Techniques for Analysing Web Data'),\n",
       " Row(name='Data Organization - Learn Big Data Management'),\n",
       " Row(name=\"Hilary Mason: Advanced Machine Learning by O&'Reilly Media\"),\n",
       " Row(name='CS1156x: Learning From Data'),\n",
       " Row(name='Introduction to Machine Learning (CSC2515, Fall 2008)'),\n",
       " Row(name='Advanced Machine Learning (CSC2535, Spring 2013)'),\n",
       " Row(name='Discrete Inference and Learning in Artificial Vision'),\n",
       " Row(name='機器學習基石 (Machine Learning Foundations)'),\n",
       " Row(name='Philosophy and the Sciences'),\n",
       " Row(name='Monte Carlo Methods for Inference and Data Analysis'),\n",
       " Row(name='Practical Machine Learning'),\n",
       " Row(name='CVX101: Convex Optimization'),\n",
       " Row(name='StatLearning: Statistical Learning'),\n",
       " Row(name='6.00.2x: Introduction to Computational Thinking and Data Science'),\n",
       " Row(name='Machine Learning'),\n",
       " Row(name='ELEC1200.1x: A System View of Communications: From Signals to Packets (Part 1)'),\n",
       " Row(name='LINK5.10x: Data, Analytics and Learning'),\n",
       " Row(name='Process Mining: Data science in Action'),\n",
       " Row(name='Hilary Mason: Advanced Machine Learning'),\n",
       " Row(name='Hilary Mason: An Introduction to Machine Learning with Web Data'),\n",
       " Row(name='Just Enough Math'),\n",
       " Row(name='Data Just Right LiveLessons by Pearson'),\n",
       " Row(name='R Programming LiveLessons by Pearson'),\n",
       " Row(name='Cloud Computing Applications'),\n",
       " Row(name='Big Data Analytics for Healthcare'),\n",
       " Row(name='機器學習技法 (Machine Learning Techniques)'),\n",
       " Row(name='Intro to Machine Learning. Pattern Recognition for Fun and Profit'),\n",
       " Row(name='Big Data Science with the BD2K-LINCS Data Coordination and Integration Center'),\n",
       " Row(name='Discrete Time Signals and Systems'),\n",
       " Row(name='Scalable Machine Learning'),\n",
       " Row(name='Artificial Intelligence'),\n",
       " Row(name='Learning From Data'),\n",
       " Row(name='Data, Analytics and Learning'),\n",
       " Row(name='Машинное обучение'),\n",
       " Row(name='Big Data Hadoop MasterClass - Udemy'),\n",
       " Row(name='Building Interactive Graphs with ggplot2 and Shiny'),\n",
       " Row(name='Introduction To Data Science - Udemy'),\n",
       " Row(name='Introduction to Big Data & Hadoop - Udemy'),\n",
       " Row(name='Spring Security - Udemy'),\n",
       " Row(name='Machine Learning - Udemy')]"
      ]
     },
     "execution_count": 76,
     "metadata": {},
     "output_type": "execute_result"
    }
   ],
   "source": [
    "spark.sql(\"SELECT name FROM courses WHERE desc LIKE '%machine learning%'\").collect()"
   ]
  },
  {
   "cell_type": "code",
   "execution_count": 64,
   "metadata": {
    "collapsed": true
   },
   "outputs": [],
   "source": [
    "id_rdd = sc.parallelize(range(1,100)).map(lambda n: [n, \"Course %u\" % n])"
   ]
  },
  {
   "cell_type": "code",
   "execution_count": 65,
   "metadata": {},
   "outputs": [
    {
     "data": {
      "text/plain": [
       "[[1, 'Course 1'],\n",
       " [2, 'Course 2'],\n",
       " [3, 'Course 3'],\n",
       " [4, 'Course 4'],\n",
       " [5, 'Course 5']]"
      ]
     },
     "execution_count": 65,
     "metadata": {},
     "output_type": "execute_result"
    }
   ],
   "source": [
    "id_rdd.take(5)"
   ]
  },
  {
   "cell_type": "code",
   "execution_count": 66,
   "metadata": {
    "collapsed": true
   },
   "outputs": [],
   "source": [
    "df_rdd = spark.createDataFrame(id_rdd, [\"id\", \"name\"])"
   ]
  },
  {
   "cell_type": "code",
   "execution_count": 67,
   "metadata": {},
   "outputs": [
    {
     "data": {
      "text/plain": [
       "DataFrame[id: bigint, name: string]"
      ]
     },
     "execution_count": 67,
     "metadata": {},
     "output_type": "execute_result"
    }
   ],
   "source": [
    "df_rdd"
   ]
  },
  {
   "cell_type": "code",
   "execution_count": 68,
   "metadata": {
    "collapsed": true
   },
   "outputs": [],
   "source": [
    "df_rdd_2 = id_rdd.toDF([\"id\", \"name\"])"
   ]
  },
  {
   "cell_type": "code",
   "execution_count": 69,
   "metadata": {},
   "outputs": [
    {
     "data": {
      "text/plain": [
       "DataFrame[id: bigint, name: string]"
      ]
     },
     "execution_count": 69,
     "metadata": {},
     "output_type": "execute_result"
    }
   ],
   "source": [
    "df_rdd_2"
   ]
  },
  {
   "cell_type": "code",
   "execution_count": 70,
   "metadata": {},
   "outputs": [
    {
     "data": {
      "text/plain": [
       "DataFrame[id: bigint, name: string]"
      ]
     },
     "execution_count": 70,
     "metadata": {},
     "output_type": "execute_result"
    }
   ],
   "source": [
    "df_rdd"
   ]
  },
  {
   "cell_type": "code",
   "execution_count": 71,
   "metadata": {},
   "outputs": [
    {
     "name": "stdout",
     "output_type": "stream",
     "text": [
      "+---+---------+\n",
      "| id|     name|\n",
      "+---+---------+\n",
      "|  1| Course 1|\n",
      "|  2| Course 2|\n",
      "|  3| Course 3|\n",
      "|  4| Course 4|\n",
      "|  5| Course 5|\n",
      "|  6| Course 6|\n",
      "|  7| Course 7|\n",
      "|  8| Course 8|\n",
      "|  9| Course 9|\n",
      "| 10|Course 10|\n",
      "| 11|Course 11|\n",
      "| 12|Course 12|\n",
      "| 13|Course 13|\n",
      "| 14|Course 14|\n",
      "| 15|Course 15|\n",
      "| 16|Course 16|\n",
      "| 17|Course 17|\n",
      "| 18|Course 18|\n",
      "| 19|Course 19|\n",
      "| 20|Course 20|\n",
      "+---+---------+\n",
      "only showing top 20 rows\n",
      "\n"
     ]
    }
   ],
   "source": [
    "df_rdd.show()"
   ]
  },
  {
   "cell_type": "code",
   "execution_count": 85,
   "metadata": {
    "collapsed": true
   },
   "outputs": [],
   "source": [
    "df_rdd.registerTempTable(\"collections\")"
   ]
  },
  {
   "cell_type": "code",
   "execution_count": 86,
   "metadata": {
    "collapsed": true
   },
   "outputs": [],
   "source": [
    "res = spark.sql(\"SELECT * FROM courses INNER JOIN collections ON \\\n",
    "    courses.id=collections.id ORDER BY courses.id\")"
   ]
  },
  {
   "cell_type": "code",
   "execution_count": 87,
   "metadata": {},
   "outputs": [
    {
     "data": {
      "text/plain": [
       "DataFrame[cat: string, desc: string, id: bigint, lang: string, name: string, provider: string, id: bigint, name: string]"
      ]
     },
     "execution_count": 87,
     "metadata": {},
     "output_type": "execute_result"
    }
   ],
   "source": [
    "res"
   ]
  },
  {
   "cell_type": "code",
   "execution_count": 88,
   "metadata": {},
   "outputs": [
    {
     "name": "stdout",
     "output_type": "stream",
     "text": [
      "+--------------------+--------------------+---+----+--------------------+--------------+---+---------+\n",
      "|                 cat|                desc| id|lang|                name|      provider| id|     name|\n",
      "+--------------------+--------------------+---+----+--------------------+--------------+---+---------+\n",
      "|3/business_manage...|This course intro...|  4|  en|Accounting Cycle:...|Canvas Network|  4| Course 4|\n",
      "|              11/law|This online cours...|  5|  en|American Counter ...|Canvas Network|  5| Course 5|\n",
      "|5/computer_scienc...|This course is ta...|  6|  fr|Arithmétique: en ...|Canvas Network|  6| Course 6|\n",
      "|  14/social_sciences|We live in a digi...|  7|  en|Becoming a Dynami...|Canvas Network|  7| Course 7|\n",
      "|2/biology_life_sc...|This self-paced c...|  8|  en|           Bioethics|Canvas Network|  8| Course 8|\n",
      "|9/humanities|15/m...|This game-based c...|  9|  en|College Foundatio...|Canvas Network|  9| Course 9|\n",
      "|  14/social_sciences|What’s in your di...| 10|  en|Digital Literacies I|Canvas Network| 10|Course 10|\n",
      "|  14/social_sciences|The goal of the D...| 11|  en|Digital Literacie...|Canvas Network| 11|Course 11|\n",
      "|  14/social_sciences|Ready to explore ...| 12|  en|Digital Tools for...|Canvas Network| 12|Course 12|\n",
      "|  14/social_sciences|This self-paced c...| 13|  en|Discover Your Val...|Canvas Network| 13|Course 13|\n",
      "|  12/medicine_health|What is “interpro...| 14|  en|Enhancing Patient...|Canvas Network| 14|Course 14|\n",
      "|        16/languages|This course prese...| 15|  en|Ethics and Values...|Canvas Network| 15|Course 15|\n",
      "|         4/chemistry|Chemistry is an i...| 16|  en| Exploring Chemistry|Canvas Network| 16|Course 16|\n",
      "|8/engineering_tec...|Are you consideri...| 17|  en|Exploring Enginee...|Canvas Network| 17|Course 17|\n",
      "|   1/arts_music_film|Princess stories ...| 18|  en|Fairy Tales: Orig...|Canvas Network| 18|Course 18|\n",
      "|        9/humanities|This first instal...| 19|  en|First Peoples to ...|Canvas Network| 19|Course 19|\n",
      "|  14/social_sciences|This course exami...| 20|  en| Forums for a Future|Canvas Network| 20|Course 20|\n",
      "|        9/humanities|This course will ...| 21|  en|From the Gilded A...|Canvas Network| 21|Course 21|\n",
      "|8/engineering_tec...|The field of tech...| 22|  en|Fundamentals of S...|Canvas Network| 22|Course 22|\n",
      "|  14/social_sciences|Are you a Higher ...| 23|  en|Hybrid Courses: B...|Canvas Network| 23|Course 23|\n",
      "+--------------------+--------------------+---+----+--------------------+--------------+---+---------+\n",
      "only showing top 20 rows\n",
      "\n"
     ]
    }
   ],
   "source": [
    "res.show()"
   ]
  },
  {
   "cell_type": "code",
   "execution_count": 89,
   "metadata": {},
   "outputs": [
    {
     "data": {
      "text/plain": [
       "['cat', 'desc', 'id', 'lang', 'name', 'provider', 'id', 'name']"
      ]
     },
     "execution_count": 89,
     "metadata": {},
     "output_type": "execute_result"
    }
   ],
   "source": [
    "res.columns"
   ]
  },
  {
   "cell_type": "code",
   "execution_count": 90,
   "metadata": {},
   "outputs": [
    {
     "name": "stdout",
     "output_type": "stream",
     "text": [
      "+--------------------+--------------------+---+----+--------------------+--------------+---+---------+\n",
      "|                 cat|                desc| id|lang|                name|      provider| id|     name|\n",
      "+--------------------+--------------------+---+----+--------------------+--------------+---+---------+\n",
      "|3/business_manage...|This course intro...|  4|  en|Accounting Cycle:...|Canvas Network|  4| Course 4|\n",
      "|              11/law|This online cours...|  5|  en|American Counter ...|Canvas Network|  5| Course 5|\n",
      "|5/computer_scienc...|This course is ta...|  6|  fr|Arithmétique: en ...|Canvas Network|  6| Course 6|\n",
      "|  14/social_sciences|We live in a digi...|  7|  en|Becoming a Dynami...|Canvas Network|  7| Course 7|\n",
      "|2/biology_life_sc...|This self-paced c...|  8|  en|           Bioethics|Canvas Network|  8| Course 8|\n",
      "|9/humanities|15/m...|This game-based c...|  9|  en|College Foundatio...|Canvas Network|  9| Course 9|\n",
      "|  14/social_sciences|What’s in your di...| 10|  en|Digital Literacies I|Canvas Network| 10|Course 10|\n",
      "|  14/social_sciences|The goal of the D...| 11|  en|Digital Literacie...|Canvas Network| 11|Course 11|\n",
      "|  14/social_sciences|Ready to explore ...| 12|  en|Digital Tools for...|Canvas Network| 12|Course 12|\n",
      "|  14/social_sciences|This self-paced c...| 13|  en|Discover Your Val...|Canvas Network| 13|Course 13|\n",
      "|  12/medicine_health|What is “interpro...| 14|  en|Enhancing Patient...|Canvas Network| 14|Course 14|\n",
      "|        16/languages|This course prese...| 15|  en|Ethics and Values...|Canvas Network| 15|Course 15|\n",
      "|         4/chemistry|Chemistry is an i...| 16|  en| Exploring Chemistry|Canvas Network| 16|Course 16|\n",
      "|8/engineering_tec...|Are you consideri...| 17|  en|Exploring Enginee...|Canvas Network| 17|Course 17|\n",
      "|   1/arts_music_film|Princess stories ...| 18|  en|Fairy Tales: Orig...|Canvas Network| 18|Course 18|\n",
      "|        9/humanities|This first instal...| 19|  en|First Peoples to ...|Canvas Network| 19|Course 19|\n",
      "|  14/social_sciences|This course exami...| 20|  en| Forums for a Future|Canvas Network| 20|Course 20|\n",
      "|        9/humanities|This course will ...| 21|  en|From the Gilded A...|Canvas Network| 21|Course 21|\n",
      "|8/engineering_tec...|The field of tech...| 22|  en|Fundamentals of S...|Canvas Network| 22|Course 22|\n",
      "|  14/social_sciences|Are you a Higher ...| 23|  en|Hybrid Courses: B...|Canvas Network| 23|Course 23|\n",
      "+--------------------+--------------------+---+----+--------------------+--------------+---+---------+\n",
      "only showing top 20 rows\n",
      "\n"
     ]
    }
   ],
   "source": [
    "spark.sql(\"SELECT courses.*, collections.* FROM courses INNER JOIN collections ON \\\n",
    "           courses.id=collections.id ORDER BY courses.id\").drop(df.id).show()"
   ]
  },
  {
   "cell_type": "code",
   "execution_count": 91,
   "metadata": {},
   "outputs": [
    {
     "name": "stdout",
     "output_type": "stream",
     "text": [
      "+---+--------------------+---------+\n",
      "| id|           orig_name|     name|\n",
      "+---+--------------------+---------+\n",
      "|  4|Accounting Cycle:...| Course 4|\n",
      "|  5|American Counter ...| Course 5|\n",
      "|  6|Arithmétique: en ...| Course 6|\n",
      "|  7|Becoming a Dynami...| Course 7|\n",
      "|  8|           Bioethics| Course 8|\n",
      "|  9|College Foundatio...| Course 9|\n",
      "| 10|Digital Literacies I|Course 10|\n",
      "| 11|Digital Literacie...|Course 11|\n",
      "| 12|Digital Tools for...|Course 12|\n",
      "| 13|Discover Your Val...|Course 13|\n",
      "| 14|Enhancing Patient...|Course 14|\n",
      "| 15|Ethics and Values...|Course 15|\n",
      "| 16| Exploring Chemistry|Course 16|\n",
      "| 17|Exploring Enginee...|Course 17|\n",
      "| 18|Fairy Tales: Orig...|Course 18|\n",
      "| 19|First Peoples to ...|Course 19|\n",
      "| 20| Forums for a Future|Course 20|\n",
      "| 21|From the Gilded A...|Course 21|\n",
      "| 22|Fundamentals of S...|Course 22|\n",
      "| 23|Hybrid Courses: B...|Course 23|\n",
      "+---+--------------------+---------+\n",
      "only showing top 20 rows\n",
      "\n"
     ]
    }
   ],
   "source": [
    "spark.sql(\"SELECT * FROM courses INNER JOIN collections ON courses.id=collections.id ORDER BY courses.id\") \\\n",
    "  .select(df.id,df.name.alias(\"orig_name\"),df_rdd.name).show()"
   ]
  },
  {
   "cell_type": "code",
   "execution_count": 92,
   "metadata": {
    "collapsed": true
   },
   "outputs": [],
   "source": [
    "from pyspark.sql.types import StringType\n",
    "spark.udf.register(\"cfunc\", lambda id,name: name + \"_\" + str(id**2), StringType())"
   ]
  },
  {
   "cell_type": "code",
   "execution_count": 93,
   "metadata": {},
   "outputs": [
    {
     "name": "stdout",
     "output_type": "stream",
     "text": [
      "+---+---------+---------------+\n",
      "| id|     name|cfunc(id, name)|\n",
      "+---+---------+---------------+\n",
      "|  1| Course 1|     Course 1_1|\n",
      "|  2| Course 2|     Course 2_4|\n",
      "|  3| Course 3|     Course 3_9|\n",
      "|  4| Course 4|    Course 4_16|\n",
      "|  5| Course 5|    Course 5_25|\n",
      "|  6| Course 6|    Course 6_36|\n",
      "|  7| Course 7|    Course 7_49|\n",
      "|  8| Course 8|    Course 8_64|\n",
      "|  9| Course 9|    Course 9_81|\n",
      "| 10|Course 10|  Course 10_100|\n",
      "| 11|Course 11|  Course 11_121|\n",
      "| 12|Course 12|  Course 12_144|\n",
      "| 13|Course 13|  Course 13_169|\n",
      "| 14|Course 14|  Course 14_196|\n",
      "| 15|Course 15|  Course 15_225|\n",
      "| 16|Course 16|  Course 16_256|\n",
      "| 17|Course 17|  Course 17_289|\n",
      "| 18|Course 18|  Course 18_324|\n",
      "| 19|Course 19|  Course 19_361|\n",
      "| 20|Course 20|  Course 20_400|\n",
      "+---+---------+---------------+\n",
      "only showing top 20 rows\n",
      "\n"
     ]
    }
   ],
   "source": [
    "spark.sql(\"SELECT id,name,cfunc(id,name) FROM collections\").show()"
   ]
  },
  {
   "cell_type": "code",
   "execution_count": 94,
   "metadata": {},
   "outputs": [
    {
     "name": "stdout",
     "output_type": "stream",
     "text": [
      "+---+---------+---------------+\n",
      "| id|     name|cfunc(id, name)|\n",
      "+---+---------+---------------+\n",
      "| 13|Course 13|  Course 13_169|\n",
      "| 14|Course 14|  Course 14_196|\n",
      "| 15|Course 15|  Course 15_225|\n",
      "| 16|Course 16|  Course 16_256|\n",
      "| 17|Course 17|  Course 17_289|\n",
      "| 18|Course 18|  Course 18_324|\n",
      "| 19|Course 19|  Course 19_361|\n",
      "+---+---------+---------------+\n",
      "\n"
     ]
    }
   ],
   "source": [
    "spark.sql(\"SELECT id,name,cfunc(id,name) FROM collections WHERE id BETWEEN 13 AND 19\").show()"
   ]
  },
  {
   "cell_type": "code",
   "execution_count": null,
   "metadata": {
    "collapsed": true
   },
   "outputs": [],
   "source": []
  },
  {
   "cell_type": "markdown",
   "metadata": {},
   "source": [
    "## Pandas and plots"
   ]
  },
  {
   "cell_type": "code",
   "execution_count": 95,
   "metadata": {
    "collapsed": true
   },
   "outputs": [],
   "source": [
    "pddf = df.toPandas()"
   ]
  },
  {
   "cell_type": "code",
   "execution_count": 96,
   "metadata": {
    "collapsed": true
   },
   "outputs": [],
   "source": [
    "pddf['year'] = 1900"
   ]
  },
  {
   "cell_type": "code",
   "execution_count": 97,
   "metadata": {},
   "outputs": [
    {
     "data": {
      "text/html": [
       "<div>\n",
       "<style>\n",
       "    .dataframe thead tr:only-child th {\n",
       "        text-align: right;\n",
       "    }\n",
       "\n",
       "    .dataframe thead th {\n",
       "        text-align: left;\n",
       "    }\n",
       "\n",
       "    .dataframe tbody tr th {\n",
       "        vertical-align: top;\n",
       "    }\n",
       "</style>\n",
       "<table border=\"1\" class=\"dataframe\">\n",
       "  <thead>\n",
       "    <tr style=\"text-align: right;\">\n",
       "      <th></th>\n",
       "      <th>cat</th>\n",
       "      <th>desc</th>\n",
       "      <th>id</th>\n",
       "      <th>lang</th>\n",
       "      <th>name</th>\n",
       "      <th>provider</th>\n",
       "      <th>year</th>\n",
       "    </tr>\n",
       "  </thead>\n",
       "  <tbody>\n",
       "    <tr>\n",
       "      <th>0</th>\n",
       "      <td>3/business_management|6/economics_finance</td>\n",
       "      <td>This course introduces the basic financial sta...</td>\n",
       "      <td>4</td>\n",
       "      <td>en</td>\n",
       "      <td>Accounting Cycle: The Foundation of Business M...</td>\n",
       "      <td>Canvas Network</td>\n",
       "      <td>1900</td>\n",
       "    </tr>\n",
       "    <tr>\n",
       "      <th>1</th>\n",
       "      <td>11/law</td>\n",
       "      <td>This online course will introduce you to Ameri...</td>\n",
       "      <td>5</td>\n",
       "      <td>en</td>\n",
       "      <td>American Counter Terrorism Law</td>\n",
       "      <td>Canvas Network</td>\n",
       "      <td>1900</td>\n",
       "    </tr>\n",
       "    <tr>\n",
       "      <th>2</th>\n",
       "      <td>5/computer_science|15/mathematics_statistics_a...</td>\n",
       "      <td>This course is taught in French Vous voulez co...</td>\n",
       "      <td>6</td>\n",
       "      <td>fr</td>\n",
       "      <td>Arithmétique: en route pour la cryptographie</td>\n",
       "      <td>Canvas Network</td>\n",
       "      <td>1900</td>\n",
       "    </tr>\n",
       "    <tr>\n",
       "      <th>3</th>\n",
       "      <td>14/social_sciences</td>\n",
       "      <td>We live in a digitally connected world. The wa...</td>\n",
       "      <td>7</td>\n",
       "      <td>en</td>\n",
       "      <td>Becoming a Dynamic Educator</td>\n",
       "      <td>Canvas Network</td>\n",
       "      <td>1900</td>\n",
       "    </tr>\n",
       "    <tr>\n",
       "      <th>4</th>\n",
       "      <td>2/biology_life_sciences</td>\n",
       "      <td>This self-paced course is designed to show tha...</td>\n",
       "      <td>8</td>\n",
       "      <td>en</td>\n",
       "      <td>Bioethics</td>\n",
       "      <td>Canvas Network</td>\n",
       "      <td>1900</td>\n",
       "    </tr>\n",
       "    <tr>\n",
       "      <th>5</th>\n",
       "      <td>9/humanities|15/mathematics_statistics_and_dat...</td>\n",
       "      <td>This game-based course provides prospective st...</td>\n",
       "      <td>9</td>\n",
       "      <td>en</td>\n",
       "      <td>College Foundations: Reading, Writing, and Math</td>\n",
       "      <td>Canvas Network</td>\n",
       "      <td>1900</td>\n",
       "    </tr>\n",
       "    <tr>\n",
       "      <th>6</th>\n",
       "      <td>14/social_sciences</td>\n",
       "      <td>What’s in your digital teaching toolbox? Do yo...</td>\n",
       "      <td>10</td>\n",
       "      <td>en</td>\n",
       "      <td>Digital Literacies I</td>\n",
       "      <td>Canvas Network</td>\n",
       "      <td>1900</td>\n",
       "    </tr>\n",
       "    <tr>\n",
       "      <th>7</th>\n",
       "      <td>14/social_sciences</td>\n",
       "      <td>The goal of the Digital Literacy 2 course is t...</td>\n",
       "      <td>11</td>\n",
       "      <td>en</td>\n",
       "      <td>Digital Literacies II</td>\n",
       "      <td>Canvas Network</td>\n",
       "      <td>1900</td>\n",
       "    </tr>\n",
       "    <tr>\n",
       "      <th>8</th>\n",
       "      <td>14/social_sciences</td>\n",
       "      <td>Ready to explore Web-based tools to ignite stu...</td>\n",
       "      <td>12</td>\n",
       "      <td>en</td>\n",
       "      <td>Digital Tools for the K-12 Educator</td>\n",
       "      <td>Canvas Network</td>\n",
       "      <td>1900</td>\n",
       "    </tr>\n",
       "    <tr>\n",
       "      <th>9</th>\n",
       "      <td>14/social_sciences</td>\n",
       "      <td>This self-paced course provides participants w...</td>\n",
       "      <td>13</td>\n",
       "      <td>en</td>\n",
       "      <td>Discover Your Value: Turning Experience into C...</td>\n",
       "      <td>Canvas Network</td>\n",
       "      <td>1900</td>\n",
       "    </tr>\n",
       "    <tr>\n",
       "      <th>10</th>\n",
       "      <td>12/medicine_health</td>\n",
       "      <td>What is “interprofessional collaborative pract...</td>\n",
       "      <td>14</td>\n",
       "      <td>en</td>\n",
       "      <td>Enhancing Patient Safety through Interprofessi...</td>\n",
       "      <td>Canvas Network</td>\n",
       "      <td>1900</td>\n",
       "    </tr>\n",
       "    <tr>\n",
       "      <th>11</th>\n",
       "      <td>16/languages</td>\n",
       "      <td>This course presents the academic foundations ...</td>\n",
       "      <td>15</td>\n",
       "      <td>en</td>\n",
       "      <td>Ethics and Values in a Multicultural World</td>\n",
       "      <td>Canvas Network</td>\n",
       "      <td>1900</td>\n",
       "    </tr>\n",
       "    <tr>\n",
       "      <th>12</th>\n",
       "      <td>4/chemistry</td>\n",
       "      <td>Chemistry is an integral part of our lives and...</td>\n",
       "      <td>16</td>\n",
       "      <td>en</td>\n",
       "      <td>Exploring Chemistry</td>\n",
       "      <td>Canvas Network</td>\n",
       "      <td>1900</td>\n",
       "    </tr>\n",
       "    <tr>\n",
       "      <th>13</th>\n",
       "      <td>8/engineering_technology</td>\n",
       "      <td>Are you considering a career in engineering? A...</td>\n",
       "      <td>17</td>\n",
       "      <td>en</td>\n",
       "      <td>Exploring Engineering</td>\n",
       "      <td>Canvas Network</td>\n",
       "      <td>1900</td>\n",
       "    </tr>\n",
       "    <tr>\n",
       "      <th>14</th>\n",
       "      <td>1/arts_music_film</td>\n",
       "      <td>Princess stories have been popular for centuri...</td>\n",
       "      <td>18</td>\n",
       "      <td>en</td>\n",
       "      <td>Fairy Tales: Origins and Evolution of Princess...</td>\n",
       "      <td>Canvas Network</td>\n",
       "      <td>1900</td>\n",
       "    </tr>\n",
       "    <tr>\n",
       "      <th>15</th>\n",
       "      <td>9/humanities</td>\n",
       "      <td>This first installment of a four-part series i...</td>\n",
       "      <td>19</td>\n",
       "      <td>en</td>\n",
       "      <td>First Peoples to the Early Republic: Born in C...</td>\n",
       "      <td>Canvas Network</td>\n",
       "      <td>1900</td>\n",
       "    </tr>\n",
       "    <tr>\n",
       "      <th>16</th>\n",
       "      <td>14/social_sciences</td>\n",
       "      <td>This course examines the political (world orde...</td>\n",
       "      <td>20</td>\n",
       "      <td>en</td>\n",
       "      <td>Forums for a Future</td>\n",
       "      <td>Canvas Network</td>\n",
       "      <td>1900</td>\n",
       "    </tr>\n",
       "    <tr>\n",
       "      <th>17</th>\n",
       "      <td>9/humanities</td>\n",
       "      <td>This course will explore government policies d...</td>\n",
       "      <td>21</td>\n",
       "      <td>en</td>\n",
       "      <td>From the Gilded Age to the Roaring Twenties:  ...</td>\n",
       "      <td>Canvas Network</td>\n",
       "      <td>1900</td>\n",
       "    </tr>\n",
       "    <tr>\n",
       "      <th>18</th>\n",
       "      <td>8/engineering_technology</td>\n",
       "      <td>The field of technical writing has come a long...</td>\n",
       "      <td>22</td>\n",
       "      <td>en</td>\n",
       "      <td>Fundamentals of Structured Writing for Technic...</td>\n",
       "      <td>Canvas Network</td>\n",
       "      <td>1900</td>\n",
       "    </tr>\n",
       "    <tr>\n",
       "      <th>19</th>\n",
       "      <td>14/social_sciences</td>\n",
       "      <td>Are you a Higher Ed instructor or K-12 educato...</td>\n",
       "      <td>23</td>\n",
       "      <td>en</td>\n",
       "      <td>Hybrid Courses: Best of Both Worlds</td>\n",
       "      <td>Canvas Network</td>\n",
       "      <td>1900</td>\n",
       "    </tr>\n",
       "    <tr>\n",
       "      <th>20</th>\n",
       "      <td>12/medicine_health</td>\n",
       "      <td>This course will explore the different dimensi...</td>\n",
       "      <td>24</td>\n",
       "      <td>en</td>\n",
       "      <td>International Health Systems: Incorporating Su...</td>\n",
       "      <td>Canvas Network</td>\n",
       "      <td>1900</td>\n",
       "    </tr>\n",
       "    <tr>\n",
       "      <th>21</th>\n",
       "      <td>6/economics_finance</td>\n",
       "      <td>Introduction to Applied Investing is intended ...</td>\n",
       "      <td>25</td>\n",
       "      <td>en</td>\n",
       "      <td>Introduction to Applied Investing</td>\n",
       "      <td>Canvas Network</td>\n",
       "      <td>1900</td>\n",
       "    </tr>\n",
       "    <tr>\n",
       "      <th>22</th>\n",
       "      <td>3/business_management</td>\n",
       "      <td>Effective communication skills are recognized ...</td>\n",
       "      <td>26</td>\n",
       "      <td>en</td>\n",
       "      <td>Introduction to Business Communication</td>\n",
       "      <td>Canvas Network</td>\n",
       "      <td>1900</td>\n",
       "    </tr>\n",
       "    <tr>\n",
       "      <th>23</th>\n",
       "      <td>12/medicine_health</td>\n",
       "      <td>Elements of Pain is a five-week self-directed ...</td>\n",
       "      <td>27</td>\n",
       "      <td>en</td>\n",
       "      <td>Introduction to Elements of Pain</td>\n",
       "      <td>Canvas Network</td>\n",
       "      <td>1900</td>\n",
       "    </tr>\n",
       "    <tr>\n",
       "      <th>24</th>\n",
       "      <td>16/languages</td>\n",
       "      <td>This seven-and-a-half week online course will ...</td>\n",
       "      <td>28</td>\n",
       "      <td>en</td>\n",
       "      <td>Introduction to Writing: Science Fiction and F...</td>\n",
       "      <td>Canvas Network</td>\n",
       "      <td>1900</td>\n",
       "    </tr>\n",
       "    <tr>\n",
       "      <th>25</th>\n",
       "      <td>11/law</td>\n",
       "      <td>This six-week course is designed to help the c...</td>\n",
       "      <td>29</td>\n",
       "      <td>en</td>\n",
       "      <td>Investigative Concepts: FBI Major Case #203 \"P...</td>\n",
       "      <td>Canvas Network</td>\n",
       "      <td>1900</td>\n",
       "    </tr>\n",
       "    <tr>\n",
       "      <th>26</th>\n",
       "      <td>3/business_management</td>\n",
       "      <td>Great leaders are made, not born. Whether you’...</td>\n",
       "      <td>30</td>\n",
       "      <td>en</td>\n",
       "      <td>Leadership for Real</td>\n",
       "      <td>Canvas Network</td>\n",
       "      <td>1900</td>\n",
       "    </tr>\n",
       "    <tr>\n",
       "      <th>27</th>\n",
       "      <td>14/social_sciences</td>\n",
       "      <td>Why do so many schools use letter grades? Wher...</td>\n",
       "      <td>31</td>\n",
       "      <td>en</td>\n",
       "      <td>Learning Beyond Letter Grades</td>\n",
       "      <td>Canvas Network</td>\n",
       "      <td>1900</td>\n",
       "    </tr>\n",
       "    <tr>\n",
       "      <th>28</th>\n",
       "      <td>3/business_management</td>\n",
       "      <td>This course provides an introduction to the co...</td>\n",
       "      <td>32</td>\n",
       "      <td>en</td>\n",
       "      <td>Project Management for Business Professionals</td>\n",
       "      <td>Canvas Network</td>\n",
       "      <td>1900</td>\n",
       "    </tr>\n",
       "    <tr>\n",
       "      <th>29</th>\n",
       "      <td>14/social_sciences</td>\n",
       "      <td>This course covers the major legal issues faci...</td>\n",
       "      <td>33</td>\n",
       "      <td>en</td>\n",
       "      <td>Risk Management in Higher Education: Student I...</td>\n",
       "      <td>Canvas Network</td>\n",
       "      <td>1900</td>\n",
       "    </tr>\n",
       "    <tr>\n",
       "      <th>...</th>\n",
       "      <td>...</td>\n",
       "      <td>...</td>\n",
       "      <td>...</td>\n",
       "      <td>...</td>\n",
       "      <td>...</td>\n",
       "      <td>...</td>\n",
       "      <td>...</td>\n",
       "    </tr>\n",
       "    <tr>\n",
       "      <th>28123</th>\n",
       "      <td>9/humanities</td>\n",
       "      <td>There are millions of beginner guitar courses...</td>\n",
       "      <td>28288</td>\n",
       "      <td>en</td>\n",
       "      <td>The Best Beginner Guitar Guide - Udemy</td>\n",
       "      <td>Udemy</td>\n",
       "      <td>1900</td>\n",
       "    </tr>\n",
       "    <tr>\n",
       "      <th>28124</th>\n",
       "      <td></td>\n",
       "      <td>Improve your creative writing; create, polish...</td>\n",
       "      <td>28289</td>\n",
       "      <td>en</td>\n",
       "      <td>Write great short stories: learn from a prizew...</td>\n",
       "      <td>Udemy</td>\n",
       "      <td>1900</td>\n",
       "    </tr>\n",
       "    <tr>\n",
       "      <th>28125</th>\n",
       "      <td></td>\n",
       "      <td>Курс знакомит слушателей со средой разработки ...</td>\n",
       "      <td>28290</td>\n",
       "      <td>ru</td>\n",
       "      <td>Разработка игр на Unity</td>\n",
       "      <td>Intuit</td>\n",
       "      <td>1900</td>\n",
       "    </tr>\n",
       "    <tr>\n",
       "      <th>28126</th>\n",
       "      <td>3/business_management</td>\n",
       "      <td>How to Turn Your Passions &amp;amp; Interests int...</td>\n",
       "      <td>28291</td>\n",
       "      <td>en</td>\n",
       "      <td>Create Your Online Business: The Absolute Begi...</td>\n",
       "      <td>Udemy</td>\n",
       "      <td>1900</td>\n",
       "    </tr>\n",
       "    <tr>\n",
       "      <th>28127</th>\n",
       "      <td>1/arts_music_film</td>\n",
       "      <td>Learn AutoCAD and get a better job or a promo...</td>\n",
       "      <td>28292</td>\n",
       "      <td>en</td>\n",
       "      <td>Learn AutoCAD From Scratch: Make Your Own Plan...</td>\n",
       "      <td>Udemy</td>\n",
       "      <td>1900</td>\n",
       "    </tr>\n",
       "    <tr>\n",
       "      <th>28128</th>\n",
       "      <td></td>\n",
       "      <td>Tienes una idea para un producto, pero ¿sabes ...</td>\n",
       "      <td>28293</td>\n",
       "      <td>es</td>\n",
       "      <td>Entrepreneurship 101: ¿Quién es tu cliente?</td>\n",
       "      <td>edX</td>\n",
       "      <td>1900</td>\n",
       "    </tr>\n",
       "    <tr>\n",
       "      <th>28129</th>\n",
       "      <td></td>\n",
       "      <td>Learn all you need to know about the Global Fr...</td>\n",
       "      <td>28294</td>\n",
       "      <td>en</td>\n",
       "      <td>Welcome to Global Freshman Academy</td>\n",
       "      <td>edX</td>\n",
       "      <td>1900</td>\n",
       "    </tr>\n",
       "    <tr>\n",
       "      <th>28130</th>\n",
       "      <td>5/computer_science</td>\n",
       "      <td>A fun and creative introduction to computer sc...</td>\n",
       "      <td>28295</td>\n",
       "      <td>en</td>\n",
       "      <td>MyCS: Computer Science for Beginners</td>\n",
       "      <td>edX</td>\n",
       "      <td>1900</td>\n",
       "    </tr>\n",
       "    <tr>\n",
       "      <th>28131</th>\n",
       "      <td>5/computer_science</td>\n",
       "      <td>Learn to build real-world cloud solutions from...</td>\n",
       "      <td>28296</td>\n",
       "      <td>en</td>\n",
       "      <td>Building Cloud Apps with Microsoft Azure – Part 2</td>\n",
       "      <td>edX</td>\n",
       "      <td>1900</td>\n",
       "    </tr>\n",
       "    <tr>\n",
       "      <th>28132</th>\n",
       "      <td></td>\n",
       "      <td>This course introduces the complex, but critic...</td>\n",
       "      <td>28297</td>\n",
       "      <td>en</td>\n",
       "      <td>Sustainability, Resilience, and Society</td>\n",
       "      <td>edX</td>\n",
       "      <td>1900</td>\n",
       "    </tr>\n",
       "    <tr>\n",
       "      <th>28133</th>\n",
       "      <td>9/humanities</td>\n",
       "      <td>Analyze globalization using evidence-based met...</td>\n",
       "      <td>28298</td>\n",
       "      <td>en</td>\n",
       "      <td>Global Markets and Personal Impacts</td>\n",
       "      <td>edX</td>\n",
       "      <td>1900</td>\n",
       "    </tr>\n",
       "    <tr>\n",
       "      <th>28134</th>\n",
       "      <td>5/computer_science</td>\n",
       "      <td>A fun, fast-paced introduction to solving inte...</td>\n",
       "      <td>28299</td>\n",
       "      <td>en</td>\n",
       "      <td>CS For All: Introduction to Computer Science a...</td>\n",
       "      <td>edX</td>\n",
       "      <td>1900</td>\n",
       "    </tr>\n",
       "    <tr>\n",
       "      <th>28135</th>\n",
       "      <td>6/economics_finance</td>\n",
       "      <td>Un cours sur les comptes macroéconomiques, leu...</td>\n",
       "      <td>28300</td>\n",
       "      <td>fr</td>\n",
       "      <td>Programmation et Politiques Financières, Premi...</td>\n",
       "      <td>edX</td>\n",
       "      <td>1900</td>\n",
       "    </tr>\n",
       "    <tr>\n",
       "      <th>28136</th>\n",
       "      <td>5/computer_science</td>\n",
       "      <td>Learn to build real-world cloud solutions from...</td>\n",
       "      <td>28301</td>\n",
       "      <td>en</td>\n",
       "      <td>Building Cloud Apps with Microsoft Azure – Part 3</td>\n",
       "      <td>edX</td>\n",
       "      <td>1900</td>\n",
       "    </tr>\n",
       "    <tr>\n",
       "      <th>28137</th>\n",
       "      <td></td>\n",
       "      <td>Instructors from the worlds of research and pr...</td>\n",
       "      <td>28302</td>\n",
       "      <td>en</td>\n",
       "      <td>Teaching With Technology and Inquiry: An Open ...</td>\n",
       "      <td>edX</td>\n",
       "      <td>1900</td>\n",
       "    </tr>\n",
       "    <tr>\n",
       "      <th>28138</th>\n",
       "      <td></td>\n",
       "      <td>Take the first step towards learning Mandarin ...</td>\n",
       "      <td>28303</td>\n",
       "      <td>en</td>\n",
       "      <td>Chinese Language: Learn Basic Mandarin</td>\n",
       "      <td>edX</td>\n",
       "      <td>1900</td>\n",
       "    </tr>\n",
       "    <tr>\n",
       "      <th>28139</th>\n",
       "      <td>8/engineering_technology</td>\n",
       "      <td>Design your own silicon photonics chip. The fi...</td>\n",
       "      <td>28304</td>\n",
       "      <td>en</td>\n",
       "      <td>Silicon Photonics Design, Fabrication and Data...</td>\n",
       "      <td>edX</td>\n",
       "      <td>1900</td>\n",
       "    </tr>\n",
       "    <tr>\n",
       "      <th>28140</th>\n",
       "      <td>6/economics_finance</td>\n",
       "      <td>Comprender los retos y oportunidades de la exp...</td>\n",
       "      <td>28305</td>\n",
       "      <td>es</td>\n",
       "      <td>Desarrollo Urbano y Vivienda | Urbanization in...</td>\n",
       "      <td>edX</td>\n",
       "      <td>1900</td>\n",
       "    </tr>\n",
       "    <tr>\n",
       "      <th>28141</th>\n",
       "      <td>12/medicine_health</td>\n",
       "      <td>Introduction to detection, measurement, chemis...</td>\n",
       "      <td>28306</td>\n",
       "      <td>en</td>\n",
       "      <td>Effects of Radiation: An Introduction to Radia...</td>\n",
       "      <td>edX</td>\n",
       "      <td>1900</td>\n",
       "    </tr>\n",
       "    <tr>\n",
       "      <th>28142</th>\n",
       "      <td></td>\n",
       "      <td>Learn from a renowned innovation expert how to...</td>\n",
       "      <td>28307</td>\n",
       "      <td>en</td>\n",
       "      <td>Innovation Generation: How to Be Creative</td>\n",
       "      <td>edX</td>\n",
       "      <td>1900</td>\n",
       "    </tr>\n",
       "    <tr>\n",
       "      <th>28143</th>\n",
       "      <td></td>\n",
       "      <td>Aprende mejores prácticas de gestión de proyec...</td>\n",
       "      <td>28308</td>\n",
       "      <td>es</td>\n",
       "      <td>Gestión de Proyectos de Desarrollo | Project M...</td>\n",
       "      <td>edX</td>\n",
       "      <td>1900</td>\n",
       "    </tr>\n",
       "    <tr>\n",
       "      <th>28144</th>\n",
       "      <td></td>\n",
       "      <td>Explore the exciting world of modern solar sys...</td>\n",
       "      <td>28309</td>\n",
       "      <td>en</td>\n",
       "      <td>Introduction to Solar Systems Astronomy</td>\n",
       "      <td>edX</td>\n",
       "      <td>1900</td>\n",
       "    </tr>\n",
       "    <tr>\n",
       "      <th>28145</th>\n",
       "      <td></td>\n",
       "      <td>Mao Zedong founded the People's Republic of Ch...</td>\n",
       "      <td>28310</td>\n",
       "      <td>en</td>\n",
       "      <td>Introduction to Mao Zedong Thought 毛泽东思想概论</td>\n",
       "      <td>edX</td>\n",
       "      <td>1900</td>\n",
       "    </tr>\n",
       "    <tr>\n",
       "      <th>28146</th>\n",
       "      <td></td>\n",
       "      <td>Examine Medieval scrolls in detail, and gain a...</td>\n",
       "      <td>28311</td>\n",
       "      <td>en</td>\n",
       "      <td>Scrolls in the Age of the Book</td>\n",
       "      <td>edX</td>\n",
       "      <td>1900</td>\n",
       "    </tr>\n",
       "    <tr>\n",
       "      <th>28147</th>\n",
       "      <td></td>\n",
       "      <td>Learn about the origins and development of Wes...</td>\n",
       "      <td>28312</td>\n",
       "      <td>en</td>\n",
       "      <td>Western Civilization: Ancient and Medieval Europe</td>\n",
       "      <td>edX</td>\n",
       "      <td>1900</td>\n",
       "    </tr>\n",
       "    <tr>\n",
       "      <th>28148</th>\n",
       "      <td>2/biology_life_sciences</td>\n",
       "      <td>Explore the scientific evidence for human evol...</td>\n",
       "      <td>28313</td>\n",
       "      <td>en</td>\n",
       "      <td>Human Origins</td>\n",
       "      <td>edX</td>\n",
       "      <td>1900</td>\n",
       "    </tr>\n",
       "    <tr>\n",
       "      <th>28149</th>\n",
       "      <td></td>\n",
       "      <td>Examine the recent shift in the concept of cor...</td>\n",
       "      <td>28314</td>\n",
       "      <td>en</td>\n",
       "      <td>Legal Risk Management Strategy for Multination...</td>\n",
       "      <td>edX</td>\n",
       "      <td>1900</td>\n",
       "    </tr>\n",
       "    <tr>\n",
       "      <th>28150</th>\n",
       "      <td></td>\n",
       "      <td>China’s past, present, and future: through his...</td>\n",
       "      <td>28315</td>\n",
       "      <td>en</td>\n",
       "      <td>China (Part 1): The Political and Intellectual...</td>\n",
       "      <td>edX</td>\n",
       "      <td>1900</td>\n",
       "    </tr>\n",
       "    <tr>\n",
       "      <th>28151</th>\n",
       "      <td></td>\n",
       "      <td>¿Que puedes hacer por tu cliente? No preguntes...</td>\n",
       "      <td>28316</td>\n",
       "      <td>es</td>\n",
       "      <td>Entrepreneurship 102: ¿Que puedes hacer por tu...</td>\n",
       "      <td>edX</td>\n",
       "      <td>1900</td>\n",
       "    </tr>\n",
       "    <tr>\n",
       "      <th>28152</th>\n",
       "      <td>2/biology_life_sciences|12/medicine_health</td>\n",
       "      <td>Explore the secret of life through the basics ...</td>\n",
       "      <td>28317</td>\n",
       "      <td>en</td>\n",
       "      <td>Introduction to Biology- The Secret of Life</td>\n",
       "      <td>edX</td>\n",
       "      <td>1900</td>\n",
       "    </tr>\n",
       "  </tbody>\n",
       "</table>\n",
       "<p>28153 rows × 7 columns</p>\n",
       "</div>"
      ],
      "text/plain": [
       "                                                     cat  \\\n",
       "0              3/business_management|6/economics_finance   \n",
       "1                                                 11/law   \n",
       "2      5/computer_science|15/mathematics_statistics_a...   \n",
       "3                                     14/social_sciences   \n",
       "4                                2/biology_life_sciences   \n",
       "5      9/humanities|15/mathematics_statistics_and_dat...   \n",
       "6                                     14/social_sciences   \n",
       "7                                     14/social_sciences   \n",
       "8                                     14/social_sciences   \n",
       "9                                     14/social_sciences   \n",
       "10                                    12/medicine_health   \n",
       "11                                          16/languages   \n",
       "12                                           4/chemistry   \n",
       "13                              8/engineering_technology   \n",
       "14                                     1/arts_music_film   \n",
       "15                                          9/humanities   \n",
       "16                                    14/social_sciences   \n",
       "17                                          9/humanities   \n",
       "18                              8/engineering_technology   \n",
       "19                                    14/social_sciences   \n",
       "20                                    12/medicine_health   \n",
       "21                                   6/economics_finance   \n",
       "22                                 3/business_management   \n",
       "23                                    12/medicine_health   \n",
       "24                                          16/languages   \n",
       "25                                                11/law   \n",
       "26                                 3/business_management   \n",
       "27                                    14/social_sciences   \n",
       "28                                 3/business_management   \n",
       "29                                    14/social_sciences   \n",
       "...                                                  ...   \n",
       "28123                                       9/humanities   \n",
       "28124                                                      \n",
       "28125                                                      \n",
       "28126                              3/business_management   \n",
       "28127                                  1/arts_music_film   \n",
       "28128                                                      \n",
       "28129                                                      \n",
       "28130                                 5/computer_science   \n",
       "28131                                 5/computer_science   \n",
       "28132                                                      \n",
       "28133                                       9/humanities   \n",
       "28134                                 5/computer_science   \n",
       "28135                                6/economics_finance   \n",
       "28136                                 5/computer_science   \n",
       "28137                                                      \n",
       "28138                                                      \n",
       "28139                           8/engineering_technology   \n",
       "28140                                6/economics_finance   \n",
       "28141                                 12/medicine_health   \n",
       "28142                                                      \n",
       "28143                                                      \n",
       "28144                                                      \n",
       "28145                                                      \n",
       "28146                                                      \n",
       "28147                                                      \n",
       "28148                            2/biology_life_sciences   \n",
       "28149                                                      \n",
       "28150                                                      \n",
       "28151                                                      \n",
       "28152         2/biology_life_sciences|12/medicine_health   \n",
       "\n",
       "                                                    desc     id lang  \\\n",
       "0      This course introduces the basic financial sta...      4   en   \n",
       "1      This online course will introduce you to Ameri...      5   en   \n",
       "2      This course is taught in French Vous voulez co...      6   fr   \n",
       "3      We live in a digitally connected world. The wa...      7   en   \n",
       "4      This self-paced course is designed to show tha...      8   en   \n",
       "5      This game-based course provides prospective st...      9   en   \n",
       "6      What’s in your digital teaching toolbox? Do yo...     10   en   \n",
       "7      The goal of the Digital Literacy 2 course is t...     11   en   \n",
       "8      Ready to explore Web-based tools to ignite stu...     12   en   \n",
       "9      This self-paced course provides participants w...     13   en   \n",
       "10     What is “interprofessional collaborative pract...     14   en   \n",
       "11     This course presents the academic foundations ...     15   en   \n",
       "12     Chemistry is an integral part of our lives and...     16   en   \n",
       "13     Are you considering a career in engineering? A...     17   en   \n",
       "14     Princess stories have been popular for centuri...     18   en   \n",
       "15     This first installment of a four-part series i...     19   en   \n",
       "16     This course examines the political (world orde...     20   en   \n",
       "17     This course will explore government policies d...     21   en   \n",
       "18     The field of technical writing has come a long...     22   en   \n",
       "19     Are you a Higher Ed instructor or K-12 educato...     23   en   \n",
       "20     This course will explore the different dimensi...     24   en   \n",
       "21     Introduction to Applied Investing is intended ...     25   en   \n",
       "22     Effective communication skills are recognized ...     26   en   \n",
       "23     Elements of Pain is a five-week self-directed ...     27   en   \n",
       "24     This seven-and-a-half week online course will ...     28   en   \n",
       "25     This six-week course is designed to help the c...     29   en   \n",
       "26     Great leaders are made, not born. Whether you’...     30   en   \n",
       "27     Why do so many schools use letter grades? Wher...     31   en   \n",
       "28     This course provides an introduction to the co...     32   en   \n",
       "29     This course covers the major legal issues faci...     33   en   \n",
       "...                                                  ...    ...  ...   \n",
       "28123   There are millions of beginner guitar courses...  28288   en   \n",
       "28124   Improve your creative writing; create, polish...  28289   en   \n",
       "28125  Курс знакомит слушателей со средой разработки ...  28290   ru   \n",
       "28126   How to Turn Your Passions &amp; Interests int...  28291   en   \n",
       "28127   Learn AutoCAD and get a better job or a promo...  28292   en   \n",
       "28128  Tienes una idea para un producto, pero ¿sabes ...  28293   es   \n",
       "28129  Learn all you need to know about the Global Fr...  28294   en   \n",
       "28130  A fun and creative introduction to computer sc...  28295   en   \n",
       "28131  Learn to build real-world cloud solutions from...  28296   en   \n",
       "28132  This course introduces the complex, but critic...  28297   en   \n",
       "28133  Analyze globalization using evidence-based met...  28298   en   \n",
       "28134  A fun, fast-paced introduction to solving inte...  28299   en   \n",
       "28135  Un cours sur les comptes macroéconomiques, leu...  28300   fr   \n",
       "28136  Learn to build real-world cloud solutions from...  28301   en   \n",
       "28137  Instructors from the worlds of research and pr...  28302   en   \n",
       "28138  Take the first step towards learning Mandarin ...  28303   en   \n",
       "28139  Design your own silicon photonics chip. The fi...  28304   en   \n",
       "28140  Comprender los retos y oportunidades de la exp...  28305   es   \n",
       "28141  Introduction to detection, measurement, chemis...  28306   en   \n",
       "28142  Learn from a renowned innovation expert how to...  28307   en   \n",
       "28143  Aprende mejores prácticas de gestión de proyec...  28308   es   \n",
       "28144  Explore the exciting world of modern solar sys...  28309   en   \n",
       "28145  Mao Zedong founded the People's Republic of Ch...  28310   en   \n",
       "28146  Examine Medieval scrolls in detail, and gain a...  28311   en   \n",
       "28147  Learn about the origins and development of Wes...  28312   en   \n",
       "28148  Explore the scientific evidence for human evol...  28313   en   \n",
       "28149  Examine the recent shift in the concept of cor...  28314   en   \n",
       "28150  China’s past, present, and future: through his...  28315   en   \n",
       "28151  ¿Que puedes hacer por tu cliente? No preguntes...  28316   es   \n",
       "28152  Explore the secret of life through the basics ...  28317   en   \n",
       "\n",
       "                                                    name        provider  year  \n",
       "0      Accounting Cycle: The Foundation of Business M...  Canvas Network  1900  \n",
       "1                         American Counter Terrorism Law  Canvas Network  1900  \n",
       "2           Arithmétique: en route pour la cryptographie  Canvas Network  1900  \n",
       "3                            Becoming a Dynamic Educator  Canvas Network  1900  \n",
       "4                                              Bioethics  Canvas Network  1900  \n",
       "5        College Foundations: Reading, Writing, and Math  Canvas Network  1900  \n",
       "6                                   Digital Literacies I  Canvas Network  1900  \n",
       "7                                  Digital Literacies II  Canvas Network  1900  \n",
       "8                    Digital Tools for the K-12 Educator  Canvas Network  1900  \n",
       "9      Discover Your Value: Turning Experience into C...  Canvas Network  1900  \n",
       "10     Enhancing Patient Safety through Interprofessi...  Canvas Network  1900  \n",
       "11            Ethics and Values in a Multicultural World  Canvas Network  1900  \n",
       "12                                   Exploring Chemistry  Canvas Network  1900  \n",
       "13                                 Exploring Engineering  Canvas Network  1900  \n",
       "14     Fairy Tales: Origins and Evolution of Princess...  Canvas Network  1900  \n",
       "15     First Peoples to the Early Republic: Born in C...  Canvas Network  1900  \n",
       "16                                   Forums for a Future  Canvas Network  1900  \n",
       "17     From the Gilded Age to the Roaring Twenties:  ...  Canvas Network  1900  \n",
       "18     Fundamentals of Structured Writing for Technic...  Canvas Network  1900  \n",
       "19                   Hybrid Courses: Best of Both Worlds  Canvas Network  1900  \n",
       "20     International Health Systems: Incorporating Su...  Canvas Network  1900  \n",
       "21                     Introduction to Applied Investing  Canvas Network  1900  \n",
       "22                Introduction to Business Communication  Canvas Network  1900  \n",
       "23                      Introduction to Elements of Pain  Canvas Network  1900  \n",
       "24     Introduction to Writing: Science Fiction and F...  Canvas Network  1900  \n",
       "25     Investigative Concepts: FBI Major Case #203 \"P...  Canvas Network  1900  \n",
       "26                                   Leadership for Real  Canvas Network  1900  \n",
       "27                         Learning Beyond Letter Grades  Canvas Network  1900  \n",
       "28         Project Management for Business Professionals  Canvas Network  1900  \n",
       "29     Risk Management in Higher Education: Student I...  Canvas Network  1900  \n",
       "...                                                  ...             ...   ...  \n",
       "28123             The Best Beginner Guitar Guide - Udemy           Udemy  1900  \n",
       "28124  Write great short stories: learn from a prizew...           Udemy  1900  \n",
       "28125                            Разработка игр на Unity          Intuit  1900  \n",
       "28126  Create Your Online Business: The Absolute Begi...           Udemy  1900  \n",
       "28127  Learn AutoCAD From Scratch: Make Your Own Plan...           Udemy  1900  \n",
       "28128        Entrepreneurship 101: ¿Quién es tu cliente?             edX  1900  \n",
       "28129                 Welcome to Global Freshman Academy             edX  1900  \n",
       "28130               MyCS: Computer Science for Beginners             edX  1900  \n",
       "28131  Building Cloud Apps with Microsoft Azure – Part 2             edX  1900  \n",
       "28132            Sustainability, Resilience, and Society             edX  1900  \n",
       "28133                Global Markets and Personal Impacts             edX  1900  \n",
       "28134  CS For All: Introduction to Computer Science a...             edX  1900  \n",
       "28135  Programmation et Politiques Financières, Premi...             edX  1900  \n",
       "28136  Building Cloud Apps with Microsoft Azure – Part 3             edX  1900  \n",
       "28137  Teaching With Technology and Inquiry: An Open ...             edX  1900  \n",
       "28138             Chinese Language: Learn Basic Mandarin             edX  1900  \n",
       "28139  Silicon Photonics Design, Fabrication and Data...             edX  1900  \n",
       "28140  Desarrollo Urbano y Vivienda | Urbanization in...             edX  1900  \n",
       "28141  Effects of Radiation: An Introduction to Radia...             edX  1900  \n",
       "28142          Innovation Generation: How to Be Creative             edX  1900  \n",
       "28143  Gestión de Proyectos de Desarrollo | Project M...             edX  1900  \n",
       "28144            Introduction to Solar Systems Astronomy             edX  1900  \n",
       "28145         Introduction to Mao Zedong Thought 毛泽东思想概论             edX  1900  \n",
       "28146                     Scrolls in the Age of the Book             edX  1900  \n",
       "28147  Western Civilization: Ancient and Medieval Europe             edX  1900  \n",
       "28148                                      Human Origins             edX  1900  \n",
       "28149  Legal Risk Management Strategy for Multination...             edX  1900  \n",
       "28150  China (Part 1): The Political and Intellectual...             edX  1900  \n",
       "28151  Entrepreneurship 102: ¿Que puedes hacer por tu...             edX  1900  \n",
       "28152        Introduction to Biology- The Secret of Life             edX  1900  \n",
       "\n",
       "[28153 rows x 7 columns]"
      ]
     },
     "execution_count": 97,
     "metadata": {},
     "output_type": "execute_result"
    }
   ],
   "source": [
    "pddf"
   ]
  },
  {
   "cell_type": "code",
   "execution_count": 98,
   "metadata": {},
   "outputs": [
    {
     "ename": "TypeError",
     "evalue": "'DataFrame' object does not support item assignment",
     "output_type": "error",
     "traceback": [
      "\u001b[0;31m---------------------------------------------------------------------------\u001b[0m",
      "\u001b[0;31mTypeError\u001b[0m                                 Traceback (most recent call last)",
      "\u001b[0;32m<ipython-input-98-8d0319e3fcef>\u001b[0m in \u001b[0;36m<module>\u001b[0;34m()\u001b[0m\n\u001b[0;32m----> 1\u001b[0;31m \u001b[0mdf\u001b[0m\u001b[0;34m[\u001b[0m\u001b[0;34m'year'\u001b[0m\u001b[0;34m]\u001b[0m \u001b[0;34m=\u001b[0m \u001b[0;36m1900\u001b[0m\u001b[0;34m\u001b[0m\u001b[0m\n\u001b[0m",
      "\u001b[0;31mTypeError\u001b[0m: 'DataFrame' object does not support item assignment"
     ]
    }
   ],
   "source": [
    "df['year'] = 1900"
   ]
  },
  {
   "cell_type": "code",
   "execution_count": 99,
   "metadata": {},
   "outputs": [
    {
     "data": {
      "text/plain": [
       "28153"
      ]
     },
     "execution_count": 99,
     "metadata": {},
     "output_type": "execute_result"
    }
   ],
   "source": [
    "df.count()"
   ]
  },
  {
   "cell_type": "code",
   "execution_count": 100,
   "metadata": {},
   "outputs": [
    {
     "name": "stdout",
     "output_type": "stream",
     "text": [
      "+----+-----+\n",
      "|lang|count|\n",
      "+----+-----+\n",
      "|  af|    2|\n",
      "|  ar|   34|\n",
      "|  bg|    2|\n",
      "|  ca|    6|\n",
      "|  da|    3|\n",
      "|  de|  166|\n",
      "|  el|    5|\n",
      "|  en|24553|\n",
      "|  es| 1374|\n",
      "|  et|    1|\n",
      "|  fa|    1|\n",
      "|  fi|    2|\n",
      "|  fr|  104|\n",
      "|  he|    8|\n",
      "|  hi|    6|\n",
      "|  hr|    4|\n",
      "|  hu|    2|\n",
      "|  id|    1|\n",
      "|  it|   62|\n",
      "|  ja|   77|\n",
      "+----+-----+\n",
      "only showing top 20 rows\n",
      "\n"
     ]
    }
   ],
   "source": [
    "languages = df.groupBy(df.lang).count()\n",
    "languages.cache()\n",
    "languages.sort(\"lang\").show()"
   ]
  },
  {
   "cell_type": "code",
   "execution_count": 101,
   "metadata": {},
   "outputs": [
    {
     "data": {
      "text/plain": [
       "[Row(avg(count)=804.3714285714286)]"
      ]
     },
     "execution_count": 101,
     "metadata": {},
     "output_type": "execute_result"
    }
   ],
   "source": [
    "avg_count = languages.groupBy().avg('count').collect()\n",
    "avg_count"
   ]
  },
  {
   "cell_type": "code",
   "execution_count": 102,
   "metadata": {
    "collapsed": true
   },
   "outputs": [],
   "source": [
    "%matplotlib inline"
   ]
  },
  {
   "cell_type": "code",
   "execution_count": 103,
   "metadata": {
    "collapsed": true
   },
   "outputs": [],
   "source": [
    "rdf = languages.toPandas()\n",
    "rdf = rdf.set_index(\"lang\")"
   ]
  },
  {
   "cell_type": "code",
   "execution_count": 104,
   "metadata": {},
   "outputs": [
    {
     "data": {
      "text/html": [
       "<div>\n",
       "<style>\n",
       "    .dataframe thead tr:only-child th {\n",
       "        text-align: right;\n",
       "    }\n",
       "\n",
       "    .dataframe thead th {\n",
       "        text-align: left;\n",
       "    }\n",
       "\n",
       "    .dataframe tbody tr th {\n",
       "        vertical-align: top;\n",
       "    }\n",
       "</style>\n",
       "<table border=\"1\" class=\"dataframe\">\n",
       "  <thead>\n",
       "    <tr style=\"text-align: right;\">\n",
       "      <th></th>\n",
       "      <th>count</th>\n",
       "    </tr>\n",
       "    <tr>\n",
       "      <th>lang</th>\n",
       "      <th></th>\n",
       "    </tr>\n",
       "  </thead>\n",
       "  <tbody>\n",
       "    <tr>\n",
       "      <th>en</th>\n",
       "      <td>24553</td>\n",
       "    </tr>\n",
       "    <tr>\n",
       "      <th>vi</th>\n",
       "      <td>1</td>\n",
       "    </tr>\n",
       "    <tr>\n",
       "      <th>nb</th>\n",
       "      <td>2</td>\n",
       "    </tr>\n",
       "    <tr>\n",
       "      <th>uz</th>\n",
       "      <td>1</td>\n",
       "    </tr>\n",
       "    <tr>\n",
       "      <th>ur</th>\n",
       "      <td>11</td>\n",
       "    </tr>\n",
       "    <tr>\n",
       "      <th>pl</th>\n",
       "      <td>1</td>\n",
       "    </tr>\n",
       "    <tr>\n",
       "      <th>sk</th>\n",
       "      <td>5</td>\n",
       "    </tr>\n",
       "    <tr>\n",
       "      <th>pt</th>\n",
       "      <td>187</td>\n",
       "    </tr>\n",
       "    <tr>\n",
       "      <th>sw</th>\n",
       "      <td>1</td>\n",
       "    </tr>\n",
       "    <tr>\n",
       "      <th>ko</th>\n",
       "      <td>3</td>\n",
       "    </tr>\n",
       "    <tr>\n",
       "      <th>ms</th>\n",
       "      <td>1</td>\n",
       "    </tr>\n",
       "    <tr>\n",
       "      <th>tr</th>\n",
       "      <td>120</td>\n",
       "    </tr>\n",
       "    <tr>\n",
       "      <th>de</th>\n",
       "      <td>166</td>\n",
       "    </tr>\n",
       "    <tr>\n",
       "      <th>es</th>\n",
       "      <td>1374</td>\n",
       "    </tr>\n",
       "    <tr>\n",
       "      <th>hr</th>\n",
       "      <td>4</td>\n",
       "    </tr>\n",
       "    <tr>\n",
       "      <th>el</th>\n",
       "      <td>5</td>\n",
       "    </tr>\n",
       "    <tr>\n",
       "      <th>it</th>\n",
       "      <td>62</td>\n",
       "    </tr>\n",
       "    <tr>\n",
       "      <th>af</th>\n",
       "      <td>2</td>\n",
       "    </tr>\n",
       "    <tr>\n",
       "      <th>ar</th>\n",
       "      <td>34</td>\n",
       "    </tr>\n",
       "    <tr>\n",
       "      <th>sv</th>\n",
       "      <td>1</td>\n",
       "    </tr>\n",
       "    <tr>\n",
       "      <th>nl</th>\n",
       "      <td>6</td>\n",
       "    </tr>\n",
       "    <tr>\n",
       "      <th>hu</th>\n",
       "      <td>2</td>\n",
       "    </tr>\n",
       "    <tr>\n",
       "      <th>ca</th>\n",
       "      <td>6</td>\n",
       "    </tr>\n",
       "    <tr>\n",
       "      <th>ru</th>\n",
       "      <td>1231</td>\n",
       "    </tr>\n",
       "    <tr>\n",
       "      <th>fa</th>\n",
       "      <td>1</td>\n",
       "    </tr>\n",
       "    <tr>\n",
       "      <th>bg</th>\n",
       "      <td>2</td>\n",
       "    </tr>\n",
       "    <tr>\n",
       "      <th>hi</th>\n",
       "      <td>6</td>\n",
       "    </tr>\n",
       "    <tr>\n",
       "      <th>et</th>\n",
       "      <td>1</td>\n",
       "    </tr>\n",
       "    <tr>\n",
       "      <th>zh</th>\n",
       "      <td>169</td>\n",
       "    </tr>\n",
       "    <tr>\n",
       "      <th>fr</th>\n",
       "      <td>104</td>\n",
       "    </tr>\n",
       "    <tr>\n",
       "      <th>ja</th>\n",
       "      <td>77</td>\n",
       "    </tr>\n",
       "    <tr>\n",
       "      <th>id</th>\n",
       "      <td>1</td>\n",
       "    </tr>\n",
       "    <tr>\n",
       "      <th>da</th>\n",
       "      <td>3</td>\n",
       "    </tr>\n",
       "    <tr>\n",
       "      <th>fi</th>\n",
       "      <td>2</td>\n",
       "    </tr>\n",
       "    <tr>\n",
       "      <th>he</th>\n",
       "      <td>8</td>\n",
       "    </tr>\n",
       "  </tbody>\n",
       "</table>\n",
       "</div>"
      ],
      "text/plain": [
       "      count\n",
       "lang       \n",
       "en    24553\n",
       "vi        1\n",
       "nb        2\n",
       "uz        1\n",
       "ur       11\n",
       "pl        1\n",
       "sk        5\n",
       "pt      187\n",
       "sw        1\n",
       "ko        3\n",
       "ms        1\n",
       "tr      120\n",
       "de      166\n",
       "es     1374\n",
       "hr        4\n",
       "el        5\n",
       "it       62\n",
       "af        2\n",
       "ar       34\n",
       "sv        1\n",
       "nl        6\n",
       "hu        2\n",
       "ca        6\n",
       "ru     1231\n",
       "fa        1\n",
       "bg        2\n",
       "hi        6\n",
       "et        1\n",
       "zh      169\n",
       "fr      104\n",
       "ja       77\n",
       "id        1\n",
       "da        3\n",
       "fi        2\n",
       "he        8"
      ]
     },
     "execution_count": 104,
     "metadata": {},
     "output_type": "execute_result"
    }
   ],
   "source": [
    "rdf"
   ]
  },
  {
   "cell_type": "code",
   "execution_count": 105,
   "metadata": {},
   "outputs": [
    {
     "data": {
      "text/plain": [
       "<matplotlib.axes._subplots.AxesSubplot at 0x7f1906843710>"
      ]
     },
     "execution_count": 105,
     "metadata": {},
     "output_type": "execute_result"
    },
    {
     "data": {
      "image/png": "[encoded data removed]",
      "text/plain": [
       "<matplotlib.figure.Figure at 0x7f19068439b0>"
      ]
     },
     "metadata": {},
     "output_type": "display_data"
    }
   ],
   "source": [
    "rdf.sort_index().plot(kind=\"bar\")"
   ]
  },
  {
   "cell_type": "markdown",
   "metadata": {},
   "source": [
    "## saving files"
   ]
  },
  {
   "cell_type": "code",
   "execution_count": 106,
   "metadata": {
    "collapsed": true
   },
   "outputs": [],
   "source": [
    "df.rdd.saveAsTextFile(\"/tmp/SAVED_FILE_2\")"
   ]
  },
  {
   "cell_type": "code",
   "execution_count": 107,
   "metadata": {},
   "outputs": [
    {
     "data": {
      "text/plain": [
       "2"
      ]
     },
     "execution_count": 107,
     "metadata": {},
     "output_type": "execute_result"
    }
   ],
   "source": [
    "df.rdd.getNumPartitions()"
   ]
  },
  {
   "cell_type": "markdown",
   "metadata": {},
   "source": [
    "## parquet"
   ]
  },
  {
   "cell_type": "code",
   "execution_count": 108,
   "metadata": {
    "collapsed": true
   },
   "outputs": [],
   "source": [
    "df.write.parquet(\"data-parquet\", \"overwrite\")"
   ]
  },
  {
   "cell_type": "code",
   "execution_count": 109,
   "metadata": {},
   "outputs": [
    {
     "data": {
      "text/plain": [
       "2"
      ]
     },
     "execution_count": 109,
     "metadata": {},
     "output_type": "execute_result"
    }
   ],
   "source": [
    "df.rdd.getNumPartitions()"
   ]
  },
  {
   "cell_type": "code",
   "execution_count": 110,
   "metadata": {
    "collapsed": true
   },
   "outputs": [],
   "source": [
    "df2 = spark.read.parquet(\"data-parquet\")"
   ]
  },
  {
   "cell_type": "code",
   "execution_count": 111,
   "metadata": {},
   "outputs": [
    {
     "name": "stdout",
     "output_type": "stream",
     "text": [
      "+--------------------+--------------------+----+----+--------------------+--------+\n",
      "|                 cat|                desc|  id|lang|                name|provider|\n",
      "+--------------------+--------------------+----+----+--------------------+--------+\n",
      "| 6/economics_finance|Learn how debt an...|7620|  en|Financing and Inv...|Coursera|\n",
      "|3/business_manage...|Develop intercult...|7621|  en|International Lea...|Coursera|\n",
      "|3/business_manage...|Learn how the dis...|7622|  en|Introduction to S...|Coursera|\n",
      "| 6/economics_finance|В курсе изучаются...|7623|  ru|Экономика труда (...|Coursera|\n",
      "|8/engineering_tec...|LaTeX (читается «...|7624|  ru|Документы и презе...|Coursera|\n",
      "|  14/social_sciences|This course is ab...|7625|  en|Latin American Mi...|Coursera|\n",
      "|3/business_manage...|This course uses ...|7626|  en|Leadership in 21s...|Coursera|\n",
      "|9/humanities|14/s...|Based upon the aw...|7627|  en|Learning to Teach...|Coursera|\n",
      "| 6/economics_finance|Курс посвящен изу...|7628|  ru|Макроэкономика (M...|Coursera|\n",
      "|3/business_manage...|Learn how fashion...|7629|  en|Managing Fashion ...|Coursera|\n",
      "| 6/economics_finance|Самое сложное эко...|7630|  ru|Основы микроэконо...|Coursera|\n",
      "|15/mathematics_st...|Ders çok değişken...|7631|  tr|Çok Değişkenli Fo...|Coursera|\n",
      "|   1/arts_music_film|This course will ...|7632|  en|Fundamentals of M...|Coursera|\n",
      "|2/biology_life_sc...|Economics, psycho...|7633|  en|Introduction to N...|Coursera|\n",
      "|2/biology_life_sc...|This course will ...|7634|  en|An Introduction t...|Coursera|\n",
      "|7/energy_earth_sc...|Develop a greater...|7635|  en|Our Earth: Its Cl...|Coursera|\n",
      "|          13/physics|Mechanics is the ...|7636|  en|Mechanics: Motion...|Coursera|\n",
      "|5/computer_scienc...|Learn about the h...|7637|  en|Philosophy and th...|Coursera|\n",
      "|  12/medicine_health|This MOOC is aime...|7638|  en|An Introduction t...|Coursera|\n",
      "|2/biology_life_sc...|This course will ...|7639|  en|Childbirth: A Glo...|Coursera|\n",
      "+--------------------+--------------------+----+----+--------------------+--------+\n",
      "only showing top 20 rows\n",
      "\n"
     ]
    }
   ],
   "source": [
    "df2.show()"
   ]
  },
  {
   "cell_type": "code",
   "execution_count": 112,
   "metadata": {},
   "outputs": [
    {
     "data": {
      "text/plain": [
       "28153"
      ]
     },
     "execution_count": 112,
     "metadata": {},
     "output_type": "execute_result"
    }
   ],
   "source": [
    "df.count()"
   ]
  },
  {
   "cell_type": "code",
   "execution_count": 113,
   "metadata": {},
   "outputs": [
    {
     "data": {
      "text/plain": [
       "28153"
      ]
     },
     "execution_count": 113,
     "metadata": {},
     "output_type": "execute_result"
    }
   ],
   "source": [
    "df2.count()"
   ]
  },
  {
   "cell_type": "code",
   "execution_count": 114,
   "metadata": {
    "collapsed": true
   },
   "outputs": [],
   "source": [
    "dr = df.rdd"
   ]
  },
  {
   "cell_type": "code",
   "execution_count": 115,
   "metadata": {
    "collapsed": true
   },
   "outputs": [],
   "source": [
    "dr.saveAsTextFile(\"/tmp/rdd_saved_2\")"
   ]
  },
  {
   "cell_type": "code",
   "execution_count": 116,
   "metadata": {},
   "outputs": [
    {
     "data": {
      "text/plain": [
       "2"
      ]
     },
     "execution_count": 116,
     "metadata": {},
     "output_type": "execute_result"
    }
   ],
   "source": [
    "dr.getNumPartitions()"
   ]
  },
  {
   "cell_type": "code",
   "execution_count": 117,
   "metadata": {},
   "outputs": [
    {
     "data": {
      "text/plain": [
       "MapPartitionsRDD[70] at javaToPython at NativeMethodAccessorImpl.java:0"
      ]
     },
     "execution_count": 117,
     "metadata": {},
     "output_type": "execute_result"
    }
   ],
   "source": [
    "dr"
   ]
  },
  {
   "cell_type": "markdown",
   "metadata": {},
   "source": [
    "## bonus"
   ]
  },
  {
   "cell_type": "code",
   "execution_count": 118,
   "metadata": {},
   "outputs": [
    {
     "name": "stdout",
     "output_type": "stream",
     "text": [
      "+--------------------+--------------------+---+----+--------------------+--------------+\n",
      "|                 cat|                desc| id|lang|                name|      provider|\n",
      "+--------------------+--------------------+---+----+--------------------+--------------+\n",
      "|3/business_manage...|This course intro...|  4|  en|Accounting Cycle:...|Canvas Network|\n",
      "|              11/law|This online cours...|  5|  en|American Counter ...|Canvas Network|\n",
      "|5/computer_scienc...|This course is ta...|  6|  fr|Arithmétique: en ...|Canvas Network|\n",
      "|  14/social_sciences|We live in a digi...|  7|  en|Becoming a Dynami...|Canvas Network|\n",
      "|2/biology_life_sc...|This self-paced c...|  8|  en|           Bioethics|Canvas Network|\n",
      "|9/humanities|15/m...|This game-based c...|  9|  en|College Foundatio...|Canvas Network|\n",
      "|  14/social_sciences|What’s in your di...| 10|  en|Digital Literacies I|Canvas Network|\n",
      "|  14/social_sciences|The goal of the D...| 11|  en|Digital Literacie...|Canvas Network|\n",
      "|  14/social_sciences|Ready to explore ...| 12|  en|Digital Tools for...|Canvas Network|\n",
      "|  14/social_sciences|This self-paced c...| 13|  en|Discover Your Val...|Canvas Network|\n",
      "|  12/medicine_health|What is “interpro...| 14|  en|Enhancing Patient...|Canvas Network|\n",
      "|        16/languages|This course prese...| 15|  en|Ethics and Values...|Canvas Network|\n",
      "|         4/chemistry|Chemistry is an i...| 16|  en| Exploring Chemistry|Canvas Network|\n",
      "|8/engineering_tec...|Are you consideri...| 17|  en|Exploring Enginee...|Canvas Network|\n",
      "|   1/arts_music_film|Princess stories ...| 18|  en|Fairy Tales: Orig...|Canvas Network|\n",
      "|        9/humanities|This first instal...| 19|  en|First Peoples to ...|Canvas Network|\n",
      "|  14/social_sciences|This course exami...| 20|  en| Forums for a Future|Canvas Network|\n",
      "|        9/humanities|This course will ...| 21|  en|From the Gilded A...|Canvas Network|\n",
      "|8/engineering_tec...|The field of tech...| 22|  en|Fundamentals of S...|Canvas Network|\n",
      "|  14/social_sciences|Are you a Higher ...| 23|  en|Hybrid Courses: B...|Canvas Network|\n",
      "+--------------------+--------------------+---+----+--------------------+--------------+\n",
      "only showing top 20 rows\n",
      "\n"
     ]
    }
   ],
   "source": [
    "df.show()"
   ]
  },
  {
   "cell_type": "markdown",
   "metadata": {},
   "source": [
    "https://spark.apache.org/docs/latest/api/python/pyspark.sql.html#pyspark.sql.DataFrameStatFunctions.freqItems"
   ]
  },
  {
   "cell_type": "code",
   "execution_count": 119,
   "metadata": {
    "collapsed": true
   },
   "outputs": [],
   "source": [
    "frq = df.freqItems([\"lang\", \"provider\"], 0.3)"
   ]
  },
  {
   "cell_type": "code",
   "execution_count": 120,
   "metadata": {},
   "outputs": [
    {
     "name": "stdout",
     "output_type": "stream",
     "text": [
      "+--------------+--------------------+\n",
      "|lang_freqItems|  provider_freqItems|\n",
      "+--------------+--------------------+\n",
      "|  [en, es, ru]|[Lynda, MIT OpenC...|\n",
      "+--------------+--------------------+\n",
      "\n"
     ]
    }
   ],
   "source": [
    "frq.show()"
   ]
  },
  {
   "cell_type": "code",
   "execution_count": 121,
   "metadata": {},
   "outputs": [
    {
     "data": {
      "text/plain": [
       "[Row(lang_freqItems=['en', 'es', 'ru'], provider_freqItems=['Lynda', 'MIT OpenCourseWare', 'Udemy'])]"
      ]
     },
     "execution_count": 121,
     "metadata": {},
     "output_type": "execute_result"
    }
   ],
   "source": [
    "frq.collect()"
   ]
  },
  {
   "cell_type": "code",
   "execution_count": 122,
   "metadata": {},
   "outputs": [
    {
     "name": "stdout",
     "output_type": "stream",
     "text": [
      "+-------+--------------------+--------------------+------------------+-----+--------------------+----------+\n",
      "|summary|                 cat|                desc|                id| lang|                name|  provider|\n",
      "+-------+--------------------+--------------------+------------------+-----+--------------------+----------+\n",
      "|  count|               28153|               28153|             28153|28153|               28153|     28153|\n",
      "|   mean|                null|                null|14147.083543494477| null|                null|      null|\n",
      "| stddev|                null|                null| 8185.672828610868| null|                null|      null|\n",
      "|    min|                    |\t本課程之教學內容以希臘哲學之發展...|                 4|   af|\"A Christmas Caro...|          |\n",
      "|    max|9/humanities|16/l...|靜電靜磁到電磁波相關物理、數學及應...|             28317|   zh|ＦＸ・プライスアクション３大法則－...|Стратоплан|\n",
      "+-------+--------------------+--------------------+------------------+-----+--------------------+----------+\n",
      "\n"
     ]
    }
   ],
   "source": [
    "df.describe().show()"
   ]
  },
  {
   "cell_type": "code",
   "execution_count": null,
   "metadata": {
    "collapsed": true
   },
   "outputs": [],
   "source": []
  }
 ],
 "metadata": {
  "kernelspec": {
   "display_name": "Python 3",
   "language": "python",
   "name": "python3"
  },
  "language_info": {
   "codemirror_mode": {
    "name": "ipython",
    "version": 3
   },
   "file_extension": ".py",
   "mimetype": "text/x-python",
   "name": "python",
   "nbconvert_exporter": "python",
   "pygments_lexer": "ipython3",
   "version": "3.6.2"
  }
 },
 "nbformat": 4,
 "nbformat_minor": 1
}

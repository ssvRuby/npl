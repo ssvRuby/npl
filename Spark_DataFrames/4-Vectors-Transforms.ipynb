{
 "cells": [
  {
   "cell_type": "code",
   "execution_count": 4,
   "metadata": {},
   "outputs": [
    {
     "name": "stdout",
     "output_type": "stream",
     "text": [
      "Welcome to\n",
      "      ____              __\n",
      "     / __/__  ___ _____/ /__\n",
      "    _\\ \\/ _ \\/ _ `/ __/  '_/\n",
      "   /__ / .__/\\_,_/_/ /_/\\_\\   version 2.2.0\n",
      "      /_/\n",
      "\n",
      "Using Python version 3.6.2 (default, Sep 21 2017 18:29:43)\n",
      "SparkSession available as 'spark'.\n"
     ]
    }
   ],
   "source": [
    "# SPARK_HOME=\"/Users/ssv/spark-2.2.0-bin-hadoop2.7\"\n",
    "import os\n",
    "import sys\n",
    "os.environ[\"PYSPARK_SUBMIT_ARGS\"]='--packages com.databricks:spark-csv_2.10:1.2.0 pyspark-shell'\n",
    "os.environ[\"PYSPARK_PYTHON\"]='python3'\n",
    "# os.environ[\"SPARK_HOME\"]='/usr/hdp/current/spark2-client'\n",
    "os.environ[\"SPARK_HOME\"]='/Users/ssv/spark-2.2.0-bin-hadoop2.7'\n",
    "\n",
    "spark_home = os.environ.get('SPARK_HOME', None)\n",
    "if not spark_home:\n",
    "    raise ValueError('SPARK_HOME environment variable is not set')\n",
    "sys.path.insert(0, os.path.join(spark_home, 'python'))\n",
    "sys.path.insert(0, os.path.join(spark_home, 'python/lib/py4j-0.10.4-src.zip'))\n",
    "os.environ[\"PYSPARK_PYTHON\"] = 'python3'\n",
    "exec(open(os.path.join(spark_home, 'python/pyspark/shell.py')).read())"
   ]
  },
  {
   "cell_type": "code",
   "execution_count": 5,
   "metadata": {},
   "outputs": [
    {
     "data": {
      "text/html": [
       "\n",
       "        <div>\n",
       "            <p><b>SparkContext</b></p>\n",
       "\n",
       "            <p><a href=\"http://10.0.1.2:4042\">Spark UI</a></p>\n",
       "\n",
       "            <dl>\n",
       "              <dt>Version</dt>\n",
       "                <dd><code>v2.2.0</code></dd>\n",
       "              <dt>Master</dt>\n",
       "                <dd><code>local[*]</code></dd>\n",
       "              <dt>AppName</dt>\n",
       "                <dd><code>pyspark-shell</code></dd>\n",
       "            </dl>\n",
       "        </div>\n",
       "        "
      ],
      "text/plain": [
       "<SparkContext master=local[*] appName=pyspark-shell>"
      ]
     },
     "execution_count": 5,
     "metadata": {},
     "output_type": "execute_result"
    }
   ],
   "source": [
    "sc"
   ]
  },
  {
   "cell_type": "markdown",
   "metadata": {},
   "source": [
    "## Vectors, Matrices"
   ]
  },
  {
   "cell_type": "markdown",
   "metadata": {},
   "source": [
    "https://spark.apache.org/docs/latest/api/python/pyspark.mllib.html#module-pyspark.mllib.linalg\n",
    "\n",
    "https://spark.apache.org/docs/latest/mllib-data-types.html"
   ]
  },
  {
   "cell_type": "markdown",
   "metadata": {},
   "source": [
    "** Local Vectors **: \n",
    "- stored on a single machine\n",
    "- integer-typed and 0-based indices\n",
    "- double-typed values"
   ]
  },
  {
   "cell_type": "markdown",
   "metadata": {},
   "source": [
    "** dense **: \n",
    "- backed by a double array representing its entry values\n",
    "\n",
    "** sparse **\n",
    "- backed by two parallel arrays: indices and values\n",
    "\n",
    "\n",
    "** Example **\n",
    "- vector (1.0, 0.0, 3.0)\n",
    "- [1.0, 0.0, 3.0] in dense format\n",
    "- (3, [0, 2], [1.0, 3.0]) in sparse format "
   ]
  },
  {
   "cell_type": "markdown",
   "metadata": {},
   "source": [
    "### dense vectors"
   ]
  },
  {
   "cell_type": "code",
   "execution_count": 6,
   "metadata": {
    "collapsed": true
   },
   "outputs": [],
   "source": [
    "from pyspark.mllib.linalg import Vectors, Matrices"
   ]
  },
  {
   "cell_type": "code",
   "execution_count": 7,
   "metadata": {
    "collapsed": true
   },
   "outputs": [],
   "source": [
    "v = Vectors.dense([1.0, 2.0])\n",
    "u = Vectors.dense([3.0, 4.0])"
   ]
  },
  {
   "cell_type": "code",
   "execution_count": 8,
   "metadata": {},
   "outputs": [
    {
     "data": {
      "text/plain": [
       "DenseVector([3.0, 4.0])"
      ]
     },
     "execution_count": 8,
     "metadata": {},
     "output_type": "execute_result"
    }
   ],
   "source": [
    "u"
   ]
  },
  {
   "cell_type": "code",
   "execution_count": 9,
   "metadata": {},
   "outputs": [
    {
     "data": {
      "text/plain": [
       "11.0"
      ]
     },
     "execution_count": 9,
     "metadata": {},
     "output_type": "execute_result"
    }
   ],
   "source": [
    "v.dot(u)"
   ]
  },
  {
   "cell_type": "code",
   "execution_count": 10,
   "metadata": {},
   "outputs": [
    {
     "data": {
      "text/plain": [
       "array([ 1.,  2.])"
      ]
     },
     "execution_count": 10,
     "metadata": {},
     "output_type": "execute_result"
    }
   ],
   "source": [
    "v.toArray()"
   ]
  },
  {
   "cell_type": "markdown",
   "metadata": {},
   "source": [
    "### sparse vectors"
   ]
  },
  {
   "cell_type": "code",
   "execution_count": 8,
   "metadata": {
    "collapsed": true
   },
   "outputs": [],
   "source": [
    "vs = Vectors.sparse(10, [1,5], [12.0, -7])"
   ]
  },
  {
   "cell_type": "code",
   "execution_count": 9,
   "metadata": {},
   "outputs": [
    {
     "data": {
      "text/plain": [
       "SparseVector(10, {1: 12.0, 5: -7.0})"
      ]
     },
     "execution_count": 9,
     "metadata": {},
     "output_type": "execute_result"
    }
   ],
   "source": [
    "vs"
   ]
  },
  {
   "cell_type": "code",
   "execution_count": 10,
   "metadata": {},
   "outputs": [
    {
     "data": {
      "text/plain": [
       "SparseVector(10, {2: 5.0, 5: 3.0})"
      ]
     },
     "execution_count": 10,
     "metadata": {},
     "output_type": "execute_result"
    }
   ],
   "source": [
    "us = Vectors.sparse(10, [2,5], [5, 3])\n",
    "us"
   ]
  },
  {
   "cell_type": "code",
   "execution_count": 11,
   "metadata": {},
   "outputs": [
    {
     "data": {
      "text/plain": [
       "-21.0"
      ]
     },
     "execution_count": 11,
     "metadata": {},
     "output_type": "execute_result"
    }
   ],
   "source": [
    "vs.dot(us)"
   ]
  },
  {
   "cell_type": "code",
   "execution_count": 12,
   "metadata": {
    "collapsed": true
   },
   "outputs": [],
   "source": [
    "vv = Vectors.dense([1,2,3,4,5,6,7,8,9,10])"
   ]
  },
  {
   "cell_type": "code",
   "execution_count": 13,
   "metadata": {},
   "outputs": [
    {
     "data": {
      "text/plain": [
       "-18.0"
      ]
     },
     "execution_count": 13,
     "metadata": {},
     "output_type": "execute_result"
    }
   ],
   "source": [
    "vs.dot(vv)"
   ]
  },
  {
   "cell_type": "code",
   "execution_count": 14,
   "metadata": {},
   "outputs": [
    {
     "data": {
      "text/plain": [
       "array([  0.,  12.,   0.,   0.,   0.,  -7.,   0.,   0.,   0.,   0.])"
      ]
     },
     "execution_count": 14,
     "metadata": {},
     "output_type": "execute_result"
    }
   ],
   "source": [
    "vs.toArray()"
   ]
  },
  {
   "cell_type": "markdown",
   "metadata": {},
   "source": [
    "** more on vectors **"
   ]
  },
  {
   "cell_type": "code",
   "execution_count": 15,
   "metadata": {},
   "outputs": [
    {
     "data": {
      "text/plain": [
       "DenseVector([1.0, 5.0, 3.0, 2.0, 0.0, 0.0, 7.0])"
      ]
     },
     "execution_count": 15,
     "metadata": {},
     "output_type": "execute_result"
    }
   ],
   "source": [
    "Vectors.parse(\"[1,5,3,2,0,0,7]\")"
   ]
  },
  {
   "cell_type": "code",
   "execution_count": 16,
   "metadata": {},
   "outputs": [
    {
     "data": {
      "text/plain": [
       "SparseVector(100, {1: 1.0, 5: 2.0, 25: 2.0})"
      ]
     },
     "execution_count": 16,
     "metadata": {},
     "output_type": "execute_result"
    }
   ],
   "source": [
    "Vectors.parse(\"(100, [1,5,25], [1,2,2])\")"
   ]
  },
  {
   "cell_type": "code",
   "execution_count": 17,
   "metadata": {},
   "outputs": [
    {
     "data": {
      "text/plain": [
       "2.2360679774997898"
      ]
     },
     "execution_count": 17,
     "metadata": {},
     "output_type": "execute_result"
    }
   ],
   "source": [
    "v.norm(2)"
   ]
  },
  {
   "cell_type": "code",
   "execution_count": 18,
   "metadata": {},
   "outputs": [
    {
     "data": {
      "text/plain": [
       "8.0"
      ]
     },
     "execution_count": 18,
     "metadata": {},
     "output_type": "execute_result"
    }
   ],
   "source": [
    "v.squared_distance(u)"
   ]
  },
  {
   "cell_type": "markdown",
   "metadata": {},
   "source": [
    "## matrices"
   ]
  },
  {
   "cell_type": "code",
   "execution_count": 19,
   "metadata": {},
   "outputs": [
    {
     "data": {
      "text/plain": [
       "DenseMatrix(2, 2, [0.0, 1.0, 2.0, 3.0], False)"
      ]
     },
     "execution_count": 19,
     "metadata": {},
     "output_type": "execute_result"
    }
   ],
   "source": [
    "m = Matrices.dense(2, 2, range(4))\n",
    "m"
   ]
  },
  {
   "cell_type": "code",
   "execution_count": 20,
   "metadata": {},
   "outputs": [
    {
     "data": {
      "text/plain": [
       "array([[ 0.,  2.],\n",
       "       [ 1.,  3.]])"
      ]
     },
     "execution_count": 20,
     "metadata": {},
     "output_type": "execute_result"
    }
   ],
   "source": [
    "m.toArray()"
   ]
  },
  {
   "cell_type": "code",
   "execution_count": 21,
   "metadata": {},
   "outputs": [
    {
     "data": {
      "text/plain": [
       "array([ 0.,  1.,  2.,  3.])"
      ]
     },
     "execution_count": 21,
     "metadata": {},
     "output_type": "execute_result"
    }
   ],
   "source": [
    "m.values"
   ]
  },
  {
   "cell_type": "markdown",
   "metadata": {},
   "source": [
    "** [1.4] added sparse matrices ** https://spark.apache.org/docs/latest/api/python/pyspark.mllib.html#pyspark.mllib.linalg.SparseMatrix\n",
    "\n",
    "** [1.5] added distributed matrices ** https://spark.apache.org/docs/latest/api/python/pyspark.mllib.html#module-pyspark.mllib.linalg.distributed"
   ]
  },
  {
   "cell_type": "code",
   "execution_count": 22,
   "metadata": {},
   "outputs": [
    {
     "data": {
      "text/plain": [
       "SparseMatrix(2, 2, [0, 1, 3], [1, 0, 1], [1.0, 2.0, 3.0], False)"
      ]
     },
     "execution_count": 22,
     "metadata": {},
     "output_type": "execute_result"
    }
   ],
   "source": [
    "m.toSparse()"
   ]
  },
  {
   "cell_type": "code",
   "execution_count": 23,
   "metadata": {},
   "outputs": [
    {
     "data": {
      "text/plain": [
       "DenseMatrix(2, 3, [1.0, 2.0, 0.0, 0.0, 3.0, 0.0], False)"
      ]
     },
     "execution_count": 23,
     "metadata": {},
     "output_type": "execute_result"
    }
   ],
   "source": [
    "ms = Matrices.dense(2,3,[1.0,2.0,0.0,0.0,3.0,0.0])\n",
    "ms"
   ]
  },
  {
   "cell_type": "code",
   "execution_count": 24,
   "metadata": {},
   "outputs": [
    {
     "data": {
      "text/plain": [
       "array([[ 1.,  0.,  3.],\n",
       "       [ 2.,  0.,  0.]])"
      ]
     },
     "execution_count": 24,
     "metadata": {},
     "output_type": "execute_result"
    }
   ],
   "source": [
    "ms.toArray()"
   ]
  },
  {
   "cell_type": "markdown",
   "metadata": {},
   "source": [
    "CSC format \n",
    "\n",
    "http://docs.scipy.org/doc/scipy/reference/generated/scipy.sparse.csc_matrix.html\n",
    "\n",
    "http://www.scipy-lectures.org/advanced/scipy_sparse/csc_matrix.html\n"
   ]
  },
  {
   "cell_type": "code",
   "execution_count": 25,
   "metadata": {},
   "outputs": [
    {
     "data": {
      "text/plain": [
       "array([[ 1.,  0.,  3.],\n",
       "       [ 2.,  0.,  0.]])"
      ]
     },
     "execution_count": 25,
     "metadata": {},
     "output_type": "execute_result"
    }
   ],
   "source": [
    "Matrices.sparse(2, 3, [0,2,2,3], [0,1,0], [1.0,2.0,3.0]).toArray()"
   ]
  },
  {
   "cell_type": "code",
   "execution_count": 26,
   "metadata": {},
   "outputs": [
    {
     "data": {
      "text/plain": [
       "array([[ 1.,  0.,  0.,  0.],\n",
       "       [ 0.,  2.,  0.,  0.],\n",
       "       [ 0.,  0.,  3.,  0.],\n",
       "       [ 0.,  0.,  0.,  4.]])"
      ]
     },
     "execution_count": 26,
     "metadata": {},
     "output_type": "execute_result"
    }
   ],
   "source": [
    "Matrices.sparse(4, 4, [0,1,2,3,4], [0, 1, 2, 3], [1,2,3,4]).toArray()"
   ]
  },
  {
   "cell_type": "code",
   "execution_count": 27,
   "metadata": {},
   "outputs": [
    {
     "data": {
      "text/plain": [
       "array([[ 1.,  0.,  3.,  0.],\n",
       "       [ 2.,  0.,  0.,  0.],\n",
       "       [ 0.,  0.,  0.,  0.],\n",
       "       [ 0.,  0.,  0.,  4.]])"
      ]
     },
     "execution_count": 27,
     "metadata": {},
     "output_type": "execute_result"
    }
   ],
   "source": [
    "Matrices.sparse(4, 4, [0,2,2,3,4], [0, 1, 0, 3], [1,2,3,4]).toArray()"
   ]
  },
  {
   "cell_type": "code",
   "execution_count": 28,
   "metadata": {},
   "outputs": [
    {
     "data": {
      "text/plain": [
       "array([[  0.,   0.,  12.],\n",
       "       [  0.,   2.,   0.],\n",
       "       [  3.,   0.,   2.]])"
      ]
     },
     "execution_count": 28,
     "metadata": {},
     "output_type": "execute_result"
    }
   ],
   "source": [
    "Matrices.sparse(3,3, [0,1,2,4], [2,1,2,0], [3.0,2.0,2.0,12.0]).toArray()"
   ]
  },
  {
   "cell_type": "markdown",
   "metadata": {},
   "source": [
    "## TF\\*IDF"
   ]
  },
  {
   "cell_type": "markdown",
   "metadata": {},
   "source": [
    "https://spark.apache.org/docs/latest/mllib-feature-extraction.html\n",
    "\n",
    "https://spark.apache.org/docs/latest/api/python/pyspark.mllib.html#module-pyspark.mllib.feature"
   ]
  },
  {
   "cell_type": "markdown",
   "metadata": {},
   "source": [
    "HashingTF takes the hash code of each word modulo a desired vector size, S, and thus maps each word to a number between 0 and S–1. This always yields an S-dimensional vector, and in practice is quite robust even if multiple\n",
    "words map to the same hash code. The MLlib developers recommend setting S between 2^18 and 2^20"
   ]
  },
  {
   "cell_type": "markdown",
   "metadata": {},
   "source": [
    "** Toy example **"
   ]
  },
  {
   "cell_type": "code",
   "execution_count": 29,
   "metadata": {
    "collapsed": true
   },
   "outputs": [],
   "source": [
    "from pyspark.mllib.feature import HashingTF\n",
    "from pyspark.mllib.feature import IDF"
   ]
  },
  {
   "cell_type": "code",
   "execution_count": 30,
   "metadata": {
    "collapsed": true
   },
   "outputs": [],
   "source": [
    "tf = HashingTF(100)\n",
    "doc1 = \"dog dog cat dog bird cat\"\n",
    "doc1_words = doc1.split()"
   ]
  },
  {
   "cell_type": "code",
   "execution_count": 31,
   "metadata": {},
   "outputs": [
    {
     "data": {
      "text/plain": [
       "['dog', 'dog', 'cat', 'dog', 'bird', 'cat']"
      ]
     },
     "execution_count": 31,
     "metadata": {},
     "output_type": "execute_result"
    }
   ],
   "source": [
    "doc1_words"
   ]
  },
  {
   "cell_type": "code",
   "execution_count": 32,
   "metadata": {
    "collapsed": true
   },
   "outputs": [],
   "source": [
    "doc2 = \"dog ate cat\"\n",
    "doc2_words = doc2.split()"
   ]
  },
  {
   "cell_type": "code",
   "execution_count": 33,
   "metadata": {},
   "outputs": [
    {
     "data": {
      "text/plain": [
       "['dog', 'ate', 'cat']"
      ]
     },
     "execution_count": 33,
     "metadata": {},
     "output_type": "execute_result"
    }
   ],
   "source": [
    "doc2_words"
   ]
  },
  {
   "cell_type": "code",
   "execution_count": 34,
   "metadata": {
    "collapsed": true
   },
   "outputs": [],
   "source": [
    "doc_tf = tf.transform(sc.parallelize([doc1_words, doc2_words]))"
   ]
  },
  {
   "cell_type": "code",
   "execution_count": 35,
   "metadata": {},
   "outputs": [
    {
     "data": {
      "text/plain": [
       "[SparseVector(100, {7: 3.0, 56: 1.0, 84: 2.0}),\n",
       " SparseVector(100, {7: 1.0, 75: 1.0, 84: 1.0})]"
      ]
     },
     "execution_count": 35,
     "metadata": {},
     "output_type": "execute_result"
    }
   ],
   "source": [
    "doc_tf.collect()"
   ]
  },
  {
   "cell_type": "code",
   "execution_count": 36,
   "metadata": {
    "collapsed": true
   },
   "outputs": [],
   "source": [
    "idf = IDF()\n",
    "model = idf.fit(doc_tf)"
   ]
  },
  {
   "cell_type": "code",
   "execution_count": 37,
   "metadata": {
    "collapsed": true
   },
   "outputs": [],
   "source": [
    "tfidf = model.transform(doc_tf)"
   ]
  },
  {
   "cell_type": "code",
   "execution_count": 38,
   "metadata": {},
   "outputs": [
    {
     "data": {
      "text/plain": [
       "[SparseVector(100, {7: 0.0, 56: 0.4055, 84: 0.0}),\n",
       " SparseVector(100, {7: 0.0, 75: 0.4055, 84: 0.0})]"
      ]
     },
     "execution_count": 38,
     "metadata": {},
     "output_type": "execute_result"
    }
   ],
   "source": [
    "tfidf.collect()"
   ]
  },
  {
   "cell_type": "markdown",
   "metadata": {},
   "source": [
    "** More real-life example **"
   ]
  },
  {
   "cell_type": "code",
   "execution_count": 39,
   "metadata": {
    "collapsed": true
   },
   "outputs": [],
   "source": [
    "doc1 = \"\"\"\n",
    "An information retrieval process begins when a user enters a query into the system. Queries are formal statements of information needs, for example search strings in web search engines. In information retrieval a query does not uniquely identify a single object in the collection. Instead, several objects may match the query, perhaps with different degrees of relevancy.\n",
    "\n",
    "An object is an entity that is represented by information in a database. User queries are matched against the database information. Depending on the application the data objects may be, for example, text documents, images,[1] audio,[2] mind maps[3] or videos. Often the documents themselves are not kept or stored directly in the IR system, but are instead represented in the system by document surrogates or metadata.\n",
    "\n",
    "Most IR systems compute a numeric score on how well each object in the database matches the query, and rank the objects according to this value. The top ranking objects are then shown to the user. The process may then be iterated if the user wishes to refine the query.[4]\n",
    "\"\"\"\n",
    "\n",
    "doc2 = \"\"\"\n",
    "The idea of using computers to search for relevant pieces of information was popularized in the article As We May Think by Vannevar Bush in 1945.[5] The first automated information retrieval systems were introduced in the 1950s and 1960s. By 1970 several different techniques had been shown to perform well on small text corpora such as the Cranfield collection (several thousand documents).[5] Large-scale retrieval systems, such as the Lockheed Dialog system, came into use early in the 1970s.\n",
    "\n",
    "In 1992, the US Department of Defense along with the National Institute of Standards and Technology (NIST), cosponsored the Text Retrieval Conference (TREC) as part of the TIPSTER text program. The aim of this was to look into the information retrieval community by supplying the infrastructure that was needed for evaluation of text retrieval methodologies on a very large text collection. This catalyzed research on methods that scale to huge corpora. The introduction of web search engines has boosted the need for very large scale retrieval systems even further.\n",
    "\"\"\"\n",
    "\n",
    "doc3 = \"\"\"\n",
    "Information retrieval is a wide, often loosely-defined term but in these pages I shall be concerned only with automatic information retrieval systems. Automatic as opposed to manual and information as opposed to data or fact. Unfortunately the word information can be very misleading. In the context of information retrieval (IR), information, in the technical meaning given in Shannon's theory of communication, is not readily measured (Shannon and Weaver[1]). In fact, in many cases one can adequately describe the kind of retrieval by simply substituting 'document' for 'information'. Nevertheless, 'information retrieval' has become accepted as a description of the kind of work published by Cleverdon, Salton, Sparck Jones, Lancaster and others. A perfectly straightforward definition along these lines is given by Lancaster[2]: 'Information retrieval is the term conventionally, though somewhat inaccurately, applied to the type of activity discussed in this volume. An information retrieval system does not inform (i.e. change the knowledge of) the user on the subject of his inquiry. It merely informs on the existence (or non-existence) and whereabouts of documents relating to his request.' This specifically excludes Question-Answering systems as typified by Winograd[3] and those described by Minsky[4]]. It also excludes data retrieval systems such as used by, say, the stock exchange for on-line quotations.\n",
    "\"\"\""
   ]
  },
  {
   "cell_type": "code",
   "execution_count": 40,
   "metadata": {},
   "outputs": [
    {
     "data": {
      "text/plain": [
       "['\\nAn information retrieval process begins when a user enters a query into the system. Queries are formal statements of information needs, for example search strings in web search engines. In information retrieval a query does not uniquely identify a single object in the collection. Instead, several objects may match the query, perhaps with different degrees of relevancy.\\n\\nAn object is an entity that is represented by information in a database. User queries are matched against the database information. Depending on the application the data objects may be, for example, text documents, images,[1] audio,[2] mind maps[3] or videos. Often the documents themselves are not kept or stored directly in the IR system, but are instead represented in the system by document surrogates or metadata.\\n\\nMost IR systems compute a numeric score on how well each object in the database matches the query, and rank the objects according to this value. The top ranking objects are then shown to the user. The process may then be iterated if the user wishes to refine the query.[4]\\n',\n",
       " '\\nThe idea of using computers to search for relevant pieces of information was popularized in the article As We May Think by Vannevar Bush in 1945.[5] The first automated information retrieval systems were introduced in the 1950s and 1960s. By 1970 several different techniques had been shown to perform well on small text corpora such as the Cranfield collection (several thousand documents).[5] Large-scale retrieval systems, such as the Lockheed Dialog system, came into use early in the 1970s.\\n\\nIn 1992, the US Department of Defense along with the National Institute of Standards and Technology (NIST), cosponsored the Text Retrieval Conference (TREC) as part of the TIPSTER text program. The aim of this was to look into the information retrieval community by supplying the infrastructure that was needed for evaluation of text retrieval methodologies on a very large text collection. This catalyzed research on methods that scale to huge corpora. The introduction of web search engines has boosted the need for very large scale retrieval systems even further.\\n',\n",
       " \"\\nInformation retrieval is a wide, often loosely-defined term but in these pages I shall be concerned only with automatic information retrieval systems. Automatic as opposed to manual and information as opposed to data or fact. Unfortunately the word information can be very misleading. In the context of information retrieval (IR), information, in the technical meaning given in Shannon's theory of communication, is not readily measured (Shannon and Weaver[1]). In fact, in many cases one can adequately describe the kind of retrieval by simply substituting 'document' for 'information'. Nevertheless, 'information retrieval' has become accepted as a description of the kind of work published by Cleverdon, Salton, Sparck Jones, Lancaster and others. A perfectly straightforward definition along these lines is given by Lancaster[2]: 'Information retrieval is the term conventionally, though somewhat inaccurately, applied to the type of activity discussed in this volume. An information retrieval system does not inform (i.e. change the knowledge of) the user on the subject of his inquiry. It merely informs on the existence (or non-existence) and whereabouts of documents relating to his request.' This specifically excludes Question-Answering systems as typified by Winograd[3] and those described by Minsky[4]]. It also excludes data retrieval systems such as used by, say, the stock exchange for on-line quotations.\\n\"]"
      ]
     },
     "execution_count": 40,
     "metadata": {},
     "output_type": "execute_result"
    }
   ],
   "source": [
    "docs = sc.parallelize([doc1, doc2, doc3])\n",
    "docs.collect()"
   ]
  },
  {
   "cell_type": "code",
   "execution_count": 41,
   "metadata": {
    "collapsed": true
   },
   "outputs": [
    {
     "data": {
      "text/plain": [
       "[['\\nAn',\n",
       "  'information',\n",
       "  'retrieval',\n",
       "  'process',\n",
       "  'begins',\n",
       "  'when',\n",
       "  'a',\n",
       "  'user',\n",
       "  'enters',\n",
       "  'a',\n",
       "  'query',\n",
       "  'into',\n",
       "  'the',\n",
       "  'system.',\n",
       "  'Queries',\n",
       "  'are',\n",
       "  'formal',\n",
       "  'statements',\n",
       "  'of',\n",
       "  'information',\n",
       "  'needs,',\n",
       "  'for',\n",
       "  'example',\n",
       "  'search',\n",
       "  'strings',\n",
       "  'in',\n",
       "  'web',\n",
       "  'search',\n",
       "  'engines.',\n",
       "  'In',\n",
       "  'information',\n",
       "  'retrieval',\n",
       "  'a',\n",
       "  'query',\n",
       "  'does',\n",
       "  'not',\n",
       "  'uniquely',\n",
       "  'identify',\n",
       "  'a',\n",
       "  'single',\n",
       "  'object',\n",
       "  'in',\n",
       "  'the',\n",
       "  'collection.',\n",
       "  'Instead,',\n",
       "  'several',\n",
       "  'objects',\n",
       "  'may',\n",
       "  'match',\n",
       "  'the',\n",
       "  'query,',\n",
       "  'perhaps',\n",
       "  'with',\n",
       "  'different',\n",
       "  'degrees',\n",
       "  'of',\n",
       "  'relevancy.\\n\\nAn',\n",
       "  'object',\n",
       "  'is',\n",
       "  'an',\n",
       "  'entity',\n",
       "  'that',\n",
       "  'is',\n",
       "  'represented',\n",
       "  'by',\n",
       "  'information',\n",
       "  'in',\n",
       "  'a',\n",
       "  'database.',\n",
       "  'User',\n",
       "  'queries',\n",
       "  'are',\n",
       "  'matched',\n",
       "  'against',\n",
       "  'the',\n",
       "  'database',\n",
       "  'information.',\n",
       "  'Depending',\n",
       "  'on',\n",
       "  'the',\n",
       "  'application',\n",
       "  'the',\n",
       "  'data',\n",
       "  'objects',\n",
       "  'may',\n",
       "  'be,',\n",
       "  'for',\n",
       "  'example,',\n",
       "  'text',\n",
       "  'documents,',\n",
       "  'images,[1]',\n",
       "  'audio,[2]',\n",
       "  'mind',\n",
       "  'maps[3]',\n",
       "  'or',\n",
       "  'videos.',\n",
       "  'Often',\n",
       "  'the',\n",
       "  'documents',\n",
       "  'themselves',\n",
       "  'are',\n",
       "  'not',\n",
       "  'kept',\n",
       "  'or',\n",
       "  'stored',\n",
       "  'directly',\n",
       "  'in',\n",
       "  'the',\n",
       "  'IR',\n",
       "  'system,',\n",
       "  'but',\n",
       "  'are',\n",
       "  'instead',\n",
       "  'represented',\n",
       "  'in',\n",
       "  'the',\n",
       "  'system',\n",
       "  'by',\n",
       "  'document',\n",
       "  'surrogates',\n",
       "  'or',\n",
       "  'metadata.\\n\\nMost',\n",
       "  'IR',\n",
       "  'systems',\n",
       "  'compute',\n",
       "  'a',\n",
       "  'numeric',\n",
       "  'score',\n",
       "  'on',\n",
       "  'how',\n",
       "  'well',\n",
       "  'each',\n",
       "  'object',\n",
       "  'in',\n",
       "  'the',\n",
       "  'database',\n",
       "  'matches',\n",
       "  'the',\n",
       "  'query,',\n",
       "  'and',\n",
       "  'rank',\n",
       "  'the',\n",
       "  'objects',\n",
       "  'according',\n",
       "  'to',\n",
       "  'this',\n",
       "  'value.',\n",
       "  'The',\n",
       "  'top',\n",
       "  'ranking',\n",
       "  'objects',\n",
       "  'are',\n",
       "  'then',\n",
       "  'shown',\n",
       "  'to',\n",
       "  'the',\n",
       "  'user.',\n",
       "  'The',\n",
       "  'process',\n",
       "  'may',\n",
       "  'then',\n",
       "  'be',\n",
       "  'iterated',\n",
       "  'if',\n",
       "  'the',\n",
       "  'user',\n",
       "  'wishes',\n",
       "  'to',\n",
       "  'refine',\n",
       "  'the',\n",
       "  'query.[4]\\n'],\n",
       " ['\\nThe',\n",
       "  'idea',\n",
       "  'of',\n",
       "  'using',\n",
       "  'computers',\n",
       "  'to',\n",
       "  'search',\n",
       "  'for',\n",
       "  'relevant',\n",
       "  'pieces',\n",
       "  'of',\n",
       "  'information',\n",
       "  'was',\n",
       "  'popularized',\n",
       "  'in',\n",
       "  'the',\n",
       "  'article',\n",
       "  'As',\n",
       "  'We',\n",
       "  'May',\n",
       "  'Think',\n",
       "  'by',\n",
       "  'Vannevar',\n",
       "  'Bush',\n",
       "  'in',\n",
       "  '1945.[5]',\n",
       "  'The',\n",
       "  'first',\n",
       "  'automated',\n",
       "  'information',\n",
       "  'retrieval',\n",
       "  'systems',\n",
       "  'were',\n",
       "  'introduced',\n",
       "  'in',\n",
       "  'the',\n",
       "  '1950s',\n",
       "  'and',\n",
       "  '1960s.',\n",
       "  'By',\n",
       "  '1970',\n",
       "  'several',\n",
       "  'different',\n",
       "  'techniques',\n",
       "  'had',\n",
       "  'been',\n",
       "  'shown',\n",
       "  'to',\n",
       "  'perform',\n",
       "  'well',\n",
       "  'on',\n",
       "  'small',\n",
       "  'text',\n",
       "  'corpora',\n",
       "  'such',\n",
       "  'as',\n",
       "  'the',\n",
       "  'Cranfield',\n",
       "  'collection',\n",
       "  '(several',\n",
       "  'thousand',\n",
       "  'documents).[5]',\n",
       "  'Large-scale',\n",
       "  'retrieval',\n",
       "  'systems,',\n",
       "  'such',\n",
       "  'as',\n",
       "  'the',\n",
       "  'Lockheed',\n",
       "  'Dialog',\n",
       "  'system,',\n",
       "  'came',\n",
       "  'into',\n",
       "  'use',\n",
       "  'early',\n",
       "  'in',\n",
       "  'the',\n",
       "  '1970s.\\n\\nIn',\n",
       "  '1992,',\n",
       "  'the',\n",
       "  'US',\n",
       "  'Department',\n",
       "  'of',\n",
       "  'Defense',\n",
       "  'along',\n",
       "  'with',\n",
       "  'the',\n",
       "  'National',\n",
       "  'Institute',\n",
       "  'of',\n",
       "  'Standards',\n",
       "  'and',\n",
       "  'Technology',\n",
       "  '(NIST),',\n",
       "  'cosponsored',\n",
       "  'the',\n",
       "  'Text',\n",
       "  'Retrieval',\n",
       "  'Conference',\n",
       "  '(TREC)',\n",
       "  'as',\n",
       "  'part',\n",
       "  'of',\n",
       "  'the',\n",
       "  'TIPSTER',\n",
       "  'text',\n",
       "  'program.',\n",
       "  'The',\n",
       "  'aim',\n",
       "  'of',\n",
       "  'this',\n",
       "  'was',\n",
       "  'to',\n",
       "  'look',\n",
       "  'into',\n",
       "  'the',\n",
       "  'information',\n",
       "  'retrieval',\n",
       "  'community',\n",
       "  'by',\n",
       "  'supplying',\n",
       "  'the',\n",
       "  'infrastructure',\n",
       "  'that',\n",
       "  'was',\n",
       "  'needed',\n",
       "  'for',\n",
       "  'evaluation',\n",
       "  'of',\n",
       "  'text',\n",
       "  'retrieval',\n",
       "  'methodologies',\n",
       "  'on',\n",
       "  'a',\n",
       "  'very',\n",
       "  'large',\n",
       "  'text',\n",
       "  'collection.',\n",
       "  'This',\n",
       "  'catalyzed',\n",
       "  'research',\n",
       "  'on',\n",
       "  'methods',\n",
       "  'that',\n",
       "  'scale',\n",
       "  'to',\n",
       "  'huge',\n",
       "  'corpora.',\n",
       "  'The',\n",
       "  'introduction',\n",
       "  'of',\n",
       "  'web',\n",
       "  'search',\n",
       "  'engines',\n",
       "  'has',\n",
       "  'boosted',\n",
       "  'the',\n",
       "  'need',\n",
       "  'for',\n",
       "  'very',\n",
       "  'large',\n",
       "  'scale',\n",
       "  'retrieval',\n",
       "  'systems',\n",
       "  'even',\n",
       "  'further.\\n'],\n",
       " ['\\nInformation',\n",
       "  'retrieval',\n",
       "  'is',\n",
       "  'a',\n",
       "  'wide,',\n",
       "  'often',\n",
       "  'loosely-defined',\n",
       "  'term',\n",
       "  'but',\n",
       "  'in',\n",
       "  'these',\n",
       "  'pages',\n",
       "  'I',\n",
       "  'shall',\n",
       "  'be',\n",
       "  'concerned',\n",
       "  'only',\n",
       "  'with',\n",
       "  'automatic',\n",
       "  'information',\n",
       "  'retrieval',\n",
       "  'systems.',\n",
       "  'Automatic',\n",
       "  'as',\n",
       "  'opposed',\n",
       "  'to',\n",
       "  'manual',\n",
       "  'and',\n",
       "  'information',\n",
       "  'as',\n",
       "  'opposed',\n",
       "  'to',\n",
       "  'data',\n",
       "  'or',\n",
       "  'fact.',\n",
       "  'Unfortunately',\n",
       "  'the',\n",
       "  'word',\n",
       "  'information',\n",
       "  'can',\n",
       "  'be',\n",
       "  'very',\n",
       "  'misleading.',\n",
       "  'In',\n",
       "  'the',\n",
       "  'context',\n",
       "  'of',\n",
       "  'information',\n",
       "  'retrieval',\n",
       "  '(IR),',\n",
       "  'information,',\n",
       "  'in',\n",
       "  'the',\n",
       "  'technical',\n",
       "  'meaning',\n",
       "  'given',\n",
       "  'in',\n",
       "  \"Shannon's\",\n",
       "  'theory',\n",
       "  'of',\n",
       "  'communication,',\n",
       "  'is',\n",
       "  'not',\n",
       "  'readily',\n",
       "  'measured',\n",
       "  '(Shannon',\n",
       "  'and',\n",
       "  'Weaver[1]).',\n",
       "  'In',\n",
       "  'fact,',\n",
       "  'in',\n",
       "  'many',\n",
       "  'cases',\n",
       "  'one',\n",
       "  'can',\n",
       "  'adequately',\n",
       "  'describe',\n",
       "  'the',\n",
       "  'kind',\n",
       "  'of',\n",
       "  'retrieval',\n",
       "  'by',\n",
       "  'simply',\n",
       "  'substituting',\n",
       "  \"'document'\",\n",
       "  'for',\n",
       "  \"'information'.\",\n",
       "  'Nevertheless,',\n",
       "  \"'information\",\n",
       "  \"retrieval'\",\n",
       "  'has',\n",
       "  'become',\n",
       "  'accepted',\n",
       "  'as',\n",
       "  'a',\n",
       "  'description',\n",
       "  'of',\n",
       "  'the',\n",
       "  'kind',\n",
       "  'of',\n",
       "  'work',\n",
       "  'published',\n",
       "  'by',\n",
       "  'Cleverdon,',\n",
       "  'Salton,',\n",
       "  'Sparck',\n",
       "  'Jones,',\n",
       "  'Lancaster',\n",
       "  'and',\n",
       "  'others.',\n",
       "  'A',\n",
       "  'perfectly',\n",
       "  'straightforward',\n",
       "  'definition',\n",
       "  'along',\n",
       "  'these',\n",
       "  'lines',\n",
       "  'is',\n",
       "  'given',\n",
       "  'by',\n",
       "  'Lancaster[2]:',\n",
       "  \"'Information\",\n",
       "  'retrieval',\n",
       "  'is',\n",
       "  'the',\n",
       "  'term',\n",
       "  'conventionally,',\n",
       "  'though',\n",
       "  'somewhat',\n",
       "  'inaccurately,',\n",
       "  'applied',\n",
       "  'to',\n",
       "  'the',\n",
       "  'type',\n",
       "  'of',\n",
       "  'activity',\n",
       "  'discussed',\n",
       "  'in',\n",
       "  'this',\n",
       "  'volume.',\n",
       "  'An',\n",
       "  'information',\n",
       "  'retrieval',\n",
       "  'system',\n",
       "  'does',\n",
       "  'not',\n",
       "  'inform',\n",
       "  '(i.e.',\n",
       "  'change',\n",
       "  'the',\n",
       "  'knowledge',\n",
       "  'of)',\n",
       "  'the',\n",
       "  'user',\n",
       "  'on',\n",
       "  'the',\n",
       "  'subject',\n",
       "  'of',\n",
       "  'his',\n",
       "  'inquiry.',\n",
       "  'It',\n",
       "  'merely',\n",
       "  'informs',\n",
       "  'on',\n",
       "  'the',\n",
       "  'existence',\n",
       "  '(or',\n",
       "  'non-existence)',\n",
       "  'and',\n",
       "  'whereabouts',\n",
       "  'of',\n",
       "  'documents',\n",
       "  'relating',\n",
       "  'to',\n",
       "  'his',\n",
       "  \"request.'\",\n",
       "  'This',\n",
       "  'specifically',\n",
       "  'excludes',\n",
       "  'Question-Answering',\n",
       "  'systems',\n",
       "  'as',\n",
       "  'typified',\n",
       "  'by',\n",
       "  'Winograd[3]',\n",
       "  'and',\n",
       "  'those',\n",
       "  'described',\n",
       "  'by',\n",
       "  'Minsky[4]].',\n",
       "  'It',\n",
       "  'also',\n",
       "  'excludes',\n",
       "  'data',\n",
       "  'retrieval',\n",
       "  'systems',\n",
       "  'such',\n",
       "  'as',\n",
       "  'used',\n",
       "  'by,',\n",
       "  'say,',\n",
       "  'the',\n",
       "  'stock',\n",
       "  'exchange',\n",
       "  'for',\n",
       "  'on-line',\n",
       "  'quotations.\\n']]"
      ]
     },
     "execution_count": 41,
     "metadata": {},
     "output_type": "execute_result"
    }
   ],
   "source": [
    "bag_of_words = docs.map(lambda l: l.split(\" \"))\n",
    "bag_of_words.collect()"
   ]
  },
  {
   "cell_type": "code",
   "execution_count": 42,
   "metadata": {},
   "outputs": [
    {
     "data": {
      "text/plain": [
       "[SparseVector(100, {0: 3.0, 1: 2.0, 2: 1.0, 3: 6.0, 4: 2.0, 6: 1.0, 7: 1.0, 10: 2.0, 11: 1.0, 12: 2.0, 15: 1.0, 16: 1.0, 17: 15.0, 18: 1.0, 19: 3.0, 20: 5.0, 21: 1.0, 24: 7.0, 25: 1.0, 26: 3.0, 27: 4.0, 30: 1.0, 32: 1.0, 33: 1.0, 34: 2.0, 35: 1.0, 37: 2.0, 38: 1.0, 39: 1.0, 40: 1.0, 41: 4.0, 42: 1.0, 46: 1.0, 51: 2.0, 52: 7.0, 54: 1.0, 56: 2.0, 57: 8.0, 58: 1.0, 60: 1.0, 61: 1.0, 62: 3.0, 63: 1.0, 64: 2.0, 65: 4.0, 66: 1.0, 68: 1.0, 69: 4.0, 70: 3.0, 71: 1.0, 72: 1.0, 73: 1.0, 77: 1.0, 79: 1.0, 80: 3.0, 83: 5.0, 84: 5.0, 86: 2.0, 87: 4.0, 89: 7.0, 91: 4.0, 92: 1.0, 94: 3.0, 95: 7.0, 96: 1.0, 97: 2.0}),\n",
       " SparseVector(100, {0: 1.0, 1: 4.0, 2: 1.0, 3: 1.0, 4: 1.0, 5: 1.0, 8: 1.0, 9: 1.0, 10: 3.0, 11: 3.0, 13: 3.0, 14: 2.0, 15: 1.0, 16: 1.0, 17: 12.0, 18: 2.0, 19: 1.0, 21: 2.0, 25: 3.0, 26: 2.0, 27: 10.0, 28: 1.0, 30: 1.0, 31: 1.0, 33: 2.0, 34: 3.0, 37: 5.0, 38: 1.0, 40: 4.0, 41: 2.0, 42: 2.0, 46: 1.0, 47: 1.0, 48: 1.0, 49: 2.0, 50: 2.0, 51: 1.0, 52: 5.0, 55: 1.0, 56: 3.0, 57: 1.0, 58: 1.0, 59: 1.0, 60: 1.0, 62: 6.0, 63: 1.0, 64: 2.0, 65: 5.0, 67: 1.0, 69: 4.0, 70: 2.0, 71: 3.0, 73: 1.0, 76: 2.0, 77: 3.0, 78: 1.0, 79: 2.0, 80: 8.0, 82: 2.0, 83: 2.0, 84: 3.0, 87: 2.0, 88: 2.0, 89: 2.0, 90: 1.0, 93: 2.0, 95: 3.0, 96: 1.0, 98: 5.0, 99: 1.0}),\n",
       " SparseVector(100, {0: 1.0, 1: 8.0, 2: 1.0, 3: 6.0, 4: 1.0, 5: 1.0, 6: 1.0, 7: 2.0, 8: 1.0, 9: 3.0, 10: 1.0, 11: 2.0, 12: 1.0, 13: 2.0, 14: 1.0, 16: 1.0, 17: 12.0, 18: 1.0, 19: 5.0, 20: 1.0, 21: 2.0, 22: 2.0, 25: 1.0, 26: 1.0, 27: 9.0, 28: 1.0, 29: 2.0, 30: 1.0, 31: 1.0, 32: 1.0, 33: 2.0, 34: 1.0, 35: 3.0, 39: 2.0, 41: 6.0, 42: 3.0, 45: 1.0, 46: 1.0, 47: 2.0, 48: 1.0, 49: 1.0, 51: 1.0, 52: 6.0, 53: 1.0, 54: 2.0, 56: 1.0, 58: 1.0, 60: 1.0, 61: 1.0, 62: 1.0, 63: 4.0, 64: 4.0, 65: 4.0, 67: 2.0, 68: 2.0, 69: 6.0, 70: 5.0, 72: 1.0, 73: 3.0, 74: 1.0, 75: 1.0, 76: 2.0, 78: 2.0, 80: 9.0, 82: 3.0, 83: 4.0, 84: 3.0, 86: 3.0, 87: 1.0, 88: 3.0, 89: 5.0, 90: 2.0, 92: 2.0, 93: 1.0, 94: 2.0, 95: 4.0, 96: 3.0, 97: 3.0, 98: 7.0, 99: 4.0})]"
      ]
     },
     "execution_count": 42,
     "metadata": {},
     "output_type": "execute_result"
    }
   ],
   "source": [
    "tfs = tf.transform(bag_of_words)\n",
    "tfs.collect()"
   ]
  },
  {
   "cell_type": "code",
   "execution_count": 43,
   "metadata": {
    "collapsed": true
   },
   "outputs": [],
   "source": [
    "idf = IDF()"
   ]
  },
  {
   "cell_type": "code",
   "execution_count": 44,
   "metadata": {},
   "outputs": [
    {
     "data": {
      "text/plain": [
       "<pyspark.mllib.feature.IDF at 0x7f8004084470>"
      ]
     },
     "execution_count": 44,
     "metadata": {},
     "output_type": "execute_result"
    }
   ],
   "source": [
    "idf"
   ]
  },
  {
   "cell_type": "code",
   "execution_count": 45,
   "metadata": {
    "collapsed": true
   },
   "outputs": [],
   "source": [
    "idf_model = idf.fit(tfs)"
   ]
  },
  {
   "cell_type": "code",
   "execution_count": 46,
   "metadata": {},
   "outputs": [
    {
     "data": {
      "text/plain": [
       "<pyspark.mllib.feature.IDFModel at 0x7f7ff6d006a0>"
      ]
     },
     "execution_count": 46,
     "metadata": {},
     "output_type": "execute_result"
    }
   ],
   "source": [
    "idf_model"
   ]
  },
  {
   "cell_type": "code",
   "execution_count": 47,
   "metadata": {
    "collapsed": true
   },
   "outputs": [],
   "source": [
    "tf_idf_vectors = idf_model.transform(tfs)"
   ]
  },
  {
   "cell_type": "code",
   "execution_count": 48,
   "metadata": {},
   "outputs": [
    {
     "data": {
      "text/plain": [
       "[SparseVector(100, {0: 0.0, 1: 0.0, 2: 0.0, 3: 0.0, 4: 0.0, 6: 0.2877, 7: 0.2877, 10: 0.0, 11: 0.0, 12: 0.5754, 15: 0.2877, 16: 0.0, 17: 0.0, 18: 0.0, 19: 0.0, 20: 1.4384, 21: 0.0, 24: 4.852, 25: 0.0, 26: 0.0, 27: 0.0, 30: 0.0, 32: 0.2877, 33: 0.0, 34: 0.0, 35: 0.2877, 37: 0.5754, 38: 0.2877, 39: 0.2877, 40: 0.2877, 41: 0.0, 42: 0.0, 46: 0.0, 51: 0.0, 52: 0.0, 54: 0.2877, 56: 0.0, 57: 2.3015, 58: 0.0, 60: 0.0, 61: 0.2877, 62: 0.0, 63: 0.0, 64: 0.0, 65: 0.0, 66: 0.6931, 68: 0.2877, 69: 0.0, 70: 0.0, 71: 0.2877, 72: 0.2877, 73: 0.0, 77: 0.2877, 79: 0.2877, 80: 0.0, 83: 0.0, 84: 0.0, 86: 0.5754, 87: 0.0, 89: 0.0, 91: 2.7726, 92: 0.2877, 94: 0.863, 95: 0.0, 96: 0.0, 97: 0.5754}),\n",
       " SparseVector(100, {0: 0.0, 1: 0.0, 2: 0.0, 3: 0.0, 4: 0.0, 5: 0.2877, 8: 0.2877, 9: 0.2877, 10: 0.0, 11: 0.0, 13: 0.863, 14: 0.5754, 15: 0.2877, 16: 0.0, 17: 0.0, 18: 0.0, 19: 0.0, 21: 0.0, 25: 0.0, 26: 0.0, 27: 0.0, 28: 0.2877, 30: 0.0, 31: 0.2877, 33: 0.0, 34: 0.0, 37: 1.4384, 38: 0.2877, 40: 1.1507, 41: 0.0, 42: 0.0, 46: 0.0, 47: 0.2877, 48: 0.2877, 49: 0.5754, 50: 1.3863, 51: 0.0, 52: 0.0, 55: 0.6931, 56: 0.0, 57: 0.2877, 58: 0.0, 59: 0.6931, 60: 0.0, 62: 0.0, 63: 0.0, 64: 0.0, 65: 0.0, 67: 0.2877, 69: 0.0, 70: 0.0, 71: 0.863, 73: 0.0, 76: 0.5754, 77: 0.863, 78: 0.2877, 79: 0.5754, 80: 0.0, 82: 0.5754, 83: 0.0, 84: 0.0, 87: 0.0, 88: 0.5754, 89: 0.0, 90: 0.2877, 93: 0.5754, 95: 0.0, 96: 0.0, 98: 1.4384, 99: 0.2877}),\n",
       " SparseVector(100, {0: 0.0, 1: 0.0, 2: 0.0, 3: 0.0, 4: 0.0, 5: 0.2877, 6: 0.2877, 7: 0.5754, 8: 0.2877, 9: 0.863, 10: 0.0, 11: 0.0, 12: 0.2877, 13: 0.5754, 14: 0.2877, 16: 0.0, 17: 0.0, 18: 0.0, 19: 0.0, 20: 0.2877, 21: 0.0, 22: 1.3863, 25: 0.0, 26: 0.0, 27: 0.0, 28: 0.2877, 29: 1.3863, 30: 0.0, 31: 0.2877, 32: 0.2877, 33: 0.0, 34: 0.0, 35: 0.863, 39: 0.5754, 41: 0.0, 42: 0.0, 45: 0.6931, 46: 0.0, 47: 0.5754, 48: 0.2877, 49: 0.2877, 51: 0.0, 52: 0.0, 53: 0.6931, 54: 0.5754, 56: 0.0, 58: 0.0, 60: 0.0, 61: 0.2877, 62: 0.0, 63: 0.0, 64: 0.0, 65: 0.0, 67: 0.5754, 68: 0.5754, 69: 0.0, 70: 0.0, 72: 0.2877, 73: 0.0, 74: 0.6931, 75: 0.6931, 76: 0.5754, 78: 0.5754, 80: 0.0, 82: 0.863, 83: 0.0, 84: 0.0, 86: 0.863, 87: 0.0, 88: 0.863, 89: 0.0, 90: 0.5754, 92: 0.5754, 93: 0.2877, 94: 0.5754, 95: 0.0, 96: 0.0, 97: 0.863, 98: 2.0138, 99: 1.1507})]"
      ]
     },
     "execution_count": 48,
     "metadata": {},
     "output_type": "execute_result"
    }
   ],
   "source": [
    "tf_idf_vectors.collect()"
   ]
  },
  {
   "cell_type": "markdown",
   "metadata": {},
   "source": [
    "## Scaling\n",
    "\n",
    "https://spark.apache.org/docs/latest/mllib-feature-extraction.html#standardscaler"
   ]
  },
  {
   "cell_type": "code",
   "execution_count": 49,
   "metadata": {
    "collapsed": true
   },
   "outputs": [],
   "source": [
    "from pyspark.mllib.feature import StandardScaler\n",
    "scaler = StandardScaler().fit(tf_idf_vectors)"
   ]
  },
  {
   "cell_type": "code",
   "execution_count": 50,
   "metadata": {
    "collapsed": true
   },
   "outputs": [],
   "source": [
    "scaled_tf_idf_vectors = scaler.transform(tf_idf_vectors)"
   ]
  },
  {
   "cell_type": "code",
   "execution_count": 51,
   "metadata": {},
   "outputs": [
    {
     "data": {
      "text/plain": [
       "[SparseVector(100, {0: 0.0, 1: 0.0, 2: 0.0, 3: 0.0, 4: 0.0, 6: 1.7321, 7: 1.0, 10: 0.0, 11: 0.0, 12: 2.0, 15: 1.7321, 16: 0.0, 17: 0.0, 18: 0.0, 19: 0.0, 20: 1.8898, 21: 0.0, 24: 1.7321, 25: 0.0, 26: 0.0, 27: 0.0, 30: 0.0, 32: 1.7321, 33: 0.0, 34: 0.0, 35: 0.6547, 37: 0.7947, 38: 1.7321, 39: 1.0, 40: 0.4804, 41: 0.0, 42: 0.0, 46: 0.0, 51: 0.0, 52: 0.0, 54: 1.0, 56: 0.0, 57: 1.8353, 58: 0.0, 60: 0.0, 61: 1.7321, 62: 0.0, 63: 0.0, 64: 0.0, 65: 0.0, 66: 1.7321, 68: 1.0, 69: 0.0, 70: 0.0, 71: 0.6547, 72: 1.7321, 73: 0.0, 77: 0.6547, 79: 1.0, 80: 0.0, 83: 0.0, 84: 0.0, 86: 1.3093, 87: 0.0, 89: 0.0, 91: 1.7321, 92: 1.0, 94: 1.964, 95: 0.0, 96: 0.0, 97: 1.3093}),\n",
       " SparseVector(100, {0: 0.0, 1: 0.0, 2: 0.0, 3: 0.0, 4: 0.0, 5: 1.7321, 8: 1.7321, 9: 0.6547, 10: 0.0, 11: 0.0, 13: 1.964, 14: 2.0, 15: 1.7321, 16: 0.0, 17: 0.0, 18: 0.0, 19: 0.0, 21: 0.0, 25: 0.0, 26: 0.0, 27: 0.0, 28: 1.7321, 30: 0.0, 31: 1.7321, 33: 0.0, 34: 0.0, 37: 1.9868, 38: 1.7321, 40: 1.9215, 41: 0.0, 42: 0.0, 46: 0.0, 47: 1.0, 48: 1.7321, 49: 2.0, 50: 1.7321, 51: 0.0, 52: 0.0, 55: 1.7321, 56: 0.0, 57: 0.2294, 58: 0.0, 59: 1.7321, 60: 0.0, 62: 0.0, 63: 0.0, 64: 0.0, 65: 0.0, 67: 1.0, 69: 0.0, 70: 0.0, 71: 1.964, 73: 0.0, 76: 1.7321, 77: 1.964, 78: 1.0, 79: 2.0, 80: 0.0, 82: 1.3093, 83: 0.0, 84: 0.0, 87: 0.0, 88: 1.3093, 89: 0.0, 90: 1.0, 93: 2.0, 95: 0.0, 96: 0.0, 98: 1.3868, 99: 0.4804}),\n",
       " SparseVector(100, {0: 0.0, 1: 0.0, 2: 0.0, 3: 0.0, 4: 0.0, 5: 1.7321, 6: 1.7321, 7: 2.0, 8: 1.7321, 9: 1.964, 10: 0.0, 11: 0.0, 12: 1.0, 13: 1.3093, 14: 1.0, 16: 0.0, 17: 0.0, 18: 0.0, 19: 0.0, 20: 0.378, 21: 0.0, 22: 1.7321, 25: 0.0, 26: 0.0, 27: 0.0, 28: 1.7321, 29: 1.7321, 30: 0.0, 31: 1.7321, 32: 1.7321, 33: 0.0, 34: 0.0, 35: 1.964, 39: 2.0, 41: 0.0, 42: 0.0, 45: 1.7321, 46: 0.0, 47: 2.0, 48: 1.7321, 49: 1.0, 51: 0.0, 52: 0.0, 53: 1.7321, 54: 2.0, 56: 0.0, 58: 0.0, 60: 0.0, 61: 1.7321, 62: 0.0, 63: 0.0, 64: 0.0, 65: 0.0, 67: 2.0, 68: 2.0, 69: 0.0, 70: 0.0, 72: 1.7321, 73: 0.0, 74: 1.7321, 75: 1.7321, 76: 1.7321, 78: 2.0, 80: 0.0, 82: 1.964, 83: 0.0, 84: 0.0, 86: 1.964, 87: 0.0, 88: 1.964, 89: 0.0, 90: 2.0, 92: 2.0, 93: 1.0, 94: 1.3093, 95: 0.0, 96: 0.0, 97: 1.964, 98: 1.9415, 99: 1.9215})]"
      ]
     },
     "execution_count": 51,
     "metadata": {},
     "output_type": "execute_result"
    }
   ],
   "source": [
    "scaled_tf_idf_vectors.collect()"
   ]
  },
  {
   "cell_type": "code",
   "execution_count": 52,
   "metadata": {},
   "outputs": [
    {
     "data": {
      "text/plain": [
       "[DenseVector([0.0, 0.0, 0.0, 0.0, 0.0, -1.1547, 0.5774, 0.0, -1.1547, -0.8729, 0.0, 0.0, 1.0, -1.0911, -1.0, 0.5774, 0.0, 0.0, 0.0, 0.0, 1.1339, 0.0, -0.5774, 0.0, 1.1547, 0.0, 0.0, 0.0, -1.1547, -0.5774, 0.0, -1.1547, 0.5774, 0.0, 0.0, -0.2182, 0.0, -0.1325, 0.5774, 0.0, -0.3203, 0.0, 0.0, 0.0, 0.0, -0.5774, 0.0, -1.0, -1.1547, -1.0, -0.5774, 0.0, 0.0, -0.5774, 0.0, -0.5774, 0.0, 1.1471, 0.0, -0.5774, 0.0, 0.5774, 0.0, 0.0, 0.0, 0.0, 1.1547, -1.0, 0.0, 0.0, 0.0, -0.2182, 0.5774, 0.0, -0.5774, -0.5774, -1.1547, -0.2182, -1.0, 0.0, 0.0, 0.0, -1.0911, 0.0, 0.0, 0.0, 0.2182, 0.0, -1.0911, 0.0, -1.0, 1.1547, 0.0, -1.0, 0.8729, 0.0, 0.0, 0.2182, -1.1094, -0.8006]),\n",
       " DenseVector([0.0, 0.0, 0.0, 0.0, 0.0, 0.5774, -1.1547, -1.0, 0.5774, -0.2182, 0.0, 0.0, -1.0, 0.8729, 1.0, 0.5774, 0.0, 0.0, 0.0, 0.0, -0.7559, 0.0, -0.5774, 0.0, -0.5774, 0.0, 0.0, 0.0, 0.5774, -0.5774, 0.0, 0.5774, -1.1547, 0.0, 0.0, -0.8729, 0.0, 1.0596, 0.5774, -1.0, 1.1209, 0.0, 0.0, 0.0, 0.0, -0.5774, 0.0, 0.0, 0.5774, 1.0, 1.1547, 0.0, 0.0, -0.5774, -1.0, 1.1547, 0.0, -0.4588, 0.0, 1.1547, 0.0, -1.1547, 0.0, 0.0, 0.0, 0.0, -0.5774, 0.0, -1.0, 0.0, 0.0, 1.0911, -1.1547, 0.0, -0.5774, -0.5774, 0.5774, 1.0911, 0.0, 1.0, 0.0, 0.0, 0.2182, 0.0, 0.0, 0.0, -1.0911, 0.0, 0.2182, 0.0, 0.0, -0.5774, -1.0, 1.0, -1.0911, 0.0, 0.0, -1.0911, 0.2774, -0.3203]),\n",
       " DenseVector([0.0, 0.0, 0.0, 0.0, 0.0, 0.5774, 0.5774, 1.0, 0.5774, 1.0911, 0.0, 0.0, 0.0, 0.2182, 0.0, -1.1547, 0.0, 0.0, 0.0, 0.0, -0.378, 0.0, 1.1547, 0.0, -0.5774, 0.0, 0.0, 0.0, 0.5774, 1.1547, 0.0, 0.5774, 0.5774, 0.0, 0.0, 1.0911, 0.0, -0.9272, -1.1547, 1.0, -0.8006, 0.0, 0.0, 0.0, 0.0, 1.1547, 0.0, 1.0, 0.5774, 0.0, -0.5774, 0.0, 0.0, 1.1547, 1.0, -0.5774, 0.0, -0.6882, 0.0, -0.5774, 0.0, 0.5774, 0.0, 0.0, 0.0, 0.0, -0.5774, 1.0, 1.0, 0.0, 0.0, -0.8729, 0.5774, 0.0, 1.1547, 1.1547, 0.5774, -0.8729, 1.0, -1.0, 0.0, 0.0, 0.8729, 0.0, 0.0, 0.0, 0.8729, 0.0, 0.8729, 0.0, 1.0, -0.5774, 1.0, 0.0, 0.2182, 0.0, 0.0, 0.8729, 0.8321, 1.1209])]"
      ]
     },
     "execution_count": 52,
     "metadata": {},
     "output_type": "execute_result"
    }
   ],
   "source": [
    "scaler2 = StandardScaler(withMean=True, withStd=True).fit(tf_idf_vectors)\n",
    "scaler2.transform(tf_idf_vectors).collect()"
   ]
  },
  {
   "cell_type": "markdown",
   "metadata": {},
   "source": [
    "## Normalization\n",
    "\n",
    "https://spark.apache.org/docs/latest/mllib-feature-extraction.html#normalizer"
   ]
  },
  {
   "cell_type": "code",
   "execution_count": 53,
   "metadata": {
    "collapsed": true
   },
   "outputs": [],
   "source": [
    "from pyspark.mllib.feature import Normalizer\n",
    "normalizer_l2 = Normalizer(p=2)"
   ]
  },
  {
   "cell_type": "code",
   "execution_count": 54,
   "metadata": {},
   "outputs": [
    {
     "data": {
      "text/plain": [
       "[SparseVector(100, {0: 0.0, 1: 0.0, 2: 0.0, 3: 0.0, 4: 0.0, 6: 0.0441, 7: 0.0441, 10: 0.0, 11: 0.0, 12: 0.0883, 15: 0.0441, 16: 0.0, 17: 0.0, 18: 0.0, 19: 0.0, 20: 0.2207, 21: 0.0, 24: 0.7445, 25: 0.0, 26: 0.0, 27: 0.0, 30: 0.0, 32: 0.0441, 33: 0.0, 34: 0.0, 35: 0.0441, 37: 0.0883, 38: 0.0441, 39: 0.0441, 40: 0.0441, 41: 0.0, 42: 0.0, 46: 0.0, 51: 0.0, 52: 0.0, 54: 0.0441, 56: 0.0, 57: 0.3532, 58: 0.0, 60: 0.0, 61: 0.0441, 62: 0.0, 63: 0.0, 64: 0.0, 65: 0.0, 66: 0.1064, 68: 0.0441, 69: 0.0, 70: 0.0, 71: 0.0441, 72: 0.0441, 73: 0.0, 77: 0.0441, 79: 0.0441, 80: 0.0, 83: 0.0, 84: 0.0, 86: 0.0883, 87: 0.0, 89: 0.0, 91: 0.4255, 92: 0.0441, 94: 0.1324, 95: 0.0, 96: 0.0, 97: 0.0883}),\n",
       " SparseVector(100, {0: 0.0, 1: 0.0, 2: 0.0, 3: 0.0, 4: 0.0, 5: 0.0767, 8: 0.0767, 9: 0.0767, 10: 0.0, 11: 0.0, 13: 0.2302, 14: 0.1535, 15: 0.0767, 16: 0.0, 17: 0.0, 18: 0.0, 19: 0.0, 21: 0.0, 25: 0.0, 26: 0.0, 27: 0.0, 28: 0.0767, 30: 0.0, 31: 0.0767, 33: 0.0, 34: 0.0, 37: 0.3837, 38: 0.0767, 40: 0.3069, 41: 0.0, 42: 0.0, 46: 0.0, 47: 0.0767, 48: 0.0767, 49: 0.1535, 50: 0.3698, 51: 0.0, 52: 0.0, 55: 0.1849, 56: 0.0, 57: 0.0767, 58: 0.0, 59: 0.1849, 60: 0.0, 62: 0.0, 63: 0.0, 64: 0.0, 65: 0.0, 67: 0.0767, 69: 0.0, 70: 0.0, 71: 0.2302, 73: 0.0, 76: 0.1535, 77: 0.2302, 78: 0.0767, 79: 0.1535, 80: 0.0, 82: 0.1535, 83: 0.0, 84: 0.0, 87: 0.0, 88: 0.1535, 89: 0.0, 90: 0.0767, 93: 0.1535, 95: 0.0, 96: 0.0, 98: 0.3837, 99: 0.0767}),\n",
       " SparseVector(100, {0: 0.0, 1: 0.0, 2: 0.0, 3: 0.0, 4: 0.0, 5: 0.0632, 6: 0.0632, 7: 0.1263, 8: 0.0632, 9: 0.1895, 10: 0.0, 11: 0.0, 12: 0.0632, 13: 0.1263, 14: 0.0632, 16: 0.0, 17: 0.0, 18: 0.0, 19: 0.0, 20: 0.0632, 21: 0.0, 22: 0.3044, 25: 0.0, 26: 0.0, 27: 0.0, 28: 0.0632, 29: 0.3044, 30: 0.0, 31: 0.0632, 32: 0.0632, 33: 0.0, 34: 0.0, 35: 0.1895, 39: 0.1263, 41: 0.0, 42: 0.0, 45: 0.1522, 46: 0.0, 47: 0.1263, 48: 0.0632, 49: 0.0632, 51: 0.0, 52: 0.0, 53: 0.1522, 54: 0.1263, 56: 0.0, 58: 0.0, 60: 0.0, 61: 0.0632, 62: 0.0, 63: 0.0, 64: 0.0, 65: 0.0, 67: 0.1263, 68: 0.1263, 69: 0.0, 70: 0.0, 72: 0.0632, 73: 0.0, 74: 0.1522, 75: 0.1522, 76: 0.1263, 78: 0.1263, 80: 0.0, 82: 0.1895, 83: 0.0, 84: 0.0, 86: 0.1895, 87: 0.0, 88: 0.1895, 89: 0.0, 90: 0.1263, 92: 0.1263, 93: 0.0632, 94: 0.1263, 95: 0.0, 96: 0.0, 97: 0.1895, 98: 0.4421, 99: 0.2526})]"
      ]
     },
     "execution_count": 54,
     "metadata": {},
     "output_type": "execute_result"
    }
   ],
   "source": [
    "normalized_tf_idf_vectors = normalizer_l2.transform(tf_idf_vectors)\n",
    "normalized_tf_idf_vectors.collect()"
   ]
  },
  {
   "cell_type": "markdown",
   "metadata": {},
   "source": [
    "## Calculating similarity"
   ]
  },
  {
   "cell_type": "markdown",
   "metadata": {},
   "source": [
    "https://spark.apache.org/docs/latest/api/python/pyspark.mllib.html#module-pyspark.mllib.linalg"
   ]
  },
  {
   "cell_type": "code",
   "execution_count": 55,
   "metadata": {},
   "outputs": [
    {
     "data": {
      "text/plain": [
       "[SparseVector(100, {0: 0.0, 1: 0.0, 2: 0.0, 3: 0.0, 4: 0.0, 6: 0.0441, 7: 0.0441, 10: 0.0, 11: 0.0, 12: 0.0883, 15: 0.0441, 16: 0.0, 17: 0.0, 18: 0.0, 19: 0.0, 20: 0.2207, 21: 0.0, 24: 0.7445, 25: 0.0, 26: 0.0, 27: 0.0, 30: 0.0, 32: 0.0441, 33: 0.0, 34: 0.0, 35: 0.0441, 37: 0.0883, 38: 0.0441, 39: 0.0441, 40: 0.0441, 41: 0.0, 42: 0.0, 46: 0.0, 51: 0.0, 52: 0.0, 54: 0.0441, 56: 0.0, 57: 0.3532, 58: 0.0, 60: 0.0, 61: 0.0441, 62: 0.0, 63: 0.0, 64: 0.0, 65: 0.0, 66: 0.1064, 68: 0.0441, 69: 0.0, 70: 0.0, 71: 0.0441, 72: 0.0441, 73: 0.0, 77: 0.0441, 79: 0.0441, 80: 0.0, 83: 0.0, 84: 0.0, 86: 0.0883, 87: 0.0, 89: 0.0, 91: 0.4255, 92: 0.0441, 94: 0.1324, 95: 0.0, 96: 0.0, 97: 0.0883})]"
      ]
     },
     "execution_count": 55,
     "metadata": {},
     "output_type": "execute_result"
    }
   ],
   "source": [
    "chosen_doc = normalized_tf_idf_vectors.take(1)\n",
    "chosen_doc"
   ]
  },
  {
   "cell_type": "code",
   "execution_count": 56,
   "metadata": {
    "collapsed": true
   },
   "outputs": [],
   "source": [
    "chosen_doc = chosen_doc[0]"
   ]
  },
  {
   "cell_type": "code",
   "execution_count": 57,
   "metadata": {
    "collapsed": true
   },
   "outputs": [],
   "source": [
    "def calc_cosine_similarity(a,b):\n",
    "    return a.dot(b)\n",
    "\n",
    "similarities = normalized_tf_idf_vectors.map(\n",
    "    lambda x: calc_cosine_similarity(x, chosen_doc))"
   ]
  },
  {
   "cell_type": "code",
   "execution_count": 58,
   "metadata": {},
   "outputs": [
    {
     "data": {
      "text/plain": [
       "PythonRDD[39] at RDD at PythonRDD.scala:48"
      ]
     },
     "execution_count": 58,
     "metadata": {},
     "output_type": "execute_result"
    }
   ],
   "source": [
    "similarities"
   ]
  },
  {
   "cell_type": "code",
   "execution_count": 59,
   "metadata": {},
   "outputs": [
    {
     "data": {
      "text/plain": [
       "[1.0000000000000009, 0.1083972033078154, 0.11710656315774444]"
      ]
     },
     "execution_count": 59,
     "metadata": {},
     "output_type": "execute_result"
    }
   ],
   "source": [
    "similarities.collect()"
   ]
  },
  {
   "cell_type": "code",
   "execution_count": 60,
   "metadata": {},
   "outputs": [
    {
     "data": {
      "text/plain": [
       "[42.468825643921001, 2.6483511939248539, 3.4759609420263704]"
      ]
     },
     "execution_count": 60,
     "metadata": {},
     "output_type": "execute_result"
    }
   ],
   "source": [
    "chosen_doc = tf_idf_vectors.take(1)[0]\n",
    "similarities = tf_idf_vectors.map(\n",
    "    lambda x: calc_cosine_similarity(x, chosen_doc))\n",
    "similarities.collect()"
   ]
  },
  {
   "cell_type": "markdown",
   "metadata": {
    "collapsed": true
   },
   "source": [
    "## Word2Vec\n",
    "\n",
    "https://spark.apache.org/docs/latest/api/python/pyspark.mllib.html#pyspark.mllib.feature.Word2Vec"
   ]
  },
  {
   "cell_type": "code",
   "execution_count": 61,
   "metadata": {
    "collapsed": true
   },
   "outputs": [],
   "source": [
    "from pyspark.mllib.feature import Word2Vec"
   ]
  },
  {
   "cell_type": "code",
   "execution_count": 62,
   "metadata": {
    "collapsed": true
   },
   "outputs": [],
   "source": [
    "word2vec = Word2Vec()\n",
    "model = word2vec.fit(bag_of_words)"
   ]
  },
  {
   "cell_type": "code",
   "execution_count": 64,
   "metadata": {},
   "outputs": [
    {
     "data": {
      "text/plain": [
       "[('by', 0.17507408559322357),\n",
       " ('the', 0.13650830090045929),\n",
       " ('as', 0.11595361679792404),\n",
       " ('The', 0.10526826232671738),\n",
       " ('a', 0.095001891255378723),\n",
       " ('retrieval', 0.089702315628528595),\n",
       " ('in', 0.013783745467662811),\n",
       " ('of', 0.0046437471173703671),\n",
       " ('for', -0.00085847871378064156),\n",
       " ('are', -0.027802722528576851)]"
      ]
     },
     "execution_count": 64,
     "metadata": {},
     "output_type": "execute_result"
    }
   ],
   "source": [
    "list(model.findSynonyms('information',10))"
   ]
  },
  {
   "cell_type": "code",
   "execution_count": 65,
   "metadata": {},
   "outputs": [
    {
     "ename": "Py4JJavaError",
     "evalue": "An error occurred while calling o243.findSynonyms.\n: java.lang.IllegalStateException: begins not in vocabulary\n\tat org.apache.spark.mllib.feature.Word2VecModel.transform(Word2Vec.scala:529)\n\tat org.apache.spark.mllib.feature.Word2VecModel.findSynonyms(Word2Vec.scala:541)\n\tat org.apache.spark.mllib.api.python.Word2VecModelWrapper.findSynonyms(Word2VecModelWrapper.scala:53)\n\tat sun.reflect.NativeMethodAccessorImpl.invoke0(Native Method)\n\tat sun.reflect.NativeMethodAccessorImpl.invoke(NativeMethodAccessorImpl.java:62)\n\tat sun.reflect.DelegatingMethodAccessorImpl.invoke(DelegatingMethodAccessorImpl.java:43)\n\tat java.lang.reflect.Method.invoke(Method.java:498)\n\tat py4j.reflection.MethodInvoker.invoke(MethodInvoker.java:244)\n\tat py4j.reflection.ReflectionEngine.invoke(ReflectionEngine.java:357)\n\tat py4j.Gateway.invoke(Gateway.java:280)\n\tat py4j.commands.AbstractCommand.invokeMethod(AbstractCommand.java:132)\n\tat py4j.commands.CallCommand.execute(CallCommand.java:79)\n\tat py4j.GatewayConnection.run(GatewayConnection.java:214)\n\tat java.lang.Thread.run(Thread.java:745)\n",
     "output_type": "error",
     "traceback": [
      "\u001b[0;31m---------------------------------------------------------------------------\u001b[0m",
      "\u001b[0;31mPy4JJavaError\u001b[0m                             Traceback (most recent call last)",
      "\u001b[0;32m<ipython-input-65-22af740c731e>\u001b[0m in \u001b[0;36m<module>\u001b[0;34m()\u001b[0m\n\u001b[0;32m----> 1\u001b[0;31m \u001b[0mmodel\u001b[0m\u001b[0;34m.\u001b[0m\u001b[0mfindSynonyms\u001b[0m\u001b[0;34m(\u001b[0m\u001b[0;34m'begins'\u001b[0m\u001b[0;34m,\u001b[0m\u001b[0;36m10\u001b[0m\u001b[0;34m)\u001b[0m\u001b[0;34m\u001b[0m\u001b[0m\n\u001b[0m",
      "\u001b[0;32m/usr/hdp/current/spark2-client/python/pyspark/mllib/feature.py\u001b[0m in \u001b[0;36mfindSynonyms\u001b[0;34m(self, word, num)\u001b[0m\n\u001b[1;32m    609\u001b[0m         \u001b[0;32mif\u001b[0m \u001b[0;32mnot\u001b[0m \u001b[0misinstance\u001b[0m\u001b[0;34m(\u001b[0m\u001b[0mword\u001b[0m\u001b[0;34m,\u001b[0m \u001b[0mbasestring\u001b[0m\u001b[0;34m)\u001b[0m\u001b[0;34m:\u001b[0m\u001b[0;34m\u001b[0m\u001b[0m\n\u001b[1;32m    610\u001b[0m             \u001b[0mword\u001b[0m \u001b[0;34m=\u001b[0m \u001b[0m_convert_to_vector\u001b[0m\u001b[0;34m(\u001b[0m\u001b[0mword\u001b[0m\u001b[0;34m)\u001b[0m\u001b[0;34m\u001b[0m\u001b[0m\n\u001b[0;32m--> 611\u001b[0;31m         \u001b[0mwords\u001b[0m\u001b[0;34m,\u001b[0m \u001b[0msimilarity\u001b[0m \u001b[0;34m=\u001b[0m \u001b[0mself\u001b[0m\u001b[0;34m.\u001b[0m\u001b[0mcall\u001b[0m\u001b[0;34m(\u001b[0m\u001b[0;34m\"findSynonyms\"\u001b[0m\u001b[0;34m,\u001b[0m \u001b[0mword\u001b[0m\u001b[0;34m,\u001b[0m \u001b[0mnum\u001b[0m\u001b[0;34m)\u001b[0m\u001b[0;34m\u001b[0m\u001b[0m\n\u001b[0m\u001b[1;32m    612\u001b[0m         \u001b[0;32mreturn\u001b[0m \u001b[0mzip\u001b[0m\u001b[0;34m(\u001b[0m\u001b[0mwords\u001b[0m\u001b[0;34m,\u001b[0m \u001b[0msimilarity\u001b[0m\u001b[0;34m)\u001b[0m\u001b[0;34m\u001b[0m\u001b[0m\n\u001b[1;32m    613\u001b[0m \u001b[0;34m\u001b[0m\u001b[0m\n",
      "\u001b[0;32m/usr/hdp/current/spark2-client/python/pyspark/mllib/common.py\u001b[0m in \u001b[0;36mcall\u001b[0;34m(self, name, *a)\u001b[0m\n\u001b[1;32m    144\u001b[0m     \u001b[0;32mdef\u001b[0m \u001b[0mcall\u001b[0m\u001b[0;34m(\u001b[0m\u001b[0mself\u001b[0m\u001b[0;34m,\u001b[0m \u001b[0mname\u001b[0m\u001b[0;34m,\u001b[0m \u001b[0;34m*\u001b[0m\u001b[0ma\u001b[0m\u001b[0;34m)\u001b[0m\u001b[0;34m:\u001b[0m\u001b[0;34m\u001b[0m\u001b[0m\n\u001b[1;32m    145\u001b[0m         \u001b[0;34m\"\"\"Call method of java_model\"\"\"\u001b[0m\u001b[0;34m\u001b[0m\u001b[0m\n\u001b[0;32m--> 146\u001b[0;31m         \u001b[0;32mreturn\u001b[0m \u001b[0mcallJavaFunc\u001b[0m\u001b[0;34m(\u001b[0m\u001b[0mself\u001b[0m\u001b[0;34m.\u001b[0m\u001b[0m_sc\u001b[0m\u001b[0;34m,\u001b[0m \u001b[0mgetattr\u001b[0m\u001b[0;34m(\u001b[0m\u001b[0mself\u001b[0m\u001b[0;34m.\u001b[0m\u001b[0m_java_model\u001b[0m\u001b[0;34m,\u001b[0m \u001b[0mname\u001b[0m\u001b[0;34m)\u001b[0m\u001b[0;34m,\u001b[0m \u001b[0;34m*\u001b[0m\u001b[0ma\u001b[0m\u001b[0;34m)\u001b[0m\u001b[0;34m\u001b[0m\u001b[0m\n\u001b[0m\u001b[1;32m    147\u001b[0m \u001b[0;34m\u001b[0m\u001b[0m\n\u001b[1;32m    148\u001b[0m \u001b[0;34m\u001b[0m\u001b[0m\n",
      "\u001b[0;32m/usr/hdp/current/spark2-client/python/pyspark/mllib/common.py\u001b[0m in \u001b[0;36mcallJavaFunc\u001b[0;34m(sc, func, *args)\u001b[0m\n\u001b[1;32m    121\u001b[0m     \u001b[0;34m\"\"\" Call Java Function \"\"\"\u001b[0m\u001b[0;34m\u001b[0m\u001b[0m\n\u001b[1;32m    122\u001b[0m     \u001b[0margs\u001b[0m \u001b[0;34m=\u001b[0m \u001b[0;34m[\u001b[0m\u001b[0m_py2java\u001b[0m\u001b[0;34m(\u001b[0m\u001b[0msc\u001b[0m\u001b[0;34m,\u001b[0m \u001b[0ma\u001b[0m\u001b[0;34m)\u001b[0m \u001b[0;32mfor\u001b[0m \u001b[0ma\u001b[0m \u001b[0;32min\u001b[0m \u001b[0margs\u001b[0m\u001b[0;34m]\u001b[0m\u001b[0;34m\u001b[0m\u001b[0m\n\u001b[0;32m--> 123\u001b[0;31m     \u001b[0;32mreturn\u001b[0m \u001b[0m_java2py\u001b[0m\u001b[0;34m(\u001b[0m\u001b[0msc\u001b[0m\u001b[0;34m,\u001b[0m \u001b[0mfunc\u001b[0m\u001b[0;34m(\u001b[0m\u001b[0;34m*\u001b[0m\u001b[0margs\u001b[0m\u001b[0;34m)\u001b[0m\u001b[0;34m)\u001b[0m\u001b[0;34m\u001b[0m\u001b[0m\n\u001b[0m\u001b[1;32m    124\u001b[0m \u001b[0;34m\u001b[0m\u001b[0m\n\u001b[1;32m    125\u001b[0m \u001b[0;34m\u001b[0m\u001b[0m\n",
      "\u001b[0;32m/usr/hdp/current/spark2-client/python/lib/py4j-0.10.4-src.zip/py4j/java_gateway.py\u001b[0m in \u001b[0;36m__call__\u001b[0;34m(self, *args)\u001b[0m\n\u001b[1;32m   1131\u001b[0m         \u001b[0manswer\u001b[0m \u001b[0;34m=\u001b[0m \u001b[0mself\u001b[0m\u001b[0;34m.\u001b[0m\u001b[0mgateway_client\u001b[0m\u001b[0;34m.\u001b[0m\u001b[0msend_command\u001b[0m\u001b[0;34m(\u001b[0m\u001b[0mcommand\u001b[0m\u001b[0;34m)\u001b[0m\u001b[0;34m\u001b[0m\u001b[0m\n\u001b[1;32m   1132\u001b[0m         return_value = get_return_value(\n\u001b[0;32m-> 1133\u001b[0;31m             answer, self.gateway_client, self.target_id, self.name)\n\u001b[0m\u001b[1;32m   1134\u001b[0m \u001b[0;34m\u001b[0m\u001b[0m\n\u001b[1;32m   1135\u001b[0m         \u001b[0;32mfor\u001b[0m \u001b[0mtemp_arg\u001b[0m \u001b[0;32min\u001b[0m \u001b[0mtemp_args\u001b[0m\u001b[0;34m:\u001b[0m\u001b[0;34m\u001b[0m\u001b[0m\n",
      "\u001b[0;32m/usr/hdp/current/spark2-client/python/pyspark/sql/utils.py\u001b[0m in \u001b[0;36mdeco\u001b[0;34m(*a, **kw)\u001b[0m\n\u001b[1;32m     61\u001b[0m     \u001b[0;32mdef\u001b[0m \u001b[0mdeco\u001b[0m\u001b[0;34m(\u001b[0m\u001b[0;34m*\u001b[0m\u001b[0ma\u001b[0m\u001b[0;34m,\u001b[0m \u001b[0;34m**\u001b[0m\u001b[0mkw\u001b[0m\u001b[0;34m)\u001b[0m\u001b[0;34m:\u001b[0m\u001b[0;34m\u001b[0m\u001b[0m\n\u001b[1;32m     62\u001b[0m         \u001b[0;32mtry\u001b[0m\u001b[0;34m:\u001b[0m\u001b[0;34m\u001b[0m\u001b[0m\n\u001b[0;32m---> 63\u001b[0;31m             \u001b[0;32mreturn\u001b[0m \u001b[0mf\u001b[0m\u001b[0;34m(\u001b[0m\u001b[0;34m*\u001b[0m\u001b[0ma\u001b[0m\u001b[0;34m,\u001b[0m \u001b[0;34m**\u001b[0m\u001b[0mkw\u001b[0m\u001b[0;34m)\u001b[0m\u001b[0;34m\u001b[0m\u001b[0m\n\u001b[0m\u001b[1;32m     64\u001b[0m         \u001b[0;32mexcept\u001b[0m \u001b[0mpy4j\u001b[0m\u001b[0;34m.\u001b[0m\u001b[0mprotocol\u001b[0m\u001b[0;34m.\u001b[0m\u001b[0mPy4JJavaError\u001b[0m \u001b[0;32mas\u001b[0m \u001b[0me\u001b[0m\u001b[0;34m:\u001b[0m\u001b[0;34m\u001b[0m\u001b[0m\n\u001b[1;32m     65\u001b[0m             \u001b[0ms\u001b[0m \u001b[0;34m=\u001b[0m \u001b[0me\u001b[0m\u001b[0;34m.\u001b[0m\u001b[0mjava_exception\u001b[0m\u001b[0;34m.\u001b[0m\u001b[0mtoString\u001b[0m\u001b[0;34m(\u001b[0m\u001b[0;34m)\u001b[0m\u001b[0;34m\u001b[0m\u001b[0m\n",
      "\u001b[0;32m/usr/hdp/current/spark2-client/python/lib/py4j-0.10.4-src.zip/py4j/protocol.py\u001b[0m in \u001b[0;36mget_return_value\u001b[0;34m(answer, gateway_client, target_id, name)\u001b[0m\n\u001b[1;32m    317\u001b[0m                 raise Py4JJavaError(\n\u001b[1;32m    318\u001b[0m                     \u001b[0;34m\"An error occurred while calling {0}{1}{2}.\\n\"\u001b[0m\u001b[0;34m.\u001b[0m\u001b[0;34m\u001b[0m\u001b[0m\n\u001b[0;32m--> 319\u001b[0;31m                     format(target_id, \".\", name), value)\n\u001b[0m\u001b[1;32m    320\u001b[0m             \u001b[0;32melse\u001b[0m\u001b[0;34m:\u001b[0m\u001b[0;34m\u001b[0m\u001b[0m\n\u001b[1;32m    321\u001b[0m                 raise Py4JError(\n",
      "\u001b[0;31mPy4JJavaError\u001b[0m: An error occurred while calling o243.findSynonyms.\n: java.lang.IllegalStateException: begins not in vocabulary\n\tat org.apache.spark.mllib.feature.Word2VecModel.transform(Word2Vec.scala:529)\n\tat org.apache.spark.mllib.feature.Word2VecModel.findSynonyms(Word2Vec.scala:541)\n\tat org.apache.spark.mllib.api.python.Word2VecModelWrapper.findSynonyms(Word2VecModelWrapper.scala:53)\n\tat sun.reflect.NativeMethodAccessorImpl.invoke0(Native Method)\n\tat sun.reflect.NativeMethodAccessorImpl.invoke(NativeMethodAccessorImpl.java:62)\n\tat sun.reflect.DelegatingMethodAccessorImpl.invoke(DelegatingMethodAccessorImpl.java:43)\n\tat java.lang.reflect.Method.invoke(Method.java:498)\n\tat py4j.reflection.MethodInvoker.invoke(MethodInvoker.java:244)\n\tat py4j.reflection.ReflectionEngine.invoke(ReflectionEngine.java:357)\n\tat py4j.Gateway.invoke(Gateway.java:280)\n\tat py4j.commands.AbstractCommand.invokeMethod(AbstractCommand.java:132)\n\tat py4j.commands.CallCommand.execute(CallCommand.java:79)\n\tat py4j.GatewayConnection.run(GatewayConnection.java:214)\n\tat java.lang.Thread.run(Thread.java:745)\n"
     ]
    }
   ],
   "source": [
    "model.findSynonyms('begins',10)"
   ]
  },
  {
   "cell_type": "code",
   "execution_count": 66,
   "metadata": {},
   "outputs": [
    {
     "data": {
      "text/plain": [
       "DenseVector([-0.0047, 0.0026, 0.0007, -0.0001, -0.0014, -0.0029, 0.0044, -0.003, 0.002, -0.0018, 0.0049, 0.0026, 0.0016, 0.002, -0.0011, 0.0047, -0.0011, -0.0018, -0.0043, -0.0025, 0.0021, -0.0051, 0.0, -0.0013, 0.0023, 0.0034, 0.0012, -0.0033, 0.0041, -0.0042, 0.0049, 0.0045, -0.001, -0.0044, -0.0038, 0.0007, -0.0019, 0.0032, 0.0018, 0.0036, -0.0019, -0.002, -0.0007, 0.0036, -0.0034, 0.0024, -0.0029, 0.0049, 0.0022, 0.0046, 0.0035, 0.002, -0.0032, -0.0028, 0.001, 0.0037, 0.0023, -0.0002, -0.0012, -0.0001, -0.0001, 0.0018, -0.0048, -0.0007, 0.0024, 0.0043, -0.0042, -0.0016, -0.0045, 0.0033, 0.0033, -0.003, 0.0034, 0.0036, -0.0025, -0.0004, 0.0032, 0.0029, 0.0045, -0.0044, 0.0024, 0.0023, -0.0038, 0.0049, -0.0004, -0.0041, 0.0039, -0.0005, -0.0009, -0.0035, 0.0007, -0.0005, 0.0013, 0.0037, -0.0029, 0.0015, 0.0028, -0.0037, 0.0029, -0.0007])"
      ]
     },
     "execution_count": 66,
     "metadata": {},
     "output_type": "execute_result"
    }
   ],
   "source": [
    "model.transform(\"information\")"
   ]
  },
  {
   "cell_type": "code",
   "execution_count": 67,
   "metadata": {
    "collapsed": true
   },
   "outputs": [],
   "source": [
    "dic = model.getVectors()"
   ]
  },
  {
   "cell_type": "code",
   "execution_count": 68,
   "metadata": {},
   "outputs": [
    {
     "data": {
      "text/plain": [
       "17"
      ]
     },
     "execution_count": 68,
     "metadata": {},
     "output_type": "execute_result"
    }
   ],
   "source": [
    "len(dic)"
   ]
  },
  {
   "cell_type": "code",
   "execution_count": 69,
   "metadata": {},
   "outputs": [
    {
     "data": {
      "text/plain": [
       "KeysView({'for': [0.0047001303, -0.0016854116, 0.0026793554, 0.0031683391, -1.7905342e-05, -0.0004868209, 0.0014373835, 0.0024712747, 0.0031801637, 0.0024905412, -0.0031188347, -0.0021240122, 0.0035675413, 0.0023633398, -0.0034750043, 0.0035335694, -0.0029262525, 0.0031822147, 0.0039775884, 0.0026325579, 0.0011055218, 0.00090653956, 0.004229791, -0.00477651, 0.0043247086, 0.00063684775, 0.0030338576, 0.0015136508, -0.00050576485, 0.0028403357, 0.0024474638, 0.004809735, 0.0028830818, -0.00015406685, 0.0022000598, -0.0042193346, 0.0043043313, 0.0015846329, 0.0017031013, 0.001948534, -0.0013776568, 0.0042162244, -0.0015344793, -0.0040058848, 0.0030701826, 0.004713468, -0.0038863115, 0.0048577823, 0.0008113637, 0.0022230644, -0.0016704818, -0.001964513, -0.0025674098, -0.00012785832, 0.003003507, -0.0031702416, 0.00062483054, 0.002402168, 0.0026150695, 0.0043001724, -0.0032592814, -0.0023695154, -0.0028853742, -0.0017271837, -0.004937374, -0.0010920943, 0.0019595006, -0.0040831347, -0.003236007, 0.003784734, -0.0013883908, -0.0047210753, 0.0029056326, -0.0009443474, -0.0037984527, -0.0027859635, -0.0005214595, -0.0028457255, -0.0046377927, 0.00012438832, 0.0013765262, -0.0028382845, -0.0010982683, 0.0013793018, -0.0014125152, -9.8929144e-05, -0.004939648, 0.0027510505, -0.0038313295, 0.0014548072, -0.0030709787, -0.001158618, -0.00448162, -0.0042315265, -0.0011333023, -0.0034835958, 0.0044889897, -0.0018580023, -0.00038599735, 0.0014794642], 'in': [0.003058262, -0.0018665318, 0.0044092634, 0.0002304221, 0.0007485454, -0.0032933787, 0.0027725827, 0.0026809075, -0.0008112511, 0.00079805835, 0.0022604342, -2.4577457e-06, -0.0048850216, 0.0041467207, -0.0016069188, -0.0010912893, 0.0044116727, -0.0034885213, 0.004028542, 0.0010450204, 0.004886529, -0.0029710382, -0.00334992, -0.004779581, -0.0029884835, 0.002048813, -0.0050375955, 0.0030521476, -0.0018898351, -0.004787974, -0.0002623604, -0.0025453519, -0.0014128804, -0.0033140036, -0.0010359617, 0.0007190654, 0.0037197592, -0.0012101583, -0.0027271677, -0.00043216313, 0.0015567071, -0.0022198078, 0.003982442, 0.0014390637, -0.0022089344, -0.0017208637, 0.002333373, -0.004341117, -0.00085561717, -0.0016140379, -0.0028058507, -0.0001668769, -0.0032588535, -0.0013966572, -0.0006300475, 0.0034287202, -0.0035043068, -0.0038231513, -0.0032223256, -0.0019751913, -0.0034037123, 0.0013124094, -0.0031598886, -0.002874933, 0.002823981, 0.0003359241, 0.0017085478, -0.004270924, 0.0039883656, 0.0013663324, -0.0035214361, 0.0038215737, -0.004524595, -0.0013910708, -0.0039543794, -0.002256625, -0.00073304714, -0.0002457735, 0.0005839671, 0.0014334773, -0.00021799747, 0.0049098916, -0.0028822664, 0.0039012653, -0.0017775163, -0.002753216, 0.001078047, 0.0031644476, -0.0005791849, -0.00047279033, 0.0031900746, -0.0011300213, -0.0013770987, -0.0047582216, -0.0030600615, 0.0016993969, 0.003934631, 0.0023331034, -0.0012245342, -0.0012429439], 'are': [0.0012215389, 0.0027881714, 0.0032803474, 0.0041837376, 9.0572474e-05, -0.0001647468, -0.00034228744, 0.0043286458, -0.0013834242, -0.0014440949, 0.0039912923, 0.0012613748, 0.0025166438, 0.0025824637, 0.0025802052, 0.0029793992, 0.004811011, 0.005024141, -0.004395657, -0.0042886697, -0.0011486474, 0.004018164, -0.0029776865, -0.0047194953, -0.001957831, -0.0042805183, 0.00017401027, -0.000809795, -0.0028628889, 0.0036286118, -0.002784546, -0.0009084647, -0.0044161426, -0.0042001456, -0.0024390288, -0.003383271, -0.0048737573, -0.00055445795, -0.0042707515, 0.0012216792, 0.0039926427, -0.002806887, -0.0013688408, 0.0020791593, 0.0014423499, 0.000784308, -0.0041043106, -0.0017784971, 0.004200607, 0.0014779824, -0.002767177, -0.0034765298, -0.004204511, 0.002486641, -0.003026307, -0.0038421433, -0.0041708928, -0.00087095826, -0.0018770017, -0.0029014728, 0.003072996, -0.0033962047, -0.001620854, 0.0027167427, 0.003983413, -0.0042773425, -0.0011055177, -0.00035756032, -0.00090142875, -0.0007595404, 0.0004969048, 0.002865966, -0.0042883083, 0.004905369, 0.0024197607, 0.0021822916, 0.0019594727, -3.011647e-05, -0.002302622, -0.003046839, -0.004398241, 0.0030663714, -0.0015267107, 0.0025143996, 0.001046765, -0.0049148556, -0.0018858771, 0.0048297653, 0.002370592, 0.004272971, -0.0021919853, -0.0006931228, -0.004475497, -0.003213819, 0.0010248367, 0.0026169196, -0.001976418, 8.728843e-05, 0.0013441254, -0.00048213828], 'is': [0.0031959608, 0.0044981497, 0.0024236306, 0.0039385287, -0.0036019897, -0.0021234797, -0.0015019256, -0.0024802224, -0.0011676133, 0.00034140507, -1.1005512e-05, -0.0026350373, 0.0022473899, -0.00456366, 0.0035366726, 0.0026557324, 5.3232096e-05, 0.0041660927, -0.0011537813, 0.0048530274, -0.004145542, 0.0013992672, 0.0032840725, -0.0010458119, -0.004629677, -0.0032140822, -0.0028646772, 0.0015660854, 0.005027105, 0.0018052924, -0.0031329822, 0.0015658282, 0.0044427896, 0.0011339616, -0.00039960016, 0.004656403, 0.004864282, -0.002615195, -4.137064e-05, -0.0015280027, 0.00015127847, 0.004289008, -0.0030835206, 0.0031097212, -0.003271585, 0.0050130505, 0.003593953, -0.0037447512, -7.60251e-05, 0.0030423948, -0.004980089, -0.0023862785, 0.0047347993, 0.0046846005, -0.00027355278, -0.0029753556, -0.0028006684, 0.0014736903, -0.00088069605, 0.0033230993, 0.0019664292, -0.00405706, 0.00034119602, 0.0019492097, -0.004717705, -0.0029542532, -0.0044226483, 0.0026982524, 0.0015294021, -0.00067983527, -0.0006125989, -0.0030167168, -0.0007789243, 0.003291809, -0.0032724857, -0.004882431, -0.0020571442, -0.0050332528, 0.0043250173, -0.0040955725, -0.00045316518, 0.00056367053, 0.0010978557, -0.0007576735, 0.0015872961, 0.0029953686, -0.0010379018, 0.00034162993, 0.0043242224, -0.004333752, -0.003869162, 0.0024876907, -0.0047393595, 0.0040192525, -0.0045647724, 0.0018317878, -0.004212306, -0.004127413, 0.004612646, -0.0016337609], 'systems': [0.004297908, -0.0027081836, 0.0013821096, -0.00017858061, 0.004885293, 0.003877916, 0.00182173, 2.727719e-05, -0.0028154885, -0.0039689005, 0.0026223597, 0.002422889, -6.9830436e-05, -0.002436446, 0.0024465048, 0.0017757216, -0.00083207776, 0.0010581033, 0.004134375, -0.0041831806, 2.9884348e-05, -0.0019670923, 0.0047647036, 0.00029003804, 0.004017266, 0.0011979154, -0.004893704, 0.00426711, -0.0022770963, -0.0029185938, -0.0033432257, 0.0024420798, 0.005261601, 0.002492434, 0.0037435775, -0.00011503406, 0.0025081635, -8.4211104e-05, 0.0025891056, -0.0015288084, -0.002070116, -0.0043355105, 0.0048849643, 0.0033295143, 0.0009143705, -0.0016530924, 0.0006216356, 0.0039884066, -0.0016271869, -0.0041746427, 0.001575656, 0.0029751847, -0.004233834, -0.001582269, 0.0015215965, -0.0013641524, -0.004129688, 0.0027993927, -0.0012676948, 0.00041314546, -0.0043443507, -0.0031705424, 0.00178379, -0.0031361568, 0.00025249354, -0.004405968, -0.00048609218, 0.0013068891, -0.003508996, 0.00075223483, -0.002365719, 0.00441085, 0.0036589624, -0.0018289252, 0.0004105158, -0.00208592, -0.00014734415, -0.0007093196, -0.00019119473, 7.2928444e-05, 0.0028203118, -0.00071866735, -0.0034749291, -0.0025464003, 0.0012330397, 0.0007701298, 0.001709409, -0.004575044, 0.0032054929, -0.0039603687, -0.0022774148, 6.035839e-05, 0.00085038773, -0.0014834027, -0.0019351734, -0.004000534, -0.00076329196, 0.00043616036, 0.0028642472, 0.0038534105], 'a': [-0.0019991852, -0.0008348706, -3.202143e-05, -0.0035083964, -0.0038575165, 0.0030967186, 0.00043023075, -0.0029912328, -0.0008521383, -0.0048370133, 0.0009152239, 0.00013974977, -0.001978978, -0.0035848385, 0.003333418, 0.0009844678, 0.002461766, -0.00187173, 0.004660726, -0.0008108832, -0.003123644, 0.00011235857, -0.0007822878, -0.0046702875, 0.0041177217, -0.003161568, -0.003181617, -0.0041703787, 0.0026833527, 0.00035617632, 0.001440386, -0.0022380294, 0.0047170734, -0.004591084, 0.0032231088, 0.0032285713, -0.0015615495, -0.0038382653, -0.00030558277, -0.004160561, 0.0046484973, 0.0036949676, 0.0046759844, -0.0041930755, 0.001606911, -0.00014869806, -0.002877351, 0.0014812102, -4.7291185e-05, 0.0010978968, 0.003499931, 0.004047923, -0.0016111127, -0.0038481448, 0.0033885934, 0.0018148583, -0.0047209426, 0.0030712592, 0.0022297103, -0.0041642063, -0.0032152184, -0.0041991835, -0.0041922084, -0.0026864165, 0.0040801372, 0.0032844483, 0.0014375955, 0.0042708702, 0.0034686218, 0.0032171684, 0.0026021958, 0.0020767432, 0.0051030065, 0.001674933, -0.0047890497, -0.0042990856, -0.0029734706, -0.0026333078, -0.0016342516, -0.0033561431, 0.0008061039, 0.0034433827, -0.003967438, 0.002640726, 0.0037960433, -0.0012481157, -0.0018721857, 0.0031995869, 0.001801977, 0.00029790806, -0.0011306896, 0.0037839136, -0.004608868, 0.0024615955, 0.0021617138, -0.0018582541, -0.002091496, 8.45926e-05, 0.0031127997, -0.0017112815], 'information': [-0.004723864, 0.002613491, 0.0007446775, -0.0001324323, -0.0013685296, -0.002912594, 0.0043770196, -0.0030009036, 0.001953781, -0.0018130864, 0.004938094, 0.0025866104, 0.0015522182, 0.0019539248, -0.0010751929, 0.0047064302, -0.0010971265, -0.0017515055, -0.004278674, -0.0024672844, 0.0020958942, -0.005072666, 4.1995147e-05, -0.0013467753, 0.0022656163, 0.0033714226, 0.0012424166, -0.0033279967, 0.004119997, -0.004201455, 0.004911716, 0.0044554854, -0.00095554773, -0.0043917913, -0.0037531639, 0.0006852576, -0.0018514385, 0.003164281, 0.0017564661, 0.0035515525, -0.0018740431, -0.0019759967, -0.00070078735, 0.0035555274, -0.0033679341, 0.0023586717, -0.0028801835, 0.0049218824, 0.002194466, 0.0045532663, 0.003534684, 0.0020456326, -0.0031618315, -0.002750446, 0.0010424393, 0.0036532586, 0.0023107734, -0.00016288084, -0.0011699398, -0.0001049456, -0.00012637656, 0.0018391148, -0.004809347, -0.00069596263, 0.002379534, 0.0043083364, -0.0041958946, -0.0015698429, -0.004492121, 0.0032924565, 0.0032895405, -0.002951247, 0.003361243, 0.003590792, -0.0024769832, -0.00040686113, 0.0031530745, 0.0029134026, 0.004473284, -0.00443968, 0.0023856573, 0.0023364886, -0.003769262, 0.0048735146, -0.00039254027, -0.0041343104, 0.0038741122, -0.00053017045, -0.00092501106, -0.0034884205, 0.00073183567, -0.00053906295, 0.0013035154, 0.003671137, -0.0028644057, 0.0014607009, 0.0028474797, -0.0036894158, 0.002883813, -0.0007417735], 'as': [0.0014179882, -0.0036743963, -0.0029047867, 0.0007225153, 0.00040778407, -0.0038151194, -0.0033836034, -0.004039777, 0.0030566272, -0.0022197405, 0.0031142498, 0.0026672704, 0.0019103867, -0.0043713045, -0.0018031602, 0.0018669496, 0.00036618952, 0.00023523712, -0.0025531615, 0.00034749456, 0.0027024797, -0.0031406682, 0.0013899927, -0.0021581927, -0.0038673785, -0.0029675532, -0.0039542075, -0.0033879706, 0.0033037765, -0.002566496, -0.0022276195, 0.0034265923, 0.004742647, -0.0033453763, 0.00070537196, -0.00093912287, 0.004807846, -0.0011079119, -0.0030992182, 0.003384213, 0.0014168588, -0.0024378535, -0.0024524888, 0.0007842762, 0.0028837603, -0.0048245285, -0.002714436, -0.004470992, 0.0030211161, 0.0032272683, 0.0017697741, -0.0007797774, -0.00014088869, 0.004589133, 0.0029852847, -0.0044360505, -0.004089079, 0.004612155, 0.0026107335, -0.0008971627, -0.00038987314, 0.0041926033, -0.0013306115, -0.002877544, 0.0019082403, 0.0046439418, 0.0028284087, 0.0015833823, 0.0027228473, 7.644325e-05, -0.0026767943, -0.0037084334, 0.004084849, -0.002608893, -0.0013166034, -0.005127052, 0.004824312, 0.0013746776, -0.0013977749, -0.003964501, -8.3979714e-05, 0.0019131142, -0.0023180305, 0.00075794704, -0.003016187, 0.00038615832, 0.004923263, 0.0048838523, 0.0022932854, 0.00032918536, -0.0030199254, -0.00036154044, 0.00047985875, -0.00046843028, 0.0044347136, -0.0010152722, -0.0040982356, -0.0011029297, 0.0020125732, 0.0049074767], 'text': [0.0044006137, 0.0036515442, -0.002182195, -0.0024048458, -0.0016627398, 0.0018218398, -0.0032393143, 0.0010639911, 0.0011909232, 0.0010427642, -0.0015617165, -0.004556336, 0.00508346, -0.0014079969, -0.00017198702, -0.001967596, -0.0030971365, 0.0014435396, 0.0007468858, 0.00034490577, 0.00033136748, -0.0013927367, 0.002959341, 0.0038530692, 0.0015337676, -0.0038168319, -0.0022779836, -0.0017045048, 0.001496957, -0.0019053072, -0.0006877559, -0.0018933527, 0.0013069203, 0.0033869836, -0.00012536047, -0.00069028616, -0.00046944586, -0.00090772106, -0.0020567724, -0.004695852, -0.0022643786, 0.002552605, -0.0011733305, -0.0040718797, 0.00044951212, 0.003644063, -0.004069406, -0.002497481, 0.0032234914, -0.0020022816, -0.0043446943, 0.0027526168, 0.0024533016, -0.004299615, -0.00022158715, -0.0026757838, 0.00097606645, 0.002611132, 0.004226433, 0.0034605677, -0.002926814, -0.0045083114, -0.0023841555, -0.004209661, 0.003861875, -0.001991941, 0.0013222648, 0.0004839302, 0.002708483, -0.0011602064, 0.00015524135, 0.0046876003, 0.0012830875, 0.0027491997, 0.0009397911, 0.0024354355, -0.001853152, -0.0045182086, 0.002696336, 0.0018808342, 0.0027925004, 0.0033248668, 0.004359259, -0.0007478741, -0.0010034976, 0.0013516711, 0.004123965, 0.00070331927, 0.0003000222, 0.0013012032, -0.0049457815, 0.0016915671, 0.003930861, -0.001050055, -0.0048564733, -0.0036810215, 0.004628839, 0.00022644109, -0.0010861907, 0.0013809033], 'retrieval': [-0.0050949724, 0.004839368, 0.0017293344, 0.0026050701, 0.00022946253, -0.0041098767, -0.0016387616, 0.0042073107, -0.0016590228, -0.0027487518, 0.0035198543, 0.0027389117, -0.0013465089, 9.876274e-05, -0.0031743813, -0.0015620016, 0.0030678732, 0.00077274424, -0.0029812732, -0.0042703957, -0.0025504937, 0.0017013873, -0.00444875, -0.0026916268, -0.000234158, 0.00421725, -0.00073643116, -0.0029469156, 0.0049105096, -0.0044000344, -0.001326114, -0.0022199862, 0.0038449096, 0.0020073839, -0.004067966, 0.0015617023, -0.002064991, -0.0033795212, -0.00076848106, -6.910959e-05, -0.004635936, 0.0032751826, 0.0012640448, 0.0046408516, -0.00028407495, -0.00038627494, 0.00091758283, -0.001975291, -0.001772177, 0.004791146, -0.0028214965, -0.004879828, -0.0019429178, -0.0025305592, 0.0024831146, 0.0019518016, -0.004350341, 0.003001284, -0.00063473044, -0.00054927747, 0.0020496338, -0.00094013935, 0.0012419393, -0.0038720996, 0.0014479863, -0.0008374578, -0.0045889276, -0.00404094, 0.0024967822, -0.0025614714, -0.0021724745, 0.0016308579, 0.0042188987, 0.004434121, -0.0006181857, -0.0018743819, -0.0043391115, 0.004321285, -0.003704687, -0.0049118735, -0.00046008948, 0.0008876924, 0.0030955672, -0.0005877723, 0.0001632089, 0.0020935074, -0.0051387385, 0.004699855, -0.004100635, 0.0039343527, -0.00335432, -0.0039048812, 0.0040363544, -0.0018949095, -0.003790698, 0.0012613789, -0.0021819558, 0.0032326318, 0.0013231857, 0.0026531266], 'to': [-0.0007329286, 0.0037234689, -0.0016998999, 0.002408083, 0.0044475617, 0.0028976633, -0.0036637157, 0.0018509943, -6.620197e-05, 0.0038862443, -0.0033471761, 0.00054340967, -0.0019062546, 0.004547424, -0.0016590086, -0.0029959008, 0.0044952896, 0.0036312647, 0.0038449103, -0.00068524544, -0.0006506997, 0.0039848695, -0.0042311074, -0.00031281973, 0.0045186756, -0.0024471295, -0.00022596681, 0.0032619988, -0.0015209796, 0.0034660138, -0.0014995477, -0.0017638922, 0.0046404125, -0.001529003, 0.00015117128, -0.0040399055, 0.00030019387, -0.0043484666, -0.0026852945, 0.0035197185, -0.0010342202, -0.0044289585, 0.0022688482, -0.004379105, -0.0018284663, -0.0032200026, -0.0050263964, -0.00019928058, -0.004535048, -0.003557217, 0.0035311338, 0.0038851819, -0.0027262876, 0.0011965213, 0.0024256604, -0.00015366098, -0.00062986836, 0.0039528953, -0.0013312191, 0.0021682659, -0.00014460905, 0.0016978016, 0.00059516996, 0.00041895735, -0.0014139725, 0.0009864917, 0.002226628, -0.0006247285, 0.00084746163, -0.0016215845, 0.004214045, -0.0043414584, 0.0039593372, 0.0024442314, 0.004670786, 0.004237, -0.0024591542, 0.004455394, 0.00039965173, 0.0033425186, 0.0048327963, -0.0033701686, -0.0028052435, 0.0040058563, -0.002337726, -0.0010437978, 0.0029699677, 0.0044243075, 0.002040492, 0.0021442631, 0.0018987473, -0.0023441052, -0.0049018804, 0.0007462767, -0.00019561371, -0.0033781177, -0.0014951504, -0.0016096849, 0.0016434705, 0.0030035998], 'The': [-0.002237136, 0.0014786592, -0.0048946016, 0.003026765, 0.0045055244, -0.0003121663, -0.0033268663, -0.0035284134, 0.0024856045, 0.0027579912, -0.0008531043, -0.001924291, -0.0043641045, 0.0038863362, -0.0006684857, -0.00037817532, 0.00123144, -0.001521301, 0.001309555, 0.0012350223, -0.00014538888, -0.0008385717, -0.0030370287, 0.002740881, 0.0010979249, -0.00030741733, 0.0044243354, -3.1111435e-05, 0.002641508, -0.004532919, 0.0009361381, 5.9726342e-05, 8.740481e-05, -0.0007686558, -0.0043291626, 0.0032775837, 0.004457106, -0.0015302642, -0.0045315004, 0.0010033894, -0.0013750113, 0.004166272, -0.0020320506, -0.0013368963, -0.0021489572, -0.0010072788, -0.00065230037, 0.0022271662, -0.0036386994, 0.0017852515, 0.003722346, -0.0004116199, 0.0017661123, -0.001628405, 0.00044715585, 0.0024388414, -0.0017695822, -0.0019157226, -0.0021944137, -0.0038013337, 0.002135463, 0.0026747657, 4.9447262e-06, -0.002899554, 0.0016435053, 0.0032312288, 0.0026161748, -0.003231629, 0.00027439947, 0.002351771, 0.0006670944, -0.0031805711, -0.00058128923, -0.00033182936, 0.0020199923, -0.004726382, 0.0017084423, -0.00021510258, 0.0007752231, 0.00044751118, 0.0039919047, 0.0042728633, 0.003601552, -0.0044211983, -0.0015844357, 0.002472945, -0.0026821664, 0.0027889453, 0.0037201736, -0.002846287, -0.0002508625, -0.0012748885, -0.0007326955, -0.00156534, 0.0013530393, 0.00435574, 0.0030796921, -0.001595025, 0.002015735, 0.0031014737], 'on': [0.0025078254, 0.004595778, -0.0021827593, -0.0018739328, -0.0043246546, 0.004500565, -0.0042137965, 7.511474e-05, -4.412372e-05, 0.0034129235, 0.0016241801, 0.0001667654, 0.0039007305, -0.0014403776, 0.0043113474, -0.00319364, -0.0040994333, -0.00014328168, -0.0044134078, -0.0028821311, -0.000101297235, 0.0036491493, -0.0010823096, -0.0042449133, -0.0028138813, 0.00080493087, 0.0011032117, -0.0021873945, -0.0009927332, 0.0045475895, -0.0040193666, -0.0044733137, 0.0021048463, 0.0011769237, -0.0019552838, -0.0039479136, 0.0030731012, 0.0027767534, 0.0017105412, -0.0038818943, -0.0030009234, 0.001625693, -0.0015427986, 0.0004140066, -0.00011552845, 0.0025119411, 0.00024405503, -0.000116785195, 0.003439594, -0.004840068, 0.0037081013, 0.0016874777, -0.0038022276, -0.0002696641, -0.0029236218, 0.0020844517, -0.0018801662, 0.0029200574, -0.0015540486, -0.00061335746, 0.0026816435, 0.0033725144, -0.0010110373, -0.0015093089, 0.0016119658, 0.00086522684, -7.0492497e-06, -0.0043416917, 0.003322879, -7.2738185e-06, -0.0030661582, 0.0008109005, 0.004566677, -0.0037562535, 0.0036189277, 0.0042892527, -0.0007777249, 0.0029382946, -0.0044093737, -0.0046639447, -0.0013533044, 0.003934013, -0.0016222452, 0.0036151526, 0.0017354382, 0.0038797907, -0.0013200318, 0.0025460278, -0.0048392336, 0.0048903446, -0.0030292398, -0.0044580917, -0.0032654963, -0.0039615687, 0.003189528, -0.00477641, -0.00081706134, -0.0012269235, 0.0015137269, 0.0003151182], 'by': [0.00072736025, 0.004931715, -0.0018513373, -0.0017255072, -0.0002512904, -7.795526e-05, -0.0015663886, 0.0027793238, -0.0001494071, -0.0015967304, -0.0019354024, 0.0035820196, -0.002224919, -0.0007645855, 0.0017634727, 0.0023070218, 0.0014715581, 0.0006425773, -0.0038707692, 0.0024167385, 0.0022013132, -0.0009845112, -0.0039348924, -0.0008726304, 0.002633017, -0.004897401, -0.000682595, -0.0038077598, 0.0024721636, -0.004800534, 0.0019968685, -0.002161335, 0.0042418167, 0.0023034704, -0.0006712301, -0.004430868, 0.00043422802, 0.0044328794, -0.0028231656, -0.0015054573, 0.0014115395, 0.0022091237, -0.00048586374, 0.0024299794, -0.003059333, -0.0009859075, -0.0013003899, 0.0042028804, 0.0044280225, 0.0039711264, 0.0034848778, -0.003134629, 0.0034060788, 0.0014668474, 0.0049155205, -8.1494545e-05, 0.0021519945, -0.00027285935, 0.0006791053, -0.003187239, -0.0021131623, 0.00010131865, 0.002098152, -0.00017533689, -0.00051566545, -0.0014509293, 0.0020328492, 0.0047500627, 0.005175813, 0.0026949747, 0.005226706, 0.0022609266, 0.003840607, 0.0035600842, -0.00430471, -0.002461533, 0.002703751, -0.0009421926, 0.0032243228, 0.0020369475, 0.0042975633, -0.0006213616, 0.0034243893, 0.0013886724, 0.00398784, -0.0036476452, -0.003729773, -0.00028776398, -0.0038710954, -0.0033963774, 0.00070119195, -0.0036264847, 0.003138588, 0.0019895728, 0.0013145829, -0.0025303164, 0.0029834434, 0.002865608, 0.0035378435, -0.00025854874], 'of': [-0.0018730125, -0.001493427, -0.0028422698, -0.0017708024, 0.0005731344, 0.0013920412, -0.0003257448, 0.002817261, -0.003977325, -0.00029403824, -0.0017751261, 0.0039074714, 0.0002438325, 0.0036820588, -0.0038720223, -0.0032224783, 0.002391011, -0.004007349, 0.0020146754, 0.002449527, 0.0021251407, -0.004604013, -0.0015681271, 0.0037071328, 0.0023207879, 0.0011800105, -0.002022252, -0.0025177659, -0.002757198, -0.0030984029, -0.004925271, 0.0031702402, -0.0008792457, 0.0014021609, 0.0018040651, 0.0027284757, -0.0035329156, -0.003211456, 0.0010549345, 0.0016109293, 0.003684513, -0.003935458, -0.004989346, 0.0021711076, 0.0034692292, -0.0010578486, 0.002108478, 0.001196761, -0.000635088, -0.0016008344, 0.0031731778, 0.0032536713, -0.001219126, -0.00026296955, 0.004576614, -0.004885039, -0.0006042042, -0.0021426934, -0.003094159, 0.0037753116, -0.00023699457, -0.004572519, 0.003979425, -0.0029133204, 0.0028549058, -0.0008308471, 0.002716668, -0.0045986287, -0.0028003915, 0.002255729, 0.00038285597, -0.003778555, -0.0008496856, 0.0035694719, 0.00020194401, 0.0047965525, -0.0042615747, 0.0031334793, -0.0037139924, -0.00091913657, -0.0026938156, 0.0002984088, -0.0036297808, 0.003155326, -0.0015660214, 0.00094712054, -0.0020962183, -0.0025954908, -0.0044762804, 0.0016648486, 0.0010505312, -0.0027040965, 0.0032782163, -0.0033351858, -0.003747681, -0.004896713, -0.00456913, -0.0013084614, 0.0034106416, -0.005050904], 'and': [-0.0019303395, -0.0007124909, 0.001975473, 0.0050262655, -0.0036222762, 0.004271643, -0.0013476216, -0.0017627472, 0.004303675, 0.0044951197, 0.00079166313, -1.1260525e-05, -0.0034691712, 0.0046928236, 0.0025410405, 0.0016198794, -0.0003989424, 0.0020077007, -0.004201555, 0.0016734169, -0.0026571653, 0.0028017391, -0.0035631603, 0.0011311505, 0.0009863835, -5.3633637e-05, 0.0013179254, 0.00217473, -0.0045070807, -0.001140756, 0.0008285936, 0.00022298552, 0.0010967987, 0.0048689716, 0.00026502548, 0.0003657265, -0.0013067577, -0.003605992, 0.0030608813, -0.0038127545, -0.004917357, 0.0024418929, 0.0020354465, -0.0013457601, 0.00041101806, 0.000532526, 8.9948575e-05, 0.0015924793, -0.0005166039, -0.0036133162, -0.0014985302, -0.002207262, -0.0030120462, 0.0030578496, 0.0046868864, 0.001992061, -0.0037305793, 0.0018353724, 0.0012776266, -0.0035776042, 0.0027678418, -0.0017093776, -0.00031120324, 0.0027886902, -0.00032594457, -0.0048312484, -0.0001508797, -0.00120429, -0.0005332025, 0.004059338, 0.0005970771, 0.003993225, 0.0043286765, 0.0011410682, 0.0031372327, 0.004568306, 0.0034840666, 0.0018414886, -0.0026036617, -0.0047298777, 0.0012893508, -0.0046735145, -0.0029311883, -0.00012186119, -0.003624045, -0.0042170216, -0.004017708, -0.0010545996, 0.0014550665, -0.0043802047, 0.0048411, 0.004243306, -0.003978426, 0.0020866673, 0.0019323884, 0.0023748467, -0.00197114, 0.0029460539, -0.004531478, 0.003943926], 'the': [0.002563442, 0.005691893, 0.00067542866, 0.0020281863, 0.0016591029, 9.18015e-05, -0.0030650103, -0.0021014488, 0.0025028363, 0.00036516122, 0.0017139297, -0.0016993466, 0.00413932, -0.0041952976, -0.0010400591, -0.0046298266, 0.0031106828, 0.0021801344, -0.005037524, -0.0053603062, 0.0043401094, -0.0054274425, 0.0017065286, 0.001950935, 0.0040698964, -0.00043036693, -0.0015373623, 0.001654671, -0.0040826635, -0.0063161496, 0.005014517, 0.0047462666, 0.0002762533, 0.003973331, 0.0012827436, -0.0032091206, 0.00045208653, 0.0027810351, 0.00473393, 0.00034056406, -0.0056646885, -4.1762945e-05, -0.0020924283, -0.003441309, 0.00061980943, -0.0033282277, -0.006363743, -0.0014293325, 0.0013095117, 7.974543e-05, -0.004474615, -0.0014298906, 0.003274726, 0.0028491223, 0.0068740062, -0.0023810014, 0.004537278, 0.0053580445, -0.003799295, 8.206857e-05, -0.0034517439, 0.0044966666, -0.002145397, -0.0015268445, -0.00052281894, -0.0037665877, 0.004352119, 0.0050106635, 0.0052123675, 0.0050754626, 0.003149971, 0.00024217575, 0.0068253037, 0.004695543, -0.005623433, 0.0029156874, -0.0020556937, -0.001700811, 0.0027735361, 0.0011672904, 0.0047976295, -0.0012466678, 0.0044760015, -0.00020769141, -0.0014868437, -0.0026342268, 0.0043887533, -0.0035097376, 0.002519811, 0.0002630773, -0.00018513024, 0.0024987983, -0.00015316851, 0.004368962, 0.0016055254, -0.00406634, 0.002989435, -0.00036726633, 0.0019719717, -0.004102825]})"
      ]
     },
     "execution_count": 69,
     "metadata": {},
     "output_type": "execute_result"
    }
   ],
   "source": [
    "dic.keys()"
   ]
  },
  {
   "cell_type": "code",
   "execution_count": 70,
   "metadata": {},
   "outputs": [
    {
     "data": {
      "text/plain": [
       "[-0.004723864, 0.002613491, 0.0007446775, -0.0001324323, -0.0013685296, -0.002912594, 0.0043770196, -0.0030009036, 0.001953781, -0.0018130864, 0.004938094, 0.0025866104, 0.0015522182, 0.0019539248, -0.0010751929, 0.0047064302, -0.0010971265, -0.0017515055, -0.004278674, -0.0024672844, 0.0020958942, -0.005072666, 4.1995147e-05, -0.0013467753, 0.0022656163, 0.0033714226, 0.0012424166, -0.0033279967, 0.004119997, -0.004201455, 0.004911716, 0.0044554854, -0.00095554773, -0.0043917913, -0.0037531639, 0.0006852576, -0.0018514385, 0.003164281, 0.0017564661, 0.0035515525, -0.0018740431, -0.0019759967, -0.00070078735, 0.0035555274, -0.0033679341, 0.0023586717, -0.0028801835, 0.0049218824, 0.002194466, 0.0045532663, 0.003534684, 0.0020456326, -0.0031618315, -0.002750446, 0.0010424393, 0.0036532586, 0.0023107734, -0.00016288084, -0.0011699398, -0.0001049456, -0.00012637656, 0.0018391148, -0.004809347, -0.00069596263, 0.002379534, 0.0043083364, -0.0041958946, -0.0015698429, -0.004492121, 0.0032924565, 0.0032895405, -0.002951247, 0.003361243, 0.003590792, -0.0024769832, -0.00040686113, 0.0031530745, 0.0029134026, 0.004473284, -0.00443968, 0.0023856573, 0.0023364886, -0.003769262, 0.0048735146, -0.00039254027, -0.0041343104, 0.0038741122, -0.00053017045, -0.00092501106, -0.0034884205, 0.00073183567, -0.00053906295, 0.0013035154, 0.003671137, -0.0028644057, 0.0014607009, 0.0028474797, -0.0036894158, 0.002883813, -0.0007417735]"
      ]
     },
     "execution_count": 70,
     "metadata": {},
     "output_type": "execute_result"
    }
   ],
   "source": [
    "dic['information']"
   ]
  },
  {
   "cell_type": "code",
   "execution_count": null,
   "metadata": {
    "collapsed": true
   },
   "outputs": [],
   "source": []
  },
  {
   "cell_type": "code",
   "execution_count": null,
   "metadata": {
    "collapsed": true
   },
   "outputs": [],
   "source": []
  }
 ],
 "metadata": {
  "kernelspec": {
   "display_name": "Python 3",
   "language": "python",
   "name": "python3"
  },
  "language_info": {
   "codemirror_mode": {
    "name": "ipython",
    "version": 3
   },
   "file_extension": ".py",
   "mimetype": "text/x-python",
   "name": "python",
   "nbconvert_exporter": "python",
   "pygments_lexer": "ipython3",
   "version": "3.6.2"
  }
 },
 "nbformat": 4,
 "nbformat_minor": 1
}

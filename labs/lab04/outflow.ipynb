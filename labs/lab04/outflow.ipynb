{
 "cells": [
  {
   "cell_type": "code",
   "execution_count": 1,
   "metadata": {
    "collapsed": true
   },
   "outputs": [],
   "source": [
    "import pandas as pd\n",
    "train = pd.read_csv('laba04_train.csv')"
   ]
  },
  {
   "cell_type": "code",
   "execution_count": 2,
   "metadata": {
    "collapsed": true
   },
   "outputs": [],
   "source": [
    "def decode_dataset(dataset):\n",
    "    \n",
    "    APP_DRIVING_LICENSEs = {'Y': 1, 'N': 0}\n",
    "    dataset[\"APP_DRIVING_LICENSE\"] = dataset[\"APP_DRIVING_LICENSE\"].apply(lambda x: APP_DRIVING_LICENSEs.get(x))\n",
    "    \n",
    "    CLNT_JOB_POSITION_TYPEs = {'SPECIALIST': 1, 'MANAGER': 4, 'TOP_MANAGER': 2, 'SELF_EMPL':3 }\n",
    "    dataset[\"CLNT_JOB_POSITION_TYPE\"] = dataset[\"CLNT_JOB_POSITION_TYPE\"].apply(lambda x: CLNT_JOB_POSITION_TYPEs.get(x))\n",
    "    \n",
    "    APP_CARs = {'Y': 1, 'N': 0}\n",
    "    dataset[\"APP_CAR\"] = dataset[\"APP_CAR\"].apply(lambda x: APP_CARs.get(x))\n",
    "    \n",
    "    APP_TRAVEL_PASSs = {'Y': 1, 'N': 0}\n",
    "    dataset[\"APP_TRAVEL_PASS\"] = dataset[\"APP_TRAVEL_PASS\"].apply(lambda x: APP_TRAVEL_PASSs.get(x))\n",
    "    \n",
    "    APP_POSITION_TYPEs = {'SPECIALIST': 1, 'MANAGER': 4, 'TOP_MANAGER': 2, 'SELF_EMPL':3 }\n",
    "    dataset[\"APP_POSITION_TYPE\"] = dataset[\"APP_POSITION_TYPE\"].apply(lambda x: APP_POSITION_TYPEs.get(x))\n",
    "    \n",
    "    APP_KIND_OF_PROP_HABITATIONs = {'SO': 1, 'JO': 5, 'OTHER': 2, 'RENT':3, 'NPRIVAT':4}\n",
    "    dataset[\"APP_KIND_OF_PROP_HABITATION\"] = dataset[\"APP_KIND_OF_PROP_HABITATION\"].apply(lambda x: APP_KIND_OF_PROP_HABITATIONs.get(x))\n",
    "    \n",
    "    APP_EMP_TYPEs = {'PRIVATE': 1, 'STATE': 4, 'INTER': 2, 'IP':3 }\n",
    "    dataset[\"APP_EMP_TYPE\"] = dataset[\"APP_EMP_TYPE\"].apply(lambda x: APP_EMP_TYPEs.get(x))\n",
    "    \n",
    "    return dataset"
   ]
  },
  {
   "cell_type": "code",
   "execution_count": 3,
   "metadata": {
    "collapsed": true
   },
   "outputs": [],
   "source": [
    "def drop_dataset(dataset, with_set_01=True):\n",
    "    \n",
    "    if with_set_01:\n",
    "        dataset = dataset.drop(['ID', 'PRC_ACCEPTS_A_EMAIL_LINK', 'PRC_ACCEPTS_A_POS', \n",
    "                                'PRC_ACCEPTS_A_TK', 'TURNOVER_DYNAMIC_IL_1M', 'PRC_ACCEPTS_A_AMOBILE',\n",
    "                                'PRC_ACCEPTS_TK', 'PRC_ACCEPTS_A_MTP',\n",
    "                                'PRC_ACCEPTS_A_ATM', 'PRC_ACCEPTS_MTP', 'CNT_ACCEPTS_MTP',\n",
    "                                'TURNOVER_CC', 'REST_DYNAMIC_FDEP_3M', 'REST_DYNAMIC_IL_1M',\n",
    "                                'LDEAL_YQZ_CHRG', 'CR_PROD_CNT_CCFP', 'MAX_PCLOSE_DATE', \n",
    "                                'LDEAL_YQZ_PC', 'CLNT_SALARY_VALUE'], axis=1)\n",
    "    \n",
    "    return dataset.drop(['APP_COMP_TYPE', 'APP_EDUCATION', 'APP_MARITAL_STATUS', 'CNT_ACCEPTS_TK',\n",
    "                         'APP_REGISTR_RGN_CODE', 'CLNT_JOB_POSITION', 'CLNT_TRUST_RELATION', 'PACK'], axis=1)\n",
    "    "
   ]
  },
  {
   "cell_type": "code",
   "execution_count": 4,
   "metadata": {
    "collapsed": true
   },
   "outputs": [],
   "source": [
    "train = decode_dataset(train)\n",
    "train = drop_dataset(train)\n",
    "train = train.fillna(0)"
   ]
  },
  {
   "cell_type": "code",
   "execution_count": 5,
   "metadata": {
    "collapsed": true
   },
   "outputs": [],
   "source": [
    "test = pd.read_csv('laba04_test.csv')\n",
    "\n",
    "test_id = test.ID\n",
    "test = decode_dataset(test)\n",
    "test = drop_dataset(test)\n",
    "test = test.fillna(0)"
   ]
  },
  {
   "cell_type": "code",
   "execution_count": null,
   "metadata": {
    "collapsed": true
   },
   "outputs": [],
   "source": [
    "matplotlib inline"
   ]
  },
  {
   "cell_type": "code",
   "execution_count": null,
   "metadata": {
    "collapsed": true
   },
   "outputs": [],
   "source": [
    "import seaborn as sea\n",
    "sea.pairplot(train, hue=\"TARGET\", vars=[\"AGE\", \"REST_AVG_CUR\", \"REST_AVG_PAYM\"])"
   ]
  },
  {
   "cell_type": "code",
   "execution_count": 6,
   "metadata": {
    "collapsed": true
   },
   "outputs": [],
   "source": [
    "y = train.TARGET\n",
    "train = train.drop([\"TARGET\"], axis=1)"
   ]
  },
  {
   "cell_type": "code",
   "execution_count": 68,
   "metadata": {
    "collapsed": true
   },
   "outputs": [],
   "source": [
    "# from sklearn.cross_validation import train_test_split\n",
    "# X_train, X_test, y_train, y_test = train_test_split(\n",
    "#     train, \n",
    "#     y, \n",
    "#     test_size=0.33,\n",
    "#     random_state=42)"
   ]
  },
  {
   "cell_type": "code",
   "execution_count": 36,
   "metadata": {
    "collapsed": true
   },
   "outputs": [],
   "source": [
    "# ROC AUC 0.72007114093988478\n",
    "# from sklearn.linear_model import LogisticRegression\n",
    "# lr = LogisticRegression()\n",
    "# lr.fit(X_train, y_train)    \n",
    "    \n",
    "# pred = lr.predict_proba(X_test)"
   ]
  },
  {
   "cell_type": "code",
   "execution_count": 7,
   "metadata": {
    "collapsed": true
   },
   "outputs": [],
   "source": [
    "# ROC AUC 0.7483843260840326\n",
    "from sklearn.ensemble import RandomForestClassifier\n",
    "rfc = RandomForestClassifier()\n",
    "rfc.fit(train, y)    \n",
    "    \n",
    "pred = rfc.predict_proba(test)"
   ]
  },
  {
   "cell_type": "code",
   "execution_count": 18,
   "metadata": {
    "collapsed": true
   },
   "outputs": [],
   "source": [
    "with open('lab04.csv', 'w') as file:\n",
    "    file.write('id' + '\\t' + 'target' + '\\n')\n",
    "    id_num = 0\n",
    "    for item in pred[:,1]:   \n",
    "        file.write(str(test_id[id_num]).strip() + '\\t' + str(item) + '\\n')\n",
    "        id_num = id_num + 1"
   ]
  },
  {
   "cell_type": "code",
   "execution_count": 70,
   "metadata": {
    "collapsed": true
   },
   "outputs": [],
   "source": [
    "from sklearn import metrics\n",
    "fpr, tpr, thresholds = metrics.roc_curve(y_test, pred[:,1])"
   ]
  },
  {
   "cell_type": "code",
   "execution_count": 71,
   "metadata": {},
   "outputs": [
    {
     "data": {
      "text/plain": [
       "0.7495246124081526"
      ]
     },
     "execution_count": 71,
     "metadata": {},
     "output_type": "execute_result"
    }
   ],
   "source": [
    "metrics.auc(fpr, tpr)"
   ]
  },
  {
   "cell_type": "code",
   "execution_count": 54,
   "metadata": {},
   "outputs": [
    {
     "data": {
      "text/plain": [
       "array([ 0. ,  0.1,  0. , ...,  0.2,  0.1,  0. ])"
      ]
     },
     "execution_count": 54,
     "metadata": {},
     "output_type": "execute_result"
    }
   ],
   "source": [
    "pred[:,1]"
   ]
  },
  {
   "cell_type": "code",
   "execution_count": 56,
   "metadata": {
    "collapsed": true
   },
   "outputs": [],
   "source": [
    "matplotlib inline"
   ]
  },
  {
   "cell_type": "code",
   "execution_count": 57,
   "metadata": {},
   "outputs": [
    {
     "data": {
      "text/plain": [
       "[<matplotlib.lines.Line2D at 0x127b598d0>]"
      ]
     },
     "execution_count": 57,
     "metadata": {},
     "output_type": "execute_result"
    },
    {
     "data": {
      "image/png": "[encoded data removed]",
      "text/plain": [
       "<matplotlib.figure.Figure at 0x1172d47b8>"
      ]
     },
     "metadata": {},
     "output_type": "display_data"
    }
   ],
   "source": [
    "from matplotlib import pyplot as plt\n",
    "plt.plot(fpr, tpr)"
   ]
  },
  {
   "cell_type": "code",
   "execution_count": 58,
   "metadata": {},
   "outputs": [
    {
     "data": {
      "text/plain": [
       "0.677498950606786"
      ]
     },
     "execution_count": 58,
     "metadata": {},
     "output_type": "execute_result"
    }
   ],
   "source": [
    "metrics.roc_auc_score(y_test, pred[:,1])"
   ]
  },
  {
   "cell_type": "code",
   "execution_count": null,
   "metadata": {
    "collapsed": true
   },
   "outputs": [],
   "source": []
  },
  {
   "cell_type": "code",
   "execution_count": null,
   "metadata": {
    "collapsed": true
   },
   "outputs": [],
   "source": []
  }
 ],
 "metadata": {
  "kernelspec": {
   "display_name": "Python 3",
   "language": "python",
   "name": "python3"
  },
  "language_info": {
   "codemirror_mode": {
    "name": "ipython",
    "version": 3
   },
   "file_extension": ".py",
   "mimetype": "text/x-python",
   "name": "python",
   "nbconvert_exporter": "python",
   "pygments_lexer": "ipython3",
   "version": "3.6.2"
  }
 },
 "nbformat": 4,
 "nbformat_minor": 2
}

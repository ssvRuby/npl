{
 "cells": [
  {
   "cell_type": "code",
   "execution_count": 1,
   "metadata": {
    "collapsed": true
   },
   "outputs": [],
   "source": [
    "import warnings\n",
    "warnings.filterwarnings('ignore')"
   ]
  },
  {
   "cell_type": "code",
   "execution_count": 2,
   "metadata": {
    "collapsed": true
   },
   "outputs": [],
   "source": [
    "import pandas as pd\n",
    "train = pd.read_csv('laba04_train.csv')"
   ]
  },
  {
   "cell_type": "code",
   "execution_count": 3,
   "metadata": {
    "collapsed": true
   },
   "outputs": [],
   "source": [
    "def drop_dataset(dataset):        \n",
    "    dataset = dataset.drop(['ID', 'Unnamed: 0', 'PRC_ACCEPTS_A_EMAIL_LINK', 'PRC_ACCEPTS_A_POS', \n",
    "                            'PRC_ACCEPTS_A_TK', 'TURNOVER_DYNAMIC_IL_1M', 'PRC_ACCEPTS_A_AMOBILE',\n",
    "                            'PRC_ACCEPTS_TK', 'PRC_ACCEPTS_A_MTP', 'CLNT_JOB_POSITION',\n",
    "                            'PRC_ACCEPTS_A_ATM', 'PRC_ACCEPTS_MTP', 'CNT_ACCEPTS_MTP',\n",
    "                            'TURNOVER_CC', 'REST_DYNAMIC_FDEP_3M', 'REST_DYNAMIC_IL_1M',\n",
    "                            'CR_PROD_CNT_CCFP', 'CNT_ACCEPTS_TK', 'CLNT_TRUST_RELATION',\n",
    "                            'APP_EDUCATION', 'PACK'], axis=1)\n",
    "    \n",
    "    return dataset    "
   ]
  },
  {
   "cell_type": "code",
   "execution_count": 4,
   "metadata": {
    "collapsed": true
   },
   "outputs": [],
   "source": [
    "def fill_median(dataset):\n",
    "    for col in dataset.columns:\n",
    "        dataset[col] = dataset[col].fillna(dataset[col].median())\n",
    "    return dataset    "
   ]
  },
  {
   "cell_type": "code",
   "execution_count": 5,
   "metadata": {
    "collapsed": true
   },
   "outputs": [],
   "source": [
    "y = train.TARGET\n",
    "train = train.drop([\"TARGET\"], axis=1)"
   ]
  },
  {
   "cell_type": "code",
   "execution_count": 7,
   "metadata": {
    "collapsed": true
   },
   "outputs": [
    {
     "data": {
      "text/html": [
       "<div>\n",
       "<style>\n",
       "    .dataframe thead tr:only-child th {\n",
       "        text-align: right;\n",
       "    }\n",
       "\n",
       "    .dataframe thead th {\n",
       "        text-align: left;\n",
       "    }\n",
       "\n",
       "    .dataframe tbody tr th {\n",
       "        vertical-align: top;\n",
       "    }\n",
       "</style>\n",
       "<table border=\"1\" class=\"dataframe\">\n",
       "  <thead>\n",
       "    <tr style=\"text-align: right;\">\n",
       "      <th></th>\n",
       "      <th>CR_PROD_CNT_IL</th>\n",
       "      <th>AMOUNT_RUB_CLO_PRC</th>\n",
       "      <th>APP_REGISTR_RGN_CODE</th>\n",
       "      <th>CNT_TRAN_AUT_TENDENCY1M</th>\n",
       "      <th>SUM_TRAN_AUT_TENDENCY1M</th>\n",
       "      <th>AMOUNT_RUB_SUP_PRC</th>\n",
       "      <th>SUM_TRAN_AUT_TENDENCY3M</th>\n",
       "      <th>REST_DYNAMIC_FDEP_1M</th>\n",
       "      <th>CNT_TRAN_AUT_TENDENCY3M</th>\n",
       "      <th>REST_DYNAMIC_SAVE_3M</th>\n",
       "      <th>...</th>\n",
       "      <th>APP_MARITAL_STATUS_M</th>\n",
       "      <th>APP_MARITAL_STATUS_N</th>\n",
       "      <th>APP_MARITAL_STATUS_T</th>\n",
       "      <th>APP_MARITAL_STATUS_V</th>\n",
       "      <th>APP_MARITAL_STATUS_W</th>\n",
       "      <th>APP_MARITAL_STATUS_d</th>\n",
       "      <th>APP_MARITAL_STATUS_m</th>\n",
       "      <th>APP_MARITAL_STATUS_t</th>\n",
       "      <th>APP_MARITAL_STATUS_v</th>\n",
       "      <th>APP_MARITAL_STATUS_w</th>\n",
       "    </tr>\n",
       "  </thead>\n",
       "  <tbody>\n",
       "    <tr>\n",
       "      <th>0</th>\n",
       "      <td>0</td>\n",
       "      <td>0.0</td>\n",
       "      <td>54.0</td>\n",
       "      <td>0.3</td>\n",
       "      <td>0.286712</td>\n",
       "      <td>0.0</td>\n",
       "      <td>0.723247</td>\n",
       "      <td>0.0</td>\n",
       "      <td>0.666667</td>\n",
       "      <td>0.0</td>\n",
       "      <td>...</td>\n",
       "      <td>0</td>\n",
       "      <td>0</td>\n",
       "      <td>0</td>\n",
       "      <td>0</td>\n",
       "      <td>0</td>\n",
       "      <td>0</td>\n",
       "      <td>0</td>\n",
       "      <td>0</td>\n",
       "      <td>0</td>\n",
       "      <td>0</td>\n",
       "    </tr>\n",
       "  </tbody>\n",
       "</table>\n",
       "<p>1 rows × 126 columns</p>\n",
       "</div>"
      ],
      "text/plain": [
       "   CR_PROD_CNT_IL  AMOUNT_RUB_CLO_PRC  APP_REGISTR_RGN_CODE  \\\n",
       "0               0                 0.0                  54.0   \n",
       "\n",
       "   CNT_TRAN_AUT_TENDENCY1M  SUM_TRAN_AUT_TENDENCY1M  AMOUNT_RUB_SUP_PRC  \\\n",
       "0                      0.3                 0.286712                 0.0   \n",
       "\n",
       "   SUM_TRAN_AUT_TENDENCY3M  REST_DYNAMIC_FDEP_1M  CNT_TRAN_AUT_TENDENCY3M  \\\n",
       "0                 0.723247                   0.0                 0.666667   \n",
       "\n",
       "   REST_DYNAMIC_SAVE_3M          ...           APP_MARITAL_STATUS_M  \\\n",
       "0                   0.0          ...                              0   \n",
       "\n",
       "   APP_MARITAL_STATUS_N  APP_MARITAL_STATUS_T  APP_MARITAL_STATUS_V  \\\n",
       "0                     0                     0                     0   \n",
       "\n",
       "   APP_MARITAL_STATUS_W  APP_MARITAL_STATUS_d  APP_MARITAL_STATUS_m  \\\n",
       "0                     0                     0                     0   \n",
       "\n",
       "   APP_MARITAL_STATUS_t  APP_MARITAL_STATUS_v  APP_MARITAL_STATUS_w  \n",
       "0                     0                     0                     0  \n",
       "\n",
       "[1 rows x 126 columns]"
      ]
     },
     "execution_count": 7,
     "metadata": {},
     "output_type": "execute_result"
    }
   ],
   "source": [
    "train = pd.get_dummies(train, columns=['APP_TRAVEL_PASS', 'APP_CAR', 'APP_DRIVING_LICENSE', \n",
    "                                       'APP_KIND_OF_PROP_HABITATION', \n",
    "                                       'APP_EMP_TYPE', 'APP_POSITION_TYPE', 'CLNT_JOB_POSITION_TYPE',\n",
    "                                       'APP_COMP_TYPE','APP_MARITAL_STATUS'])\n",
    "train = drop_dataset(train)\n",
    "train = fill_median(train)"
   ]
  },
  {
   "cell_type": "code",
   "execution_count": 8,
   "metadata": {
    "collapsed": true
   },
   "outputs": [
    {
     "data": {
      "text/html": [
       "<div>\n",
       "<style>\n",
       "    .dataframe thead tr:only-child th {\n",
       "        text-align: right;\n",
       "    }\n",
       "\n",
       "    .dataframe thead th {\n",
       "        text-align: left;\n",
       "    }\n",
       "\n",
       "    .dataframe tbody tr th {\n",
       "        vertical-align: top;\n",
       "    }\n",
       "</style>\n",
       "<table border=\"1\" class=\"dataframe\">\n",
       "  <thead>\n",
       "    <tr style=\"text-align: right;\">\n",
       "      <th></th>\n",
       "      <th>CR_PROD_CNT_IL</th>\n",
       "      <th>AMOUNT_RUB_CLO_PRC</th>\n",
       "      <th>APP_REGISTR_RGN_CODE</th>\n",
       "      <th>CNT_TRAN_AUT_TENDENCY1M</th>\n",
       "      <th>SUM_TRAN_AUT_TENDENCY1M</th>\n",
       "      <th>AMOUNT_RUB_SUP_PRC</th>\n",
       "      <th>SUM_TRAN_AUT_TENDENCY3M</th>\n",
       "      <th>REST_DYNAMIC_FDEP_1M</th>\n",
       "      <th>CNT_TRAN_AUT_TENDENCY3M</th>\n",
       "      <th>REST_DYNAMIC_SAVE_3M</th>\n",
       "      <th>...</th>\n",
       "      <th>APP_MARITAL_STATUS_M</th>\n",
       "      <th>APP_MARITAL_STATUS_N</th>\n",
       "      <th>APP_MARITAL_STATUS_T</th>\n",
       "      <th>APP_MARITAL_STATUS_V</th>\n",
       "      <th>APP_MARITAL_STATUS_W</th>\n",
       "      <th>APP_MARITAL_STATUS_d</th>\n",
       "      <th>APP_MARITAL_STATUS_m</th>\n",
       "      <th>APP_MARITAL_STATUS_t</th>\n",
       "      <th>APP_MARITAL_STATUS_v</th>\n",
       "      <th>APP_MARITAL_STATUS_w</th>\n",
       "    </tr>\n",
       "  </thead>\n",
       "  <tbody>\n",
       "    <tr>\n",
       "      <th>0</th>\n",
       "      <td>0</td>\n",
       "      <td>0.0</td>\n",
       "      <td>54.0</td>\n",
       "      <td>0.285714</td>\n",
       "      <td>0.278301</td>\n",
       "      <td>0.0</td>\n",
       "      <td>0.722917</td>\n",
       "      <td>0.0</td>\n",
       "      <td>0.666667</td>\n",
       "      <td>1.0</td>\n",
       "      <td>...</td>\n",
       "      <td>0</td>\n",
       "      <td>0</td>\n",
       "      <td>0</td>\n",
       "      <td>0</td>\n",
       "      <td>0</td>\n",
       "      <td>0</td>\n",
       "      <td>0</td>\n",
       "      <td>0</td>\n",
       "      <td>0</td>\n",
       "      <td>0</td>\n",
       "    </tr>\n",
       "  </tbody>\n",
       "</table>\n",
       "<p>1 rows × 126 columns</p>\n",
       "</div>"
      ],
      "text/plain": [
       "   CR_PROD_CNT_IL  AMOUNT_RUB_CLO_PRC  APP_REGISTR_RGN_CODE  \\\n",
       "0               0                 0.0                  54.0   \n",
       "\n",
       "   CNT_TRAN_AUT_TENDENCY1M  SUM_TRAN_AUT_TENDENCY1M  AMOUNT_RUB_SUP_PRC  \\\n",
       "0                 0.285714                 0.278301                 0.0   \n",
       "\n",
       "   SUM_TRAN_AUT_TENDENCY3M  REST_DYNAMIC_FDEP_1M  CNT_TRAN_AUT_TENDENCY3M  \\\n",
       "0                 0.722917                   0.0                 0.666667   \n",
       "\n",
       "   REST_DYNAMIC_SAVE_3M          ...           APP_MARITAL_STATUS_M  \\\n",
       "0                   1.0          ...                              0   \n",
       "\n",
       "   APP_MARITAL_STATUS_N  APP_MARITAL_STATUS_T  APP_MARITAL_STATUS_V  \\\n",
       "0                     0                     0                     0   \n",
       "\n",
       "   APP_MARITAL_STATUS_W  APP_MARITAL_STATUS_d  APP_MARITAL_STATUS_m  \\\n",
       "0                     0                     0                     0   \n",
       "\n",
       "   APP_MARITAL_STATUS_t  APP_MARITAL_STATUS_v  APP_MARITAL_STATUS_w  \n",
       "0                     0                     0                     0  \n",
       "\n",
       "[1 rows x 126 columns]"
      ]
     },
     "execution_count": 8,
     "metadata": {},
     "output_type": "execute_result"
    }
   ],
   "source": [
    "test = pd.read_csv('laba04_test.csv')\n",
    "\n",
    "test_id = test.ID\n",
    "test = pd.get_dummies(test, columns=['APP_TRAVEL_PASS', 'APP_CAR', 'APP_DRIVING_LICENSE', \n",
    "                                     'APP_KIND_OF_PROP_HABITATION', \n",
    "                                     'APP_EMP_TYPE', 'APP_POSITION_TYPE', 'CLNT_JOB_POSITION_TYPE',\n",
    "                                     'APP_COMP_TYPE','APP_MARITAL_STATUS'])\n",
    "test = drop_dataset(test)\n",
    "test = fill_median(test)"
   ]
  },
  {
   "cell_type": "code",
   "execution_count": 10,
   "metadata": {},
   "outputs": [],
   "source": [
    "# ROC AUC 0.75283557180878979 - 0.75575844393698677 - 0.83819547948035167 - 0.83866660075959798\n",
    "from sklearn.ensemble import RandomForestClassifier\n",
    "rfc = RandomForestClassifier(n_estimators=1000, random_state=0, n_jobs=-1)\n",
    "rfc.fit(train, y) \n",
    "\n",
    "pred = rfc.predict_proba(test)"
   ]
  },
  {
   "cell_type": "code",
   "execution_count": 11,
   "metadata": {
    "collapsed": true
   },
   "outputs": [],
   "source": [
    "with open('lab04s.csv', 'w') as file:\n",
    "    file.write('id' + '\\t' + 'target' + '\\n')\n",
    "    id_num = 0\n",
    "    for item in pred[:,1]:   \n",
    "        file.write(str(test_id[id_num]).strip() + '\\t' + str(item) + '\\n')\n",
    "        id_num = id_num + 1"
   ]
  },
  {
   "cell_type": "code",
   "execution_count": null,
   "metadata": {
    "collapsed": true
   },
   "outputs": [],
   "source": []
  }
 ],
 "metadata": {
  "kernelspec": {
   "display_name": "Python 3",
   "language": "python",
   "name": "python3"
  },
  "language_info": {
   "codemirror_mode": {
    "name": "ipython",
    "version": 3
   },
   "file_extension": ".py",
   "mimetype": "text/x-python",
   "name": "python",
   "nbconvert_exporter": "python",
   "pygments_lexer": "ipython3",
   "version": "3.6.2"
  }
 },
 "nbformat": 4,
 "nbformat_minor": 2
}

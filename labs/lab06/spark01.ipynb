{
 "cells": [
  {
   "cell_type": "code",
   "execution_count": 1,
   "metadata": {
    "collapsed": true
   },
   "outputs": [],
   "source": [
    "import pyspark\n",
    "import findspark\n",
    "findspark.init()\n",
    "sc = pyspark.SparkContext(appName=\"Pi\")"
   ]
  },
  {
   "cell_type": "code",
   "execution_count": 1,
   "metadata": {},
   "outputs": [
    {
     "name": "stdout",
     "output_type": "stream",
     "text": [
      "/Users/ssv/spark-2.2.0-bin-hadoop2.7\r\n"
     ]
    }
   ],
   "source": [
    "# !export SPARK_HOME=\"/Users/ssv/spark-2.2.0-bin-hadoop2.7\"\n",
    "!echo $SPARK_HOME"
   ]
  },
  {
   "cell_type": "code",
   "execution_count": 2,
   "metadata": {
    "collapsed": true
   },
   "outputs": [],
   "source": [
    "import os\n",
    "import sys"
   ]
  },
  {
   "cell_type": "code",
   "execution_count": 3,
   "metadata": {},
   "outputs": [
    {
     "name": "stdout",
     "output_type": "stream",
     "text": [
      "Welcome to\n",
      "      ____              __\n",
      "     / __/__  ___ _____/ /__\n",
      "    _\\ \\/ _ \\/ _ `/ __/  '_/\n",
      "   /__ / .__/\\_,_/_/ /_/\\_\\   version 2.2.0\n",
      "      /_/\n",
      "\n",
      "Using Python version 3.6.2 (default, Sep 21 2017 18:29:43)\n",
      "SparkSession available as 'spark'.\n"
     ]
    }
   ],
   "source": [
    "os.environ[\"PYSPARK_SUBMIT_ARGS\"]='--packages com.databricks:spark-csv_2.11:1.5.0 pyspark-shell'\n",
    "spark_home = os.environ.get('SPARK_HOME', None)\n",
    "sys.path.insert(0, spark_home + \"/python\")\n",
    "exec(open(os.path.join(spark_home, 'python/pyspark/shell.py')).read())"
   ]
  },
  {
   "cell_type": "code",
   "execution_count": 159,
   "metadata": {
    "collapsed": true
   },
   "outputs": [],
   "source": [
    "item_rdd = sc.textFile('/Users/ssv/newprolab/labs/lab06/ml-100k/u.item')"
   ]
  },
  {
   "cell_type": "code",
   "execution_count": 162,
   "metadata": {},
   "outputs": [],
   "source": [
    "films = item_rdd.map(lambda x: (x.split('|')[0],  x.split('|')[1]))"
   ]
  },
  {
   "cell_type": "code",
   "execution_count": 5,
   "metadata": {
    "collapsed": true
   },
   "outputs": [],
   "source": [
    "data_rdd = sc.textFile('/Users/ssv/newprolab/labs/lab06/ml-100k/u.data')"
   ]
  },
  {
   "cell_type": "markdown",
   "metadata": {},
   "source": [
    "## Lab06 begin"
   ]
  },
  {
   "cell_type": "code",
   "execution_count": 20,
   "metadata": {},
   "outputs": [
    {
     "data": {
      "text/plain": [
       "[('1', 3), ('2', 14), ('3', 79), ('4', 142), ('5', 93)]"
      ]
     },
     "execution_count": 20,
     "metadata": {},
     "output_type": "execute_result"
    }
   ],
   "source": [
    "data_rdd.filter(lambda x: x.split('\\t')[1] == '210').map(lambda x: (x.split('\\t')[2], 1)) \\\n",
    "                                                        .reduceByKey(lambda x, y: x + y).sortByKey().take(5)"
   ]
  },
  {
   "cell_type": "code",
   "execution_count": 21,
   "metadata": {},
   "outputs": [
    {
     "data": {
      "text/plain": [
       "[('1', 6110), ('2', 11370), ('3', 27145), ('4', 34174), ('5', 21201)]"
      ]
     },
     "execution_count": 21,
     "metadata": {},
     "output_type": "execute_result"
    }
   ],
   "source": [
    "data_rdd.map(lambda x: (x.split('\\t')[2], 1)).reduceByKey(lambda x, y: x + y).sortByKey().take(5)"
   ]
  },
  {
   "cell_type": "markdown",
   "metadata": {},
   "source": [
    "### Lab06sa"
   ]
  },
  {
   "cell_type": "code",
   "execution_count": null,
   "metadata": {
    "collapsed": true
   },
   "outputs": [],
   "source": []
  },
  {
   "cell_type": "code",
   "execution_count": 16,
   "metadata": {
    "collapsed": true
   },
   "outputs": [],
   "source": [
    "# Сумма рейтингов фильма\n",
    "film_rat_sum = data_rdd.map(lambda x: (x.split('\\t')[1], int(x.split('\\t')[2]))).reduceByKey(lambda x, y: x + y)"
   ]
  },
  {
   "cell_type": "code",
   "execution_count": 307,
   "metadata": {
    "collapsed": true
   },
   "outputs": [],
   "source": [
    "# Количество человек n поставивших рейтинг фильму\n",
    "film_rat_count = data_rdd.map(lambda x: (x.split('\\t')[1], 1)).reduceByKey(lambda x, y: x + y)"
   ]
  },
  {
   "cell_type": "code",
   "execution_count": 140,
   "metadata": {},
   "outputs": [],
   "source": [
    "top10_rates = film_rat_count.sortByKey().sortBy(lambda x: x[1], ascending=False)"
   ]
  },
  {
   "cell_type": "code",
   "execution_count": null,
   "metadata": {
    "collapsed": true
   },
   "outputs": [],
   "source": [
    "# Средний рейтинг фильма film_rat_sum/film_rat_count"
   ]
  },
  {
   "cell_type": "code",
   "execution_count": 151,
   "metadata": {
    "collapsed": true
   },
   "outputs": [],
   "source": [
    "mm = film_rat_sum.leftOuterJoin(film_rat_count)"
   ]
  },
  {
   "cell_type": "code",
   "execution_count": 153,
   "metadata": {
    "collapsed": true
   },
   "outputs": [
    {
     "data": {
      "text/plain": [
       "[('346', (459, 126)),\n",
       " ('474', (825, 194)),\n",
       " ('265', (877, 227)),\n",
       " ('465', (303, 85)),\n",
       " ('451', (569, 170))]"
      ]
     },
     "execution_count": 153,
     "metadata": {},
     "output_type": "execute_result"
    }
   ],
   "source": [
    "mm.take(5)"
   ]
  },
  {
   "cell_type": "code",
   "execution_count": 40,
   "metadata": {},
   "outputs": [],
   "source": [
    "mean_rating = film_rat_sum.leftOuterJoin(film_rat_count).map(lambda x: (x[0], x[1][0]/x[1][1]))"
   ]
  },
  {
   "cell_type": "code",
   "execution_count": 145,
   "metadata": {},
   "outputs": [],
   "source": [
    "top10_average = mean_rating.sortByKey(ascending=True).sortBy(lambda x: x[1], ascending=False)"
   ]
  },
  {
   "cell_type": "code",
   "execution_count": 181,
   "metadata": {},
   "outputs": [
    {
     "data": {
      "text/plain": [
       "['1536', '1653', '814', '1201', '1189', '1467', '1500', '1599', '1293', '1122']"
      ]
     },
     "execution_count": 181,
     "metadata": {},
     "output_type": "execute_result"
    }
   ],
   "source": [
    "films.filter(lambda x: x[0] in fl).sortBy(keyfunc = lambda x: x[1], ascending=True).keys().take(10)"
   ]
  },
  {
   "cell_type": "code",
   "execution_count": 46,
   "metadata": {
    "collapsed": true
   },
   "outputs": [],
   "source": [
    "# Количество человек, оценивших фильм положительно rating >= 4\n",
    "film_positiv_rat_count = data_rdd.filter(lambda x: int(x.split('\\t')[2]) >= 4 ) \\\n",
    "                                        .map(lambda x: (x.split('\\t')[1], 1)).reduceByKey(lambda x, y: x + y)"
   ]
  },
  {
   "cell_type": "code",
   "execution_count": null,
   "metadata": {
    "collapsed": true
   },
   "outputs": [],
   "source": []
  },
  {
   "cell_type": "code",
   "execution_count": 355,
   "metadata": {},
   "outputs": [],
   "source": [
    "# Доля людей, оценивших фильм положительно film_positiv_rat_count/film_rat_count\n",
    "mans_positiv_rat_count = film_rat_count.leftOuterJoin(film_positiv_rat_count) \\\n",
    "                                          .map(lambda x: (x[0], float(x[1][1])/float(x[1][0]) if x[1][1] != None else 0))"
   ]
  },
  {
   "cell_type": "code",
   "execution_count": null,
   "metadata": {
    "collapsed": true
   },
   "outputs": [],
   "source": [
    "# Глобальное среднее по всему датасету global_mean: \n",
    "сумма оценок по всем фильмам (ratings_summ) / количество всех оценок по всем фильмам (ratings_count)"
   ]
  },
  {
   "cell_type": "code",
   "execution_count": 53,
   "metadata": {
    "collapsed": true
   },
   "outputs": [],
   "source": [
    "ratings_count = data_rdd.map(lambda x: (x.split('\\t')[2], 1)).count()"
   ]
  },
  {
   "cell_type": "code",
   "execution_count": 81,
   "metadata": {
    "scrolled": false
   },
   "outputs": [],
   "source": [
    "from operator import add\n",
    "ratings_summ = data_rdd.map(lambda x: (int(x.split('\\t')[2]))).reduce(add)"
   ]
  },
  {
   "cell_type": "code",
   "execution_count": 82,
   "metadata": {
    "collapsed": true
   },
   "outputs": [],
   "source": [
    "global_mean = ratings_summ/ratings_count"
   ]
  },
  {
   "cell_type": "code",
   "execution_count": 123,
   "metadata": {},
   "outputs": [],
   "source": [
    "# Оценка поправленная на нехватку данных \n",
    "correct_mean_rating = film_rat_sum.leftOuterJoin(film_rat_count) \\\n",
    "                              .map(lambda x: (x[0], (x[1][0] + global_mean*10)/(x[1][1]+10)))"
   ]
  },
  {
   "cell_type": "code",
   "execution_count": 125,
   "metadata": {},
   "outputs": [],
   "source": [
    "top10_rating = correct_mean_rating.sortByKey(ascending=True).sortBy(lambda x: x[1], ascending=False)"
   ]
  },
  {
   "cell_type": "code",
   "execution_count": 126,
   "metadata": {},
   "outputs": [
    {
     "data": {
      "text/plain": [
       "['318', '483', '64', '408', '169', '12', '603', '50', '114', '178']"
      ]
     },
     "execution_count": 126,
     "metadata": {},
     "output_type": "execute_result"
    }
   ],
   "source": [
    "top10_rating.keys().take(10)"
   ]
  },
  {
   "cell_type": "code",
   "execution_count": 415,
   "metadata": {},
   "outputs": [],
   "source": [
    "import math\n",
    "def wilson_score(x):\n",
    "    n = float(x[1][0])\n",
    "    p = float(x[1][1])\n",
    "    z = float(2.576)\n",
    "    result = 0\n",
    "    \n",
    "    if n != 0:\n",
    "        ett = 1 / (1 + z*z/n)\n",
    "        andra = p + z*z/(2*n)\n",
    "        tredje = z * math.sqrt((p*(1-p)/n + (z*z/(4*n*n))))  \n",
    "        result = ett * (andra - tredje)\n",
    "    \n",
    "    return (x[0], result)"
   ]
  },
  {
   "cell_type": "code",
   "execution_count": 410,
   "metadata": {},
   "outputs": [],
   "source": [
    "wilson = film_rat_count.leftOuterJoin(mans_positiv_rat_count)"
   ]
  },
  {
   "cell_type": "code",
   "execution_count": 411,
   "metadata": {},
   "outputs": [],
   "source": [
    "wilson = wilson.map(lambda x: (x[0], (x[1][0], x[1][1] if x[1][1] != None else 0)))"
   ]
  },
  {
   "cell_type": "code",
   "execution_count": 416,
   "metadata": {
    "collapsed": true
   },
   "outputs": [],
   "source": [
    "wilson = wilson.map(wilson_score)"
   ]
  },
  {
   "cell_type": "code",
   "execution_count": 419,
   "metadata": {},
   "outputs": [
    {
     "data": {
      "text/plain": [
       "['64', '318', '98', '479', '483', '50', '603', '427', '357', '12']"
      ]
     },
     "execution_count": 419,
     "metadata": {},
     "output_type": "execute_result"
    }
   ],
   "source": [
    "wilson.sortBy(lambda x: x[1], ascending=False).keys().take(10)"
   ]
  },
  {
   "cell_type": "code",
   "execution_count": 408,
   "metadata": {},
   "outputs": [],
   "source": [
    "def wilson_score_(n, p):   \n",
    "    z = 2.576\n",
    "    result = 0\n",
    "    \n",
    "    if n != 0:\n",
    "        ett = 1 / (1 + (1/n)*z*z)\n",
    "        andra = p + (z*z/(2*n))\n",
    "        tredje = z * math.sqrt( (1/n)*p*(1-p) + (1/(4*n*n))*z*z)  \n",
    "        result = ett * (andra - tredje)\n",
    "    \n",
    "    print(n, p, ett, andra, tredje)\n",
    "    print(z*z/(2*n), andra)\n",
    "    return ( result)"
   ]
  },
  {
   "cell_type": "code",
   "execution_count": null,
   "metadata": {
    "scrolled": true
   },
   "outputs": [],
   "source": [
    "wilson_score_(85, 0.5529411764705883)"
   ]
  },
  {
   "cell_type": "code",
   "execution_count": 420,
   "metadata": {
    "collapsed": true
   },
   "outputs": [],
   "source": [
    "result = {\n",
    "    'top10_rates'   : ['50', '258', '100', '181', '294', '286', '288', '1', '300', '121'],\n",
    "    'top10_average' : ['1536', '1653', '814', '1201', '1189', '1467', '1500', '1599', '1293', '1122'],\n",
    "    'top10_rating'  : ['318', '483', '64', '408', '169', '12', '603', '50', '114', '178'],\n",
    "    'top10_lower'   : ['64', '318', '98', '479', '483', '50', '603', '427', '357', '12']\n",
    "}"
   ]
  },
  {
   "cell_type": "code",
   "execution_count": 421,
   "metadata": {
    "collapsed": true
   },
   "outputs": [],
   "source": [
    "import json\n",
    "with open('lab06s.json', 'w') as file:\n",
    "    json.dump(result, file)"
   ]
  },
  {
   "cell_type": "code",
   "execution_count": 422,
   "metadata": {},
   "outputs": [
    {
     "name": "stdout",
     "output_type": "stream",
     "text": [
      "lab06s.json                                   100%  350     7.5KB/s   00:00    \n"
     ]
    }
   ],
   "source": [
    "!scp -i ~/newprolab/keys/npl.pem ~/newprolab/spark/lektion01/lab06s.json sergey.sirosh@cluster.newprolab.com:/data/home/sergey.sirosh"
   ]
  },
  {
   "cell_type": "code",
   "execution_count": null,
   "metadata": {
    "collapsed": true
   },
   "outputs": [],
   "source": [
    "#==============================================================================================================="
   ]
  },
  {
   "cell_type": "code",
   "execution_count": 80,
   "metadata": {
    "collapsed": true
   },
   "outputs": [],
   "source": [
    "import pandas as pd"
   ]
  },
  {
   "cell_type": "code",
   "execution_count": null,
   "metadata": {
    "collapsed": true
   },
   "outputs": [],
   "source": []
  },
  {
   "cell_type": "code",
   "execution_count": 85,
   "metadata": {
    "collapsed": true
   },
   "outputs": [],
   "source": [
    "df = pd.read_csv('/Users/ssv/newprolab/labs/lab06/ml-100k/u.data', sep='\\t', header=None)"
   ]
  },
  {
   "cell_type": "code",
   "execution_count": 125,
   "metadata": {
    "collapsed": true
   },
   "outputs": [
    {
     "data": {
      "text/plain": [
       "4    142\n",
       "5     93\n",
       "3     79\n",
       "2     14\n",
       "1      3\n",
       "Name: 2, dtype: int64"
      ]
     },
     "execution_count": 125,
     "metadata": {},
     "output_type": "execute_result"
    }
   ],
   "source": [
    "df[2][df[1] == 210].value_counts()"
   ]
  },
  {
   "cell_type": "code",
   "execution_count": 123,
   "metadata": {
    "collapsed": true
   },
   "outputs": [],
   "source": [
    "\n",
    "result = { 'hist_film' : [0, 4, 28, 56, 44],\n",
    "        'hist_all'  : [6110, 11370, 27145, 34174, 21201]  }"
   ]
  },
  {
   "cell_type": "code",
   "execution_count": 126,
   "metadata": {
    "collapsed": true
   },
   "outputs": [],
   "source": [
    "result = { 'hist_film' : [3, 14, 79, 142, 93],\n",
    "           'hist_all'  : [6110, 11370, 27145, 34174, 21201]  }"
   ]
  },
  {
   "cell_type": "markdown",
   "metadata": {},
   "source": [
    "####         result = { 'hist_film' : [0, 4, 28, 56, 44],\n",
    "####                         'hist_all'  : [6110, 11370, 27145, 34174, 21201]  } hist_all - true"
   ]
  }
 ],
 "metadata": {
  "kernelspec": {
   "display_name": "Python 3",
   "language": "python",
   "name": "python3"
  },
  "language_info": {
   "codemirror_mode": {
    "name": "ipython",
    "version": 3
   },
   "file_extension": ".py",
   "mimetype": "text/x-python",
   "name": "python",
   "nbconvert_exporter": "python",
   "pygments_lexer": "ipython3",
   "version": "3.6.2"
  }
 },
 "nbformat": 4,
 "nbformat_minor": 2
}

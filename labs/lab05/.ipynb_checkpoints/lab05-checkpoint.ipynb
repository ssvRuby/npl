{
 "cells": [
  {
   "cell_type": "code",
   "execution_count": null,
   "metadata": {
    "collapsed": true
   },
   "outputs": [],
   "source": [
    "import warnings\n",
    "warnings.filterwarnings('ignore')"
   ]
  },
  {
   "cell_type": "code",
   "execution_count": null,
   "metadata": {
    "collapsed": true
   },
   "outputs": [],
   "source": [
    "from bs4 import BeautifulSoup\n",
    "from sklearn.feature_extraction.text import CountVectorizer"
   ]
  },
  {
   "cell_type": "code",
   "execution_count": null,
   "metadata": {
    "collapsed": true
   },
   "outputs": [],
   "source": [
    "files_id = [2561, 3593, 2570, 598, 1553, 3603, 533, 1046, 2583, 536, 462, 540, 3102, 33, 2225, 2606,  \n",
    "            1072, 52, 2101, 55, 56, 571, 573, 3649, 1602, 3852, 581, 70, 2121, 1099, 588, 656, 1616,  \n",
    "            3665, 3667, 1622, 2139, 2140, 1117, 2656, 1125, 1126, 1639, 3178, 109, 110, 2238, 1137,   \n",
    "            3775, 633, 1146, 1659, 3198, 1151, 1302, 1154, 2692, 133, 2184, 1674, 3212, 3728, 3730,   \n",
    "            3738, 364, 3745, 3235, 1700, 1701, 1991, 144, 683, 859, 30, 1201, 3253, 1209, 1214, 1215, \n",
    "            1728, 3265, 3269, 1227, 1741, 2224, 3279, 1232, 2774, 2775, 720, 3293, 2782, 3808, 1831,  \n",
    "            1257, 3818, 3820, 2799, 2174, 241, 245, 3830, 2809, 257, 3332, 776, 3340, 269, 1806, 3343,\n",
    "            46, 274, 789, 2326, 791, 800, 3362, 3292, 2855, 1320, 1757, 812, 1331, 3376, 307, 822,    \n",
    "            3125, 2876, 2878, 832, 1348, 3639, 702, 2896, 337, 3411, 1367, 1371, 3420, 1885, 913,     \n",
    "            2406, 1170, 2921, 2924, 984, 2930, 2931, 1396, 2538, 1404, 1406, 1407, 1920, 386, 2436,   \n",
    "            2438, 406, 1419, 3468, 1054, 1425, 2372, 751, 2968, 2457, 2461, 2463, 3825, 421, 2982,    \n",
    "            2984, 427, 433, 3508, 3509, 3001, 2492, 587, 2806, 3233, 455, 3020, 2510, 3030, 3544,     \n",
    "            3547, 2384, 998, 3562, 3052, 498, 2035, 2036, 1013, 503, 1016, 1019, 510, 2134]"
   ]
  },
  {
   "cell_type": "code",
   "execution_count": null,
   "metadata": {
    "collapsed": true
   },
   "outputs": [],
   "source": [
    "def create_texts_list(filenames, path = '/Users/ssv/newprolab/labs/lab05/lab05data/'):\n",
    "    texts = []\n",
    "    for file in filenames:\n",
    "        with open(path + file, 'r') as f:\n",
    "            texts.append(BeautifulSoup(f.read()).text)\n",
    "    return texts        "
   ]
  },
  {
   "cell_type": "code",
   "execution_count": null,
   "metadata": {
    "collapsed": true
   },
   "outputs": [],
   "source": [
    "test_filenames = ['test_{}.txt'.format(x) for x in files_id]"
   ]
  },
  {
   "cell_type": "code",
   "execution_count": null,
   "metadata": {
    "collapsed": true
   },
   "outputs": [],
   "source": [
    "test_texts = create_texts_list(test_filenames)"
   ]
  },
  {
   "cell_type": "code",
   "execution_count": null,
   "metadata": {
    "collapsed": true
   },
   "outputs": [],
   "source": [
    "base_filenames = ['base_{}.txt'.format(x) for x in range(1, 21)]"
   ]
  },
  {
   "cell_type": "code",
   "execution_count": null,
   "metadata": {
    "collapsed": true
   },
   "outputs": [],
   "source": [
    "base_texts = create_texts_list(base_filenames)"
   ]
  },
  {
   "cell_type": "code",
   "execution_count": null,
   "metadata": {
    "collapsed": true
   },
   "outputs": [],
   "source": [
    "base_texts.extend(test_texts)"
   ]
  },
  {
   "cell_type": "markdown",
   "metadata": {},
   "source": [
    "## Нормализация"
   ]
  },
  {
   "cell_type": "code",
   "execution_count": null,
   "metadata": {
    "collapsed": true
   },
   "outputs": [],
   "source": [
    "import pymorphy2\n",
    "m = pymorphy2.MorphAnalyzer()"
   ]
  },
  {
   "cell_type": "code",
   "execution_count": null,
   "metadata": {
    "collapsed": true
   },
   "outputs": [],
   "source": [
    "import re\n",
    "GROUPING_SPACE_REGEX = re.compile(r'([^\\w]|[+])', re.UNICODE)\n",
    "\n",
    "def simple_word_tokenize(text, _split=GROUPING_SPACE_REGEX.split):\n",
    "    return [t for t in _split(text.lower()) if t and not t.isspace()]"
   ]
  },
  {
   "cell_type": "code",
   "execution_count": null,
   "metadata": {
    "collapsed": true
   },
   "outputs": [],
   "source": [
    "def token_r(text):\n",
    "    words = simple_word_tokenize(text)\n",
    "    return [m.parse(x)[0].normal_form for x in words if len(x) >= 4]"
   ]
  },
  {
   "cell_type": "markdown",
   "metadata": {},
   "source": [
    "## Получение списка стоп-слов"
   ]
  },
  {
   "cell_type": "code",
   "execution_count": null,
   "metadata": {},
   "outputs": [],
   "source": [
    "clear_words = [' '.join(token_r(x)) for x in base_texts]"
   ]
  },
  {
   "cell_type": "code",
   "execution_count": null,
   "metadata": {},
   "outputs": [],
   "source": [
    "cv = CountVectorizer()\n",
    "matrix = cv.fit_transform(clear_words)"
   ]
  },
  {
   "cell_type": "code",
   "execution_count": null,
   "metadata": {},
   "outputs": [],
   "source": [
    "sorted(cv.vocabulary_.items(), reverse=True)[:31]"
   ]
  },
  {
   "cell_type": "code",
   "execution_count": null,
   "metadata": {},
   "outputs": [],
   "source": [
    "sorted(cv.vocabulary_.items())[:31]"
   ]
  },
  {
   "cell_type": "code",
   "execution_count": null,
   "metadata": {
    "collapsed": true
   },
   "outputs": [],
   "source": [
    "stop_ww = sorted(cv.vocabulary_.items(), reverse=True)[:31] + sorted(cv.vocabulary_.items())[:31]"
   ]
  },
  {
   "cell_type": "code",
   "execution_count": null,
   "metadata": {},
   "outputs": [],
   "source": [
    "stop_w = [x[0] for x in stop_ww]"
   ]
  },
  {
   "cell_type": "markdown",
   "metadata": {},
   "source": [
    "#### --------------------------------------------------------------------------------------------------"
   ]
  },
  {
   "cell_type": "code",
   "execution_count": null,
   "metadata": {
    "collapsed": true
   },
   "outputs": [],
   "source": [
    "cv = CountVectorizer(tokenizer=token_r, stop_words=stop_w)\n",
    "matrix = cv.fit_transform(base_texts).toarray()"
   ]
  },
  {
   "cell_type": "code",
   "execution_count": null,
   "metadata": {
    "collapsed": true
   },
   "outputs": [],
   "source": [
    "from sklearn.metrics.pairwise import cosine_similarity"
   ]
  },
  {
   "cell_type": "code",
   "execution_count": null,
   "metadata": {
    "collapsed": true
   },
   "outputs": [],
   "source": [
    "cos_m = cosine_similarity(matrix)"
   ]
  },
  {
   "cell_type": "code",
   "execution_count": null,
   "metadata": {
    "collapsed": true
   },
   "outputs": [],
   "source": [
    "sum_cos_m = []"
   ]
  },
  {
   "cell_type": "code",
   "execution_count": null,
   "metadata": {
    "collapsed": true
   },
   "outputs": [],
   "source": [
    "for i in range(20, 220):\n",
    "    s = 0\n",
    "    for j in range(0, 20):\n",
    "        s += cos_m[i, j]\n",
    "    sum_cos_m.append(s)          "
   ]
  },
  {
   "cell_type": "code",
   "execution_count": null,
   "metadata": {},
   "outputs": [],
   "source": [
    "sum_cos_m"
   ]
  },
  {
   "cell_type": "code",
   "execution_count": null,
   "metadata": {
    "collapsed": true
   },
   "outputs": [],
   "source": [
    "cos_m_mean = 0\n",
    "for item in sum_cos_m:\n",
    "    cos_m_mean += item\n",
    "cos_m_mean = cos_m_mean/len(sum_cos_m)    "
   ]
  },
  {
   "cell_type": "code",
   "execution_count": null,
   "metadata": {},
   "outputs": [],
   "source": [
    "cos_m_mean"
   ]
  },
  {
   "cell_type": "code",
   "execution_count": null,
   "metadata": {
    "collapsed": true
   },
   "outputs": [],
   "source": [
    "i = 0\n",
    "index_po_teme = []\n",
    "index_NE_po_teme = []\n",
    "\n",
    "for item in sum_cos_m:\n",
    "    if item >= cos_m_mean:\n",
    "        index_po_teme.append(i)\n",
    "    else:\n",
    "        index_NE_po_teme.append(i)\n",
    "    i += 1"
   ]
  },
  {
   "cell_type": "code",
   "execution_count": null,
   "metadata": {
    "collapsed": true
   },
   "outputs": [],
   "source": [
    "ipt = []\n",
    "for i in index_po_teme:\n",
    "    ipt.append(files_id[i])"
   ]
  },
  {
   "cell_type": "code",
   "execution_count": null,
   "metadata": {
    "collapsed": true
   },
   "outputs": [],
   "source": [
    "inpt = []\n",
    "for i in index_NE_po_teme:\n",
    "    inpt.append(files_id[i])"
   ]
  },
  {
   "cell_type": "code",
   "execution_count": null,
   "metadata": {},
   "outputs": [],
   "source": [
    "result = {\n",
    "'defined' : [2561, 2570, 3603, 533, 1046, 2583, 536, 540, 3102, 2606, 1072, 55, 3649, 1602, 1099, 3667, 1622, 2139,\n",
    "             2140, 2656, 1125, 1126, 1639, 2238, 1137, 3775, 3198, 2692, 2184, 1674, 3728, 3730, 3738, 364, 3745,\n",
    "             1700, 683, 30, 1201, 3253, 1209, 1214, 1215, 1728, 3269, 1741, 3293, 3808, 3818, 3820, 2799, 241, 245,\n",
    "             3830, 2809, 257, 3332, 776, 3340, 3343, 789, 2326, 791, 800, 3362, 2855, 1757, 3376, 822, 832, 1348,\n",
    "             2896, 3411, 1367, 1371, 2921, 2924, 2930, 2931, 1404, 1406, 1920, 2436, 3468, 421, 427, 2492, 455,\n",
    "             3020, 3030, 3544, 2384, 3562, 2035, 1013, 1019, 510, 2134],\n",
    "'other' :   [3593, 598, 1553, 462, 33, 2225, 52, 2101, 56, 571, 573, 3852, 581, 70, 2121, 588, 656, 1616, 3665,\n",
    "             1117, 3178, 109, 110, 633, 1146, 1659, 1151, 1302, 1154, 133, 3212, 3235, 1701, 1991, 144, 859, 3265,\n",
    "             1227, 2224, 3279, 1232, 2774, 2775, 720, 2782, 1831, 1257, 2174, 269, 1806, 46, 274, 3292, 1320, 812,\n",
    "             1331, 307, 3125, 2876, 2878, 3639, 702, 337, 3420, 1885, 913, 2406, 1170, 984, 1396, 2538, 1407, 386,\n",
    "             2438, 406, 1419, 1054, 1425, 2372, 751, 2968, 2457, 2461, 2463, 3825, 2982, 2984, 433, 3508, 3509, 3001,\n",
    "             587, 2806, 3233, 2510, 3547, 998, 3052, 498, 2036, 503, 1016]\n",
    "}    "
   ]
  },
  {
   "cell_type": "code",
   "execution_count": null,
   "metadata": {},
   "outputs": [],
   "source": [
    "import json\n",
    "with open('lab05.json', 'w') as file:\n",
    "    json.dump(result, file)\n"
   ]
  }
 ],
 "metadata": {
  "kernelspec": {
   "display_name": "Python 3",
   "language": "python",
   "name": "python3"
  },
  "language_info": {
   "codemirror_mode": {
    "name": "ipython",
    "version": 3
   },
   "file_extension": ".py",
   "mimetype": "text/x-python",
   "name": "python",
   "nbconvert_exporter": "python",
   "pygments_lexer": "ipython3",
   "version": "3.6.2"
  }
 },
 "nbformat": 4,
 "nbformat_minor": 2
}

{
 "cells": [
  {
   "cell_type": "code",
   "execution_count": 1,
   "metadata": {},
   "outputs": [
    {
     "name": "stdout",
     "output_type": "stream",
     "text": [
      "Welcome to\n",
      "      ____              __\n",
      "     / __/__  ___ _____/ /__\n",
      "    _\\ \\/ _ \\/ _ `/ __/  '_/\n",
      "   /__ / .__/\\_,_/_/ /_/\\_\\   version 2.2.0\n",
      "      /_/\n",
      "\n",
      "Using Python version 3.6.2 (default, Sep 21 2017 18:29:43)\n",
      "SparkSession available as 'spark'.\n"
     ]
    }
   ],
   "source": [
    "# SPARK_HOME=\"/Users/ssv/spark-2.2.0-bin-hadoop2.7\"\n",
    "import os\n",
    "import sys\n",
    "os.environ[\"PYSPARK_SUBMIT_ARGS\"]='--packages com.databricks:spark-csv_2.10:1.2.0 pyspark-shell'\n",
    "os.environ[\"PYSPARK_PYTHON\"]='python3'\n",
    "# os.environ[\"SPARK_HOME\"]='/usr/hdp/current/spark2-client'\n",
    "os.environ[\"SPARK_HOME\"]='/Users/ssv/spark-2.2.0-bin-hadoop2.7'\n",
    "\n",
    "spark_home = os.environ.get('SPARK_HOME', None)\n",
    "if not spark_home:\n",
    "    raise ValueError('SPARK_HOME environment variable is not set')\n",
    "sys.path.insert(0, os.path.join(spark_home, 'python'))\n",
    "sys.path.insert(0, os.path.join(spark_home, 'python/lib/py4j-0.10.4-src.zip'))\n",
    "os.environ[\"PYSPARK_PYTHON\"] = 'python3'\n",
    "exec(open(os.path.join(spark_home, 'python/pyspark/shell.py')).read())"
   ]
  },
  {
   "cell_type": "code",
   "execution_count": 9,
   "metadata": {
    "collapsed": true
   },
   "outputs": [],
   "source": [
    "ratings_file = 'data/u.data'\n",
    "films_file = 'data/u.item'"
   ]
  },
  {
   "cell_type": "code",
   "execution_count": 20,
   "metadata": {},
   "outputs": [],
   "source": [
    "ratings_rdd = sc.textFile(ratings_file)\n",
    "films_rdd = sc.textFile(films_file)"
   ]
  },
  {
   "cell_type": "code",
   "execution_count": 24,
   "metadata": {},
   "outputs": [],
   "source": [
    "r_df = ratings_rdd.map(lambda x: x.split('\\t')).toDF(schema=['user_id', 'film_id', 'rating', 'hz'])"
   ]
  },
  {
   "cell_type": "code",
   "execution_count": 25,
   "metadata": {},
   "outputs": [
    {
     "name": "stdout",
     "output_type": "stream",
     "text": [
      "+-------+-------+------+---------+\n",
      "|user_id|film_id|rating|       hz|\n",
      "+-------+-------+------+---------+\n",
      "|    196|    242|     3|881250949|\n",
      "|    186|    302|     3|891717742|\n",
      "|     22|    377|     1|878887116|\n",
      "|    244|     51|     2|880606923|\n",
      "|    166|    346|     1|886397596|\n",
      "|    298|    474|     4|884182806|\n",
      "|    115|    265|     2|881171488|\n",
      "|    253|    465|     5|891628467|\n",
      "|    305|    451|     3|886324817|\n",
      "|      6|     86|     3|883603013|\n",
      "|     62|    257|     2|879372434|\n",
      "|    286|   1014|     5|879781125|\n",
      "|    200|    222|     5|876042340|\n",
      "|    210|     40|     3|891035994|\n",
      "|    224|     29|     3|888104457|\n",
      "|    303|    785|     3|879485318|\n",
      "|    122|    387|     5|879270459|\n",
      "|    194|    274|     2|879539794|\n",
      "|    291|   1042|     4|874834944|\n",
      "|    234|   1184|     2|892079237|\n",
      "+-------+-------+------+---------+\n",
      "only showing top 20 rows\n",
      "\n"
     ]
    }
   ],
   "source": [
    "r_df.show()"
   ]
  },
  {
   "cell_type": "code",
   "execution_count": 27,
   "metadata": {
    "collapsed": true
   },
   "outputs": [],
   "source": [
    "f_df = films_rdd.map((lambda x: (x.split('|')[0],  x.split('|')[1]))).toDF(schema=['film_id', 'film_name'])"
   ]
  },
  {
   "cell_type": "code",
   "execution_count": 28,
   "metadata": {},
   "outputs": [
    {
     "name": "stdout",
     "output_type": "stream",
     "text": [
      "+-------+--------------------+\n",
      "|film_id|           film_name|\n",
      "+-------+--------------------+\n",
      "|      1|    Toy Story (1995)|\n",
      "|      2|    GoldenEye (1995)|\n",
      "|      3|   Four Rooms (1995)|\n",
      "|      4|   Get Shorty (1995)|\n",
      "|      5|      Copycat (1995)|\n",
      "|      6|Shanghai Triad (Y...|\n",
      "|      7|Twelve Monkeys (1...|\n",
      "|      8|         Babe (1995)|\n",
      "|      9|Dead Man Walking ...|\n",
      "|     10|  Richard III (1995)|\n",
      "|     11|Seven (Se7en) (1995)|\n",
      "|     12|Usual Suspects, T...|\n",
      "|     13|Mighty Aphrodite ...|\n",
      "|     14|  Postino, Il (1994)|\n",
      "|     15|Mr. Holland's Opu...|\n",
      "|     16|French Twist (Gaz...|\n",
      "|     17|From Dusk Till Da...|\n",
      "|     18|White Balloon, Th...|\n",
      "|     19|Antonia's Line (1...|\n",
      "|     20|Angels and Insect...|\n",
      "+-------+--------------------+\n",
      "only showing top 20 rows\n",
      "\n"
     ]
    }
   ],
   "source": [
    "f_df.show()"
   ]
  },
  {
   "cell_type": "code",
   "execution_count": 32,
   "metadata": {},
   "outputs": [],
   "source": [
    "r_df.registerTempTable(\"ratings\")\n",
    "f_df.registerTempTable(\"films\")"
   ]
  },
  {
   "cell_type": "code",
   "execution_count": 156,
   "metadata": {},
   "outputs": [
    {
     "name": "stdout",
     "output_type": "stream",
     "text": [
      "+--------+---------+-----------+\n",
      "|database|tableName|isTemporary|\n",
      "+--------+---------+-----------+\n",
      "|        |    films|       true|\n",
      "|        |  ratings|       true|\n",
      "|        |       rf|       true|\n",
      "|        |user_user|       true|\n",
      "+--------+---------+-----------+\n",
      "\n"
     ]
    }
   ],
   "source": [
    "spark.sql(\"SHOW TABLES\").show()"
   ]
  },
  {
   "cell_type": "code",
   "execution_count": 61,
   "metadata": {},
   "outputs": [],
   "source": [
    "users_count = spark.sql(\"SELECT count(distinct(user_id)) as u_count FROM ratings\").take(1)[0].u_count"
   ]
  },
  {
   "cell_type": "code",
   "execution_count": 63,
   "metadata": {},
   "outputs": [],
   "source": [
    "films_count = spark.sql(\"SELECT count(distinct(film_id)) as f_count FROM films\").take(1)[0].f_count"
   ]
  },
  {
   "cell_type": "code",
   "execution_count": 66,
   "metadata": {},
   "outputs": [
    {
     "name": "stdout",
     "output_type": "stream",
     "text": [
      "films count = 1682, users_count = 943\n"
     ]
    }
   ],
   "source": [
    "print('films count = {}, users_count = {}'.format(films_count, users_count))"
   ]
  },
  {
   "cell_type": "code",
   "execution_count": 79,
   "metadata": {
    "collapsed": true
   },
   "outputs": [],
   "source": [
    "average_user_ratings = round(spark.sql(\"SELECT count(rating) as ratings_count FROM ratings\") \\\n",
    "                                    .take(1)[0].ratings_count / users_count, 4)"
   ]
  },
  {
   "cell_type": "code",
   "execution_count": 85,
   "metadata": {},
   "outputs": [],
   "source": [
    "average_film_ratings = round(spark.sql(\"SELECT count(rating) as ratings_count FROM ratings\") \\\n",
    "                                    .take(1)[0].ratings_count / films_count, 4)"
   ]
  },
  {
   "cell_type": "code",
   "execution_count": 88,
   "metadata": {
    "collapsed": true
   },
   "outputs": [],
   "source": [
    "completness = round(spark.sql(\"SELECT count(rating) as ratings_count FROM ratings\") \\\n",
    "                                    .take(1)[0].ratings_count / (users_count * films_count), 4)"
   ]
  },
  {
   "cell_type": "code",
   "execution_count": 89,
   "metadata": {},
   "outputs": [
    {
     "name": "stdout",
     "output_type": "stream",
     "text": [
      "average_film_ratings = 59.453, average_user_ratings = 106.0445, completness = 0.063\n"
     ]
    }
   ],
   "source": [
    "print('average_film_ratings = {}, average_user_ratings = {}, completness = {}'\\\n",
    "                                  .format(average_film_ratings, average_user_ratings, completness))"
   ]
  },
  {
   "cell_type": "code",
   "execution_count": 108,
   "metadata": {},
   "outputs": [],
   "source": [
    "user_user = spark.sql('SELECT user_id as user_id, sum(rating) as ratings_sum, count(rating) as ratings_count,' +\n",
    "                       ' ROUND (sum(rating) / count(rating), 4) as users_mean_rating FROM ratings GROUP BY user_id')"
   ]
  },
  {
   "cell_type": "code",
   "execution_count": 109,
   "metadata": {},
   "outputs": [
    {
     "name": "stdout",
     "output_type": "stream",
     "text": [
      "+-------+-----------+-------------+-----------------+\n",
      "|user_id|ratings_sum|ratings_count|users_mean_rating|\n",
      "+-------+-----------+-------------+-----------------+\n",
      "|    296|      614.0|          147|           4.1769|\n",
      "|    467|      162.0|           44|           3.6818|\n",
      "|    691|      135.0|           32|           4.2188|\n",
      "|    675|      126.0|           34|           3.7059|\n",
      "|    829|      227.0|           64|           3.5469|\n",
      "|    125|      626.0|          182|           3.4396|\n",
      "|    451|      268.0|           98|           2.7347|\n",
      "|    800|      105.0|           28|             3.75|\n",
      "|    853|      122.0|           41|           2.9756|\n",
      "|    666|      898.0|          245|           3.6653|\n",
      "|    870|      929.0|          269|           3.4535|\n",
      "|    919|      753.0|          217|             3.47|\n",
      "|    926|       66.0|           20|              3.3|\n",
      "|      7|     1598.0|          403|           3.9653|\n",
      "|    124|       84.0|           24|              3.5|\n",
      "|     51|       82.0|           23|           3.5652|\n",
      "|    447|      500.0|          139|           3.5971|\n",
      "|    591|      307.0|           84|           3.6548|\n",
      "|    307|      425.0|          112|           3.7946|\n",
      "|    475|       72.0|           20|              3.6|\n",
      "+-------+-----------+-------------+-----------------+\n",
      "only showing top 20 rows\n",
      "\n"
     ]
    }
   ],
   "source": [
    "user_user.show()"
   ]
  },
  {
   "cell_type": "markdown",
   "metadata": {},
   "source": [
    "## user id for ratings prediction:  94"
   ]
  },
  {
   "cell_type": "code",
   "execution_count": 127,
   "metadata": {},
   "outputs": [],
   "source": [
    "films_for_user_94 = spark.sql('SELECT film_id FROM ratings WHERE user_id = {}'.format('94'))"
   ]
  },
  {
   "cell_type": "code",
   "execution_count": 211,
   "metadata": {},
   "outputs": [
    {
     "data": {
      "text/plain": [
       "400"
      ]
     },
     "execution_count": 211,
     "metadata": {},
     "output_type": "execute_result"
    }
   ],
   "source": [
    "films_for_user_94.count()"
   ]
  },
  {
   "cell_type": "code",
   "execution_count": 147,
   "metadata": {
    "collapsed": true
   },
   "outputs": [
    {
     "name": "stdout",
     "output_type": "stream",
     "text": [
      "+-------+\n",
      "|user_id|\n",
      "+-------+\n",
      "|      1|\n",
      "|     10|\n",
      "|    100|\n",
      "|    101|\n",
      "|    102|\n",
      "|    103|\n",
      "|    104|\n",
      "|    105|\n",
      "|    106|\n",
      "|    107|\n",
      "|    108|\n",
      "|    109|\n",
      "|     11|\n",
      "|    110|\n",
      "|    111|\n",
      "|    112|\n",
      "|    113|\n",
      "|    114|\n",
      "|    115|\n",
      "|    116|\n",
      "+-------+\n",
      "only showing top 20 rows\n",
      "\n"
     ]
    }
   ],
   "source": [
    "spark.sql('SELECT DISTINCT(user_id) FROM ratings' + \n",
    "          ' WHERE film_id in (SELECT film_id FROM ratings WHERE user_id = {}) ORDER BY user_id'.format('94')).show()"
   ]
  },
  {
   "cell_type": "code",
   "execution_count": 143,
   "metadata": {},
   "outputs": [],
   "source": [
    "user_user.registerTempTable(\"user_user\")"
   ]
  },
  {
   "cell_type": "code",
   "execution_count": 154,
   "metadata": {
    "collapsed": true
   },
   "outputs": [],
   "source": [
    "rf = spark.sql('SELECT * FROM user_user WHERE user_id in (SELECT DISTINCT(user_id) FROM ratings' + \n",
    "          ' WHERE film_id in (SELECT film_id FROM ratings WHERE user_id = {}))'.format('94'))"
   ]
  },
  {
   "cell_type": "code",
   "execution_count": 155,
   "metadata": {},
   "outputs": [],
   "source": [
    "rf.registerTempTable(\"rf\")"
   ]
  },
  {
   "cell_type": "code",
   "execution_count": 157,
   "metadata": {},
   "outputs": [
    {
     "name": "stdout",
     "output_type": "stream",
     "text": [
      "+-------+-----------+-------------+-----------------+\n",
      "|user_id|ratings_sum|ratings_count|users_mean_rating|\n",
      "+-------+-----------+-------------+-----------------+\n",
      "|    296|      614.0|          147|           4.1769|\n",
      "|    467|      162.0|           44|           3.6818|\n",
      "|    675|      126.0|           34|           3.7059|\n",
      "|    691|      135.0|           32|           4.2188|\n",
      "|    829|      227.0|           64|           3.5469|\n",
      "|    125|      626.0|          182|           3.4396|\n",
      "|    451|      268.0|           98|           2.7347|\n",
      "|    800|      105.0|           28|             3.75|\n",
      "|    853|      122.0|           41|           2.9756|\n",
      "|    666|      898.0|          245|           3.6653|\n",
      "|    870|      929.0|          269|           3.4535|\n",
      "|    919|      753.0|          217|             3.47|\n",
      "|    926|       66.0|           20|              3.3|\n",
      "|    124|       84.0|           24|              3.5|\n",
      "|    447|      500.0|          139|           3.5971|\n",
      "|     51|       82.0|           23|           3.5652|\n",
      "|    591|      307.0|           84|           3.6548|\n",
      "|      7|     1598.0|          403|           3.9653|\n",
      "|    307|      425.0|          112|           3.7946|\n",
      "|    475|       72.0|           20|              3.6|\n",
      "+-------+-----------+-------------+-----------------+\n",
      "only showing top 20 rows\n",
      "\n"
     ]
    }
   ],
   "source": [
    "rf.show()"
   ]
  },
  {
   "cell_type": "code",
   "execution_count": 353,
   "metadata": {
    "collapsed": true
   },
   "outputs": [],
   "source": [
    "def ss(x):\n",
    "    print(x)\n",
    "    return x"
   ]
  },
  {
   "cell_type": "code",
   "execution_count": 356,
   "metadata": {
    "collapsed": true
   },
   "outputs": [],
   "source": [
    "def s(x):\n",
    "    # x - user_id\n",
    "    # Calculate corellation ...\n",
    "    \n",
    "    my_users_mean_rating = spark.sql('SELECT users_mean_rating FROM user_user WHERE user_id = {}'.format('94')).take(1)[0].users_mean_rating\n",
    "    curr_users_mean_rating = spark.sql('SELECT users_mean_rating FROM user_user WHERE user_id = {}'.format(x)).take(1)[0].users_mean_rating\n",
    "\n",
    "    corr_s_a_u = spark.sql(\n",
    "        'SELECT ' +   \n",
    "        ' (sum(myR_POW_uR_) / (sqrt(sum(myR_2)) * sqrt(sum(uR_2))))  * (CASE WHEN count(T3.user_id)/50 < 1 THEN count(T3.user_id)/50 ELSE 1 END) as corr_s_a_u, '    \n",
    "        ' CASE WHEN sum(myR_2) = 0 OR sum(uR_2) = 0 THEN 0 ELSE sum(myR_POW_uR_) / (sqrt(sum(myR_2)) * sqrt(sum(uR_2))) END as s_a_u ' +\n",
    "        ' FROM (' +\n",
    "        ' SELECT T2.user_id as user_id, T1.rating as rating_94, T2.rating as rating_u, T1.film_id,' + \n",
    "        ' int(T1.rating) - {} as myR_,  int(T2.rating) - {} as uR_,'.format(my_users_mean_rating, curr_users_mean_rating) +\n",
    "        ' (int(T1.rating) - {}) * (int(T2.rating) - {}) as myR_POW_uR_,'.format(my_users_mean_rating, curr_users_mean_rating) +    \n",
    "        ' POW(int(T1.rating) - {}, 2) as myR_2,'.format(my_users_mean_rating) + \n",
    "        ' POW(int(T2.rating) - {}, 2) as uR_2'.format(curr_users_mean_rating) +    \n",
    "        ' FROM ' +\n",
    "        '(SELECT user_id, rating, film_id FROM ratings WHERE user_id = 94) T1, ' +\n",
    "        '(SELECT user_id, rating, film_id FROM ratings WHERE user_id = {}) T2 '.format(str(x)) +\n",
    "        ' WHERE T1.film_id = T2.film_id' +\n",
    "            ') T3 GROUP BY user_id' \n",
    "        ).take(1)[0].corr_s_a_u\n",
    "        \n",
    "    return float(corr_s_a_u)"
   ]
  },
  {
   "cell_type": "code",
   "execution_count": 342,
   "metadata": {
    "collapsed": true
   },
   "outputs": [
    {
     "name": "stderr",
     "output_type": "stream",
     "text": [
      "Traceback (most recent call last):\n",
      "  File \"/Users/ssv/spark-2.2.0-bin-hadoop2.7/python/pyspark/cloudpickle.py\", line 148, in dump\n",
      "    return Pickler.dump(self, obj)\n",
      "  File \"/Users/ssv/anaconda3/lib/python3.6/pickle.py\", line 409, in dump\n",
      "    self.save(obj)\n",
      "  File \"/Users/ssv/anaconda3/lib/python3.6/pickle.py\", line 476, in save\n",
      "    f(self, obj) # Call unbound method with explicit self\n",
      "  File \"/Users/ssv/anaconda3/lib/python3.6/pickle.py\", line 736, in save_tuple\n",
      "    save(element)\n",
      "  File \"/Users/ssv/anaconda3/lib/python3.6/pickle.py\", line 476, in save\n",
      "    f(self, obj) # Call unbound method with explicit self\n",
      "  File \"/Users/ssv/spark-2.2.0-bin-hadoop2.7/python/pyspark/cloudpickle.py\", line 249, in save_function\n",
      "    self.save_function_tuple(obj)\n",
      "  File \"/Users/ssv/spark-2.2.0-bin-hadoop2.7/python/pyspark/cloudpickle.py\", line 297, in save_function_tuple\n",
      "    save(f_globals)\n",
      "  File \"/Users/ssv/anaconda3/lib/python3.6/pickle.py\", line 476, in save\n",
      "    f(self, obj) # Call unbound method with explicit self\n",
      "  File \"/Users/ssv/anaconda3/lib/python3.6/pickle.py\", line 821, in save_dict\n",
      "    self._batch_setitems(obj.items())\n",
      "  File \"/Users/ssv/anaconda3/lib/python3.6/pickle.py\", line 852, in _batch_setitems\n",
      "    save(v)\n",
      "  File \"/Users/ssv/anaconda3/lib/python3.6/pickle.py\", line 521, in save\n",
      "    self.save_reduce(obj=obj, *rv)\n",
      "  File \"/Users/ssv/spark-2.2.0-bin-hadoop2.7/python/pyspark/cloudpickle.py\", line 600, in save_reduce\n",
      "    save(state)\n",
      "  File \"/Users/ssv/anaconda3/lib/python3.6/pickle.py\", line 476, in save\n",
      "    f(self, obj) # Call unbound method with explicit self\n",
      "  File \"/Users/ssv/anaconda3/lib/python3.6/pickle.py\", line 821, in save_dict\n",
      "    self._batch_setitems(obj.items())\n",
      "  File \"/Users/ssv/anaconda3/lib/python3.6/pickle.py\", line 847, in _batch_setitems\n",
      "    save(v)\n",
      "  File \"/Users/ssv/anaconda3/lib/python3.6/pickle.py\", line 496, in save\n",
      "    rv = reduce(self.proto)\n",
      "  File \"/Users/ssv/spark-2.2.0-bin-hadoop2.7/python/pyspark/context.py\", line 306, in __getnewargs__\n",
      "    \"It appears that you are attempting to reference SparkContext from a broadcast \"\n",
      "Exception: It appears that you are attempting to reference SparkContext from a broadcast variable, action, or transformation. SparkContext can only be used on the driver, not in code that it run on workers. For more information, see SPARK-5063.\n"
     ]
    },
    {
     "ename": "PicklingError",
     "evalue": "Could not serialize object: Exception: It appears that you are attempting to reference SparkContext from a broadcast variable, action, or transformation. SparkContext can only be used on the driver, not in code that it run on workers. For more information, see SPARK-5063.",
     "output_type": "error",
     "traceback": [
      "\u001b[0;31m---------------------------------------------------------------------------\u001b[0m",
      "\u001b[0;31mException\u001b[0m                                 Traceback (most recent call last)",
      "\u001b[0;32m~/spark-2.2.0-bin-hadoop2.7/python/pyspark/cloudpickle.py\u001b[0m in \u001b[0;36mdump\u001b[0;34m(self, obj)\u001b[0m\n\u001b[1;32m    147\u001b[0m         \u001b[0;32mtry\u001b[0m\u001b[0;34m:\u001b[0m\u001b[0;34m\u001b[0m\u001b[0m\n\u001b[0;32m--> 148\u001b[0;31m             \u001b[0;32mreturn\u001b[0m \u001b[0mPickler\u001b[0m\u001b[0;34m.\u001b[0m\u001b[0mdump\u001b[0m\u001b[0;34m(\u001b[0m\u001b[0mself\u001b[0m\u001b[0;34m,\u001b[0m \u001b[0mobj\u001b[0m\u001b[0;34m)\u001b[0m\u001b[0;34m\u001b[0m\u001b[0m\n\u001b[0m\u001b[1;32m    149\u001b[0m         \u001b[0;32mexcept\u001b[0m \u001b[0mRuntimeError\u001b[0m \u001b[0;32mas\u001b[0m \u001b[0me\u001b[0m\u001b[0;34m:\u001b[0m\u001b[0;34m\u001b[0m\u001b[0m\n",
      "\u001b[0;32m~/anaconda3/lib/python3.6/pickle.py\u001b[0m in \u001b[0;36mdump\u001b[0;34m(self, obj)\u001b[0m\n\u001b[1;32m    408\u001b[0m             \u001b[0mself\u001b[0m\u001b[0;34m.\u001b[0m\u001b[0mframer\u001b[0m\u001b[0;34m.\u001b[0m\u001b[0mstart_framing\u001b[0m\u001b[0;34m(\u001b[0m\u001b[0;34m)\u001b[0m\u001b[0;34m\u001b[0m\u001b[0m\n\u001b[0;32m--> 409\u001b[0;31m         \u001b[0mself\u001b[0m\u001b[0;34m.\u001b[0m\u001b[0msave\u001b[0m\u001b[0;34m(\u001b[0m\u001b[0mobj\u001b[0m\u001b[0;34m)\u001b[0m\u001b[0;34m\u001b[0m\u001b[0m\n\u001b[0m\u001b[1;32m    410\u001b[0m         \u001b[0mself\u001b[0m\u001b[0;34m.\u001b[0m\u001b[0mwrite\u001b[0m\u001b[0;34m(\u001b[0m\u001b[0mSTOP\u001b[0m\u001b[0;34m)\u001b[0m\u001b[0;34m\u001b[0m\u001b[0m\n",
      "\u001b[0;32m~/anaconda3/lib/python3.6/pickle.py\u001b[0m in \u001b[0;36msave\u001b[0;34m(self, obj, save_persistent_id)\u001b[0m\n\u001b[1;32m    475\u001b[0m         \u001b[0;32mif\u001b[0m \u001b[0mf\u001b[0m \u001b[0;32mis\u001b[0m \u001b[0;32mnot\u001b[0m \u001b[0;32mNone\u001b[0m\u001b[0;34m:\u001b[0m\u001b[0;34m\u001b[0m\u001b[0m\n\u001b[0;32m--> 476\u001b[0;31m             \u001b[0mf\u001b[0m\u001b[0;34m(\u001b[0m\u001b[0mself\u001b[0m\u001b[0;34m,\u001b[0m \u001b[0mobj\u001b[0m\u001b[0;34m)\u001b[0m \u001b[0;31m# Call unbound method with explicit self\u001b[0m\u001b[0;34m\u001b[0m\u001b[0m\n\u001b[0m\u001b[1;32m    477\u001b[0m             \u001b[0;32mreturn\u001b[0m\u001b[0;34m\u001b[0m\u001b[0m\n",
      "\u001b[0;32m~/anaconda3/lib/python3.6/pickle.py\u001b[0m in \u001b[0;36msave_tuple\u001b[0;34m(self, obj)\u001b[0m\n\u001b[1;32m    735\u001b[0m             \u001b[0;32mfor\u001b[0m \u001b[0melement\u001b[0m \u001b[0;32min\u001b[0m \u001b[0mobj\u001b[0m\u001b[0;34m:\u001b[0m\u001b[0;34m\u001b[0m\u001b[0m\n\u001b[0;32m--> 736\u001b[0;31m                 \u001b[0msave\u001b[0m\u001b[0;34m(\u001b[0m\u001b[0melement\u001b[0m\u001b[0;34m)\u001b[0m\u001b[0;34m\u001b[0m\u001b[0m\n\u001b[0m\u001b[1;32m    737\u001b[0m             \u001b[0;31m# Subtle.  Same as in the big comment below.\u001b[0m\u001b[0;34m\u001b[0m\u001b[0;34m\u001b[0m\u001b[0m\n",
      "\u001b[0;32m~/anaconda3/lib/python3.6/pickle.py\u001b[0m in \u001b[0;36msave\u001b[0;34m(self, obj, save_persistent_id)\u001b[0m\n\u001b[1;32m    475\u001b[0m         \u001b[0;32mif\u001b[0m \u001b[0mf\u001b[0m \u001b[0;32mis\u001b[0m \u001b[0;32mnot\u001b[0m \u001b[0;32mNone\u001b[0m\u001b[0;34m:\u001b[0m\u001b[0;34m\u001b[0m\u001b[0m\n\u001b[0;32m--> 476\u001b[0;31m             \u001b[0mf\u001b[0m\u001b[0;34m(\u001b[0m\u001b[0mself\u001b[0m\u001b[0;34m,\u001b[0m \u001b[0mobj\u001b[0m\u001b[0;34m)\u001b[0m \u001b[0;31m# Call unbound method with explicit self\u001b[0m\u001b[0;34m\u001b[0m\u001b[0m\n\u001b[0m\u001b[1;32m    477\u001b[0m             \u001b[0;32mreturn\u001b[0m\u001b[0;34m\u001b[0m\u001b[0m\n",
      "\u001b[0;32m~/spark-2.2.0-bin-hadoop2.7/python/pyspark/cloudpickle.py\u001b[0m in \u001b[0;36msave_function\u001b[0;34m(self, obj, name)\u001b[0m\n\u001b[1;32m    248\u001b[0m             \u001b[0;31m#print(\"save global\", islambda(obj), obj.__code__.co_filename, modname, themodule)\u001b[0m\u001b[0;34m\u001b[0m\u001b[0;34m\u001b[0m\u001b[0m\n\u001b[0;32m--> 249\u001b[0;31m             \u001b[0mself\u001b[0m\u001b[0;34m.\u001b[0m\u001b[0msave_function_tuple\u001b[0m\u001b[0;34m(\u001b[0m\u001b[0mobj\u001b[0m\u001b[0;34m)\u001b[0m\u001b[0;34m\u001b[0m\u001b[0m\n\u001b[0m\u001b[1;32m    250\u001b[0m             \u001b[0;32mreturn\u001b[0m\u001b[0;34m\u001b[0m\u001b[0m\n",
      "\u001b[0;32m~/spark-2.2.0-bin-hadoop2.7/python/pyspark/cloudpickle.py\u001b[0m in \u001b[0;36msave_function_tuple\u001b[0;34m(self, func)\u001b[0m\n\u001b[1;32m    296\u001b[0m         \u001b[0;31m# save the rest of the func data needed by _fill_function\u001b[0m\u001b[0;34m\u001b[0m\u001b[0;34m\u001b[0m\u001b[0m\n\u001b[0;32m--> 297\u001b[0;31m         \u001b[0msave\u001b[0m\u001b[0;34m(\u001b[0m\u001b[0mf_globals\u001b[0m\u001b[0;34m)\u001b[0m\u001b[0;34m\u001b[0m\u001b[0m\n\u001b[0m\u001b[1;32m    298\u001b[0m         \u001b[0msave\u001b[0m\u001b[0;34m(\u001b[0m\u001b[0mdefaults\u001b[0m\u001b[0;34m)\u001b[0m\u001b[0;34m\u001b[0m\u001b[0m\n",
      "\u001b[0;32m~/anaconda3/lib/python3.6/pickle.py\u001b[0m in \u001b[0;36msave\u001b[0;34m(self, obj, save_persistent_id)\u001b[0m\n\u001b[1;32m    475\u001b[0m         \u001b[0;32mif\u001b[0m \u001b[0mf\u001b[0m \u001b[0;32mis\u001b[0m \u001b[0;32mnot\u001b[0m \u001b[0;32mNone\u001b[0m\u001b[0;34m:\u001b[0m\u001b[0;34m\u001b[0m\u001b[0m\n\u001b[0;32m--> 476\u001b[0;31m             \u001b[0mf\u001b[0m\u001b[0;34m(\u001b[0m\u001b[0mself\u001b[0m\u001b[0;34m,\u001b[0m \u001b[0mobj\u001b[0m\u001b[0;34m)\u001b[0m \u001b[0;31m# Call unbound method with explicit self\u001b[0m\u001b[0;34m\u001b[0m\u001b[0m\n\u001b[0m\u001b[1;32m    477\u001b[0m             \u001b[0;32mreturn\u001b[0m\u001b[0;34m\u001b[0m\u001b[0m\n",
      "\u001b[0;32m~/anaconda3/lib/python3.6/pickle.py\u001b[0m in \u001b[0;36msave_dict\u001b[0;34m(self, obj)\u001b[0m\n\u001b[1;32m    820\u001b[0m         \u001b[0mself\u001b[0m\u001b[0;34m.\u001b[0m\u001b[0mmemoize\u001b[0m\u001b[0;34m(\u001b[0m\u001b[0mobj\u001b[0m\u001b[0;34m)\u001b[0m\u001b[0;34m\u001b[0m\u001b[0m\n\u001b[0;32m--> 821\u001b[0;31m         \u001b[0mself\u001b[0m\u001b[0;34m.\u001b[0m\u001b[0m_batch_setitems\u001b[0m\u001b[0;34m(\u001b[0m\u001b[0mobj\u001b[0m\u001b[0;34m.\u001b[0m\u001b[0mitems\u001b[0m\u001b[0;34m(\u001b[0m\u001b[0;34m)\u001b[0m\u001b[0;34m)\u001b[0m\u001b[0;34m\u001b[0m\u001b[0m\n\u001b[0m\u001b[1;32m    822\u001b[0m \u001b[0;34m\u001b[0m\u001b[0m\n",
      "\u001b[0;32m~/anaconda3/lib/python3.6/pickle.py\u001b[0m in \u001b[0;36m_batch_setitems\u001b[0;34m(self, items)\u001b[0m\n\u001b[1;32m    851\u001b[0m                 \u001b[0msave\u001b[0m\u001b[0;34m(\u001b[0m\u001b[0mk\u001b[0m\u001b[0;34m)\u001b[0m\u001b[0;34m\u001b[0m\u001b[0m\n\u001b[0;32m--> 852\u001b[0;31m                 \u001b[0msave\u001b[0m\u001b[0;34m(\u001b[0m\u001b[0mv\u001b[0m\u001b[0;34m)\u001b[0m\u001b[0;34m\u001b[0m\u001b[0m\n\u001b[0m\u001b[1;32m    853\u001b[0m                 \u001b[0mwrite\u001b[0m\u001b[0;34m(\u001b[0m\u001b[0mSETITEM\u001b[0m\u001b[0;34m)\u001b[0m\u001b[0;34m\u001b[0m\u001b[0m\n",
      "\u001b[0;32m~/anaconda3/lib/python3.6/pickle.py\u001b[0m in \u001b[0;36msave\u001b[0;34m(self, obj, save_persistent_id)\u001b[0m\n\u001b[1;32m    520\u001b[0m         \u001b[0;31m# Save the reduce() output and finally memoize the object\u001b[0m\u001b[0;34m\u001b[0m\u001b[0;34m\u001b[0m\u001b[0m\n\u001b[0;32m--> 521\u001b[0;31m         \u001b[0mself\u001b[0m\u001b[0;34m.\u001b[0m\u001b[0msave_reduce\u001b[0m\u001b[0;34m(\u001b[0m\u001b[0mobj\u001b[0m\u001b[0;34m=\u001b[0m\u001b[0mobj\u001b[0m\u001b[0;34m,\u001b[0m \u001b[0;34m*\u001b[0m\u001b[0mrv\u001b[0m\u001b[0;34m)\u001b[0m\u001b[0;34m\u001b[0m\u001b[0m\n\u001b[0m\u001b[1;32m    522\u001b[0m \u001b[0;34m\u001b[0m\u001b[0m\n",
      "\u001b[0;32m~/spark-2.2.0-bin-hadoop2.7/python/pyspark/cloudpickle.py\u001b[0m in \u001b[0;36msave_reduce\u001b[0;34m(self, func, args, state, listitems, dictitems, obj)\u001b[0m\n\u001b[1;32m    599\u001b[0m         \u001b[0;32mif\u001b[0m \u001b[0mstate\u001b[0m \u001b[0;32mis\u001b[0m \u001b[0;32mnot\u001b[0m \u001b[0;32mNone\u001b[0m\u001b[0;34m:\u001b[0m\u001b[0;34m\u001b[0m\u001b[0m\n\u001b[0;32m--> 600\u001b[0;31m             \u001b[0msave\u001b[0m\u001b[0;34m(\u001b[0m\u001b[0mstate\u001b[0m\u001b[0;34m)\u001b[0m\u001b[0;34m\u001b[0m\u001b[0m\n\u001b[0m\u001b[1;32m    601\u001b[0m             \u001b[0mwrite\u001b[0m\u001b[0;34m(\u001b[0m\u001b[0mpickle\u001b[0m\u001b[0;34m.\u001b[0m\u001b[0mBUILD\u001b[0m\u001b[0;34m)\u001b[0m\u001b[0;34m\u001b[0m\u001b[0m\n",
      "\u001b[0;32m~/anaconda3/lib/python3.6/pickle.py\u001b[0m in \u001b[0;36msave\u001b[0;34m(self, obj, save_persistent_id)\u001b[0m\n\u001b[1;32m    475\u001b[0m         \u001b[0;32mif\u001b[0m \u001b[0mf\u001b[0m \u001b[0;32mis\u001b[0m \u001b[0;32mnot\u001b[0m \u001b[0;32mNone\u001b[0m\u001b[0;34m:\u001b[0m\u001b[0;34m\u001b[0m\u001b[0m\n\u001b[0;32m--> 476\u001b[0;31m             \u001b[0mf\u001b[0m\u001b[0;34m(\u001b[0m\u001b[0mself\u001b[0m\u001b[0;34m,\u001b[0m \u001b[0mobj\u001b[0m\u001b[0;34m)\u001b[0m \u001b[0;31m# Call unbound method with explicit self\u001b[0m\u001b[0;34m\u001b[0m\u001b[0m\n\u001b[0m\u001b[1;32m    477\u001b[0m             \u001b[0;32mreturn\u001b[0m\u001b[0;34m\u001b[0m\u001b[0m\n",
      "\u001b[0;32m~/anaconda3/lib/python3.6/pickle.py\u001b[0m in \u001b[0;36msave_dict\u001b[0;34m(self, obj)\u001b[0m\n\u001b[1;32m    820\u001b[0m         \u001b[0mself\u001b[0m\u001b[0;34m.\u001b[0m\u001b[0mmemoize\u001b[0m\u001b[0;34m(\u001b[0m\u001b[0mobj\u001b[0m\u001b[0;34m)\u001b[0m\u001b[0;34m\u001b[0m\u001b[0m\n\u001b[0;32m--> 821\u001b[0;31m         \u001b[0mself\u001b[0m\u001b[0;34m.\u001b[0m\u001b[0m_batch_setitems\u001b[0m\u001b[0;34m(\u001b[0m\u001b[0mobj\u001b[0m\u001b[0;34m.\u001b[0m\u001b[0mitems\u001b[0m\u001b[0;34m(\u001b[0m\u001b[0;34m)\u001b[0m\u001b[0;34m)\u001b[0m\u001b[0;34m\u001b[0m\u001b[0m\n\u001b[0m\u001b[1;32m    822\u001b[0m \u001b[0;34m\u001b[0m\u001b[0m\n",
      "\u001b[0;32m~/anaconda3/lib/python3.6/pickle.py\u001b[0m in \u001b[0;36m_batch_setitems\u001b[0;34m(self, items)\u001b[0m\n\u001b[1;32m    846\u001b[0m                     \u001b[0msave\u001b[0m\u001b[0;34m(\u001b[0m\u001b[0mk\u001b[0m\u001b[0;34m)\u001b[0m\u001b[0;34m\u001b[0m\u001b[0m\n\u001b[0;32m--> 847\u001b[0;31m                     \u001b[0msave\u001b[0m\u001b[0;34m(\u001b[0m\u001b[0mv\u001b[0m\u001b[0;34m)\u001b[0m\u001b[0;34m\u001b[0m\u001b[0m\n\u001b[0m\u001b[1;32m    848\u001b[0m                 \u001b[0mwrite\u001b[0m\u001b[0;34m(\u001b[0m\u001b[0mSETITEMS\u001b[0m\u001b[0;34m)\u001b[0m\u001b[0;34m\u001b[0m\u001b[0m\n",
      "\u001b[0;32m~/anaconda3/lib/python3.6/pickle.py\u001b[0m in \u001b[0;36msave\u001b[0;34m(self, obj, save_persistent_id)\u001b[0m\n\u001b[1;32m    495\u001b[0m             \u001b[0;32mif\u001b[0m \u001b[0mreduce\u001b[0m \u001b[0;32mis\u001b[0m \u001b[0;32mnot\u001b[0m \u001b[0;32mNone\u001b[0m\u001b[0;34m:\u001b[0m\u001b[0;34m\u001b[0m\u001b[0m\n\u001b[0;32m--> 496\u001b[0;31m                 \u001b[0mrv\u001b[0m \u001b[0;34m=\u001b[0m \u001b[0mreduce\u001b[0m\u001b[0;34m(\u001b[0m\u001b[0mself\u001b[0m\u001b[0;34m.\u001b[0m\u001b[0mproto\u001b[0m\u001b[0;34m)\u001b[0m\u001b[0;34m\u001b[0m\u001b[0m\n\u001b[0m\u001b[1;32m    497\u001b[0m             \u001b[0;32melse\u001b[0m\u001b[0;34m:\u001b[0m\u001b[0;34m\u001b[0m\u001b[0m\n",
      "\u001b[0;32m~/spark-2.2.0-bin-hadoop2.7/python/pyspark/context.py\u001b[0m in \u001b[0;36m__getnewargs__\u001b[0;34m(self)\u001b[0m\n\u001b[1;32m    305\u001b[0m         raise Exception(\n\u001b[0;32m--> 306\u001b[0;31m             \u001b[0;34m\"It appears that you are attempting to reference SparkContext from a broadcast \"\u001b[0m\u001b[0;34m\u001b[0m\u001b[0m\n\u001b[0m\u001b[1;32m    307\u001b[0m             \u001b[0;34m\"variable, action, or transformation. SparkContext can only be used on the driver, \"\u001b[0m\u001b[0;34m\u001b[0m\u001b[0m\n",
      "\u001b[0;31mException\u001b[0m: It appears that you are attempting to reference SparkContext from a broadcast variable, action, or transformation. SparkContext can only be used on the driver, not in code that it run on workers. For more information, see SPARK-5063.",
      "\nDuring handling of the above exception, another exception occurred:\n",
      "\u001b[0;31mPicklingError\u001b[0m                             Traceback (most recent call last)",
      "\u001b[0;32m<ipython-input-342-0dab1f7fd4d8>\u001b[0m in \u001b[0;36m<module>\u001b[0;34m()\u001b[0m\n\u001b[1;32m      1\u001b[0m \u001b[0;32mfrom\u001b[0m \u001b[0mpyspark\u001b[0m\u001b[0;34m.\u001b[0m\u001b[0msql\u001b[0m\u001b[0;34m.\u001b[0m\u001b[0mtypes\u001b[0m \u001b[0;32mimport\u001b[0m \u001b[0mFloatType\u001b[0m\u001b[0;34m\u001b[0m\u001b[0m\n\u001b[0;32m----> 2\u001b[0;31m \u001b[0mspark\u001b[0m\u001b[0;34m.\u001b[0m\u001b[0mudf\u001b[0m\u001b[0;34m.\u001b[0m\u001b[0mregister\u001b[0m\u001b[0;34m(\u001b[0m\u001b[0;34m's'\u001b[0m\u001b[0;34m,\u001b[0m \u001b[0ms\u001b[0m\u001b[0;34m,\u001b[0m \u001b[0mFloatType\u001b[0m\u001b[0;34m(\u001b[0m\u001b[0;34m)\u001b[0m\u001b[0;34m)\u001b[0m\u001b[0;34m\u001b[0m\u001b[0m\n\u001b[0m",
      "\u001b[0;32m~/spark-2.2.0-bin-hadoop2.7/python/pyspark/sql/context.py\u001b[0m in \u001b[0;36mregister\u001b[0;34m(self, name, f, returnType)\u001b[0m\n\u001b[1;32m    546\u001b[0m \u001b[0;34m\u001b[0m\u001b[0m\n\u001b[1;32m    547\u001b[0m     \u001b[0;32mdef\u001b[0m \u001b[0mregister\u001b[0m\u001b[0;34m(\u001b[0m\u001b[0mself\u001b[0m\u001b[0;34m,\u001b[0m \u001b[0mname\u001b[0m\u001b[0;34m,\u001b[0m \u001b[0mf\u001b[0m\u001b[0;34m,\u001b[0m \u001b[0mreturnType\u001b[0m\u001b[0;34m=\u001b[0m\u001b[0mStringType\u001b[0m\u001b[0;34m(\u001b[0m\u001b[0;34m)\u001b[0m\u001b[0;34m)\u001b[0m\u001b[0;34m:\u001b[0m\u001b[0;34m\u001b[0m\u001b[0m\n\u001b[0;32m--> 548\u001b[0;31m         \u001b[0;32mreturn\u001b[0m \u001b[0mself\u001b[0m\u001b[0;34m.\u001b[0m\u001b[0msqlContext\u001b[0m\u001b[0;34m.\u001b[0m\u001b[0mregisterFunction\u001b[0m\u001b[0;34m(\u001b[0m\u001b[0mname\u001b[0m\u001b[0;34m,\u001b[0m \u001b[0mf\u001b[0m\u001b[0;34m,\u001b[0m \u001b[0mreturnType\u001b[0m\u001b[0;34m)\u001b[0m\u001b[0;34m\u001b[0m\u001b[0m\n\u001b[0m\u001b[1;32m    549\u001b[0m \u001b[0;34m\u001b[0m\u001b[0m\n\u001b[1;32m    550\u001b[0m     \u001b[0mregister\u001b[0m\u001b[0;34m.\u001b[0m\u001b[0m__doc__\u001b[0m \u001b[0;34m=\u001b[0m \u001b[0mSQLContext\u001b[0m\u001b[0;34m.\u001b[0m\u001b[0mregisterFunction\u001b[0m\u001b[0;34m.\u001b[0m\u001b[0m__doc__\u001b[0m\u001b[0;34m\u001b[0m\u001b[0m\n",
      "\u001b[0;32m~/spark-2.2.0-bin-hadoop2.7/python/pyspark/sql/context.py\u001b[0m in \u001b[0;36mregisterFunction\u001b[0;34m(self, name, f, returnType)\u001b[0m\n\u001b[1;32m    201\u001b[0m         \u001b[0;34m[\u001b[0m\u001b[0mRow\u001b[0m\u001b[0;34m(\u001b[0m\u001b[0mstringLengthInt\u001b[0m\u001b[0;34m(\u001b[0m\u001b[0mtest\u001b[0m\u001b[0;34m)\u001b[0m\u001b[0;34m=\u001b[0m\u001b[0;36m4\u001b[0m\u001b[0;34m)\u001b[0m\u001b[0;34m]\u001b[0m\u001b[0;34m\u001b[0m\u001b[0m\n\u001b[1;32m    202\u001b[0m         \"\"\"\n\u001b[0;32m--> 203\u001b[0;31m         \u001b[0mself\u001b[0m\u001b[0;34m.\u001b[0m\u001b[0msparkSession\u001b[0m\u001b[0;34m.\u001b[0m\u001b[0mcatalog\u001b[0m\u001b[0;34m.\u001b[0m\u001b[0mregisterFunction\u001b[0m\u001b[0;34m(\u001b[0m\u001b[0mname\u001b[0m\u001b[0;34m,\u001b[0m \u001b[0mf\u001b[0m\u001b[0;34m,\u001b[0m \u001b[0mreturnType\u001b[0m\u001b[0;34m)\u001b[0m\u001b[0;34m\u001b[0m\u001b[0m\n\u001b[0m\u001b[1;32m    204\u001b[0m \u001b[0;34m\u001b[0m\u001b[0m\n\u001b[1;32m    205\u001b[0m     \u001b[0;34m@\u001b[0m\u001b[0mignore_unicode_prefix\u001b[0m\u001b[0;34m\u001b[0m\u001b[0m\n",
      "\u001b[0;32m~/spark-2.2.0-bin-hadoop2.7/python/pyspark/sql/catalog.py\u001b[0m in \u001b[0;36mregisterFunction\u001b[0;34m(self, name, f, returnType)\u001b[0m\n\u001b[1;32m    254\u001b[0m         \"\"\"\n\u001b[1;32m    255\u001b[0m         \u001b[0mudf\u001b[0m \u001b[0;34m=\u001b[0m \u001b[0mUserDefinedFunction\u001b[0m\u001b[0;34m(\u001b[0m\u001b[0mf\u001b[0m\u001b[0;34m,\u001b[0m \u001b[0mreturnType\u001b[0m\u001b[0;34m,\u001b[0m \u001b[0mname\u001b[0m\u001b[0;34m)\u001b[0m\u001b[0;34m\u001b[0m\u001b[0m\n\u001b[0;32m--> 256\u001b[0;31m         \u001b[0mself\u001b[0m\u001b[0;34m.\u001b[0m\u001b[0m_jsparkSession\u001b[0m\u001b[0;34m.\u001b[0m\u001b[0mudf\u001b[0m\u001b[0;34m(\u001b[0m\u001b[0;34m)\u001b[0m\u001b[0;34m.\u001b[0m\u001b[0mregisterPython\u001b[0m\u001b[0;34m(\u001b[0m\u001b[0mname\u001b[0m\u001b[0;34m,\u001b[0m \u001b[0mudf\u001b[0m\u001b[0;34m.\u001b[0m\u001b[0m_judf\u001b[0m\u001b[0;34m)\u001b[0m\u001b[0;34m\u001b[0m\u001b[0m\n\u001b[0m\u001b[1;32m    257\u001b[0m \u001b[0;34m\u001b[0m\u001b[0m\n\u001b[1;32m    258\u001b[0m     \u001b[0;34m@\u001b[0m\u001b[0msince\u001b[0m\u001b[0;34m(\u001b[0m\u001b[0;36m2.0\u001b[0m\u001b[0;34m)\u001b[0m\u001b[0;34m\u001b[0m\u001b[0m\n",
      "\u001b[0;32m~/spark-2.2.0-bin-hadoop2.7/python/pyspark/sql/functions.py\u001b[0m in \u001b[0;36m_judf\u001b[0;34m(self)\u001b[0m\n\u001b[1;32m   1898\u001b[0m         \u001b[0;31m# and should have a minimal performance impact.\u001b[0m\u001b[0;34m\u001b[0m\u001b[0;34m\u001b[0m\u001b[0m\n\u001b[1;32m   1899\u001b[0m         \u001b[0;32mif\u001b[0m \u001b[0mself\u001b[0m\u001b[0;34m.\u001b[0m\u001b[0m_judf_placeholder\u001b[0m \u001b[0;32mis\u001b[0m \u001b[0;32mNone\u001b[0m\u001b[0;34m:\u001b[0m\u001b[0;34m\u001b[0m\u001b[0m\n\u001b[0;32m-> 1900\u001b[0;31m             \u001b[0mself\u001b[0m\u001b[0;34m.\u001b[0m\u001b[0m_judf_placeholder\u001b[0m \u001b[0;34m=\u001b[0m \u001b[0mself\u001b[0m\u001b[0;34m.\u001b[0m\u001b[0m_create_judf\u001b[0m\u001b[0;34m(\u001b[0m\u001b[0;34m)\u001b[0m\u001b[0;34m\u001b[0m\u001b[0m\n\u001b[0m\u001b[1;32m   1901\u001b[0m         \u001b[0;32mreturn\u001b[0m \u001b[0mself\u001b[0m\u001b[0;34m.\u001b[0m\u001b[0m_judf_placeholder\u001b[0m\u001b[0;34m\u001b[0m\u001b[0m\n\u001b[1;32m   1902\u001b[0m \u001b[0;34m\u001b[0m\u001b[0m\n",
      "\u001b[0;32m~/spark-2.2.0-bin-hadoop2.7/python/pyspark/sql/functions.py\u001b[0m in \u001b[0;36m_create_judf\u001b[0;34m(self)\u001b[0m\n\u001b[1;32m   1907\u001b[0m         \u001b[0msc\u001b[0m \u001b[0;34m=\u001b[0m \u001b[0mspark\u001b[0m\u001b[0;34m.\u001b[0m\u001b[0msparkContext\u001b[0m\u001b[0;34m\u001b[0m\u001b[0m\n\u001b[1;32m   1908\u001b[0m \u001b[0;34m\u001b[0m\u001b[0m\n\u001b[0;32m-> 1909\u001b[0;31m         \u001b[0mwrapped_func\u001b[0m \u001b[0;34m=\u001b[0m \u001b[0m_wrap_function\u001b[0m\u001b[0;34m(\u001b[0m\u001b[0msc\u001b[0m\u001b[0;34m,\u001b[0m \u001b[0mself\u001b[0m\u001b[0;34m.\u001b[0m\u001b[0mfunc\u001b[0m\u001b[0;34m,\u001b[0m \u001b[0mself\u001b[0m\u001b[0;34m.\u001b[0m\u001b[0mreturnType\u001b[0m\u001b[0;34m)\u001b[0m\u001b[0;34m\u001b[0m\u001b[0m\n\u001b[0m\u001b[1;32m   1910\u001b[0m         \u001b[0mjdt\u001b[0m \u001b[0;34m=\u001b[0m \u001b[0mspark\u001b[0m\u001b[0;34m.\u001b[0m\u001b[0m_jsparkSession\u001b[0m\u001b[0;34m.\u001b[0m\u001b[0mparseDataType\u001b[0m\u001b[0;34m(\u001b[0m\u001b[0mself\u001b[0m\u001b[0;34m.\u001b[0m\u001b[0mreturnType\u001b[0m\u001b[0;34m.\u001b[0m\u001b[0mjson\u001b[0m\u001b[0;34m(\u001b[0m\u001b[0;34m)\u001b[0m\u001b[0;34m)\u001b[0m\u001b[0;34m\u001b[0m\u001b[0m\n\u001b[1;32m   1911\u001b[0m         judf = sc._jvm.org.apache.spark.sql.execution.python.UserDefinedPythonFunction(\n",
      "\u001b[0;32m~/spark-2.2.0-bin-hadoop2.7/python/pyspark/sql/functions.py\u001b[0m in \u001b[0;36m_wrap_function\u001b[0;34m(sc, func, returnType)\u001b[0m\n\u001b[1;32m   1864\u001b[0m \u001b[0;32mdef\u001b[0m \u001b[0m_wrap_function\u001b[0m\u001b[0;34m(\u001b[0m\u001b[0msc\u001b[0m\u001b[0;34m,\u001b[0m \u001b[0mfunc\u001b[0m\u001b[0;34m,\u001b[0m \u001b[0mreturnType\u001b[0m\u001b[0;34m)\u001b[0m\u001b[0;34m:\u001b[0m\u001b[0;34m\u001b[0m\u001b[0m\n\u001b[1;32m   1865\u001b[0m     \u001b[0mcommand\u001b[0m \u001b[0;34m=\u001b[0m \u001b[0;34m(\u001b[0m\u001b[0mfunc\u001b[0m\u001b[0;34m,\u001b[0m \u001b[0mreturnType\u001b[0m\u001b[0;34m)\u001b[0m\u001b[0;34m\u001b[0m\u001b[0m\n\u001b[0;32m-> 1866\u001b[0;31m     \u001b[0mpickled_command\u001b[0m\u001b[0;34m,\u001b[0m \u001b[0mbroadcast_vars\u001b[0m\u001b[0;34m,\u001b[0m \u001b[0menv\u001b[0m\u001b[0;34m,\u001b[0m \u001b[0mincludes\u001b[0m \u001b[0;34m=\u001b[0m \u001b[0m_prepare_for_python_RDD\u001b[0m\u001b[0;34m(\u001b[0m\u001b[0msc\u001b[0m\u001b[0;34m,\u001b[0m \u001b[0mcommand\u001b[0m\u001b[0;34m)\u001b[0m\u001b[0;34m\u001b[0m\u001b[0m\n\u001b[0m\u001b[1;32m   1867\u001b[0m     return sc._jvm.PythonFunction(bytearray(pickled_command), env, includes, sc.pythonExec,\n\u001b[1;32m   1868\u001b[0m                                   sc.pythonVer, broadcast_vars, sc._javaAccumulator)\n",
      "\u001b[0;32m~/spark-2.2.0-bin-hadoop2.7/python/pyspark/rdd.py\u001b[0m in \u001b[0;36m_prepare_for_python_RDD\u001b[0;34m(sc, command)\u001b[0m\n\u001b[1;32m   2372\u001b[0m     \u001b[0;31m# the serialized command will be compressed by broadcast\u001b[0m\u001b[0;34m\u001b[0m\u001b[0;34m\u001b[0m\u001b[0m\n\u001b[1;32m   2373\u001b[0m     \u001b[0mser\u001b[0m \u001b[0;34m=\u001b[0m \u001b[0mCloudPickleSerializer\u001b[0m\u001b[0;34m(\u001b[0m\u001b[0;34m)\u001b[0m\u001b[0;34m\u001b[0m\u001b[0m\n\u001b[0;32m-> 2374\u001b[0;31m     \u001b[0mpickled_command\u001b[0m \u001b[0;34m=\u001b[0m \u001b[0mser\u001b[0m\u001b[0;34m.\u001b[0m\u001b[0mdumps\u001b[0m\u001b[0;34m(\u001b[0m\u001b[0mcommand\u001b[0m\u001b[0;34m)\u001b[0m\u001b[0;34m\u001b[0m\u001b[0m\n\u001b[0m\u001b[1;32m   2375\u001b[0m     \u001b[0;32mif\u001b[0m \u001b[0mlen\u001b[0m\u001b[0;34m(\u001b[0m\u001b[0mpickled_command\u001b[0m\u001b[0;34m)\u001b[0m \u001b[0;34m>\u001b[0m \u001b[0;34m(\u001b[0m\u001b[0;36m1\u001b[0m \u001b[0;34m<<\u001b[0m \u001b[0;36m20\u001b[0m\u001b[0;34m)\u001b[0m\u001b[0;34m:\u001b[0m  \u001b[0;31m# 1M\u001b[0m\u001b[0;34m\u001b[0m\u001b[0m\n\u001b[1;32m   2376\u001b[0m         \u001b[0;31m# The broadcast will have same life cycle as created PythonRDD\u001b[0m\u001b[0;34m\u001b[0m\u001b[0;34m\u001b[0m\u001b[0m\n",
      "\u001b[0;32m~/spark-2.2.0-bin-hadoop2.7/python/pyspark/serializers.py\u001b[0m in \u001b[0;36mdumps\u001b[0;34m(self, obj)\u001b[0m\n\u001b[1;32m    458\u001b[0m \u001b[0;34m\u001b[0m\u001b[0m\n\u001b[1;32m    459\u001b[0m     \u001b[0;32mdef\u001b[0m \u001b[0mdumps\u001b[0m\u001b[0;34m(\u001b[0m\u001b[0mself\u001b[0m\u001b[0;34m,\u001b[0m \u001b[0mobj\u001b[0m\u001b[0;34m)\u001b[0m\u001b[0;34m:\u001b[0m\u001b[0;34m\u001b[0m\u001b[0m\n\u001b[0;32m--> 460\u001b[0;31m         \u001b[0;32mreturn\u001b[0m \u001b[0mcloudpickle\u001b[0m\u001b[0;34m.\u001b[0m\u001b[0mdumps\u001b[0m\u001b[0;34m(\u001b[0m\u001b[0mobj\u001b[0m\u001b[0;34m,\u001b[0m \u001b[0;36m2\u001b[0m\u001b[0;34m)\u001b[0m\u001b[0;34m\u001b[0m\u001b[0m\n\u001b[0m\u001b[1;32m    461\u001b[0m \u001b[0;34m\u001b[0m\u001b[0m\n\u001b[1;32m    462\u001b[0m \u001b[0;34m\u001b[0m\u001b[0m\n",
      "\u001b[0;32m~/spark-2.2.0-bin-hadoop2.7/python/pyspark/cloudpickle.py\u001b[0m in \u001b[0;36mdumps\u001b[0;34m(obj, protocol)\u001b[0m\n\u001b[1;32m    702\u001b[0m \u001b[0;34m\u001b[0m\u001b[0m\n\u001b[1;32m    703\u001b[0m     \u001b[0mcp\u001b[0m \u001b[0;34m=\u001b[0m \u001b[0mCloudPickler\u001b[0m\u001b[0;34m(\u001b[0m\u001b[0mfile\u001b[0m\u001b[0;34m,\u001b[0m\u001b[0mprotocol\u001b[0m\u001b[0;34m)\u001b[0m\u001b[0;34m\u001b[0m\u001b[0m\n\u001b[0;32m--> 704\u001b[0;31m     \u001b[0mcp\u001b[0m\u001b[0;34m.\u001b[0m\u001b[0mdump\u001b[0m\u001b[0;34m(\u001b[0m\u001b[0mobj\u001b[0m\u001b[0;34m)\u001b[0m\u001b[0;34m\u001b[0m\u001b[0m\n\u001b[0m\u001b[1;32m    705\u001b[0m \u001b[0;34m\u001b[0m\u001b[0m\n\u001b[1;32m    706\u001b[0m     \u001b[0;32mreturn\u001b[0m \u001b[0mfile\u001b[0m\u001b[0;34m.\u001b[0m\u001b[0mgetvalue\u001b[0m\u001b[0;34m(\u001b[0m\u001b[0;34m)\u001b[0m\u001b[0;34m\u001b[0m\u001b[0m\n",
      "\u001b[0;32m~/spark-2.2.0-bin-hadoop2.7/python/pyspark/cloudpickle.py\u001b[0m in \u001b[0;36mdump\u001b[0;34m(self, obj)\u001b[0m\n\u001b[1;32m    160\u001b[0m                 \u001b[0mmsg\u001b[0m \u001b[0;34m=\u001b[0m \u001b[0;34m\"Could not serialize object: %s: %s\"\u001b[0m \u001b[0;34m%\u001b[0m \u001b[0;34m(\u001b[0m\u001b[0me\u001b[0m\u001b[0;34m.\u001b[0m\u001b[0m__class__\u001b[0m\u001b[0;34m.\u001b[0m\u001b[0m__name__\u001b[0m\u001b[0;34m,\u001b[0m \u001b[0memsg\u001b[0m\u001b[0;34m)\u001b[0m\u001b[0;34m\u001b[0m\u001b[0m\n\u001b[1;32m    161\u001b[0m             \u001b[0mprint_exec\u001b[0m\u001b[0;34m(\u001b[0m\u001b[0msys\u001b[0m\u001b[0;34m.\u001b[0m\u001b[0mstderr\u001b[0m\u001b[0;34m)\u001b[0m\u001b[0;34m\u001b[0m\u001b[0m\n\u001b[0;32m--> 162\u001b[0;31m             \u001b[0;32mraise\u001b[0m \u001b[0mpickle\u001b[0m\u001b[0;34m.\u001b[0m\u001b[0mPicklingError\u001b[0m\u001b[0;34m(\u001b[0m\u001b[0mmsg\u001b[0m\u001b[0;34m)\u001b[0m\u001b[0;34m\u001b[0m\u001b[0m\n\u001b[0m\u001b[1;32m    163\u001b[0m \u001b[0;34m\u001b[0m\u001b[0m\n\u001b[1;32m    164\u001b[0m     \u001b[0;32mdef\u001b[0m \u001b[0msave_memoryview\u001b[0m\u001b[0;34m(\u001b[0m\u001b[0mself\u001b[0m\u001b[0;34m,\u001b[0m \u001b[0mobj\u001b[0m\u001b[0;34m)\u001b[0m\u001b[0;34m:\u001b[0m\u001b[0;34m\u001b[0m\u001b[0m\n",
      "\u001b[0;31mPicklingError\u001b[0m: Could not serialize object: Exception: It appears that you are attempting to reference SparkContext from a broadcast variable, action, or transformation. SparkContext can only be used on the driver, not in code that it run on workers. For more information, see SPARK-5063."
     ]
    }
   ],
   "source": [
    "from pyspark.sql.types import FloatType\n",
    "spark.udf.register('s', s, FloatType())"
   ]
  },
  {
   "cell_type": "code",
   "execution_count": 343,
   "metadata": {},
   "outputs": [
    {
     "data": {
      "text/plain": [
       "0.9844289288401369"
      ]
     },
     "execution_count": 343,
     "metadata": {},
     "output_type": "execute_result"
    }
   ],
   "source": [
    "s('94')"
   ]
  },
  {
   "cell_type": "code",
   "execution_count": 371,
   "metadata": {
    "collapsed": true
   },
   "outputs": [],
   "source": [
    "user_id_list = spark.sql('SELECT user_id FROM rf ORDER BY user_id').collect()"
   ]
  },
  {
   "cell_type": "code",
   "execution_count": 379,
   "metadata": {},
   "outputs": [
    {
     "data": {
      "application/vnd.jupyter.widget-view+json": {
       "model_id": "e6ee3da3638f4909b099f43cd3e3fe1d",
       "version_major": 2,
       "version_minor": 0
      },
      "text/plain": [
       "A Jupyter Widget"
      ]
     },
     "metadata": {},
     "output_type": "display_data"
    },
    {
     "name": "stdout",
     "output_type": "stream",
     "text": [
      "\n"
     ]
    }
   ],
   "source": [
    "from tqdm import tqdm_notebook\n",
    "sau = {}\n",
    "for item in tqdm_notebook(user_id_list):    \n",
    "    sau[item.user_id] = s(item.user_id)"
   ]
  },
  {
   "cell_type": "code",
   "execution_count": 380,
   "metadata": {
    "collapsed": true
   },
   "outputs": [],
   "source": [
    "import pickle\n",
    "with open('sau.pickle', 'wb') as file:\n",
    "    pickle.dump(sau, file)   "
   ]
  },
  {
   "cell_type": "code",
   "execution_count": 438,
   "metadata": {},
   "outputs": [],
   "source": [
    "import operator\n",
    "ngb_30 = sorted(sau.items(), key=operator.itemgetter(1), reverse=True)[2:32]"
   ]
  },
  {
   "cell_type": "code",
   "execution_count": 439,
   "metadata": {},
   "outputs": [
    {
     "data": {
      "text/plain": [
       "[('323', 0.6330644560265287),\n",
       " ('360', 0.6207357680071715),\n",
       " ('293', 0.590014743266137),\n",
       " ('267', 0.5839495927398461),\n",
       " ('249', 0.5812900892305374),\n",
       " ('854', 0.5551874664570252),\n",
       " ('916', 0.5502086675974763),\n",
       " ('624', 0.5471691239900619),\n",
       " ('773', 0.5401587418779192),\n",
       " ('560', 0.5400385495822057),\n",
       " ('592', 0.5384405626586564),\n",
       " ('595', 0.5339939852125214),\n",
       " ('269', 0.5297107916409709),\n",
       " ('343', 0.5287790427859199),\n",
       " ('880', 0.5199594422786038),\n",
       " ('591', 0.5140159694936672),\n",
       " ('389', 0.5044095713822253),\n",
       " ('339', 0.5031718536035155),\n",
       " ('292', 0.5012135911240411),\n",
       " ('643', 0.49978723662136165),\n",
       " ('933', 0.4997816379083301),\n",
       " ('135', 0.4978019565804982),\n",
       " ('537', 0.4938318949847064),\n",
       " ('457', 0.4915256070820755),\n",
       " ('747', 0.4903884269601028),\n",
       " ('645', 0.489983972124755),\n",
       " ('49', 0.4857552798705937),\n",
       " ('115', 0.47789791024935635),\n",
       " ('303', 0.47718396646562716),\n",
       " ('92', 0.4770852620351513)]"
      ]
     },
     "execution_count": 439,
     "metadata": {},
     "output_type": "execute_result"
    }
   ],
   "source": [
    "ngb_30"
   ]
  },
  {
   "cell_type": "code",
   "execution_count": 440,
   "metadata": {},
   "outputs": [],
   "source": [
    "ngb_30_df = spark.createDataFrame(ngb_30, schema=['user_id', 'sau'])"
   ]
  },
  {
   "cell_type": "code",
   "execution_count": 441,
   "metadata": {
    "collapsed": true
   },
   "outputs": [],
   "source": [
    "ngb_30_df.registerTempTable('ngb_30')"
   ]
  },
  {
   "cell_type": "code",
   "execution_count": null,
   "metadata": {
    "scrolled": true
   },
   "outputs": [],
   "source": [
    "for i in (spark.sql('SELECT user_id FROM ngb_30 ORDER by sau, int(user_id)').collect()):\n",
    "    print(i.user_id, ',')"
   ]
  },
  {
   "cell_type": "code",
   "execution_count": 443,
   "metadata": {},
   "outputs": [
    {
     "name": "stdout",
     "output_type": "stream",
     "text": [
      "+-------+-------------------+\n",
      "|user_id|                sau|\n",
      "+-------+-------------------+\n",
      "|    323| 0.6330644560265287|\n",
      "|    360| 0.6207357680071715|\n",
      "|    293|  0.590014743266137|\n",
      "|    267| 0.5839495927398461|\n",
      "|    249| 0.5812900892305374|\n",
      "|    854| 0.5551874664570252|\n",
      "|    916| 0.5502086675974763|\n",
      "|    624| 0.5471691239900619|\n",
      "|    773| 0.5401587418779192|\n",
      "|    560| 0.5400385495822057|\n",
      "|    592| 0.5384405626586564|\n",
      "|    595| 0.5339939852125214|\n",
      "|    269| 0.5297107916409709|\n",
      "|    343| 0.5287790427859199|\n",
      "|    880| 0.5199594422786038|\n",
      "|    591| 0.5140159694936672|\n",
      "|    389| 0.5044095713822253|\n",
      "|    339| 0.5031718536035155|\n",
      "|    292| 0.5012135911240411|\n",
      "|    643|0.49978723662136165|\n",
      "+-------+-------------------+\n",
      "only showing top 20 rows\n",
      "\n"
     ]
    }
   ],
   "source": [
    "ngb_30_df.show()"
   ]
  },
  {
   "cell_type": "code",
   "execution_count": 445,
   "metadata": {},
   "outputs": [
    {
     "name": "stdout",
     "output_type": "stream",
     "text": [
      "+-------+-------+------+---------+\n",
      "|user_id|film_id|rating|       hz|\n",
      "+-------+-------+------+---------+\n",
      "|    196|    242|     3|881250949|\n",
      "|    186|    302|     3|891717742|\n",
      "+-------+-------+------+---------+\n",
      "only showing top 2 rows\n",
      "\n"
     ]
    }
   ],
   "source": [
    "r_df.show(2)"
   ]
  },
  {
   "cell_type": "code",
   "execution_count": 518,
   "metadata": {},
   "outputs": [],
   "source": [
    "prt_df = spark.sql( 'SELECT T1.film_id, T1.user_id, T1.rating, T2.users_mean_rating, T1.rating - T2.users_mean_rating as r_ ' + \n",
    "           ' FROM ' +\n",
    "           ' (SELECT film_id, user_id, rating FROM ratings  WHERE user_id IN (SELECT user_id FROM ngb_30)) T1, ' +\n",
    "           ' (SELECT user_id, users_mean_rating FROM rf) T2 ' +\n",
    "           '  WHERE T1.user_id = T2.user_id ' \n",
    "         )\n"
   ]
  },
  {
   "cell_type": "code",
   "execution_count": 519,
   "metadata": {},
   "outputs": [],
   "source": [
    "prt_df.registerTempTable('prt')"
   ]
  },
  {
   "cell_type": "code",
   "execution_count": 533,
   "metadata": {},
   "outputs": [],
   "source": [
    "prt2_df = spark.sql( 'SELECT T1.film_id, T1.user_id, T1.r_, T2.sau,  T1.r_ * T2.sau as for_sum ' +\n",
    "           ' FROM ' +\n",
    "           ' (SELECT film_id, user_id, r_ FROM prt) T1, ' +\n",
    "           ' (SELECT user_id, sau FROM ngb_30) T2 ' +\n",
    "           ' WHERE T1.user_id = T2.user_id ' \n",
    ")"
   ]
  },
  {
   "cell_type": "code",
   "execution_count": 534,
   "metadata": {
    "collapsed": true
   },
   "outputs": [],
   "source": [
    "prt2_df.registerTempTable('prt2')"
   ]
  },
  {
   "cell_type": "code",
   "execution_count": 535,
   "metadata": {},
   "outputs": [
    {
     "name": "stdout",
     "output_type": "stream",
     "text": [
      "+-------+-------+-------------------+------------------+--------------------+\n",
      "|film_id|user_id|                 r_|               sau|             for_sum|\n",
      "+-------+-------+-------------------+------------------+--------------------+\n",
      "|    787|    591|-0.6547999999999998|0.5140159694936672|-0.33657765682445323|\n",
      "|   1017|    591|-0.6547999999999998|0.5140159694936672|-0.33657765682445323|\n",
      "|   1099|    591| 1.3452000000000002|0.5140159694936672|  0.6914542821628813|\n",
      "|    191|    591| 1.3452000000000002|0.5140159694936672|  0.6914542821628813|\n",
      "|    382|    591| 0.3452000000000002|0.5140159694936672| 0.17743831266921403|\n",
      "|    322|    591|-1.6547999999999998|0.5140159694936672| -0.8505936263181204|\n",
      "|    740|    591| 0.3452000000000002|0.5140159694936672| 0.17743831266921403|\n",
      "|    204|    591| 0.3452000000000002|0.5140159694936672| 0.17743831266921403|\n",
      "|    286|    591| 0.3452000000000002|0.5140159694936672| 0.17743831266921403|\n",
      "|     56|    591| 0.3452000000000002|0.5140159694936672| 0.17743831266921403|\n",
      "|    275|    591| 0.3452000000000002|0.5140159694936672| 0.17743831266921403|\n",
      "|    934|    591|-0.6547999999999998|0.5140159694936672|-0.33657765682445323|\n",
      "|     88|    591|-0.6547999999999998|0.5140159694936672|-0.33657765682445323|\n",
      "|     72|    591|-0.6547999999999998|0.5140159694936672|-0.33657765682445323|\n",
      "|    921|    591| 0.3452000000000002|0.5140159694936672| 0.17743831266921403|\n",
      "|    235|    591|-0.6547999999999998|0.5140159694936672|-0.33657765682445323|\n",
      "|   1111|    591| 0.3452000000000002|0.5140159694936672| 0.17743831266921403|\n",
      "|    580|    591|-1.6547999999999998|0.5140159694936672| -0.8505936263181204|\n",
      "|    514|    591| 0.3452000000000002|0.5140159694936672| 0.17743831266921403|\n",
      "|    367|    591|-0.6547999999999998|0.5140159694936672|-0.33657765682445323|\n",
      "+-------+-------+-------------------+------------------+--------------------+\n",
      "only showing top 20 rows\n",
      "\n"
     ]
    }
   ],
   "source": [
    "prt2_df.show()"
   ]
  },
  {
   "cell_type": "code",
   "execution_count": 552,
   "metadata": {},
   "outputs": [],
   "source": [
    "prt3_df = spark.sql('SELECT film_id, sum(for_sum) as chislit, ' +\n",
    "          ' sum(CASE WHEN sau < 0 THEN -1 * sau ELSE sau END) as znam, ' + \n",
    "          ' sum(for_sum) / sum(CASE WHEN sau < 0 THEN -1 * sau ELSE sau END) as res_'\n",
    "          ' FROM prt2 GROUP BY film_id')"
   ]
  },
  {
   "cell_type": "code",
   "execution_count": 553,
   "metadata": {
    "collapsed": true
   },
   "outputs": [],
   "source": [
    "prt3_df.registerTempTable('prt3')"
   ]
  },
  {
   "cell_type": "code",
   "execution_count": 563,
   "metadata": {},
   "outputs": [
    {
     "data": {
      "text/plain": [
       "[Row(film_id='1367'),\n",
       " Row(film_id='1529'),\n",
       " Row(film_id='513'),\n",
       " Row(film_id='1099'),\n",
       " Row(film_id='1103'),\n",
       " Row(film_id='1080'),\n",
       " Row(film_id='493'),\n",
       " Row(film_id='647'),\n",
       " Row(film_id='320'),\n",
       " Row(film_id='902'),\n",
       " Row(film_id='127'),\n",
       " Row(film_id='134'),\n",
       " Row(film_id='1021'),\n",
       " Row(film_id='100'),\n",
       " Row(film_id='603'),\n",
       " Row(film_id='610'),\n",
       " Row(film_id='185'),\n",
       " Row(film_id='474'),\n",
       " Row(film_id='854'),\n",
       " Row(film_id='1143'),\n",
       " Row(film_id='1514'),\n",
       " Row(film_id='1022'),\n",
       " Row(film_id='285'),\n",
       " Row(film_id='180'),\n",
       " Row(film_id='654'),\n",
       " Row(film_id='518'),\n",
       " Row(film_id='718'),\n",
       " Row(film_id='694'),\n",
       " Row(film_id='882'),\n",
       " Row(film_id='483'),\n",
       " Row(film_id='494'),\n",
       " Row(film_id='919'),\n",
       " Row(film_id='524'),\n",
       " Row(film_id='1203'),\n",
       " Row(film_id='262'),\n",
       " Row(film_id='313'),\n",
       " Row(film_id='192'),\n",
       " Row(film_id='641'),\n",
       " Row(film_id='64'),\n",
       " Row(film_id='246'),\n",
       " Row(film_id='169'),\n",
       " Row(film_id='56'),\n",
       " Row(film_id='23'),\n",
       " Row(film_id='644'),\n",
       " Row(film_id='272'),\n",
       " Row(film_id='648'),\n",
       " Row(film_id='357'),\n",
       " Row(film_id='61'),\n",
       " Row(film_id='171'),\n",
       " Row(film_id='191'),\n",
       " Row(film_id='1361'),\n",
       " Row(film_id='645'),\n",
       " Row(film_id='1148'),\n",
       " Row(film_id='1397'),\n",
       " Row(film_id='179'),\n",
       " Row(film_id='12'),\n",
       " Row(film_id='1286'),\n",
       " Row(film_id='511'),\n",
       " Row(film_id='512'),\n",
       " Row(film_id='318'),\n",
       " Row(film_id='276'),\n",
       " Row(film_id='427'),\n",
       " Row(film_id='9'),\n",
       " Row(film_id='1007'),\n",
       " Row(film_id='865'),\n",
       " Row(film_id='425'),\n",
       " Row(film_id='205'),\n",
       " Row(film_id='178'),\n",
       " Row(film_id='197'),\n",
       " Row(film_id='187'),\n",
       " Row(film_id='48'),\n",
       " Row(film_id='50'),\n",
       " Row(film_id='59'),\n",
       " Row(film_id='340'),\n",
       " Row(film_id='14'),\n",
       " Row(film_id='156'),\n",
       " Row(film_id='182'),\n",
       " Row(film_id='484'),\n",
       " Row(film_id='661'),\n",
       " Row(film_id='45'),\n",
       " Row(film_id='135'),\n",
       " Row(film_id='517'),\n",
       " Row(film_id='124'),\n",
       " Row(film_id='488'),\n",
       " Row(film_id='963'),\n",
       " Row(film_id='131'),\n",
       " Row(film_id='653'),\n",
       " Row(film_id='98'),\n",
       " Row(film_id='199'),\n",
       " Row(film_id='408'),\n",
       " Row(film_id='481'),\n",
       " Row(film_id='268'),\n",
       " Row(film_id='475'),\n",
       " Row(film_id='525'),\n",
       " Row(film_id='530'),\n",
       " Row(film_id='114'),\n",
       " Row(film_id='531'),\n",
       " Row(film_id='699'),\n",
       " Row(film_id='487'),\n",
       " Row(film_id='856'),\n",
       " Row(film_id='994'),\n",
       " Row(film_id='170'),\n",
       " Row(film_id='223'),\n",
       " Row(film_id='1428'),\n",
       " Row(film_id='315'),\n",
       " Row(film_id='537'),\n",
       " Row(film_id='793'),\n",
       " Row(film_id='529'),\n",
       " Row(film_id='671'),\n",
       " Row(film_id='297'),\n",
       " Row(film_id='57'),\n",
       " Row(film_id='491'),\n",
       " Row(film_id='317'),\n",
       " Row(film_id='651'),\n",
       " Row(film_id='705'),\n",
       " Row(film_id='480'),\n",
       " Row(film_id='89'),\n",
       " Row(film_id='1216'),\n",
       " Row(film_id='947'),\n",
       " Row(film_id='659'),\n",
       " Row(film_id='589'),\n",
       " Row(film_id='60'),\n",
       " Row(film_id='923'),\n",
       " Row(film_id='209'),\n",
       " Row(film_id='177'),\n",
       " Row(film_id='211'),\n",
       " Row(film_id='506'),\n",
       " Row(film_id='132'),\n",
       " Row(film_id='157'),\n",
       " Row(film_id='251'),\n",
       " Row(film_id='507'),\n",
       " Row(film_id='478'),\n",
       " Row(film_id='613'),\n",
       " Row(film_id='1451'),\n",
       " Row(film_id='183'),\n",
       " Row(film_id='1252'),\n",
       " Row(film_id='1555'),\n",
       " Row(film_id='151'),\n",
       " Row(film_id='137'),\n",
       " Row(film_id='522'),\n",
       " Row(film_id='508'),\n",
       " Row(film_id='293'),\n",
       " Row(film_id='238'),\n",
       " Row(film_id='606'),\n",
       " Row(film_id='175'),\n",
       " Row(film_id='32'),\n",
       " Row(film_id='1039'),\n",
       " Row(film_id='8'),\n",
       " Row(film_id='514'),\n",
       " Row(film_id='208'),\n",
       " Row(film_id='224'),\n",
       " Row(film_id='492'),\n",
       " Row(film_id='693'),\n",
       " Row(film_id='193'),\n",
       " Row(film_id='499'),\n",
       " Row(film_id='657'),\n",
       " Row(film_id='469'),\n",
       " Row(film_id='168'),\n",
       " Row(film_id='497'),\n",
       " Row(film_id='305'),\n",
       " Row(film_id='42'),\n",
       " Row(film_id='10'),\n",
       " Row(film_id='213'),\n",
       " Row(film_id='203'),\n",
       " Row(film_id='479'),\n",
       " Row(film_id='387'),\n",
       " Row(film_id='428'),\n",
       " Row(film_id='1073'),\n",
       " Row(film_id='136'),\n",
       " Row(film_id='372'),\n",
       " Row(film_id='650'),\n",
       " Row(film_id='345'),\n",
       " Row(film_id='971'),\n",
       " Row(film_id='773'),\n",
       " Row(film_id='562'),\n",
       " Row(film_id='1218'),\n",
       " Row(film_id='198'),\n",
       " Row(film_id='593'),\n",
       " Row(film_id='767'),\n",
       " Row(film_id='172'),\n",
       " Row(film_id='302'),\n",
       " Row(film_id='482'),\n",
       " Row(film_id='215'),\n",
       " Row(film_id='47'),\n",
       " Row(film_id='176'),\n",
       " Row(film_id='750'),\n",
       " Row(film_id='1405'),\n",
       " Row(film_id='414'),\n",
       " Row(film_id='207'),\n",
       " Row(film_id='190'),\n",
       " Row(film_id='430'),\n",
       " Row(film_id='1005'),\n",
       " Row(film_id='1240'),\n",
       " Row(film_id='1142'),\n",
       " Row(film_id='638'),\n",
       " Row(film_id='527'),\n",
       " Row(film_id='275'),\n",
       " Row(film_id='316'),\n",
       " Row(film_id='1298'),\n",
       " Row(film_id='605'),\n",
       " Row(film_id='404'),\n",
       " Row(film_id='1496'),\n",
       " Row(film_id='348'),\n",
       " Row(film_id='1277'),\n",
       " Row(film_id='1664'),\n",
       " Row(film_id='1446'),\n",
       " Row(film_id='1468'),\n",
       " Row(film_id='992'),\n",
       " Row(film_id='715'),\n",
       " Row(film_id='189'),\n",
       " Row(film_id='504'),\n",
       " Row(film_id='792'),\n",
       " Row(film_id='500'),\n",
       " Row(film_id='443'),\n",
       " Row(film_id='900'),\n",
       " Row(film_id='435'),\n",
       " Row(film_id='498'),\n",
       " Row(film_id='242'),\n",
       " Row(film_id='656'),\n",
       " Row(film_id='485'),\n",
       " Row(film_id='582'),\n",
       " Row(film_id='432'),\n",
       " Row(film_id='11'),\n",
       " Row(film_id='83'),\n",
       " Row(film_id='632'),\n",
       " Row(film_id='306'),\n",
       " Row(film_id='464'),\n",
       " Row(film_id='663'),\n",
       " Row(film_id='634'),\n",
       " Row(film_id='853'),\n",
       " Row(film_id='92'),\n",
       " Row(film_id='200'),\n",
       " Row(film_id='152'),\n",
       " Row(film_id='129'),\n",
       " Row(film_id='420'),\n",
       " Row(film_id='1077'),\n",
       " Row(film_id='528'),\n",
       " Row(film_id='523'),\n",
       " Row(film_id='640'),\n",
       " Row(film_id='1147'),\n",
       " Row(film_id='505'),\n",
       " Row(film_id='1194'),\n",
       " Row(film_id='153'),\n",
       " Row(film_id='93'),\n",
       " Row(film_id='416'),\n",
       " Row(film_id='1020'),\n",
       " Row(film_id='201'),\n",
       " Row(film_id='87'),\n",
       " Row(film_id='71'),\n",
       " Row(film_id='789'),\n",
       " Row(film_id='1134'),\n",
       " Row(film_id='166'),\n",
       " Row(film_id='870'),\n",
       " Row(film_id='905'),\n",
       " Row(film_id='778'),\n",
       " Row(film_id='615'),\n",
       " Row(film_id='174'),\n",
       " Row(film_id='194'),\n",
       " Row(film_id='1199'),\n",
       " Row(film_id='631'),\n",
       " Row(film_id='46'),\n",
       " Row(film_id='515'),\n",
       " Row(film_id='154'),\n",
       " Row(film_id='221'),\n",
       " Row(film_id='258'),\n",
       " Row(film_id='150'),\n",
       " Row(film_id='547'),\n",
       " Row(film_id='813'),\n",
       " Row(film_id='604'),\n",
       " Row(film_id='509'),\n",
       " Row(film_id='99'),\n",
       " Row(film_id='256'),\n",
       " Row(film_id='652'),\n",
       " Row(film_id='19'),\n",
       " Row(film_id='173'),\n",
       " Row(film_id='81'),\n",
       " Row(film_id='52'),\n",
       " Row(film_id='581'),\n",
       " Row(film_id='1120'),\n",
       " Row(film_id='519'),\n",
       " Row(film_id='501'),\n",
       " Row(film_id='347'),\n",
       " Row(film_id='855'),\n",
       " Row(film_id='97'),\n",
       " Row(film_id='521'),\n",
       " Row(film_id='526'),\n",
       " Row(film_id='303'),\n",
       " Row(film_id='746'),\n",
       " Row(film_id='144'),\n",
       " Row(film_id='1184'),\n",
       " Row(film_id='445'),\n",
       " Row(film_id='250'),\n",
       " Row(film_id='844'),\n",
       " Row(film_id='1226'),\n",
       " Row(film_id='655'),\n",
       " Row(film_id='557'),\n",
       " Row(film_id='418'),\n",
       " Row(film_id='65'),\n",
       " Row(film_id='433'),\n",
       " Row(film_id='960'),\n",
       " Row(film_id='467'),\n",
       " Row(film_id='133'),\n",
       " Row(film_id='709'),\n",
       " Row(film_id='1010'),\n",
       " Row(film_id='558'),\n",
       " Row(film_id='955'),\n",
       " Row(film_id='686'),\n",
       " Row(film_id='234'),\n",
       " Row(film_id='346'),\n",
       " Row(film_id='1183'),\n",
       " Row(film_id='639'),\n",
       " Row(film_id='269'),\n",
       " Row(film_id='86'),\n",
       " Row(film_id='740'),\n",
       " Row(film_id='1070'),\n",
       " Row(film_id='502'),\n",
       " Row(film_id='736'),\n",
       " Row(film_id='79'),\n",
       " Row(film_id='462'),\n",
       " Row(film_id='116'),\n",
       " Row(film_id='847'),\n",
       " Row(film_id='1012'),\n",
       " Row(film_id='806'),\n",
       " Row(film_id='534'),\n",
       " Row(film_id='273'),\n",
       " Row(film_id='423'),\n",
       " Row(film_id='1333'),\n",
       " Row(film_id='995'),\n",
       " Row(film_id='594'),\n",
       " Row(film_id='1081'),\n",
       " Row(film_id='465'),\n",
       " Row(film_id='602'),\n",
       " Row(film_id='735'),\n",
       " Row(film_id='1035'),\n",
       " Row(film_id='1069'),\n",
       " Row(film_id='642'),\n",
       " Row(film_id='496'),\n",
       " Row(film_id='607'),\n",
       " Row(film_id='421'),\n",
       " Row(film_id='836'),\n",
       " Row(film_id='612'),\n",
       " Row(film_id='618'),\n",
       " Row(film_id='1121'),\n",
       " Row(film_id='7'),\n",
       " Row(film_id='28'),\n",
       " Row(film_id='91'),\n",
       " Row(film_id='160'),\n",
       " Row(film_id='228'),\n",
       " Row(film_id='188'),\n",
       " Row(film_id='961'),\n",
       " Row(film_id='614'),\n",
       " Row(film_id='212'),\n",
       " Row(film_id='1113'),\n",
       " Row(film_id='887'),\n",
       " Row(film_id='69'),\n",
       " Row(film_id='429'),\n",
       " Row(film_id='707'),\n",
       " Row(film_id='713'),\n",
       " Row(film_id='13'),\n",
       " Row(film_id='381'),\n",
       " Row(film_id='1111'),\n",
       " Row(film_id='181'),\n",
       " Row(film_id='1009'),\n",
       " Row(film_id='58'),\n",
       " Row(film_id='466'),\n",
       " Row(film_id='195'),\n",
       " Row(film_id='298'),\n",
       " Row(film_id='965'),\n",
       " Row(film_id='1068'),\n",
       " Row(film_id='486'),\n",
       " Row(film_id='1'),\n",
       " Row(film_id='673'),\n",
       " Row(film_id='436'),\n",
       " Row(film_id='162'),\n",
       " Row(film_id='244'),\n",
       " Row(film_id='1101'),\n",
       " Row(film_id='307'),\n",
       " Row(film_id='490'),\n",
       " Row(film_id='956'),\n",
       " Row(film_id='1097'),\n",
       " Row(film_id='731'),\n",
       " Row(film_id='664'),\n",
       " Row(film_id='510'),\n",
       " Row(film_id='1623'),\n",
       " Row(film_id='344'),\n",
       " Row(film_id='1356'),\n",
       " Row(film_id='533'),\n",
       " Row(film_id='350'),\n",
       " Row(film_id='752'),\n",
       " Row(film_id='55'),\n",
       " Row(film_id='287'),\n",
       " Row(film_id='979'),\n",
       " Row(film_id='196'),\n",
       " Row(film_id='1065'),\n",
       " Row(film_id='544'),\n",
       " Row(film_id='283'),\n",
       " Row(film_id='236'),\n",
       " Row(film_id='921'),\n",
       " Row(film_id='922'),\n",
       " Row(film_id='4'),\n",
       " Row(film_id='1187'),\n",
       " Row(film_id='128'),\n",
       " Row(film_id='22'),\n",
       " Row(film_id='708'),\n",
       " Row(film_id='30'),\n",
       " Row(film_id='419'),\n",
       " Row(film_id='286'),\n",
       " Row(film_id='741'),\n",
       " Row(film_id='780'),\n",
       " Row(film_id='186'),\n",
       " Row(film_id='616'),\n",
       " Row(film_id='835'),\n",
       " Row(film_id='1017'),\n",
       " Row(film_id='1445'),\n",
       " Row(film_id='714'),\n",
       " Row(film_id='459'),\n",
       " Row(film_id='970'),\n",
       " Row(film_id='874'),\n",
       " Row(film_id='964'),\n",
       " Row(film_id='107'),\n",
       " Row(film_id='609'),\n",
       " Row(film_id='633'),\n",
       " Row(film_id='733'),\n",
       " Row(film_id='837'),\n",
       " Row(film_id='1084'),\n",
       " Row(film_id='1245'),\n",
       " Row(film_id='896'),\n",
       " Row(film_id='337'),\n",
       " Row(film_id='311'),\n",
       " Row(film_id='848'),\n",
       " Row(film_id='972'),\n",
       " Row(film_id='937'),\n",
       " Row(film_id='942'),\n",
       " Row(film_id='503'),\n",
       " Row(film_id='470'),\n",
       " Row(film_id='543'),\n",
       " Row(film_id='463'),\n",
       " Row(film_id='770'),\n",
       " Row(film_id='1222'),\n",
       " Row(film_id='1204'),\n",
       " Row(film_id='1085'),\n",
       " Row(film_id='747'),\n",
       " Row(film_id='936'),\n",
       " Row(film_id='378'),\n",
       " Row(film_id='727'),\n",
       " Row(film_id='1109'),\n",
       " Row(film_id='1098'),\n",
       " Row(film_id='608'),\n",
       " Row(film_id='304'),\n",
       " Row(film_id='143'),\n",
       " Row(film_id='126'),\n",
       " Row(film_id='649'),\n",
       " Row(film_id='202'),\n",
       " Row(film_id='1404'),\n",
       " Row(film_id='396'),\n",
       " Row(film_id='703'),\n",
       " Row(film_id='204'),\n",
       " Row(film_id='382'),\n",
       " Row(film_id='334'),\n",
       " Row(film_id='980'),\n",
       " Row(film_id='333'),\n",
       " Row(film_id='461'),\n",
       " Row(film_id='248'),\n",
       " Row(film_id='434'),\n",
       " Row(film_id='762'),\n",
       " Row(film_id='959'),\n",
       " Row(film_id='164'),\n",
       " Row(film_id='1045'),\n",
       " Row(film_id='308'),\n",
       " Row(film_id='163'),\n",
       " Row(film_id='724'),\n",
       " Row(film_id='149'),\n",
       " Row(film_id='952'),\n",
       " Row(film_id='206'),\n",
       " Row(film_id='356'),\n",
       " Row(film_id='410'),\n",
       " Row(film_id='1011'),\n",
       " Row(film_id='237'),\n",
       " Row(film_id='786'),\n",
       " Row(film_id='536'),\n",
       " Row(film_id='730'),\n",
       " Row(film_id='329'),\n",
       " Row(film_id='945'),\n",
       " Row(film_id='702'),\n",
       " Row(film_id='833'),\n",
       " Row(film_id='489'),\n",
       " Row(film_id='625'),\n",
       " Row(film_id='1526'),\n",
       " Row(film_id='74'),\n",
       " Row(film_id='319'),\n",
       " Row(film_id='1067'),\n",
       " Row(film_id='447'),\n",
       " Row(film_id='444'),\n",
       " Row(film_id='1438'),\n",
       " Row(film_id='1008'),\n",
       " Row(film_id='1132'),\n",
       " Row(film_id='1050'),\n",
       " Row(film_id='588'),\n",
       " Row(film_id='637'),\n",
       " Row(film_id='584'),\n",
       " Row(film_id='843'),\n",
       " Row(film_id='998'),\n",
       " Row(film_id='219'),\n",
       " Row(film_id='975'),\n",
       " Row(film_id='1311'),\n",
       " Row(film_id='471'),\n",
       " Row(film_id='1475'),\n",
       " Row(film_id='958'),\n",
       " Row(film_id='82'),\n",
       " Row(film_id='591'),\n",
       " Row(film_id='141'),\n",
       " Row(film_id='216'),\n",
       " Row(film_id='214'),\n",
       " Row(film_id='331'),\n",
       " Row(film_id='1497'),\n",
       " Row(film_id='1375'),\n",
       " Row(film_id='1015'),\n",
       " Row(film_id='460'),\n",
       " Row(film_id='379'),\n",
       " Row(film_id='165'),\n",
       " Row(film_id='70'),\n",
       " Row(film_id='516'),\n",
       " Row(film_id='184'),\n",
       " Row(film_id='31'),\n",
       " Row(film_id='636'),\n",
       " Row(film_id='1167'),\n",
       " Row(film_id='949'),\n",
       " Row(film_id='1014'),\n",
       " Row(film_id='1211'),\n",
       " Row(film_id='953'),\n",
       " Row(film_id='39'),\n",
       " Row(film_id='265'),\n",
       " Row(film_id='744'),\n",
       " Row(film_id='675'),\n",
       " Row(film_id='96'),\n",
       " Row(film_id='728'),\n",
       " Row(film_id='732'),\n",
       " Row(film_id='367'),\n",
       " Row(film_id='324'),\n",
       " Row(film_id='210'),\n",
       " Row(film_id='794'),\n",
       " Row(film_id='321'),\n",
       " Row(film_id='371'),\n",
       " Row(film_id='249'),\n",
       " Row(film_id='270'),\n",
       " Row(film_id='864'),\n",
       " Row(film_id='1401'),\n",
       " Row(film_id='549'),\n",
       " Row(film_id='672'),\n",
       " Row(film_id='684'),\n",
       " Row(film_id='109'),\n",
       " Row(film_id='692'),\n",
       " Row(film_id='288'),\n",
       " Row(film_id='993'),\n",
       " Row(film_id='690'),\n",
       " Row(film_id='310'),\n",
       " Row(film_id='403'),\n",
       " Row(film_id='51'),\n",
       " Row(film_id='1153'),\n",
       " Row(film_id='239'),\n",
       " Row(film_id='327'),\n",
       " Row(film_id='697'),\n",
       " Row(film_id='954'),\n",
       " Row(film_id='53'),\n",
       " Row(film_id='842'),\n",
       " Row(film_id='15'),\n",
       " Row(film_id='1259'),\n",
       " Row(film_id='880'),\n",
       " Row(film_id='1312'),\n",
       " Row(film_id='1094'),\n",
       " Row(film_id='623'),\n",
       " Row(film_id='76'),\n",
       " Row(film_id='1042'),\n",
       " Row(film_id='390'),\n",
       " Row(film_id='1335'),\n",
       " Row(film_id='799'),\n",
       " Row(film_id='757'),\n",
       " Row(film_id='1677'),\n",
       " Row(film_id='583'),\n",
       " Row(film_id='704'),\n",
       " Row(film_id='1048'),\n",
       " Row(film_id='1244'),\n",
       " Row(film_id='846'),\n",
       " Row(film_id='805'),\n",
       " Row(film_id='458'),\n",
       " Row(film_id='217'),\n",
       " Row(film_id='115'),\n",
       " Row(film_id='841'),\n",
       " Row(film_id='1018'),\n",
       " Row(film_id='312'),\n",
       " Row(film_id='17'),\n",
       " Row(film_id='1207'),\n",
       " Row(film_id='1212'),\n",
       " Row(film_id='587'),\n",
       " Row(film_id='44'),\n",
       " Row(film_id='241'),\n",
       " Row(film_id='886'),\n",
       " Row(film_id='568'),\n",
       " Row(film_id='1168'),\n",
       " Row(film_id='698'),\n",
       " Row(film_id='1129'),\n",
       " Row(film_id='25'),\n",
       " Row(film_id='1082'),\n",
       " Row(film_id='37'),\n",
       " Row(film_id='33'),\n",
       " Row(film_id='1208'),\n",
       " Row(film_id='628'),\n",
       " Row(film_id='20'),\n",
       " Row(film_id='520'),\n",
       " Row(film_id='431'),\n",
       " Row(film_id='772'),\n",
       " Row(film_id='330'),\n",
       " Row(film_id='111'),\n",
       " Row(film_id='240'),\n",
       " Row(film_id='800'),\n",
       " Row(film_id='43'),\n",
       " Row(film_id='1044'),\n",
       " Row(film_id='24'),\n",
       " Row(film_id='1149'),\n",
       " Row(film_id='658'),\n",
       " Row(film_id='473'),\n",
       " Row(film_id='385'),\n",
       " Row(film_id='95'),\n",
       " Row(film_id='943'),\n",
       " Row(film_id='716'),\n",
       " Row(film_id='26'),\n",
       " Row(film_id='68'),\n",
       " Row(film_id='386'),\n",
       " Row(film_id='230'),\n",
       " Row(film_id='1264'),\n",
       " Row(film_id='295'),\n",
       " Row(film_id='477'),\n",
       " Row(film_id='1284'),\n",
       " Row(film_id='282'),\n",
       " Row(film_id='73'),\n",
       " Row(film_id='49'),\n",
       " Row(film_id='147'),\n",
       " Row(film_id='824'),\n",
       " Row(film_id='751'),\n",
       " Row(film_id='140'),\n",
       " Row(film_id='1510'),\n",
       " Row(film_id='1303'),\n",
       " Row(film_id='1232'),\n",
       " Row(film_id='867'),\n",
       " Row(film_id='1511'),\n",
       " Row(film_id='1118'),\n",
       " Row(film_id='872'),\n",
       " Row(film_id='863'),\n",
       " Row(film_id='1682'),\n",
       " Row(film_id='1268'),\n",
       " Row(film_id='1597'),\n",
       " Row(film_id='255'),\n",
       " Row(film_id='449'),\n",
       " Row(film_id='1267'),\n",
       " Row(film_id='676'),\n",
       " Row(film_id='1221'),\n",
       " Row(film_id='580'),\n",
       " Row(film_id='742'),\n",
       " Row(film_id='54'),\n",
       " Row(film_id='561'),\n",
       " Row(film_id='924'),\n",
       " Row(film_id='617'),\n",
       " Row(film_id='1171'),\n",
       " Row(film_id='277'),\n",
       " Row(film_id='553'),\n",
       " Row(film_id='235'),\n",
       " Row(film_id='399'),\n",
       " Row(film_id='218'),\n",
       " Row(film_id='566'),\n",
       " Row(film_id='88'),\n",
       " Row(film_id='646'),\n",
       " Row(film_id='72'),\n",
       " Row(film_id='448'),\n",
       " Row(film_id='1006'),\n",
       " Row(film_id='274'),\n",
       " Row(film_id='1093'),\n",
       " Row(film_id='1296'),\n",
       " Row(film_id='556'),\n",
       " Row(film_id='1053'),\n",
       " Row(film_id='1000'),\n",
       " Row(film_id='1291'),\n",
       " Row(film_id='394'),\n",
       " Row(film_id='1181'),\n",
       " Row(film_id='1423'),\n",
       " Row(film_id='1151'),\n",
       " Row(film_id='1002'),\n",
       " Row(film_id='660'),\n",
       " Row(film_id='222'),\n",
       " Row(film_id='405'),\n",
       " Row(film_id='257'),\n",
       " Row(film_id='785'),\n",
       " Row(film_id='90'),\n",
       " Row(film_id='950'),\n",
       " Row(film_id='1197'),\n",
       " Row(film_id='696'),\n",
       " Row(film_id='763'),\n",
       " Row(film_id='271'),\n",
       " Row(film_id='729'),\n",
       " Row(film_id='41'),\n",
       " Row(film_id='117'),\n",
       " Row(film_id='392'),\n",
       " Row(film_id='1139'),\n",
       " Row(film_id='764'),\n",
       " Row(film_id='969'),\n",
       " Row(film_id='130'),\n",
       " Row(film_id='790'),\n",
       " Row(film_id='1059'),\n",
       " Row(film_id='737'),\n",
       " Row(film_id='281'),\n",
       " Row(film_id='159'),\n",
       " Row(film_id='122'),\n",
       " Row(film_id='738'),\n",
       " Row(film_id='939'),\n",
       " Row(film_id='85'),\n",
       " Row(film_id='289'),\n",
       " Row(film_id='815'),\n",
       " Row(film_id='1289'),\n",
       " Row(film_id='468'),\n",
       " Row(film_id='845'),\n",
       " Row(film_id='781'),\n",
       " Row(film_id='232'),\n",
       " Row(film_id='710'),\n",
       " Row(film_id='875'),\n",
       " Row(film_id='570'),\n",
       " Row(film_id='354'),\n",
       " Row(film_id='5'),\n",
       " Row(film_id='6'),\n",
       " Row(film_id='291'),\n",
       " Row(film_id='712'),\n",
       " Row(film_id='108'),\n",
       " Row(film_id='866'),\n",
       " Row(film_id='167'),\n",
       " Row(film_id='1114'),\n",
       " Row(film_id='1019'),\n",
       " Row(film_id='2'),\n",
       " Row(film_id='985'),\n",
       " Row(film_id='559'),\n",
       " Row(film_id='233'),\n",
       " Row(film_id='1016'),\n",
       " Row(film_id='229'),\n",
       " Row(film_id='3'),\n",
       " Row(film_id='811'),\n",
       " Row(film_id='220'),\n",
       " Row(film_id='279'),\n",
       " Row(film_id='125'),\n",
       " Row(film_id='402'),\n",
       " Row(film_id='873'),\n",
       " Row(film_id='411'),\n",
       " Row(film_id='101'),\n",
       " Row(film_id='1071'),\n",
       " Row(film_id='849'),\n",
       " Row(film_id='596'),\n",
       " Row(film_id='1157'),\n",
       " Row(film_id='363'),\n",
       " Row(film_id='1041'),\n",
       " Row(film_id='765'),\n",
       " Row(film_id='1411'),\n",
       " Row(film_id='787'),\n",
       " Row(film_id='879'),\n",
       " Row(film_id='326'),\n",
       " Row(film_id='366'),\n",
       " Row(film_id='455'),\n",
       " Row(film_id='231'),\n",
       " Row(film_id='284'),\n",
       " Row(film_id='376'),\n",
       " Row(film_id='662'),\n",
       " Row(film_id='761'),\n",
       " Row(film_id='674'),\n",
       " Row(film_id='878'),\n",
       " Row(film_id='1076'),\n",
       " Row(film_id='904'),\n",
       " Row(film_id='1066'),\n",
       " Row(film_id='1075'),\n",
       " Row(film_id='1083'),\n",
       " Row(film_id='629'),\n",
       " Row(film_id='895'),\n",
       " Row(film_id='27'),\n",
       " Row(film_id='946'),\n",
       " Row(film_id='80'),\n",
       " Row(film_id='105'),\n",
       " Row(film_id='755'),\n",
       " Row(film_id='928'),\n",
       " Row(film_id='332'),\n",
       " Row(film_id='679'),\n",
       " Row(film_id='719'),\n",
       " Row(film_id='818'),\n",
       " Row(film_id='401'),\n",
       " Row(film_id='630'),\n",
       " Row(film_id='67'),\n",
       " Row(film_id='364'),\n",
       " Row(film_id='226'),\n",
       " Row(film_id='575'),\n",
       " Row(film_id='123'),\n",
       " Row(film_id='278'),\n",
       " Row(film_id='721'),\n",
       " Row(film_id='1119'),\n",
       " Row(film_id='831'),\n",
       " Row(film_id='722'),\n",
       " Row(film_id='393'),\n",
       " Row(film_id='620'),\n",
       " Row(film_id='121'),\n",
       " Row(film_id='294'),\n",
       " Row(film_id='451'),\n",
       " Row(film_id='925'),\n",
       " Row(film_id='1110'),\n",
       " Row(film_id='825'),\n",
       " Row(film_id='682'),\n",
       " Row(film_id='739'),\n",
       " Row(film_id='290'),\n",
       " Row(film_id='292'),\n",
       " Row(film_id='78'),\n",
       " Row(film_id='77'),\n",
       " Row(film_id='161'),\n",
       " Row(film_id='1377'),\n",
       " Row(film_id='1275'),\n",
       " Row(film_id='754'),\n",
       " Row(film_id='339'),\n",
       " Row(film_id='823'),\n",
       " Row(film_id='774'),\n",
       " Row(film_id='158'),\n",
       " Row(film_id='619'),\n",
       " Row(film_id='94'),\n",
       " Row(film_id='106'),\n",
       " Row(film_id='417'),\n",
       " Row(film_id='1166'),\n",
       " Row(film_id='139'),\n",
       " Row(film_id='665'),\n",
       " Row(film_id='225'),\n",
       " Row(film_id='328'),\n",
       " Row(film_id='1160'),\n",
       " Row(film_id='685'),\n",
       " Row(film_id='552'),\n",
       " Row(film_id='569'),\n",
       " Row(film_id='495'),\n",
       " Row(film_id='966'),\n",
       " Row(film_id='749'),\n",
       " Row(film_id='745'),\n",
       " Row(film_id='753'),\n",
       " Row(film_id='1400'),\n",
       " Row(film_id='990'),\n",
       " Row(film_id='933'),\n",
       " Row(film_id='66'),\n",
       " Row(film_id='577'),\n",
       " Row(film_id='1224'),\n",
       " Row(film_id='840'),\n",
       " Row(film_id='782'),\n",
       " Row(film_id='572'),\n",
       " Row(film_id='689'),\n",
       " Row(film_id='535'),\n",
       " Row(film_id='1220'),\n",
       " Row(film_id='1154'),\n",
       " Row(film_id='252'),\n",
       " Row(film_id='1135'),\n",
       " Row(film_id='300'),\n",
       " Row(film_id='550'),\n",
       " Row(film_id='695'),\n",
       " Row(film_id='342'),\n",
       " Row(film_id='301'),\n",
       " Row(film_id='627'),\n",
       " Row(film_id='622'),\n",
       " Row(film_id='573'),\n",
       " Row(film_id='1046'),\n",
       " Row(film_id='554'),\n",
       " Row(film_id='881'),\n",
       " Row(film_id='450'),\n",
       " Row(film_id='986'),\n",
       " Row(film_id='63'),\n",
       " Row(film_id='406'),\n",
       " Row(film_id='723'),\n",
       " Row(film_id='299'),\n",
       " Row(film_id='1210'),\n",
       " Row(film_id='380'),\n",
       " Row(film_id='1028'),\n",
       " Row(film_id='1112'),\n",
       " Row(film_id='1117'),\n",
       " Row(film_id='1107'),\n",
       " Row(film_id='412'),\n",
       " Row(film_id='415'),\n",
       " Row(film_id='1301'),\n",
       " Row(film_id='802'),\n",
       " Row(film_id='1159'),\n",
       " Row(film_id='325'),\n",
       " Row(film_id='1479'),\n",
       " Row(film_id='1091'),\n",
       " Row(film_id='1281'),\n",
       " Row(film_id='1036'),\n",
       " Row(film_id='1248'),\n",
       " Row(film_id='542'),\n",
       " Row(film_id='1029'),\n",
       " Row(film_id='145'),\n",
       " Row(film_id='16'),\n",
       " Row(film_id='1421'),\n",
       " Row(film_id='1161'),\n",
       " Row(film_id='941'),\n",
       " Row(film_id='1057'),\n",
       " Row(film_id='227'),\n",
       " Row(film_id='264'),\n",
       " Row(film_id='576'),\n",
       " Row(film_id='820'),\n",
       " Row(film_id='700'),\n",
       " Row(film_id='1205'),\n",
       " Row(film_id='989'),\n",
       " Row(film_id='967'),\n",
       " Row(film_id='1456'),\n",
       " Row(film_id='1631'),\n",
       " Row(film_id='717'),\n",
       " Row(film_id='245'),\n",
       " Row(film_id='384'),\n",
       " Row(film_id='260'),\n",
       " Row(film_id='571'),\n",
       " Row(film_id='546'),\n",
       " Row(film_id='725'),\n",
       " Row(film_id='1163'),\n",
       " Row(film_id='670'),\n",
       " Row(film_id='734'),\n",
       " Row(film_id='118'),\n",
       " Row(film_id='1170'),\n",
       " Row(film_id='756'),\n",
       " Row(film_id='977'),\n",
       " Row(film_id='1145'),\n",
       " Row(film_id='929'),\n",
       " Row(film_id='1074'),\n",
       " Row(film_id='876'),\n",
       " Row(film_id='1315'),\n",
       " Row(film_id='934'),\n",
       " Row(film_id='1095'),\n",
       " Row(film_id='944'),\n",
       " Row(film_id='595'),\n",
       " Row(film_id='472'),\n",
       " Row(film_id='343'),\n",
       " Row(film_id='38'),\n",
       " Row(film_id='810'),\n",
       " Row(film_id='1090'),\n",
       " Row(film_id='62'),\n",
       " Row(film_id='1188'),\n",
       " Row(film_id='456'),\n",
       " Row(film_id='748'),\n",
       " Row(film_id='476'),\n",
       " Row(film_id='948'),\n",
       " Row(film_id='997'),\n",
       " Row(film_id='1086'),\n",
       " Row(film_id='1283'),\n",
       " Row(film_id='365'),\n",
       " Row(film_id='1061'),\n",
       " Row(film_id='1478'),\n",
       " Row(film_id='40'),\n",
       " Row(film_id='110'),\n",
       " Row(film_id='743'),\n",
       " Row(film_id='974'),\n",
       " Row(film_id='1213'),\n",
       " Row(film_id='1033'),\n",
       " Row(film_id='1214'),\n",
       " Row(film_id='1225'),\n",
       " Row(film_id='926'),\n",
       " Row(film_id='280'),\n",
       " Row(film_id='102'),\n",
       " Row(film_id='155'),\n",
       " Row(film_id='567'),\n",
       " Row(film_id='829'),\n",
       " Row(film_id='578'),\n",
       " Row(film_id='1049'),\n",
       " Row(film_id='551'),\n",
       " Row(film_id='579'),\n",
       " Row(film_id='1037'),\n",
       " Row(film_id='452'),\n",
       " Row(film_id='940'),\n",
       " Row(film_id='441'),\n",
       " Row(film_id='801'),\n",
       " Row(film_id='398'),\n",
       " Row(film_id='1270'),\n",
       " Row(film_id='720'),\n",
       " Row(film_id='586'),\n",
       " Row(film_id='808'),\n",
       " Row(film_id='1182'),\n",
       " Row(film_id='1426'),\n",
       " Row(film_id='869'),\n",
       " Row(film_id='1088'),\n",
       " Row(film_id='1273'),\n",
       " Row(film_id='1178'),\n",
       " Row(film_id='1206'),\n",
       " Row(film_id='259'),\n",
       " Row(film_id='1444'),\n",
       " Row(film_id='142'),\n",
       " Row(film_id='369'),\n",
       " Row(film_id='771'),\n",
       " Row(film_id='541'),\n",
       " Row(film_id='597'),\n",
       " Row(film_id='877'),\n",
       " Row(film_id='1258'),\n",
       " Row(film_id='1058'),\n",
       " Row(film_id='976'),\n",
       " Row(film_id='768'),\n",
       " Row(film_id='1415'),\n",
       " Row(film_id='795'),\n",
       " Row(film_id='791'),\n",
       " Row(film_id='1001'),\n",
       " Row(film_id='148'),\n",
       " Row(film_id='409'),\n",
       " Row(film_id='426'),\n",
       " Row(film_id='29'),\n",
       " ...]"
      ]
     },
     "execution_count": 563,
     "metadata": {},
     "output_type": "execute_result"
    }
   ],
   "source": [
    "spark.sql('SELECT film_id FROM prt3 ' +\n",
    "          ' WHERE film_id IN (SELECT DISTINCT(film_id) FROM ratings WHERE user_id != 94)' + \n",
    "          ' ORDER BY res_ DESC').collect()"
   ]
  },
  {
   "cell_type": "code",
   "execution_count": null,
   "metadata": {
    "collapsed": true
   },
   "outputs": [],
   "source": []
  },
  {
   "cell_type": "code",
   "execution_count": null,
   "metadata": {
    "collapsed": true
   },
   "outputs": [],
   "source": []
  },
  {
   "cell_type": "code",
   "execution_count": 564,
   "metadata": {
    "collapsed": true
   },
   "outputs": [],
   "source": [
    "result = {\n",
    "    'average_film_ratings' : 59.453, \n",
    "    'average_user_ratings' : 106.0445, \n",
    "    'completeness' : 0.063,\n",
    "    'pearson_neighbours' : [92, 303 , 115 , 49 , 645 , 747 ,457 ,537 ,135 ,933 ,643 ,\n",
    "                            292 ,339 ,389 ,591 ,880 ,343 ,\n",
    "                            269 ,595 ,592 ,560 ,773 ,624 ,916 ,854 ,249 ,267 ,293 ,360 ,\n",
    "                            323 ], \n",
    "    'pearson_top10' : [1367, 1529, 513, 1099, 1103, 1080, 493, 647, 320, 902] \n",
    "}   "
   ]
  },
  {
   "cell_type": "code",
   "execution_count": 565,
   "metadata": {
    "collapsed": true
   },
   "outputs": [],
   "source": [
    "import json\n",
    "with open('lab08.json', 'w') as file:\n",
    "    json.dump(result, file)"
   ]
  },
  {
   "cell_type": "code",
   "execution_count": null,
   "metadata": {
    "collapsed": true
   },
   "outputs": [],
   "source": []
  },
  {
   "cell_type": "code",
   "execution_count": null,
   "metadata": {
    "collapsed": true
   },
   "outputs": [],
   "source": []
  },
  {
   "cell_type": "code",
   "execution_count": null,
   "metadata": {
    "collapsed": true
   },
   "outputs": [],
   "source": []
  },
  {
   "cell_type": "code",
   "execution_count": null,
   "metadata": {
    "collapsed": true
   },
   "outputs": [],
   "source": []
  },
  {
   "cell_type": "code",
   "execution_count": null,
   "metadata": {
    "collapsed": true
   },
   "outputs": [],
   "source": []
  },
  {
   "cell_type": "code",
   "execution_count": null,
   "metadata": {
    "collapsed": true
   },
   "outputs": [],
   "source": []
  },
  {
   "cell_type": "code",
   "execution_count": null,
   "metadata": {
    "collapsed": true
   },
   "outputs": [],
   "source": []
  },
  {
   "cell_type": "code",
   "execution_count": null,
   "metadata": {
    "collapsed": true
   },
   "outputs": [],
   "source": []
  },
  {
   "cell_type": "code",
   "execution_count": null,
   "metadata": {
    "collapsed": true
   },
   "outputs": [],
   "source": []
  },
  {
   "cell_type": "code",
   "execution_count": null,
   "metadata": {
    "collapsed": true
   },
   "outputs": [],
   "source": []
  },
  {
   "cell_type": "code",
   "execution_count": 194,
   "metadata": {},
   "outputs": [
    {
     "data": {
      "text/plain": [
       "DataFrame[user_id: string, rating: string, film_id: string]"
      ]
     },
     "execution_count": 194,
     "metadata": {},
     "output_type": "execute_result"
    }
   ],
   "source": [
    "spark.sql('SELECT user_id, rating, film_id FROM ratings WHERE user_id = 94 ')"
   ]
  },
  {
   "cell_type": "code",
   "execution_count": 179,
   "metadata": {},
   "outputs": [
    {
     "data": {
      "text/plain": [
       "DataFrame[user_id: string, rating: string, film_id: string]"
      ]
     },
     "execution_count": 179,
     "metadata": {},
     "output_type": "execute_result"
    }
   ],
   "source": [
    "spark.sql('SELECT user_id, rating, film_id FROM ratings WHERE user_id = {}'.format('296'))"
   ]
  },
  {
   "cell_type": "code",
   "execution_count": 215,
   "metadata": {
    "collapsed": true
   },
   "outputs": [
    {
     "name": "stdout",
     "output_type": "stream",
     "text": [
      "+------+\n",
      "|rating|\n",
      "+------+\n",
      "|     5|\n",
      "|     5|\n",
      "|     4|\n",
      "|     4|\n",
      "|     4|\n",
      "|     5|\n",
      "|     5|\n",
      "|     4|\n",
      "|     5|\n",
      "|     4|\n",
      "|     2|\n",
      "|     5|\n",
      "|     4|\n",
      "|     5|\n",
      "|     5|\n",
      "|     5|\n",
      "|     4|\n",
      "|     5|\n",
      "|     4|\n",
      "|     5|\n",
      "+------+\n",
      "only showing top 20 rows\n",
      "\n"
     ]
    }
   ],
   "source": [
    "spark.sql('SELECT rating FROM ratings ' + \n",
    "          ' WHERE user_id = {} and film_id in (SELECT film_id FROM ratings WHERE user_id = 94)'.format('296')).show()"
   ]
  },
  {
   "cell_type": "code",
   "execution_count": 327,
   "metadata": {},
   "outputs": [
    {
     "name": "stdout",
     "output_type": "stream",
     "text": [
      "3.6818 3.6575\n"
     ]
    }
   ],
   "source": [
    "curr_users_mean_rating = spark.sql('SELECT users_mean_rating FROM user_user WHERE user_id = {}'.format('467')).take(1)[0].users_mean_rating\n",
    "my_users_mean_rating = spark.sql('SELECT users_mean_rating FROM user_user WHERE user_id = {}'.format('94')).take(1)[0].users_mean_rating\n",
    "print(curr_users_mean_rating, my_users_mean_rating)"
   ]
  },
  {
   "cell_type": "code",
   "execution_count": 285,
   "metadata": {},
   "outputs": [
    {
     "data": {
      "text/plain": [
       "76"
      ]
     },
     "execution_count": 285,
     "metadata": {},
     "output_type": "execute_result"
    }
   ],
   "source": [
    "spark.sql(\n",
    "'SELECT  T2.user_id, T1.rating as rating_94, T2.rating as rating_u, T1.film_id,' + \n",
    "' int(T1.rating) - {} as myR_,  int(T2.rating) - {} as uR_,'.format(my_users_mean_rating, curr_users_mean_rating) +\n",
    "' (int(T1.rating) - {}) * (int(T2.rating) - {}) as myR_POW_uR_,'.format(my_users_mean_rating, curr_users_mean_rating) +    \n",
    "' POW(int(T1.rating) - {}, 2) as myR_2,'.format(my_users_mean_rating) + \n",
    "' POW(int(T2.rating) - {}, 2) as uR_2'.format(curr_users_mean_rating) +    \n",
    "' FROM ' +\n",
    "'(SELECT user_id, rating, film_id FROM ratings WHERE user_id = 94) T1, ' +\n",
    "'(SELECT user_id, rating, film_id FROM ratings WHERE user_id = {}) T2 '.format('296') +\n",
    "' WHERE T1.film_id = T2.film_id'\n",
    ").count()\n"
   ]
  },
  {
   "cell_type": "code",
   "execution_count": 324,
   "metadata": {},
   "outputs": [
    {
     "data": {
      "text/plain": [
       "0.01659367754126844"
      ]
     },
     "execution_count": 324,
     "metadata": {},
     "output_type": "execute_result"
    }
   ],
   "source": [
    "spark.sql(\n",
    "'SELECT ' +\n",
    "#'    sum(myR_POW_uR_) as sum_myR_POW_uR_,'     +\n",
    "#'       CASE WHEN count(T3.user_id)/50 < 1 THEN count(T3.user_id)/50 ELSE 1 END as correction, ' +    \n",
    "'       (sum(myR_POW_uR_) / (sqrt(sum(myR_2)) * sqrt(sum(uR_2))))  * (CASE WHEN count(T3.user_id)/50 < 1 THEN count(T3.user_id)/50 ELSE 1 END) as corr_s_a_u, '    \n",
    "#'       sum(myR_2) as sum_myR_2, '                +\n",
    "#'       sum(uR_2) as sum_uR_2, '                  +\n",
    "#'       count(T3.user_id)/50 as count_del_50, '     +\n",
    "#'       sqrt(sum(myR_2)) as sqrt_sum_myR_2, '     +   \n",
    "#'       sqrt(sum(uR_2))  as sqrt_ssum_uR_2, '     + \n",
    "#'       sqrt(sum(myR_2)) * sqrt(sum(uR_2))  as Pow_sqrt, '  +\n",
    "'       CASE WHEN sum(myR_2) = 0 OR sum(uR_2) = 0 THEN 0 ELSE sum(myR_POW_uR_) / (sqrt(sum(myR_2)) * sqrt(sum(uR_2))) END as s_a_u ' +\n",
    "    ' FROM (' +\n",
    "' SELECT T2.user_id as user_id, T1.rating as rating_94, T2.rating as rating_u, T1.film_id,' + \n",
    "' int(T1.rating) - {} as myR_,  int(T2.rating) - {} as uR_,'.format(my_users_mean_rating, curr_users_mean_rating) +\n",
    "' (int(T1.rating) - {}) * (int(T2.rating) - {}) as myR_POW_uR_,'.format(my_users_mean_rating, curr_users_mean_rating) +    \n",
    "' POW(int(T1.rating) - {}, 2) as myR_2,'.format(my_users_mean_rating) + \n",
    "' POW(int(T2.rating) - {}, 2) as uR_2'.format(curr_users_mean_rating) +    \n",
    "' FROM ' +\n",
    "'(SELECT user_id, rating, film_id FROM ratings WHERE user_id = 94) T1, ' +\n",
    "'(SELECT user_id, rating, film_id FROM ratings WHERE user_id = {}) T2 '.format('467') +\n",
    "' WHERE T1.film_id = T2.film_id' +\n",
    "    ') T3 GROUP BY user_id'\n",
    "    \n",
    ").take(1)[0].corr_s_a_u\n",
    "\n",
    "\n",
    "\n",
    "\n",
    "\n",
    "\n",
    "\n",
    "\n"
   ]
  },
  {
   "cell_type": "code",
   "execution_count": null,
   "metadata": {
    "collapsed": true
   },
   "outputs": [],
   "source": []
  },
  {
   "cell_type": "code",
   "execution_count": null,
   "metadata": {
    "collapsed": true
   },
   "outputs": [],
   "source": []
  }
 ],
 "metadata": {
  "kernelspec": {
   "display_name": "Python 3",
   "language": "python",
   "name": "python3"
  },
  "language_info": {
   "codemirror_mode": {
    "name": "ipython",
    "version": 3
   },
   "file_extension": ".py",
   "mimetype": "text/x-python",
   "name": "python",
   "nbconvert_exporter": "python",
   "pygments_lexer": "ipython3",
   "version": "3.6.2"
  }
 },
 "nbformat": 4,
 "nbformat_minor": 2
}

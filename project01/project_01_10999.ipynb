{
 "cells": [
  {
   "cell_type": "code",
   "execution_count": 81,
   "metadata": {
    "collapsed": true
   },
   "outputs": [],
   "source": [
    "import warnings\n",
    "warnings.simplefilter('ignore')"
   ]
  },
  {
   "cell_type": "code",
   "execution_count": 82,
   "metadata": {
    "collapsed": true
   },
   "outputs": [],
   "source": [
    "from urllib import request as req\n",
    "\n",
    "data_dir = '/Users/ssv/newprolab/project01'\n",
    "filename = 'gender_age_dataset.txt'\n",
    "file_path = '/'.join([data_dir, filename])\n",
    "url = 'http://data.newprolab.com/data-newprolab-com/project01/' + filename\n",
    "\n",
    "# req.urlretrieve(url, file_path)"
   ]
  },
  {
   "cell_type": "code",
   "execution_count": 197,
   "metadata": {
    "collapsed": true
   },
   "outputs": [],
   "source": [
    "import pandas as pd\n",
    "import json\n",
    "from urllib.parse import urlparse\n",
    "from datetime import datetime\n",
    "from sklearn import metrics\n",
    "from tqdm import tqdm_notebook\n",
    "from sklearn.metrics import classification_report\n",
    "from sklearn.ensemble import RandomForestClassifier"
   ]
  },
  {
   "cell_type": "code",
   "execution_count": 84,
   "metadata": {
    "collapsed": true
   },
   "outputs": [],
   "source": [
    "pd.set_option('display.max_columns', 200)\n",
    "pd.set_option('display.max_rows', 4000)"
   ]
  },
  {
   "cell_type": "code",
   "execution_count": 85,
   "metadata": {
    "collapsed": true
   },
   "outputs": [],
   "source": [
    "df = pd.read_csv(file_path, sep='\\t')"
   ]
  },
  {
   "cell_type": "markdown",
   "metadata": {
    "collapsed": true
   },
   "source": [
    "### Оцифровка значений пола и возраста"
   ]
  },
  {
   "cell_type": "code",
   "execution_count": 86,
   "metadata": {
    "collapsed": true
   },
   "outputs": [],
   "source": [
    "ages = {'18-24': 1, '25-34': 2, '35-44': 3, '45-54': 4, '>=55': 5}\n",
    "df[\"age\"] = df[\"age\"].apply(lambda x: ages.get(x, '-'))"
   ]
  },
  {
   "cell_type": "code",
   "execution_count": 87,
   "metadata": {
    "collapsed": true
   },
   "outputs": [],
   "source": [
    "genders = {'M': 1, 'F': 0}\n",
    "df[\"gender\"] = df[\"gender\"].apply(lambda x: genders.get(x, '-'))\n"
   ]
  },
  {
   "cell_type": "markdown",
   "metadata": {
    "collapsed": true
   },
   "source": [
    "### Формирование набора данных с ключевыми словами посещенных сайтов\n",
    "\n",
    "#### Загружаем из файлов типа df_med_keywords_0000_0999.pickle по мере поступления. Скрапинг сайтов идет очень медленно"
   ]
  },
  {
   "cell_type": "code",
   "execution_count": 88,
   "metadata": {
    "collapsed": true
   },
   "outputs": [],
   "source": [
    "import pickle"
   ]
  },
  {
   "cell_type": "code",
   "execution_count": 89,
   "metadata": {
    "collapsed": true
   },
   "outputs": [],
   "source": [
    "with open('data/keywords_999.pickle', 'rb') as file:\n",
    "    df_med_keywords_0000_0999 = pickle.load(file)"
   ]
  },
  {
   "cell_type": "code",
   "execution_count": 90,
   "metadata": {
    "collapsed": true
   },
   "outputs": [],
   "source": [
    "with open('data/keywords_2000_10999.pickle', 'rb') as file:\n",
    "    df_med_keywords_2000_10999 = pickle.load(file)"
   ]
  },
  {
   "cell_type": "code",
   "execution_count": 91,
   "metadata": {
    "collapsed": true
   },
   "outputs": [],
   "source": [
    "with open('data/df_med_keywords_non_age.pickle', 'rb') as file:\n",
    "    df_for_pred = pickle.load(file)"
   ]
  },
  {
   "cell_type": "markdown",
   "metadata": {},
   "source": [
    "#### Удаляем лишние столбцы в наборе данных после скрапинга"
   ]
  },
  {
   "cell_type": "code",
   "execution_count": 92,
   "metadata": {
    "collapsed": true
   },
   "outputs": [],
   "source": [
    "df_med_keywords_0000_0999 = df_med_keywords_0000_0999.drop('url_netloc', axis=1)"
   ]
  },
  {
   "cell_type": "code",
   "execution_count": 93,
   "metadata": {
    "collapsed": true
   },
   "outputs": [],
   "source": [
    "df_med_keywords_2000_10999 = df_med_keywords_2000_10999.drop('url_netloc', axis=1)"
   ]
  },
  {
   "cell_type": "code",
   "execution_count": 94,
   "metadata": {
    "collapsed": true
   },
   "outputs": [],
   "source": [
    "df_for_pred = df_for_pred.drop(['url_netloc', 'age'], axis=1)"
   ]
  },
  {
   "cell_type": "markdown",
   "metadata": {},
   "source": [
    "#### Соединяем загруженные таблицы"
   ]
  },
  {
   "cell_type": "code",
   "execution_count": 95,
   "metadata": {
    "collapsed": true
   },
   "outputs": [],
   "source": [
    "df_k = pd.merge(df_med_keywords_0000_0999, pd.merge(df_med_keywords_2000_10999, df_for_pred, how='left', on='uid'),\n",
    "              how='left', on='uid')"
   ]
  },
  {
   "cell_type": "markdown",
   "metadata": {},
   "source": [
    "#### Сводим ключевые слова в один столбец"
   ]
  },
  {
   "cell_type": "code",
   "execution_count": 96,
   "metadata": {},
   "outputs": [
    {
     "data": {
      "application/vnd.jupyter.widget-view+json": {
       "model_id": "720f61f8472640f2bdafaf34cfc8b05b",
       "version_major": 2,
       "version_minor": 0
      },
      "text/plain": [
       "A Jupyter Widget"
      ]
     },
     "metadata": {},
     "output_type": "display_data"
    },
    {
     "name": "stdout",
     "output_type": "stream",
     "text": [
      "\n"
     ]
    }
   ],
   "source": [
    "df['keywords'] = ''\n",
    "for index, row in tqdm_notebook(df_k.iterrows()):\n",
    "    if index < 1000:\n",
    "        df_k['raw_keywords'].loc[index] = df_k['raw_keywords'].iloc[index]\n",
    "    if index >= 2000 and index < 11000:\n",
    "        df_k['raw_keywords'].loc[index] = df_k['raw_keywords_x'].iloc[index]\n",
    "    if index > 36137:    \n",
    "        df_k['raw_keywords'].loc[index] = df_k['raw_keywords_y'].iloc[index]\n",
    "    "
   ]
  },
  {
   "cell_type": "markdown",
   "metadata": {},
   "source": [
    "#### Левое последовательное соединение таблиц по uid. Удаляем лишние столбцы после соединения "
   ]
  },
  {
   "cell_type": "code",
   "execution_count": 97,
   "metadata": {
    "collapsed": true
   },
   "outputs": [],
   "source": [
    "df_k = df_k.drop(['raw_keywords_x', 'raw_keywords_y'], axis=1)"
   ]
  },
  {
   "cell_type": "code",
   "execution_count": 98,
   "metadata": {
    "collapsed": true
   },
   "outputs": [],
   "source": [
    "df = pd.merge(df, df_k, how='left', on='uid')"
   ]
  },
  {
   "cell_type": "code",
   "execution_count": 99,
   "metadata": {
    "collapsed": true
   },
   "outputs": [],
   "source": [
    "df = df.drop(['user_json', 'keywords'], axis=1)"
   ]
  },
  {
   "cell_type": "markdown",
   "metadata": {},
   "source": [
    "####  В результате - имеем набор df['gender', 'age', 'uid', 'raw_keywords']. Ключевые слова посещенных сайтов заполнены для строк 0 - 999; 2000 - 10999 и таргет: 36138 - 41137. В заполненных строках есть пустые значения (массив длиной 0)"
   ]
  },
  {
   "cell_type": "code",
   "execution_count": null,
   "metadata": {
    "collapsed": true
   },
   "outputs": [],
   "source": []
  },
  {
   "cell_type": "markdown",
   "metadata": {},
   "source": [
    "1. Вытащим все ключевые слова для формирования массива стоп-слов\n",
    "2. Разобьем датасет на два фолда: для тренировки (0000 - 36137) и предсказания (36138 - 41137)\n",
    "3. Из фолдов удалим строки в которых нет ключевых слов сайтов\n",
    "4. Сохраняем таргеты и тренируем модель"
   ]
  },
  {
   "cell_type": "code",
   "execution_count": 100,
   "metadata": {
    "collapsed": true
   },
   "outputs": [],
   "source": [
    "raw_words = list(df['raw_keywords'].copy())"
   ]
  },
  {
   "cell_type": "code",
   "execution_count": 101,
   "metadata": {},
   "outputs": [
    {
     "data": {
      "application/vnd.jupyter.widget-view+json": {
       "model_id": "c59feccbbfff4f47847f2c1f9dda3241",
       "version_major": 2,
       "version_minor": 0
      },
      "text/plain": [
       "A Jupyter Widget"
      ]
     },
     "metadata": {},
     "output_type": "display_data"
    },
    {
     "name": "stdout",
     "output_type": "stream",
     "text": [
      "\n"
     ]
    }
   ],
   "source": [
    "for item in tqdm_notebook(reversed(raw_words)):\n",
    "    if len(item) == 0:\n",
    "        raw_words.remove(item)"
   ]
  },
  {
   "cell_type": "code",
   "execution_count": 102,
   "metadata": {
    "collapsed": true
   },
   "outputs": [],
   "source": [
    "import pymorphy2\n",
    "m = pymorphy2.MorphAnalyzer()"
   ]
  },
  {
   "cell_type": "code",
   "execution_count": 103,
   "metadata": {
    "collapsed": true
   },
   "outputs": [],
   "source": [
    "import re\n",
    "GROUPING_SPACE_REGEX = re.compile(r'([^\\w]|[+])', re.UNICODE)\n",
    "\n",
    "def simple_word_tokenize(text, _split=GROUPING_SPACE_REGEX.split):\n",
    "    return [t for t in _split(text.lower()) if t and not t.isspace()]"
   ]
  },
  {
   "cell_type": "code",
   "execution_count": 104,
   "metadata": {
    "collapsed": true
   },
   "outputs": [],
   "source": [
    "def token_r(text):\n",
    "    words = simple_word_tokenize(text)\n",
    "    return [m.parse(x)[0].normal_form for x in words if len(x) >= 4]"
   ]
  },
  {
   "cell_type": "code",
   "execution_count": 105,
   "metadata": {
    "collapsed": true
   },
   "outputs": [],
   "source": [
    "raw_words = [' '.join((x)) for x in raw_words]"
   ]
  },
  {
   "cell_type": "code",
   "execution_count": 106,
   "metadata": {},
   "outputs": [
    {
     "data": {
      "application/vnd.jupyter.widget-view+json": {
       "model_id": "c83badcd2c7447bbb1db3cb65e8e6c86",
       "version_major": 2,
       "version_minor": 0
      },
      "text/plain": [
       "A Jupyter Widget"
      ]
     },
     "metadata": {},
     "output_type": "display_data"
    },
    {
     "name": "stdout",
     "output_type": "stream",
     "text": [
      "\n"
     ]
    }
   ],
   "source": [
    "clear_words = [' '.join(token_r(x)) for x in tqdm_notebook(raw_words)]"
   ]
  },
  {
   "cell_type": "code",
   "execution_count": 107,
   "metadata": {
    "collapsed": true
   },
   "outputs": [],
   "source": [
    "# with open('data/10999_clear_words.pickle', 'wb') as file:\n",
    "#     pickle.dump(clear_words, file) \n",
    "    \n",
    "# with open('data/10999_clear_words.pickle', 'rb') as file:\n",
    "#     clear_words = pickle.load(file)"
   ]
  },
  {
   "cell_type": "code",
   "execution_count": 108,
   "metadata": {
    "collapsed": true
   },
   "outputs": [],
   "source": [
    "from sklearn.feature_extraction.text import CountVectorizer"
   ]
  },
  {
   "cell_type": "code",
   "execution_count": 109,
   "metadata": {
    "collapsed": true
   },
   "outputs": [],
   "source": [
    "cv = CountVectorizer()\n",
    "matrix = cv.fit_transform(clear_words)"
   ]
  },
  {
   "cell_type": "code",
   "execution_count": null,
   "metadata": {
    "collapsed": true
   },
   "outputs": [],
   "source": []
  },
  {
   "cell_type": "code",
   "execution_count": 121,
   "metadata": {
    "collapsed": true
   },
   "outputs": [],
   "source": [
    "stop_ww = sorted(cv.vocabulary_.items(), reverse=True)[:950] + sorted(cv.vocabulary_.items())[:1827]\n",
    "stop_w = [x[0] for x in stop_ww]"
   ]
  },
  {
   "cell_type": "code",
   "execution_count": 115,
   "metadata": {
    "collapsed": true
   },
   "outputs": [
    {
     "data": {
      "text/plain": [
       "[('abandon', 1827),\n",
       " ('abandoned', 1828),\n",
       " ('abandonware', 1829),\n",
       " ('abar', 1830),\n",
       " ('abart', 1831),\n",
       " ('abarth', 1832),\n",
       " ('abash', 1833),\n",
       " ('abashtube', 1834),\n",
       " ('abbey', 1835),\n",
       " ('abbigliamento', 1836),\n",
       " ('abborfiske', 1837),\n",
       " ('abbott', 1838),\n",
       " ('abbreviation', 1839),\n",
       " ('abbreviations', 1840),\n",
       " ('abbyy', 1841),\n",
       " ('abcnews', 1842),\n",
       " ('abdel', 1843),\n",
       " ('abenteuer', 1844),\n",
       " ('abercrombie', 1845),\n",
       " ('abhidharma', 1846),\n",
       " ('abiding', 1847),\n",
       " ('abielu', 1848),\n",
       " ('ability', 1849),\n",
       " ('abinor', 1850),\n",
       " ('abireg', 1851),\n",
       " ('abit', 1852),\n",
       " ('abkhazia', 1853),\n",
       " ('able', 1854),\n",
       " ('abloud', 1855),\n",
       " ('abloy', 1856),\n",
       " ('abnehmen', 1857),\n",
       " ('abonement', 1858),\n",
       " ('abonnement', 1859),\n",
       " ('abonnements', 1860),\n",
       " ('abonnieren', 1861),\n",
       " ('abordables', 1862),\n",
       " ('aborigines', 1863),\n",
       " ('abortion', 1864),\n",
       " ('about', 1865),\n",
       " ('aboutpartner', 1866),\n",
       " ('above', 1867),\n",
       " ('abramovich', 1868),\n",
       " ('abrechnung', 1869),\n",
       " ('abrechnungsoftware', 1870),\n",
       " ('abrechnungssoftware', 1871),\n",
       " ('abrechnungssystem', 1872),\n",
       " ('abril', 1873),\n",
       " ('abris', 1874),\n",
       " ('abroad', 1875),\n",
       " ('abron', 1876),\n",
       " ('abroy', 1877),\n",
       " ('abruzzo', 1878),\n",
       " ('absolute', 1879),\n",
       " ('absolutelly', 1880),\n",
       " ('absolutely', 1881),\n",
       " ('absolutesy', 1882),\n",
       " ('abstract', 1883),\n",
       " ('abstracts', 1884),\n",
       " ('abuba', 1885),\n",
       " ('abumatic', 1886),\n",
       " ('abuse', 1887),\n",
       " ('abused', 1888),\n",
       " ('abusing', 1889),\n",
       " ('abyss', 1890),\n",
       " ('ac_holding', 1891),\n",
       " ('academia', 1892),\n",
       " ('academic', 1893),\n",
       " ('academician', 1894),\n",
       " ('academies', 1895),\n",
       " ('academy', 1896),\n",
       " ('acadian', 1897),\n",
       " ('acado', 1898),\n",
       " ('acca', 1899),\n",
       " ('accelerate', 1900),\n",
       " ('acceleration', 1901),\n",
       " ('accelerator', 1902),\n",
       " ('accent', 1903),\n",
       " ('acceptance', 1904),\n",
       " ('accepted', 1905),\n",
       " ('accepting', 1906),\n",
       " ('acceso', 1907),\n",
       " ('access', 1908),\n",
       " ('accessed', 1909),\n",
       " ('accessibili', 1910),\n",
       " ('accessibility', 1911),\n",
       " ('accessible', 1912),\n",
       " ('accesso', 1913),\n",
       " ('accessoires', 1914),\n",
       " ('accessori', 1915),\n",
       " ('accessories', 1916),\n",
       " ('accessory', 1917),\n",
       " ('accident', 1918),\n",
       " ('accidental', 1919),\n",
       " ('accidents', 1920),\n",
       " ('accion', 1921),\n",
       " ('acción', 1922),\n",
       " ('acclaimed', 1923),\n",
       " ('accommodate', 1924),\n",
       " ('accommodation', 1925),\n",
       " ('accommodations', 1926),\n",
       " ('accomodations', 1927),\n",
       " ('accomplishments', 1928),\n",
       " ('accord', 1929),\n",
       " ('according', 1930),\n",
       " ('accords', 1931),\n",
       " ('account', 1932),\n",
       " ('accountancy', 1933),\n",
       " ('accountants', 1934),\n",
       " ('accounting', 1935),\n",
       " ('accounts', 1936),\n",
       " ('accra', 1937),\n",
       " ('accross', 1938),\n",
       " ('accu', 1939),\n",
       " ('accueil', 1940),\n",
       " ('accuracy', 1941),\n",
       " ('accurate', 1942),\n",
       " ('accurately', 1943),\n",
       " ('accurist', 1944),\n",
       " ('accuweather', 1945),\n",
       " ('acefuel', 1946),\n",
       " ('acent', 1947),\n",
       " ('acer', 1948),\n",
       " ('aces', 1949),\n",
       " ('achat', 1950),\n",
       " ('achetez', 1951),\n",
       " ('achieve', 1952),\n",
       " ('achievement', 1953),\n",
       " ('achievements', 1954),\n",
       " ('achilles', 1955),\n",
       " ('achtergrondmuziek', 1956),\n",
       " ('acid', 1957),\n",
       " ('acil', 1958),\n",
       " ('acim', 1959),\n",
       " ('acknowledge', 1960),\n",
       " ('acknowledged', 1961),\n",
       " ('acne', 1962),\n",
       " ('acnée', 1963),\n",
       " ('acoestisch', 1964),\n",
       " ('acommodation', 1965),\n",
       " ('acool', 1966),\n",
       " ('acoola', 1967),\n",
       " ('acoolgames', 1968),\n",
       " ('acorp', 1969),\n",
       " ('acoustic', 1970),\n",
       " ('acoustics', 1971),\n",
       " ('acqua', 1972),\n",
       " ('acquia', 1973),\n",
       " ('acquire', 1974),\n",
       " ('acquiring', 1975),\n",
       " ('acquisition', 1976),\n",
       " ('acquisitions', 1977),\n",
       " ('acquista', 1978),\n",
       " ('acra', 1979),\n",
       " ('acre', 1980),\n",
       " ('acres', 1981),\n",
       " ('acrobat', 1982),\n",
       " ('acronis', 1983),\n",
       " ('acronym', 1984),\n",
       " ('acronyms', 1985),\n",
       " ('across', 1986),\n",
       " ('acson', 1987),\n",
       " ('acte', 1988),\n",
       " ('actex', 1989),\n",
       " ('actez', 1990),\n",
       " ('actif', 1991),\n",
       " ('action', 1992),\n",
       " ('actionable', 1993),\n",
       " ('actions', 1994),\n",
       " ('actionscript', 1995),\n",
       " ('activate', 1996),\n",
       " ('activation', 1997),\n",
       " ('active', 1998),\n",
       " ('activedirectory', 1999),\n",
       " ('actively', 2000),\n",
       " ('activewear', 2001),\n",
       " ('activex', 2002),\n",
       " ('actividades', 2003),\n",
       " ('activities', 2004),\n",
       " ('activity', 2005),\n",
       " ('activitées', 2006),\n",
       " ('activités', 2007),\n",
       " ('actor', 2008),\n",
       " ('actores', 2009),\n",
       " ('actors', 2010),\n",
       " ('actress', 2011),\n",
       " ('actresses', 2012),\n",
       " ('actros', 2013),\n",
       " ('acts', 2014),\n",
       " ('actu', 2015),\n",
       " ('actual', 2016),\n",
       " ('actualidad', 2017),\n",
       " ('actualidade', 2018),\n",
       " ('actualite', 2019),\n",
       " ('actualité', 2020),\n",
       " ('actualités', 2021),\n",
       " ('actualizada', 2022),\n",
       " ('actually', 2023),\n",
       " ('actueel', 2024),\n",
       " ('actuele', 2025),\n",
       " ('actus', 2026),\n",
       " ('actyon', 2027),\n",
       " ('acura', 2028),\n",
       " ('acute', 2029),\n",
       " ('acuvue', 2030),\n",
       " ('ad131m', 2031),\n",
       " ('adact', 2032),\n",
       " ('adalet', 2033),\n",
       " ('adalya', 2034),\n",
       " ('adam', 2035),\n",
       " ('adamant', 2036),\n",
       " ('adamante', 2037),\n",
       " ('adamex', 2038),\n",
       " ('adani', 2039),\n",
       " ('adapt', 2040),\n",
       " ('adaptador', 2041),\n",
       " ('adaptations', 2042),\n",
       " ('adaptec', 2043),\n",
       " ('adapter', 2044),\n",
       " ('adapters', 2045),\n",
       " ('adapts', 2046),\n",
       " ('adas', 2047),\n",
       " ('adata', 2048),\n",
       " ('adatti', 2049),\n",
       " ('adcash', 2050),\n",
       " ('added', 2051),\n",
       " ('addict', 2052),\n",
       " ('addicted', 2053),\n",
       " ('addicting', 2054),\n",
       " ('addictinggames', 2055),\n",
       " ('addiction', 2056),\n",
       " ('addictive', 2057),\n",
       " ('adding', 2058),\n",
       " ('addition', 2059),\n",
       " ('additional', 2060),\n",
       " ('additionally', 2061),\n",
       " ('additions', 2062),\n",
       " ('addmap', 2063),\n",
       " ('addmarkers', 2064),\n",
       " ('addon', 2065),\n",
       " ('addons', 2066),\n",
       " ('address', 2067),\n",
       " ('addresses', 2068),\n",
       " ('adds', 2069),\n",
       " ('addsite', 2070),\n",
       " ('addurl', 2071),\n",
       " ('adele', 2072),\n",
       " ('adeli', 2073),\n",
       " ('además', 2074),\n",
       " ('adena', 2075),\n",
       " ('adexchange', 2076),\n",
       " ('adhd', 2077),\n",
       " ('adidas', 2078),\n",
       " ('adipiscing', 2079),\n",
       " ('adirondack', 2080),\n",
       " ('adjectif', 2081),\n",
       " ('adjusments', 2082),\n",
       " ('adjust', 2083),\n",
       " ('adli', 2084),\n",
       " ('admin', 2085),\n",
       " ('administracion', 2086),\n",
       " ('administration', 2087),\n",
       " ('administrative', 2088),\n",
       " ('administrators', 2089),\n",
       " ('administração', 2090),\n",
       " ('admins', 2091),\n",
       " ('admir', 2092),\n",
       " ('admiral', 2093),\n",
       " ('admirer', 2094),\n",
       " ('admissible', 2095),\n",
       " ('admission', 2096),\n",
       " ('adnan', 2097),\n",
       " ('adnetwork', 2098),\n",
       " ('adobe', 2099),\n",
       " ('adolescence', 2100),\n",
       " ('adolf', 2101),\n",
       " ('adora', 2102),\n",
       " ('adorable', 2103),\n",
       " ('adornamiento', 2104),\n",
       " ('adornamientos', 2105),\n",
       " ('adour', 2106),\n",
       " ('adquieren', 2107),\n",
       " ('adres', 2108),\n",
       " ('adresami', 2109),\n",
       " ('adrese', 2110),\n",
       " ('adresse', 2111),\n",
       " ('adressen', 2112),\n",
       " ('adresów', 2113),\n",
       " ('adrian', 2114),\n",
       " ('adriana', 2115),\n",
       " ('adriatica', 2116),\n",
       " ('adrien', 2117),\n",
       " ('ads12free', 2118),\n",
       " ('adsbygoogle', 2119),\n",
       " ('adsense', 2120),\n",
       " ('adsl', 2121),\n",
       " ('adswiki', 2122),\n",
       " ('adult', 2123),\n",
       " ('adultcomicsfan', 2124),\n",
       " ('adultdvd', 2125),\n",
       " ('adultdvds', 2126),\n",
       " ('adulte', 2127),\n",
       " ('adulter', 2128),\n",
       " ('adultrental', 2129),\n",
       " ('adults', 2130),\n",
       " ('advance', 2131),\n",
       " ('advanced', 2132),\n",
       " ('advancement', 2133),\n",
       " ('advantages', 2134),\n",
       " ('advcash', 2135),\n",
       " ('adventist', 2136),\n",
       " ('adventure', 2137),\n",
       " ('adventurer', 2138),\n",
       " ('adventures', 2139),\n",
       " ('adverbe', 2140),\n",
       " ('advertise', 2141),\n",
       " ('advertisement', 2142),\n",
       " ('advertiser', 2143),\n",
       " ('advertisers', 2144),\n",
       " ('advertising', 2145),\n",
       " ('advetime', 2146),\n",
       " ('advice', 2147),\n",
       " ('advices', 2148),\n",
       " ('advise', 2149),\n",
       " ('adviser', 2150),\n",
       " ('advisor', 2151),\n",
       " ('advisors', 2152),\n",
       " ('advisory', 2153),\n",
       " ('advmaker', 2154),\n",
       " ('advocacy', 2155),\n",
       " ('advocate', 2156),\n",
       " ('advokatmoskva', 2157),\n",
       " ('adware', 2158),\n",
       " ('adwcleaner', 2159),\n",
       " ('adwords', 2160),\n",
       " ('adyta', 2161),\n",
       " ('adyummy', 2162),\n",
       " ('aeb5002', 2163),\n",
       " ('aegis', 2164),\n",
       " ('aegypten', 2165),\n",
       " ('aenean', 2166),\n",
       " ('aerial', 2167),\n",
       " ('aerin', 2168),\n",
       " ('aerith', 2169),\n",
       " ('aero', 2170),\n",
       " ('aerodeck', 2171),\n",
       " ('aerography', 2172),\n",
       " ('aeronavics', 2173),\n",
       " ('aeropostale', 2174),\n",
       " ('aerospace', 2175),\n",
       " ('aerotwin', 2176),\n",
       " ('aerowatch', 2177),\n",
       " ('aesop', 2178),\n",
       " ('afaceri', 2179),\n",
       " ('afb0122', 2180),\n",
       " ('affaires', 2181),\n",
       " ('affairs', 2182),\n",
       " ('affect', 2183),\n",
       " ('affiliate', 2184),\n",
       " ('affinity', 2185),\n",
       " ('affitta', 2186),\n",
       " ('affittare', 2187),\n",
       " ('affitti', 2188),\n",
       " ('affitto', 2189),\n",
       " ('afforable', 2190),\n",
       " ('affordable', 2191),\n",
       " ('afganistán', 2192),\n",
       " ('afghan', 2193),\n",
       " ('afghanistan', 2194),\n",
       " ('aficio', 2195),\n",
       " ('afiliacyjny', 2196),\n",
       " ('afisha', 2197),\n",
       " ('afishakids', 2198),\n",
       " ('afm6981', 2199),\n",
       " ('afnor', 2200),\n",
       " ('aforex', 2201),\n",
       " ('afraid', 2202),\n",
       " ('africa', 2203),\n",
       " ('african', 2204),\n",
       " ('afrikaanse', 2205),\n",
       " ('after', 2206),\n",
       " ('aftermarket', 2207),\n",
       " ('afvclub', 2208),\n",
       " ('afynjv', 2209),\n",
       " ('afzal', 2210),\n",
       " ('against', 2211),\n",
       " ('agame', 2212),\n",
       " ('agatha', 2213),\n",
       " ('agdb', 2214),\n",
       " ('aged', 2215),\n",
       " ('agedlust', 2216),\n",
       " ('ageing', 2217),\n",
       " ('agence', 2218),\n",
       " ('agences', 2219),\n",
       " ('agencies', 2220),\n",
       " ('agency', 2221),\n",
       " ('agenda', 2222),\n",
       " ('agent', 2223),\n",
       " ('agentliyi', 2224),\n",
       " ('agents', 2225),\n",
       " ('agentuur', 2226),\n",
       " ('ages', 2227),\n",
       " ('ageyev', 2228),\n",
       " ('aggga', 2229),\n",
       " ('aggregated', 2230),\n",
       " ('aggregator', 2231),\n",
       " ('aggression', 2232),\n",
       " ('aggressive', 2233),\n",
       " ('aggrogator', 2234),\n",
       " ('agila', 2235),\n",
       " ('agile', 2236),\n",
       " ('aging', 2237),\n",
       " ('agip', 2238),\n",
       " ('agito', 2239),\n",
       " ('agnia', 2240),\n",
       " ('agnitum', 2241),\n",
       " ('agonist', 2242),\n",
       " ('agrank', 2243),\n",
       " ('agrarian', 2244),\n",
       " ('agrarmaschinen', 2245),\n",
       " ('agreen', 2246),\n",
       " ('agregator', 2247),\n",
       " ('agricultural', 2248),\n",
       " ('agriculture', 2249),\n",
       " ('agrimpasa', 2250),\n",
       " ('agrippa', 2251),\n",
       " ('agriturismi', 2252),\n",
       " ('agriturismo', 2253),\n",
       " ('agriya', 2254),\n",
       " ('agro', 2255),\n",
       " ('agrobazar', 2256),\n",
       " ('agromoto21', 2257),\n",
       " ('agronews', 2258),\n",
       " ('aguilera', 2259),\n",
       " ('agusta', 2260),\n",
       " ('agustin', 2261),\n",
       " ('agvsport', 2262),\n",
       " ('agência', 2263),\n",
       " ('ah55', 2264),\n",
       " ('ahahah', 2265),\n",
       " ('ahava', 2266),\n",
       " ('ahead', 2267),\n",
       " ('ahir', 2268),\n",
       " ('ahme', 2269),\n",
       " ('ahora', 2270),\n",
       " ('aida', 2271),\n",
       " ('aida64', 2272),\n",
       " ('aide', 2273),\n",
       " ('aided', 2274),\n",
       " ('aidera', 2275),\n",
       " ('aigner', 2276),\n",
       " ('aikatauluista', 2277),\n",
       " ('aikataulut', 2278),\n",
       " ('aikido', 2279),\n",
       " ('aikidoka', 2280),\n",
       " ('aiko', 2281),\n",
       " ('aime', 2282),\n",
       " ('aimed', 2283),\n",
       " ('aims', 2284),\n",
       " ('ainars', 2285),\n",
       " ('ainol', 2286),\n",
       " ('ainsi', 2287),\n",
       " ('ainult', 2288),\n",
       " ('ainy', 2289),\n",
       " ('aion', 2290),\n",
       " ('airbag', 2291),\n",
       " ('airbrush', 2292),\n",
       " ('airbuddy', 2293),\n",
       " ('airbus', 2294),\n",
       " ('aircast', 2295),\n",
       " ('aircon', 2296),\n",
       " ('aircraft', 2297),\n",
       " ('aires', 2298),\n",
       " ('airfare', 2299),\n",
       " ('airfares', 2300),\n",
       " ('airfiber', 2301),\n",
       " ('airgril', 2302),\n",
       " ('airgrill', 2303),\n",
       " ('airgun', 2304),\n",
       " ('airkirovsk', 2305),\n",
       " ('airkit', 2306),\n",
       " ('airline', 2307),\n",
       " ('airliner', 2308),\n",
       " ('airlines', 2309),\n",
       " ('airman', 2310),\n",
       " ('airmax', 2311),\n",
       " ('airoh', 2312),\n",
       " ('airpano', 2313),\n",
       " ('airplane', 2314),\n",
       " ('airplanes', 2315),\n",
       " ('airport', 2316),\n",
       " ('airports', 2317),\n",
       " ('airshow', 2318),\n",
       " ('airsoft', 2319),\n",
       " ('airsoftgun', 2320),\n",
       " ('airspot', 2321),\n",
       " ('airstep', 2322),\n",
       " ('airush', 2323),\n",
       " ('airwave', 2324),\n",
       " ('airways', 2325),\n",
       " ('aish', 2326),\n",
       " ('aisi', 2327),\n",
       " ('aiskidki', 2328),\n",
       " ('aist', 2329),\n",
       " ('aiwa', 2330),\n",
       " ('aiскидка', 2331),\n",
       " ('ajankohtaissisällöt', 2332),\n",
       " ('ajao', 2333),\n",
       " ('ajax', 2334),\n",
       " ('ajhev', 2335),\n",
       " ('ajit', 2336),\n",
       " ('ajmal', 2337),\n",
       " ('ajnj', 2338),\n",
       " ('ajnjuhfa', 2339),\n",
       " ('ajomatkan', 2340),\n",
       " ('akado', 2341),\n",
       " ('akai', 2342),\n",
       " ('akb48', 2343),\n",
       " ('akcesoria', 2344),\n",
       " ('akcie', 2345),\n",
       " ('akenoo', 2346),\n",
       " ('akhmadullina', 2347),\n",
       " ('akhmedov', 2348),\n",
       " ('akimka', 2349),\n",
       " ('akira', 2350),\n",
       " ('akkordeonspieler', 2351),\n",
       " ('akmaya', 2352),\n",
       " ('akmerkez', 2353),\n",
       " ('akon', 2354),\n",
       " ('akoock', 2355),\n",
       " ('akrilika', 2356),\n",
       " ('akris', 2357),\n",
       " ('akron', 2358),\n",
       " ('aksesuari', 2359),\n",
       " ('aktakom', 2360),\n",
       " ('aktien', 2361),\n",
       " ('aktiven', 2362),\n",
       " ('aktivt', 2363),\n",
       " ('aktual', 2364),\n",
       " ('aktualijos', 2365),\n",
       " ('aktualizácia', 2366),\n",
       " ('aktualności', 2367),\n",
       " ('aktuelle', 2368),\n",
       " ('aktuelles', 2369),\n",
       " ('aktuálního', 2370),\n",
       " ('aktuálním', 2371),\n",
       " ('akvilon', 2372),\n",
       " ('akzo', 2373),\n",
       " ('akçaabat', 2374),\n",
       " ('akışı', 2375),\n",
       " ('alabama', 2376),\n",
       " ('alabay', 2377),\n",
       " ('alain', 2378),\n",
       " ('alakalı', 2379),\n",
       " ('alametleri', 2380),\n",
       " ('alami', 2381),\n",
       " ('alampalk', 2382),\n",
       " ('alan', 2383),\n",
       " ('alanya', 2384),\n",
       " ('alarm', 2385),\n",
       " ('alascore', 2386),\n",
       " ('alaska', 2387),\n",
       " ('alaskan', 2388),\n",
       " ('alatavada', 2389),\n",
       " ('alatest', 2390),\n",
       " ('alati', 2391),\n",
       " ('alatt', 2392),\n",
       " ('alawar', 2393),\n",
       " ('alba', 2394),\n",
       " ('albano', 2395),\n",
       " ('albatron', 2396),\n",
       " ('albatross', 2397),\n",
       " ('albatrostur', 2398),\n",
       " ('alben', 2399),\n",
       " ('albero', 2400),\n",
       " ('albert', 2401),\n",
       " ('alberta', 2402),\n",
       " ('alberto', 2403),\n",
       " ('albion', 2404),\n",
       " ('album', 2405),\n",
       " ('albums', 2406),\n",
       " ('alcar', 2407),\n",
       " ('alcatel', 2408),\n",
       " ('alcatraz', 2409),\n",
       " ('alcoa', 2410),\n",
       " ('alcohol', 2411),\n",
       " ('alcoholic', 2412),\n",
       " ('alcoholism', 2413),\n",
       " ('alcomag', 2414),\n",
       " ('alcon', 2415),\n",
       " ('alcopa', 2416),\n",
       " ('alcor', 2417),\n",
       " ('aldebaran', 2418),\n",
       " ('aldi', 2419),\n",
       " ('aldl', 2420),\n",
       " ('aleashop', 2421),\n",
       " ('alekperov', 2422),\n",
       " ('aleks_nw', 2423),\n",
       " ('aleksandr', 2424),\n",
       " ('aleksey', 2425),\n",
       " ('aleksius', 2426),\n",
       " ('alemi', 2427),\n",
       " ('alena', 2428),\n",
       " ('alert', 2429),\n",
       " ('alertpay', 2430),\n",
       " ('alerts', 2431),\n",
       " ('alesis', 2432),\n",
       " ('alessandra', 2433),\n",
       " ('alessandro', 2434),\n",
       " ('alex', 2435),\n",
       " ('alex_zoom', 2436),\n",
       " ('alexa', 2437),\n",
       " ('alexander', 2438),\n",
       " ('alexanderplatz', 2439),\n",
       " ('alexandre', 2440),\n",
       " ('alexeev', 2441),\n",
       " ('alexei', 2442),\n",
       " ('alexey', 2443),\n",
       " ('alexis', 2444),\n",
       " ('alexkulpin', 2445),\n",
       " ('alexopt', 2446),\n",
       " ('alfa', 2447),\n",
       " ('alfa2omega', 2448),\n",
       " ('alfablaze', 2449),\n",
       " ('alfamag', 2450),\n",
       " ('alfaparf', 2451),\n",
       " ('alfasmart', 2452),\n",
       " ('alfastar', 2453),\n",
       " ('alfavit', 2454),\n",
       " ('alfieri', 2455),\n",
       " ('alfred', 2456),\n",
       " ('alga', 2457),\n",
       " ('algarve', 2458),\n",
       " ('algi', 2459),\n",
       " ('algo', 2460),\n",
       " ('algorithm', 2461),\n",
       " ('algoterm', 2462),\n",
       " ('algotherm', 2463),\n",
       " ('algu', 2464),\n",
       " ('alibaba', 2465),\n",
       " ('alice', 2466),\n",
       " ('alien', 2467),\n",
       " ('aliens', 2468),\n",
       " ('aliexpress', 2469),\n",
       " ('align', 2470),\n",
       " ('aligned', 2471),\n",
       " ('alike', 2472),\n",
       " ('alikso', 2473),\n",
       " ('aliments', 2474),\n",
       " ('alinco', 2475),\n",
       " ('alinga', 2476),\n",
       " ('aliram', 2477),\n",
       " ('alisee', 2478),\n",
       " ('alisei', 2479),\n",
       " ('alison', 2480),\n",
       " ('alive', 2481),\n",
       " ('alizee', 2482),\n",
       " ('alka', 2483),\n",
       " ('alkaen', 2484),\n",
       " ('alko', 2485),\n",
       " ('alku', 2486),\n",
       " ('alkupone', 2487),\n",
       " ('all4car', 2488),\n",
       " ('all4cms', 2489),\n",
       " ('all4you', 2490),\n",
       " ('alla', 2491),\n",
       " ('allabout', 2492),\n",
       " ('allacoustics', 2493),\n",
       " ('alladin', 2494),\n",
       " ('allahindlus', 2495),\n",
       " ('allahindlused', 2496),\n",
       " ('allard', 2497),\n",
       " ('allarm', 2498),\n",
       " ('allbiz', 2499),\n",
       " ('allcalc', 2500),\n",
       " ('allcarz', 2501),\n",
       " ('allday', 2502),\n",
       " ('alle', 2503),\n",
       " ('alleen', 2504),\n",
       " ('allegro', 2505),\n",
       " ('allem', 2506),\n",
       " ('allen', 2507),\n",
       " ('allentown', 2508),\n",
       " ('aller', 2509),\n",
       " ('allerdale', 2510),\n",
       " ('allergia', 2511),\n",
       " ('alles', 2512),\n",
       " ('alleva', 2513),\n",
       " ('allex', 2514),\n",
       " ('alleya', 2515),\n",
       " ('allfirm', 2516),\n",
       " ('alliance', 2517),\n",
       " ('allianz', 2518),\n",
       " ('alligator', 2519),\n",
       " ('alljob', 2520),\n",
       " ('allmegagames', 2521),\n",
       " ('allnokia', 2522),\n",
       " ('allnum', 2523),\n",
       " ('allo', 2524),\n",
       " ('allocated', 2525),\n",
       " ('allociné', 2526),\n",
       " ('allods', 2527),\n",
       " ('alloplant', 2528),\n",
       " ('allow', 2529),\n",
       " ('allowable', 2530),\n",
       " ('allowing', 2531),\n",
       " ('allows', 2532),\n",
       " ('allprojectors', 2533),\n",
       " ('allrecipes', 2534),\n",
       " ('allreferat', 2535),\n",
       " ('allrefs', 2536),\n",
       " ('allsecurity', 2537),\n",
       " ('allskidki', 2538),\n",
       " ('allstars', 2539),\n",
       " ('allt', 2540),\n",
       " ('alltid', 2541),\n",
       " ('allufa', 2542),\n",
       " ('allure', 2543),\n",
       " ('alluring', 2544),\n",
       " ('allwomens', 2545),\n",
       " ('allza', 2546),\n",
       " ('almaq', 2547),\n",
       " ('almaty', 2548),\n",
       " ('almazz', 2549),\n",
       " ('almelo', 2550),\n",
       " ('almera', 2551),\n",
       " ('almi', 2552),\n",
       " ('almost', 2553),\n",
       " ('aloe', 2554),\n",
       " ('alohatube6', 2555),\n",
       " ('alojamiento', 2556),\n",
       " ('alojamientos', 2557),\n",
       " ('alone', 2558),\n",
       " ('along', 2559),\n",
       " ('alongside', 2560),\n",
       " ('alot', 2561),\n",
       " ('alpaca', 2562),\n",
       " ('alpach', 2563),\n",
       " ('alpek', 2564),\n",
       " ('alpha', 2565),\n",
       " ('alphaber', 2566),\n",
       " ('alphabet', 2567),\n",
       " ('alphabets', 2568),\n",
       " ('alphabox', 2569),\n",
       " ('alphard', 2570),\n",
       " ('alphatronic', 2571),\n",
       " ('alphatronics', 2572),\n",
       " ('alphr', 2573),\n",
       " ('alpina', 2574),\n",
       " ('alpine', 2575),\n",
       " ('alpinefile', 2576),\n",
       " ('alpinestars', 2577),\n",
       " ('alps', 2578),\n",
       " ('alpy', 2579),\n",
       " ('alqi', 2580),\n",
       " ('alqisi', 2581),\n",
       " ('alquilar', 2582),\n",
       " ('alquiler', 2583),\n",
       " ('alquileres', 2584),\n",
       " ('alqı', 2585),\n",
       " ('already', 2586),\n",
       " ('alsafloor', 2587),\n",
       " ('alser', 2588),\n",
       " ('also', 2589),\n",
       " ('altai', 2590),\n",
       " ('altaimap', 2591),\n",
       " ('altair', 2592),\n",
       " ('altawin', 2593),\n",
       " ('altcoins', 2594),\n",
       " ('altea', 2595),\n",
       " ('altec', 2596),\n",
       " ('altele', 2597),\n",
       " ('alter', 2598),\n",
       " ('altera', 2599),\n",
       " ('altergeo', 2600),\n",
       " ('altermoda', 2601),\n",
       " ('alterna', 2602),\n",
       " ('alternance', 2603),\n",
       " ('alternativa', 2604),\n",
       " ('alternative', 2605),\n",
       " ('alternatives', 2606),\n",
       " ('alternator', 2607),\n",
       " ('alternators', 2608),\n",
       " ('alternet', 2609),\n",
       " ('altersvorsorge', 2610),\n",
       " ('altezoro', 2611),\n",
       " ('althea', 2612),\n",
       " ('altherma', 2613),\n",
       " ('altijd', 2614),\n",
       " ('altinda', 2615),\n",
       " ('altitude', 2616),\n",
       " ('altivar', 2617),\n",
       " ('altlinux', 2618),\n",
       " ('altman', 2619),\n",
       " ('altrad', 2620),\n",
       " ('altuzarra', 2621),\n",
       " ('altın', 2622),\n",
       " ('altında', 2623),\n",
       " ('alumina', 2624),\n",
       " ('aluminium', 2625),\n",
       " ('aluminum', 2626),\n",
       " ('alutec', 2627),\n",
       " ('alviero', 2628),\n",
       " ('always', 2629),\n",
       " ('alwero', 2630),\n",
       " ('alzip', 2631),\n",
       " ('alıram', 2632),\n",
       " ('amadei', 2633),\n",
       " ('amadoris', 2634),\n",
       " ('amagram', 2635),\n",
       " ('amano', 2636),\n",
       " ('amantes', 2637),\n",
       " ('amarena', 2638),\n",
       " ('amaretti', 2639),\n",
       " ('amateur', 2640),\n",
       " ('amateurmusici', 2641),\n",
       " ('amateurs', 2642),\n",
       " ('amatore', 2643),\n",
       " ('amatue', 2644),\n",
       " ('amatura', 2645),\n",
       " ('amature', 2646),\n",
       " ('amatures', 2647),\n",
       " ('amax', 2648),\n",
       " ('amazing', 2649),\n",
       " ('amazingly', 2650),\n",
       " ('amazingwoman', 2651),\n",
       " ('amazon', 2652),\n",
       " ('amazonas', 2653),\n",
       " ('ambartsumjan', 2654),\n",
       " ('ambasada', 2655),\n",
       " ('ambassade', 2656),\n",
       " ('ambassadeur', 2657),\n",
       " ('ambassador', 2658),\n",
       " ('ambery', 2659),\n",
       " ('ambient', 2660),\n",
       " ('ambition', 2661),\n",
       " ('ambitions', 2662),\n",
       " ('amdm', 2663),\n",
       " ('amediateka', 2664),\n",
       " ('amelta', 2665),\n",
       " ('amendments', 2666),\n",
       " ('america', 2667),\n",
       " ('americain', 2668),\n",
       " ('americains', 2669),\n",
       " ('american', 2670),\n",
       " ('americas', 2671),\n",
       " ('amerika', 2672),\n",
       " ('amerikidan', 2673),\n",
       " ('amet', 2674),\n",
       " ('ametid', 2675),\n",
       " ('ametikirjeldused', 2676),\n",
       " ('ametikõrgendus', 2677),\n",
       " ('ametipositsioon', 2678),\n",
       " ('amfibia', 2679),\n",
       " ('amicizia', 2680),\n",
       " ('amigos', 2681),\n",
       " ('amiko', 2682),\n",
       " ('amiral', 2683),\n",
       " ('amiraparfum', 2684),\n",
       " ('amis', 2685),\n",
       " ('amisport', 2686),\n",
       " ('amistad', 2687),\n",
       " ('amistik', 2688),\n",
       " ('amiért', 2689),\n",
       " ('amministrazione', 2690),\n",
       " ('ammo', 2691),\n",
       " ('ammunition', 2692),\n",
       " ('amocrm', 2693),\n",
       " ('among', 2694),\n",
       " ('amonton', 2695),\n",
       " ('amor', 2696),\n",
       " ('amoral', 2697),\n",
       " ('amorem', 2698),\n",
       " ('amoreshop', 2699),\n",
       " ('amoretour', 2700),\n",
       " ('amortization', 2701),\n",
       " ('amos', 2702),\n",
       " ('amouage', 2703),\n",
       " ('amount', 2704),\n",
       " ('amour', 2705),\n",
       " ('amphibian', 2706),\n",
       " ('ampia', 2707),\n",
       " ('amplifier', 2708),\n",
       " ('amplifiers', 2709),\n",
       " ('amplitude', 2710),\n",
       " ('amprog', 2711),\n",
       " ('amps', 2712),\n",
       " ('amputee', 2713),\n",
       " ('amputees', 2714),\n",
       " ('amsler', 2715),\n",
       " ('amstaff', 2716),\n",
       " ('amsterdam', 2717),\n",
       " ('amulet', 2718),\n",
       " ('amur', 2719),\n",
       " ('amurmedia', 2720),\n",
       " ('amuser', 2721),\n",
       " ('amuzante', 2722),\n",
       " ('amvol', 2723),\n",
       " ('amway', 2724),\n",
       " ('amway921', 2725),\n",
       " ('amzan', 2726),\n",
       " ('américa', 2727),\n",
       " ('an7812', 2728),\n",
       " ('anabel', 2729),\n",
       " ('anabolic', 2730),\n",
       " ('anaconda', 2731),\n",
       " ('anaglyph', 2732),\n",
       " ('anagram', 2733),\n",
       " ('anak', 2734),\n",
       " ('anal', 2735),\n",
       " ('analisis', 2736),\n",
       " ('analitika', 2737),\n",
       " ('analiz', 2738),\n",
       " ('analizleriyle', 2739),\n",
       " ('analog', 2740),\n",
       " ('analogy', 2741),\n",
       " ('analsextubes', 2742),\n",
       " ('analxxx', 2743),\n",
       " ('analyse', 2744),\n",
       " ('analyser', 2745),\n",
       " ('analyses', 2746),\n",
       " ('analysis', 2747),\n",
       " ('analyst', 2748),\n",
       " ('analytic', 2749),\n",
       " ('analytica', 2750),\n",
       " ('analytical', 2751),\n",
       " ('analytics', 2752),\n",
       " ('analyze', 2753),\n",
       " ('analyzer', 2754),\n",
       " ('analyzes', 2755),\n",
       " ('anarts', 2756),\n",
       " ('anastasiamag', 2757),\n",
       " ('anathema', 2758),\n",
       " ('anatoly', 2759),\n",
       " ('anatomy', 2760),\n",
       " ('anayasa', 2761),\n",
       " ('anbot', 2762),\n",
       " ('ancanoty', 2763),\n",
       " ('ancestor', 2764),\n",
       " ('ancestors', 2765),\n",
       " ('ancestry', 2766),\n",
       " ('anchormen', 2767),\n",
       " ('ancient', 2768),\n",
       " ('ancord', 2769),\n",
       " ('andalucia', 2770),\n",
       " ('andalucía', 2771),\n",
       " ('andalusia', 2772),\n",
       " ('ander', 2773),\n",
       " ('andere', 2774),\n",
       " ('anderen', 2775),\n",
       " ('anders', 2776),\n",
       " ('andersen', 2777),\n",
       " ('anderson', 2778),\n",
       " ('andersson', 2779),\n",
       " ('andi', 2780),\n",
       " ('andmebaas', 2781),\n",
       " ('ando', 2782),\n",
       " ('andora', 2783),\n",
       " ('andover', 2784),\n",
       " ('andovers', 2785),\n",
       " ('andrea', 2786),\n",
       " ('andreas', 2787),\n",
       " ('andrei', 2788),\n",
       " ('andrew', 2789),\n",
       " ('andrey', 2790),\n",
       " ('andro', 2791),\n",
       " ('android', 2792),\n",
       " ('androida', 2793),\n",
       " ('androidexample', 2794),\n",
       " ('androidroot', 2795),\n",
       " ('androidtab', 2796),\n",
       " ('androidz', 2797),\n",
       " ('andromeda', 2798),\n",
       " ('andrés', 2799),\n",
       " ('andutilities', 2800),\n",
       " ('andгoid', 2801),\n",
       " ('anecdote', 2802),\n",
       " ('anekdot', 2803),\n",
       " ('anekdoty', 2804),\n",
       " ('anetta', 2805),\n",
       " ('anex', 2806),\n",
       " ('anfisa', 2807),\n",
       " ('angebote', 2808),\n",
       " ('angel', 2809),\n",
       " ('angela', 2810),\n",
       " ('angeldon', 2811),\n",
       " ('angeles', 2812),\n",
       " ('angelika', 2813),\n",
       " ('angels', 2814),\n",
       " ('anglais', 2815),\n",
       " ('angle', 2816),\n",
       " ('angler', 2817),\n",
       " ('anglers', 2818),\n",
       " ('angles', 2819),\n",
       " ('anglia', 2820),\n",
       " ('anglii', 2821),\n",
       " ('angry', 2822),\n",
       " ('angrymovs', 2823),\n",
       " ('angst', 2824),\n",
       " ('anidap', 2825),\n",
       " ('anidub', 2826),\n",
       " ...]"
      ]
     },
     "execution_count": 115,
     "metadata": {},
     "output_type": "execute_result"
    }
   ],
   "source": [
    "# sorted(cv.vocabulary_.items())[1827:]"
   ]
  },
  {
   "cell_type": "code",
   "execution_count": 120,
   "metadata": {
    "collapsed": true
   },
   "outputs": [
    {
     "data": {
      "text/plain": [
       "[('яшкин', 73999),\n",
       " ('яшин', 73998),\n",
       " ('ячник', 73997),\n",
       " ('ячневый', 73996),\n",
       " ('ячневик', 73995),\n",
       " ('ячейка', 73994),\n",
       " ('ячеистый', 73993),\n",
       " ('яценюк', 73992),\n",
       " ('яхтсмен', 73991),\n",
       " ('яхтинг', 73990),\n",
       " ('яхтенный', 73989),\n",
       " ('яхта', 73988),\n",
       " ('яхрома', 73987),\n",
       " ('яхие', 73986),\n",
       " ('яхатить', 73985),\n",
       " ('яхата', 73984),\n",
       " ('яуза', 73983),\n",
       " ('ятхи', 73982),\n",
       " ('ятх', 73981),\n",
       " ('ятоже', 73980),\n",
       " ('ятні', 73979),\n",
       " ('ятить', 73978),\n",
       " ('ятелевизор', 73977),\n",
       " ('ясьстроить', 73976),\n",
       " ('ясность', 73975),\n",
       " ('ясновидящий', 73974),\n",
       " ('ясновидение', 73973),\n",
       " ('ясно', 73972),\n",
       " ('ясли', 73971),\n",
       " ('яскраві', 73970),\n",
       " ('ясинский', 73969),\n",
       " ('ясень', 73968),\n",
       " ('ясенецкий', 73967),\n",
       " ('ясеневый', 73966),\n",
       " ('яс', 73965),\n",
       " ('ярык', 73964),\n",
       " ('ярый', 73963),\n",
       " ('ярцев', 73962),\n",
       " ('яртппа', 73961),\n",
       " ('ярош', 73960),\n",
       " ('ярость', 73959),\n",
       " ('яростный', 73958),\n",
       " ('ярославский', 73957),\n",
       " ('ярославнефтеоргсинтез', 73956),\n",
       " ('ярославль', 73955),\n",
       " ('ярославец', 73954),\n",
       " ('ярослава', 73953),\n",
       " ('ярослав', 73952),\n",
       " ('яросвета', 73951),\n",
       " ('яросавль', 73950),\n",
       " ('яровой', 73949),\n",
       " ('ярмольник', 73948),\n",
       " ('ярмарка', 73947),\n",
       " ('яркость', 73946),\n",
       " ('ярко', 73945),\n",
       " ('яркий', 73944),\n",
       " ('ярить', 73943),\n",
       " ('ярис', 73942),\n",
       " ('яренск', 73941),\n",
       " ('японско', 73940),\n",
       " ('японский', 73939),\n",
       " ('японски', 73938),\n",
       " ('японофон', 73937),\n",
       " ('японка', 73936),\n",
       " ('япония', 73935),\n",
       " ('японист', 73934),\n",
       " ('японец', 73933),\n",
       " ('яплакалъ', 73932),\n",
       " ('янчевский', 73931),\n",
       " ('янцзы', 73930),\n",
       " ('янукович', 73929),\n",
       " ('янтра', 73928),\n",
       " ('янтарь', 73927),\n",
       " ('янмара', 73926),\n",
       " ('янишевский', 73925),\n",
       " ('янебоюсьсказать', 73924),\n",
       " ('яндекс', 73923),\n",
       " ('янгиликлара', 73922),\n",
       " ('янгель', 73921),\n",
       " ('янг', 73920),\n",
       " ('январь', 73919),\n",
       " ('янао', 73918),\n",
       " ('ямский', 73917),\n",
       " ('ямобура', 73916),\n",
       " ('ямобур', 73915),\n",
       " ('ямбург', 73914),\n",
       " ('ямбол', 73913),\n",
       " ('ямб', 73912),\n",
       " ('ямахаfz', 73911),\n",
       " ('ямах', 73910),\n",
       " ('ямало', 73909),\n",
       " ('ямал', 73908),\n",
       " ('ямайка', 73907),\n",
       " ('ялівець', 73906),\n",
       " ('ялтинский', 73905),\n",
       " ('ялта', 73904),\n",
       " ('ялицть', 73903),\n",
       " ('ялина', 73902),\n",
       " ('якісон', 73901),\n",
       " ('якісний', 73900),\n",
       " ('якщый', 73899),\n",
       " ('якутский', 73898),\n",
       " ('якутск', 73897),\n",
       " ('якутия', 73896),\n",
       " ('якунин', 73895),\n",
       " ('якохам', 73894),\n",
       " ('якості', 73893),\n",
       " ('якорь', 73892),\n",
       " ('якорный', 73891),\n",
       " ('яковлев', 73890),\n",
       " ('яков', 73889),\n",
       " ('якоб', 73888),\n",
       " ('якласс', 73887),\n",
       " ('якиманка', 73886),\n",
       " ('який', 73885),\n",
       " ('яйцо', 73884),\n",
       " ('яйцеклетка', 73883),\n",
       " ('яичный', 73882),\n",
       " ('яичниковый', 73881),\n",
       " ('яичник', 73880),\n",
       " ('яичко', 73879),\n",
       " ('язычество', 73878),\n",
       " ('языческий', 73877),\n",
       " ('языкознание', 73876),\n",
       " ('языковой', 73875),\n",
       " ('язык', 73874),\n",
       " ('язт', 73873),\n",
       " ('язомби', 73872),\n",
       " ('язками', 73871),\n",
       " ('язка', 73870),\n",
       " ('язд', 73869),\n",
       " ('язвенный', 73868),\n",
       " ('язва', 73867),\n",
       " ('ядро', 73866),\n",
       " ('ядохимикат', 73865),\n",
       " ('ядовитый', 73864),\n",
       " ('ядерный', 73863),\n",
       " ('яд', 73862),\n",
       " ('ягуар', 73861),\n",
       " ('ягодный', 73860),\n",
       " ('ягодица', 73859),\n",
       " ('ягода', 73858),\n",
       " ('ягма', 73857),\n",
       " ('ягдтерьер', 73856),\n",
       " ('явный', 73855),\n",
       " ('явно', 73854),\n",
       " ('являться', 73853),\n",
       " ('являть', 73852),\n",
       " ('явление', 73851),\n",
       " ('яверот', 73850),\n",
       " ('яблыко', 73849),\n",
       " ('яблочный', 73848),\n",
       " ('яблоня', 73847),\n",
       " ('яблоновский', 73846),\n",
       " ('яблоневый', 73845),\n",
       " ('яблоко', 73844),\n",
       " ('яndex', 73843),\n",
       " ('я7сервис', 73842),\n",
       " ('я7авто', 73841),\n",
       " ('юјфлха', 73840),\n",
       " ('ющука', 73839),\n",
       " ('ющенко', 73838),\n",
       " ('ютюб', 73837),\n",
       " ('ютьюб', 73836),\n",
       " ('ютуба', 73835),\n",
       " ('ютта', 73834),\n",
       " ('ютор', 73833),\n",
       " ('ютонг', 73832),\n",
       " ('ютинет', 73831),\n",
       " ('ютери', 73830),\n",
       " ('ютербог', 73829),\n",
       " ('юсуповский', 73828),\n",
       " ('юстиция', 73827),\n",
       " ('юрюзань', 73826),\n",
       " ('юрьев', 73825),\n",
       " ('юрфирма', 73824),\n",
       " ('юрфинансконсалтинг', 73823),\n",
       " ('юровскай', 73822),\n",
       " ('юрмала', 73821),\n",
       " ('юркас', 73820),\n",
       " ('юриц', 73819),\n",
       " ('юристіть', 73818),\n",
       " ('юристыонлайн', 73817),\n",
       " ('юристъ', 73816),\n",
       " ('юристпрофи', 73815),\n",
       " ('юрист', 73814),\n",
       " ('юриспуденция', 73813),\n",
       " ('юриспруденціть', 73812),\n",
       " ('юриспруденция', 73811),\n",
       " ('юрисконсульт', 73810),\n",
       " ('юрисдикция', 73809),\n",
       " ('юрий', 73808),\n",
       " ('юридичні', 73807),\n",
       " ('юридичный', 73806),\n",
       " ('юридичний', 73805),\n",
       " ('юридический', 73804),\n",
       " ('юрана', 73803),\n",
       " ('юпитер', 73802),\n",
       " ('юный', 73801),\n",
       " ('юнф', 73800),\n",
       " ('юнтоловый', 73799),\n",
       " ('юношеский', 73798),\n",
       " ('юноша', 73797),\n",
       " ('юность', 73796),\n",
       " ('юнона', 73795),\n",
       " ('юнитрейд', 73794),\n",
       " ('юнит', 73793),\n",
       " ('юнис', 73792),\n",
       " ('юнир', 73791),\n",
       " ('юниор', 73790),\n",
       " ('юниона', 73789),\n",
       " ('юниойло', 73788),\n",
       " ('юниоить', 73787),\n",
       " ('юнимилк', 73786),\n",
       " ('юникс', 73785),\n",
       " ('юникодовый', 73784),\n",
       " ('юнико', 73783),\n",
       " ('юник', 73782),\n",
       " ('юнизоо', 73781),\n",
       " ('юнидента', 73780),\n",
       " ('юниверсал', 73779),\n",
       " ('юнибрайт', 73778),\n",
       " ('юнеско', 73777),\n",
       " ('юнайта', 73776),\n",
       " ('юмористический', 73775),\n",
       " ('юморист', 73774),\n",
       " ('юморин', 73773),\n",
       " ('юмор', 73772),\n",
       " ('юлька', 73771),\n",
       " ('юлия', 73770),\n",
       " ('юлиус', 73769),\n",
       " ('юлий', 73768),\n",
       " ('юлианна', 73767),\n",
       " ('юкрейн', 73766),\n",
       " ('юкка', 73765),\n",
       " ('юкатана', 73764),\n",
       " ('юзерпик', 73763),\n",
       " ('юзербар', 73762),\n",
       " ('юзао', 73761),\n",
       " ('юзабилить', 73760),\n",
       " ('южный', 73759),\n",
       " ('южноуральский', 73758),\n",
       " ('южноуральск', 73757),\n",
       " ('южноуралье', 73756),\n",
       " ('южнорусский', 73755),\n",
       " ('южнопортовый', 73754),\n",
       " ('южнокорейский', 73753),\n",
       " ('южноафриканский', 73752),\n",
       " ('юесплатный', 73751),\n",
       " ('юджин', 73750),\n",
       " ('юденич', 73749),\n",
       " ('юдашкина', 73748),\n",
       " ('юдаковы', 73747),\n",
       " ('югыд', 73746),\n",
       " ('югстройимпериал', 73745),\n",
       " ('юграстройинфо', 73744),\n",
       " ('югра', 73743),\n",
       " ('югпатент', 73742),\n",
       " ('югославия', 73741),\n",
       " ('югорск', 73740),\n",
       " ('югенд', 73739),\n",
       " ('югбиз', 73738),\n",
       " ('ювентус', 73737),\n",
       " ('ювента', 73736),\n",
       " ('ювемаста', 73735),\n",
       " ('ювелирный', 73734),\n",
       " ('ювелирка', 73733),\n",
       " ('ювелир', 73732),\n",
       " ('ювао', 73731),\n",
       " ('юбочный', 73730),\n",
       " ('юбочка', 73729),\n",
       " ('юбка', 73728),\n",
       " ('юбительский', 73727),\n",
       " ('юбилеэма', 73726),\n",
       " ('юбиленйный', 73725),\n",
       " ('юбилейный', 73724),\n",
       " ('юбилей', 73723),\n",
       " ('юбар', 73722),\n",
       " ('юарекс', 73721),\n",
       " ('юань', 73720),\n",
       " ('юалиса', 73719),\n",
       " ('эшли', 73718),\n",
       " ('эчча', 73717),\n",
       " ('эхолот', 73716),\n",
       " ('эхокорый', 73715),\n",
       " ('эхиномина', 73714),\n",
       " ('эхинацея', 73713),\n",
       " ('эхинацечий', 73712),\n",
       " ('эффектор', 73711),\n",
       " ('эффектный', 73710),\n",
       " ('эффектифф', 73709),\n",
       " ('эффективный', 73708),\n",
       " ('эффективность', 73707),\n",
       " ('эффективно', 73706),\n",
       " ('эффект', 73705),\n",
       " ('эффeктивнo', 73704),\n",
       " ('эфрон', 73703),\n",
       " ('эфный', 73702),\n",
       " ('эфирный', 73701),\n",
       " ('эфир', 73700),\n",
       " ('эфиопия', 73699),\n",
       " ('эфемерида', 73698),\n",
       " ('эудженио', 73697),\n",
       " ('этюдник', 73696),\n",
       " ('этюд', 73695),\n",
       " ('этьен', 73694),\n",
       " ('эттор', 73693),\n",
       " ('этти', 73692),\n",
       " ('эттейл', 73691),\n",
       " ('этот', 73690),\n",
       " ('эторетро', 73689),\n",
       " ('этология', 73688),\n",
       " ('этоксипропанол', 73687),\n",
       " ('это', 73686),\n",
       " ('этный', 73685),\n",
       " ('этнос', 73684),\n",
       " ('этномир', 73683),\n",
       " ('этнология', 73682),\n",
       " ('этнолингвистика', 73681),\n",
       " ('этнография', 73680),\n",
       " ('этнографический', 73679),\n",
       " ('этнический', 73678),\n",
       " ('этник', 73677),\n",
       " ('этичный', 73676),\n",
       " ('этично', 73675),\n",
       " ('этический', 73674),\n",
       " ('этиология', 73673),\n",
       " ('этимология', 73672),\n",
       " ('этимологический', 73671),\n",
       " ('этиловый', 73670),\n",
       " ('этиленгликоль', 73669),\n",
       " ('этилацетат', 73668),\n",
       " ('этикона', 73667),\n",
       " ('этикетокпродмашимпорт', 73666),\n",
       " ('этикетка', 73665),\n",
       " ('этикет', 73664),\n",
       " ('этика', 73663),\n",
       " ('этель', 73662),\n",
       " ('этап', 73661),\n",
       " ('эталонный', 73660),\n",
       " ('эталон', 73659),\n",
       " ('этакси', 73658),\n",
       " ('этажный', 73657),\n",
       " ('этажность', 73656),\n",
       " ('этажерка', 73655),\n",
       " ('этаж', 73654),\n",
       " ('эт2', 73653),\n",
       " ('эсэсовец', 73652),\n",
       " ('эсхатология', 73651),\n",
       " ('эсуд', 73650),\n",
       " ('эстроген', 73649),\n",
       " ('эстрадный', 73648),\n",
       " ('эстрада', 73647),\n",
       " ('эстонско', 73646),\n",
       " ('эстонский', 73645),\n",
       " ('эстония', 73644),\n",
       " ('эстонец', 73643),\n",
       " ('эстетичный', 73642),\n",
       " ('эстетично', 73641),\n",
       " ('эстетический', 73640),\n",
       " ('эстетика', 73639),\n",
       " ('эстетик', 73638),\n",
       " ('эстафета', 73637),\n",
       " ('эстамп', 73636),\n",
       " ('эстакада', 73635),\n",
       " ('эст', 73634),\n",
       " ('эссо', 73633),\n",
       " ('эсслый', 73632),\n",
       " ('эссистанс', 73631),\n",
       " ('эссея', 73630),\n",
       " ('эссе', 73629),\n",
       " ('эспандер', 73628),\n",
       " ('эсминец', 73627),\n",
       " ('эсмеральда', 73626),\n",
       " ('эсм', 73625),\n",
       " ('эскорт', 73624),\n",
       " ('эско', 73623),\n",
       " ('эскизы', 73622),\n",
       " ('эскиз', 73621),\n",
       " ('эскалэйд', 73620),\n",
       " ('эскалейда', 73619),\n",
       " ('эскалация', 73618),\n",
       " ('эскалатор', 73617),\n",
       " ('эскадрилья', 73616),\n",
       " ('эсесовца', 73615),\n",
       " ('эрфольга', 73614),\n",
       " ('эрудиция', 73613),\n",
       " ('эрудит', 73612),\n",
       " ('эрудированный', 73611),\n",
       " ('эррань', 73610),\n",
       " ('эрошоу', 73609),\n",
       " ('эрочат', 73608),\n",
       " ('эрофото', 73607),\n",
       " ('эротичесткий', 73606),\n",
       " ('эротический', 73605),\n",
       " ('эротика', 73604),\n",
       " ('эромассаж', 73603),\n",
       " ('эролюба', 73602),\n",
       " ('эроистория', 73601),\n",
       " ('эрозия', 73600),\n",
       " ('эрогеншоп', 73599),\n",
       " ('эрогенный', 73598),\n",
       " ('эрог', 73597),\n",
       " ('эровидео', 73596),\n",
       " ('эрнст', 73595),\n",
       " ('эрнест', 73594),\n",
       " ('эрмштедт', 73593),\n",
       " ('эрмитаж', 73592),\n",
       " ('эрленд', 73591),\n",
       " ('эркюля', 73590),\n",
       " ('эркер', 73589),\n",
       " ('эритема', 73588),\n",
       " ('эриксен', 73587),\n",
       " ('эрик', 73586),\n",
       " ('эрец', 73585),\n",
       " ('эренбург', 73584),\n",
       " ('эрекция', 73583),\n",
       " ('эрекционный', 73582),\n",
       " ('эректильный', 73581),\n",
       " ('эрдельтерьер', 73580),\n",
       " ('эргономичный', 73579),\n",
       " ('эргономика', 73578),\n",
       " ('эргон', 73577),\n",
       " ('эрго', 73576),\n",
       " ('эрбий', 73575),\n",
       " ('эпюр', 73574),\n",
       " ('эпра', 73573),\n",
       " ('эпплый', 73572),\n",
       " ('эпплджек', 73571),\n",
       " ('эпохальный', 73570),\n",
       " ('эпоха', 73569),\n",
       " ('эпотос', 73568),\n",
       " ('эпос', 73567),\n",
       " ('эпоксидный', 73566),\n",
       " ('эпоксид', 73565),\n",
       " ('эпичный', 73564),\n",
       " ('эпический', 73563),\n",
       " ('эпицентр', 73562),\n",
       " ('эпифора', 73561),\n",
       " ('эпитет', 73560),\n",
       " ('эпитафия', 73559),\n",
       " ('эпистола', 73558),\n",
       " ('эпистемология', 73557),\n",
       " ('эпистемический', 73556),\n",
       " ('эписиндром', 73555),\n",
       " ('эпипроектор', 73554),\n",
       " ('эпиляция', 73553),\n",
       " ('эпилептология', 73552),\n",
       " ('эпилепсия', 73551),\n",
       " ('эпик', 73550),\n",
       " ('эпизод', 73549),\n",
       " ('эпидемия', 73548),\n",
       " ('эпидемиология', 73547),\n",
       " ('эпидемиологический', 73546),\n",
       " ('эпиграф', 73545),\n",
       " ('эпдм', 73544),\n",
       " ('эпатаж', 73543),\n",
       " ('эп2014', 73542),\n",
       " ('эп103', 73541),\n",
       " ('энштейн', 73540),\n",
       " ('энцикопедия', 73539),\n",
       " ('энциклопедия', 73538),\n",
       " ('энциклопедичность', 73537),\n",
       " ('энциклопедический', 73536),\n",
       " ('энциклопедич', 73535),\n",
       " ('энцикл', 73534),\n",
       " ('энцефалограф', 73533),\n",
       " ('энцефалограмма', 73532),\n",
       " ('энцефалитный', 73531),\n",
       " ('энцефалит', 73530),\n",
       " ('энурез', 73529),\n",
       " ('энтузиаст', 73528),\n",
       " ('энтомология', 73527),\n",
       " ('энтереть', 73526),\n",
       " ('энтальпия', 73525),\n",
       " ('энкодер', 73524),\n",
       " ('энклитика', 73523),\n",
       " ('энистон', 73522),\n",
       " ('энио', 73521),\n",
       " ('эникон', 73520),\n",
       " ('энж', 73519),\n",
       " ('энея', 73518),\n",
       " ('энерджи', 73517),\n",
       " ('энергоэффективный', 73516),\n",
       " ('энергоэффективность', 73515),\n",
       " ('энергоцентр', 73514),\n",
       " ('энергофлекс', 73513),\n",
       " ('энергоучёт', 73512),\n",
       " ('энергоустановка', 73511),\n",
       " ('энерготрейдер', 73510),\n",
       " ('энерготрейд', 73509),\n",
       " ('энерготехника', 73508),\n",
       " ('энерготехмаш', 73507),\n",
       " ('энергоспецтехник', 73506),\n",
       " ('энергоснабжение', 73505),\n",
       " ('энергосистема', 73504),\n",
       " ('энергосбережение', 73503),\n",
       " ('энергосберегающий', 73502),\n",
       " ('энергосберегаюш', 73501),\n",
       " ('энергоресурсы', 73500),\n",
       " ('энергопромавтоматика', 73499),\n",
       " ('энергопаспорт', 73498),\n",
       " ('энергообмен', 73497),\n",
       " ('энергоноситель', 73496),\n",
       " ('энергонастройка', 73495),\n",
       " ('энергоинформационный', 73494),\n",
       " ('энергоинформационика', 73493),\n",
       " ('энергозона', 73492),\n",
       " ('энергозащита', 73491),\n",
       " ('энергозатраты', 73490),\n",
       " ('энергодар', 73489),\n",
       " ('энергогарант', 73488),\n",
       " ('энерговоздействие', 73487),\n",
       " ('энергоблок', 73486),\n",
       " ('энергоаудит', 73485),\n",
       " ('энерго', 73484),\n",
       " ('энергия', 73483),\n",
       " ('энергичный', 73482),\n",
       " ('энергинея', 73481),\n",
       " ('энергетический', 73480),\n",
       " ('энергетика', 73479),\n",
       " ('энергетик', 73478),\n",
       " ('эндурый', 73477),\n",
       " ('эндрейд', 73476),\n",
       " ('эндоскопия', 73475),\n",
       " ('эндоскопический', 73474),\n",
       " ('эндоскопистый', 73473),\n",
       " ('эндоскоп', 73472),\n",
       " ('эндопротезирование', 73471),\n",
       " ('эндоморф', 73470),\n",
       " ('эндометриоз', 73469),\n",
       " ('эндокринология', 73468),\n",
       " ('эндокринологический', 73467),\n",
       " ('эндокринолог', 73466),\n",
       " ('эндокринный', 73465),\n",
       " ('эндокардит', 73464),\n",
       " ('эндодонтий', 73463),\n",
       " ('энд', 73462),\n",
       " ('энгессера', 73461),\n",
       " ('энгельс', 73460),\n",
       " ('энвольтирование', 73459),\n",
       " ('энбрести', 73458),\n",
       " ('эмфаза', 73457),\n",
       " ('эмуляция', 73456),\n",
       " ('эмуляционный', 73455),\n",
       " ('эмулятор', 73454),\n",
       " ('эмульсол', 73453),\n",
       " ('эмульгатор', 73452),\n",
       " ('эмоция', 73451),\n",
       " ('эмоциональный', 73450),\n",
       " ('эмоциональность', 73449),\n",
       " ('эмоционально', 73448),\n",
       " ('эмоко', 73447),\n",
       " ('эмодзь', 73446),\n",
       " ('эммануэль', 73445),\n",
       " ('эмма', 73444),\n",
       " ('эмитент', 73443),\n",
       " ('эмиссия', 73442),\n",
       " ('эмиссионный', 73441),\n",
       " ('эмират', 73440),\n",
       " ('эмир', 73439),\n",
       " ('эмиль', 73438),\n",
       " ('эмигрировать', 73437),\n",
       " ('эмиграция', 73436),\n",
       " ('эмета', 73435),\n",
       " ('эмгранд', 73434),\n",
       " ('эмбрион', 73433),\n",
       " ('эмбриология', 73432),\n",
       " ('эмбол', 73431),\n",
       " ('эмблемма', 73430),\n",
       " ('эмблема', 73429),\n",
       " ('эмбиента', 73428),\n",
       " ('эмануэль', 73427),\n",
       " ('эмануэла', 73426),\n",
       " ('эманация', 73425),\n",
       " ('эмальпровод', 73424),\n",
       " ('эмаль', 73423),\n",
       " ('эмалировать', 73422),\n",
       " ('эльф', 73421),\n",
       " ('эльминстер', 73420),\n",
       " ('элькарнитин', 73419),\n",
       " ('эльза', 73418),\n",
       " ('эльдорадо', 73417),\n",
       " ('эльбрус', 73416),\n",
       " ('эльба', 73415),\n",
       " ('элфора', 73414),\n",
       " ('элтр', 73413),\n",
       " ('элтон', 73412),\n",
       " ('элтех', 73411),\n",
       " ('элохой', 73410),\n",
       " ('элмикс', 73409),\n",
       " ('эллис', 73408),\n",
       " ('эллиптический', 73407),\n",
       " ('эллипсоид', 73406),\n",
       " ('эллипсис', 73405),\n",
       " ('эллипс', 73404),\n",
       " ('эллингтон', 73403),\n",
       " ('эллинг', 73402),\n",
       " ('эллада', 73401),\n",
       " ('элла', 73400),\n",
       " ('элко', 73399),\n",
       " ('элкара', 73398),\n",
       " ('элитпостель', 73397),\n",
       " ('элитный', 73396),\n",
       " ('элиткейс', 73395),\n",
       " ('элитбыт', 73394),\n",
       " ('элитарный', 73393),\n",
       " ('элита', 73392),\n",
       " ('элиса', 73391),\n",
       " ('элион', 73390),\n",
       " ('элингтон', 73389),\n",
       " ('элина', 73388),\n",
       " ('эликсир', 73387),\n",
       " ('эликс', 73386),\n",
       " ('элик', 73385),\n",
       " ('элизабет', 73384),\n",
       " ('элеттоканали', 73383),\n",
       " ('элетрик', 73382),\n",
       " ('элена', 73381),\n",
       " ('элементный', 73380),\n",
       " ('элементарный', 73379),\n",
       " ('элемент', 73378),\n",
       " ('электруха', 73377),\n",
       " ('электроэпиляция', 73376),\n",
       " ('электроэнцефалограф', 73375),\n",
       " ('электроэнергия', 73374),\n",
       " ('электроэнергетический', 73373),\n",
       " ('электроэнергетика', 73372),\n",
       " ('электрощитовой', 73371),\n",
       " ('электрощит', 73370),\n",
       " ('электрошокеры', 73369),\n",
       " ('электрошокер', 73368),\n",
       " ('электрошок', 73367),\n",
       " ('электрошкаф', 73366),\n",
       " ('электрочайник', 73365),\n",
       " ('электроцикл', 73364),\n",
       " ('электрохозяйство', 73363),\n",
       " ('электрохобби', 73362),\n",
       " ('электрохимический', 73361),\n",
       " ('электрофорум', 73360),\n",
       " ('электрофорез', 73359),\n",
       " ('электрофицированный', 73358),\n",
       " ('электроустановочный', 73357),\n",
       " ('электроустановка', 73356),\n",
       " ('электротранспорт', 73355),\n",
       " ('электротовар', 73354),\n",
       " ('электротехнология', 73353),\n",
       " ('электротехнический', 73352),\n",
       " ('электротехника', 73351),\n",
       " ('электротехник', 73350),\n",
       " ('электротензоизмерение', 73349),\n",
       " ('электросчётчик', 73348),\n",
       " ('электросхема', 73347),\n",
       " ('электростеклоподъемник', 73346),\n",
       " ('электростатический', 73345),\n",
       " ('электростанция', 73344),\n",
       " ('электростальский', 73343),\n",
       " ('электросталь', 73342),\n",
       " ('электроснабжение', 73341),\n",
       " ('электрослесарь', 73340),\n",
       " ('электроскутер', 73339),\n",
       " ('электросковородка', 73338),\n",
       " ('электросила', 73337),\n",
       " ('электросигарета', 73336),\n",
       " ('электросеть', 73335),\n",
       " ('электросвязь', 73334),\n",
       " ('электросветотехнический', 73333),\n",
       " ('электросварщик', 73332),\n",
       " ('электросварной', 73331),\n",
       " ('электросамокат', 73330),\n",
       " ('электрорубанок', 73329),\n",
       " ('электроработа', 73328),\n",
       " ('электропроект', 73327),\n",
       " ('электропроводка', 73326),\n",
       " ('электропривод', 73325),\n",
       " ('электроприбор', 73324),\n",
       " ('электропоезд', 73323),\n",
       " ('электроподогреватель', 73322),\n",
       " ('электропогрузчик', 73321),\n",
       " ('электроплитка', 73320),\n",
       " ('электроплита', 73319),\n",
       " ('электропитание', 73318),\n",
       " ('электропила', 73317),\n",
       " ('электропечь', 73316),\n",
       " ('электроотопление', 73315),\n",
       " ('электроосвещение', 73314),\n",
       " ('электрооборудование', 73313),\n",
       " ('электрообогреватель', 73312),\n",
       " ('электронщик', 73311),\n",
       " ('электроную', 73310),\n",
       " ('электронный', 73309),\n",
       " ('электроникс', 73308),\n",
       " ('электроника', 73307),\n",
       " ('электронасос', 73306),\n",
       " ('электронагреватель', 73305),\n",
       " ('электрон', 73304),\n",
       " ('электромясорубка', 73303),\n",
       " ('электромотоцикл', 73302),\n",
       " ('электромотор', 73301),\n",
       " ('электромопед', 73300),\n",
       " ('электромонтёр', 73299),\n",
       " ('электромонтажный', 73298),\n",
       " ('электромонтаж', 73297),\n",
       " ('электромобиль', 73296),\n",
       " ('электромеханический', 73295),\n",
       " ('электромеханик', 73294),\n",
       " ('электромельница', 73293),\n",
       " ('электромаш', 73292),\n",
       " ('электромагнитный', 73291),\n",
       " ('электромагнит', 73290),\n",
       " ('электролюкс', 73289),\n",
       " ('электролобзик', 73288),\n",
       " ('электролитный', 73287),\n",
       " ('электролитический', 73286),\n",
       " ('электролит', 73285),\n",
       " ('электролиз', 73284),\n",
       " ('электролаборатория', 73283),\n",
       " ('электрокультиватор', 73282),\n",
       " ('электрокотел', 73281),\n",
       " ('электрокоса', 73280),\n",
       " ('электроконтроль', 73279),\n",
       " ('электроконвектор', 73278),\n",
       " ('электроквадрацикл', 73277),\n",
       " ('электрокарниз', 73276),\n",
       " ('электрокардиограф', 73275),\n",
       " ('электрокар', 73274),\n",
       " ('электрокаменка', 73273),\n",
       " ('электроиснтрумент', 73272),\n",
       " ('электроинструмент', 73271),\n",
       " ('электроизоляционный', 73270),\n",
       " ('электроизмерительный', 73269),\n",
       " ('электроизмерение', 73268),\n",
       " ('электрозащитный', 73267),\n",
       " ('электрозаводский', 73266),\n",
       " ('электроенергия', 73265),\n",
       " ('электродвигатель', 73264),\n",
       " ('электрод', 73263),\n",
       " ('электрогриль', 73262),\n",
       " ('электрогитара', 73261),\n",
       " ('электрогенератор', 73260),\n",
       " ('электрогастроэнтерография', 73259),\n",
       " ('электрогастрография', 73258),\n",
       " ('электровоз', 73257),\n",
       " ('электровелосипед', 73256),\n",
       " ('электровагон', 73255),\n",
       " ('электробытовой', 73254),\n",
       " ('электробритва', 73253),\n",
       " ('электроборудование', 73252),\n",
       " ('электробезопасность', 73251),\n",
       " ('электроаппаратный', 73250),\n",
       " ('электроагрегат', 73249),\n",
       " ('электроавтомобиль', 73248),\n",
       " ('электро', 73247),\n",
       " ('электричкек', 73246),\n",
       " ('электричка', 73245),\n",
       " ('электричество', 73244),\n",
       " ('электрический', 73243),\n",
       " ('электрификация', 73242),\n",
       " ('электрик', 73241),\n",
       " ('электризоваться', 73240),\n",
       " ('электретный', 73239),\n",
       " ('электра', 73238),\n",
       " ('электорстанция', 73237),\n",
       " ('электорат', 73236),\n",
       " ('электоник', 73235),\n",
       " ('элективный', 73234),\n",
       " ('электpонный', 73233),\n",
       " ('элекс', 73232),\n",
       " ('элекросхема', 73231),\n",
       " ('элекромонтажный', 73230),\n",
       " ('элезть', 73229),\n",
       " ('элегантный', 73228),\n",
       " ('элегантность', 73227),\n",
       " ('элегантно', 73226),\n",
       " ('элегазовый', 73225),\n",
       " ('элеватор', 73224),\n",
       " ('элдермешкэ', 73223),\n",
       " ('эластэкс', 73222),\n",
       " ('эластотин', 73221),\n",
       " ('эластомер', 73220),\n",
       " ('эластичный', 73219),\n",
       " ('элан', 73218),\n",
       " ('экшн', 73217),\n",
       " ('экуменизм', 73216),\n",
       " ('эктоморф', 73215),\n",
       " ('экструдировать', 73214),\n",
       " ('экструдер', 73213),\n",
       " ('экстрип', 73212),\n",
       " ('экстримкамс', 73211),\n",
       " ('экстримизм', 73210),\n",
       " ('экстримальный', 73209),\n",
       " ('экстрим', 73208),\n",
       " ('экстренный', 73207),\n",
       " ('экстремизм', 73206),\n",
       " ('экстремальный', 73205),\n",
       " ('экстремально', 73204),\n",
       " ('экстремаленький', 73203),\n",
       " ('экстрасенсорный', 73202),\n",
       " ('экстрасенсорика', 73201),\n",
       " ('экстрасенс', 73200),\n",
       " ('экстрасеновый', 73199),\n",
       " ('экстрактор', 73198),\n",
       " ('экстракт', 73197),\n",
       " ('экстракорпоральный', 73196),\n",
       " ('экстра', 73195),\n",
       " ('экстерьер', 73194),\n",
       " ('экстерн', 73193),\n",
       " ('экстендер', 73192),\n",
       " ('экстен', 73191),\n",
       " ('экстази', 73190),\n",
       " ('экспресспочта', 73189),\n",
       " ('экспрессионист', 73188),\n",
       " ('экспрессионизм', 73187),\n",
       " ('экспрессивный', 73186),\n",
       " ('экспресс', 73185),\n",
       " ('экспоцентр', 73184),\n",
       " ('экспортёр', 73183),\n",
       " ('экспортный', 73182),\n",
       " ('экспорт', 73181),\n",
       " ('экспонат', 73180),\n",
       " ('экспоко', 73179),\n",
       " ('экспозиция', 73178),\n",
       " ('экспо', 73177),\n",
       " ('эксплуатировать', 73176),\n",
       " ('эксплуатация', 73175),\n",
       " ('эксплуатационный', 73174),\n",
       " ('эксплуатант', 73173),\n",
       " ('эксплатации', 73172),\n",
       " ('экспертный', 73171),\n",
       " ('экспертиза', 73170),\n",
       " ('эксперт', 73169),\n",
       " ('экспериментировать', 73168),\n",
       " ('экспериментальный', 73167),\n",
       " ('эксперимент', 73166),\n",
       " ('эксперементальный', 73165),\n",
       " ('экспералта', 73164),\n",
       " ('экспедиция', 73163),\n",
       " ('экспедиционный', 73162),\n",
       " ('экспедиторский', 73161),\n",
       " ('экспедитор', 73160),\n",
       " ('экспедирование', 73159),\n",
       " ('экспандер', 73158),\n",
       " ('эксмо', 73157),\n",
       " ('экслюзивный', 73156),\n",
       " ('экслуатации', 73155),\n",
       " ('экслибрис', 73154),\n",
       " ('экскурсовод', 73153),\n",
       " ('экскурсия', 73152),\n",
       " ('экскурсионный', 73151),\n",
       " ('экскурс', 73150),\n",
       " ('экскурисия', 73149),\n",
       " ('экскорпоральный', 73148),\n",
       " ('эксклюзивный', 73147),\n",
       " ('эксклюзив', 73146),\n",
       " ('эксклав', 73145),\n",
       " ('экскаваторщик', 73144),\n",
       " ('экскаватор', 73143),\n",
       " ('эксить', 73142),\n",
       " ('эксис', 73141),\n",
       " ('эксимер', 73140),\n",
       " ('эксерот', 73139),\n",
       " ('экселю', 73138),\n",
       " ('эксель', 73137),\n",
       " ('эксгибиционист', 73136),\n",
       " ('эксгибиционизм', 73135),\n",
       " ('эксгибиоционизм', 73134),\n",
       " ('экс5', 73133),\n",
       " ('экраноплан', 73132),\n",
       " ('экранировка', 73131),\n",
       " ('экранировать', 73130),\n",
       " ('экранизация', 73129),\n",
       " ('экран', 73128),\n",
       " ('экоэлектроника', 73127),\n",
       " ('экошпон', 73126),\n",
       " ('экохит', 73125),\n",
       " ('экотуризм', 73124),\n",
       " ('экотур', 73123),\n",
       " ('экотом', 73122),\n",
       " ('экоток', 73121),\n",
       " ('экотехнология', 73120),\n",
       " ('экотестер', 73119),\n",
       " ('экотель', 73118),\n",
       " ('экосфера', 73117),\n",
       " ('экосумка', 73116),\n",
       " ('экоспорт', 73115),\n",
       " ('экосорба', 73114),\n",
       " ('экоснайпер', 73113),\n",
       " ('экосистема', 73112),\n",
       " ('экосертифицированный', 73111),\n",
       " ('экосертификация', 73110),\n",
       " ('экосан', 73109),\n",
       " ('экопросвещение', 73108),\n",
       " ('экопродукт', 73107),\n",
       " ('экопрестиж', 73106),\n",
       " ('экоправо', 73105),\n",
       " ('экопоселение', 73104),\n",
       " ('экоплюс', 73103),\n",
       " ('экопластик', 73102),\n",
       " ('экопласт', 73101),\n",
       " ('экопитание', 73100),\n",
       " ('экопан', 73099),\n",
       " ('экономстроить', 73098),\n",
       " ('экономпанель', 73097),\n",
       " ('экономный', 73096),\n",
       " ('экономно', 73095),\n",
       " ('экономия', 73094),\n",
       " ('экономичный', 73093),\n",
       " ('экономический', 73092),\n",
       " ('экономически', 73091),\n",
       " ('экономическ', 73090),\n",
       " ('экономить', 73089),\n",
       " ('экономистъ', 73088),\n",
       " ('экономист', 73087),\n",
       " ('экономико', 73086),\n",
       " ('экономика', 73085),\n",
       " ('эконометрика', 73084),\n",
       " ('эконом', 73083),\n",
       " ('эконик', 73082),\n",
       " ('эконет', 73081),\n",
       " ('экон', 73080),\n",
       " ('экомёд', 73079),\n",
       " ('экомобиль', 73078),\n",
       " ('экомебель', 73077),\n",
       " ('экомаркировка', 73076),\n",
       " ('экомагазин', 73075),\n",
       " ('эколя', 73074),\n",
       " ('экология', 73073),\n",
       " ('экологичный', 73072),\n",
       " ('экологичность', 73071),\n",
       " ('экологический', 73070),\n",
       " ('экологически', 73069),\n",
       " ('эколог', 73068),\n",
       " ('эколайна', 73067),\n",
       " ('экокожа', 73066),\n",
       " ('экокалендарь', 73065),\n",
       " ('экоеда', 73064),\n",
       " ('экодом', 73063),\n",
       " ('экоград', 73062),\n",
       " ('экогид', 73061),\n",
       " ('эковит', 73060),\n",
       " ('эковата', 73059),\n",
       " ('экномик', 73058),\n",
       " ('экмить', 73057),\n",
       " ('эклога', 73056),\n",
       " ('эклектика', 73055),\n",
       " ('экипировочный', 73054),\n",
       " ('экипировка', 73053),\n",
       " ('экипиовка', 73052),\n",
       " ('экипаж', 73051),\n",
       " ('экибастуз', 73050),\n",
       " ('экзошоп', 73049),\n",
       " ('экзотический', 73048),\n",
       " ('экзотика', 73047),\n",
       " ('экзот', 73046),\n",
       " ('экзорцизм', 73045),\n",
       " ('экзопланета', 73044),\n",
       " ('экземпляр', 73043),\n",
       " ('экзема', 73042),\n",
       " ('экзегетика', 73041),\n",
       " ('экзаменационный', 73040),\n",
       " ('экзамен', 73039),\n",
       " ('эквип', 73038),\n",
       " ('эквивалентный', 73037),\n",
       " ('эквивалент', 73036),\n",
       " ('эквеять', 73035),\n",
       " ('эквестрия', 73034),\n",
       " ('экватор', 73033),\n",
       " ('экваринг', 73032),\n",
       " ('эквалайзер', 73031),\n",
       " ('эквайринг', 73030),\n",
       " ('эквадор', 73029),\n",
       " ('эйчар', 73028),\n",
       " ('эйхман', 73027),\n",
       " ('эйхенбаум', 73026),\n",
       " ('эйфория', 73025),\n",
       " ('эйфелевый', 73024),\n",
       " ('эйрсофт', 73023),\n",
       " ('эйрсофа', 73022),\n",
       " ('эйнштейний', 73021),\n",
       " ('эйнштейн', 73020),\n",
       " ('эйлер', 73019),\n",
       " ('эйлатский', 73018),\n",
       " ('эйлат', 73017),\n",
       " ('эйкен', 73016),\n",
       " ('эйдос', 73015),\n",
       " ('эйвон', 73014),\n",
       " ('эйван', 73013),\n",
       " ('эзоторик', 73012),\n",
       " ('эзотеричёкий', 73011),\n",
       " ('эзотерический', 73010),\n",
       " ('эзотерика', 73009),\n",
       " ('эзотеризм', 73008),\n",
       " ('эзотер', 73007),\n",
       " ('эзоп', 73006),\n",
       " ('эзокнига', 73005),\n",
       " ('эерсофт', 73004),\n",
       " ('эдуардо', 73003),\n",
       " ('эдуард', 73002),\n",
       " ('эдуар', 73001),\n",
       " ('эдиус', 73000),\n",
       " ...]"
      ]
     },
     "execution_count": 120,
     "metadata": {},
     "output_type": "execute_result"
    }
   ],
   "source": [
    "# sorted(cv.vocabulary_.items(), reverse=True)[900:]"
   ]
  },
  {
   "cell_type": "markdown",
   "metadata": {},
   "source": [
    "## Построение модели"
   ]
  },
  {
   "cell_type": "markdown",
   "metadata": {},
   "source": [
    "1. Подготовка наборов данных\n",
    "    - Разобьем датасет на два фолда: для тренировки (0000 - 36137) и предсказания (36138 - 41137)\n",
    "    - Из фолдов удалим строки в которых нет ключевых слов сайтов"
   ]
  },
  {
   "cell_type": "code",
   "execution_count": 122,
   "metadata": {
    "collapsed": true
   },
   "outputs": [],
   "source": [
    "# Выделение набора df_train для предсказания (c известными полом и возрастом)\n",
    "df_train = df.loc[0:36137]\n",
    "df_train['raw_keywords'] = df_train['raw_keywords'].apply(lambda x: ' '.join(x))\n",
    "df_train = df_train[df_train['raw_keywords'] != '']"
   ]
  },
  {
   "cell_type": "code",
   "execution_count": 123,
   "metadata": {
    "collapsed": true
   },
   "outputs": [],
   "source": [
    "# Выделение набора df_predict для предсказания (без известных пола и возраста)\n",
    "df_predict = df.loc[36138:]\n",
    "\n",
    "df_predict_ALL_uid = df['uid'] # все UID до удаления тех, для которых НЕ будет выполняться прогноз !!!!\n",
    "\n",
    "df_predict['raw_keywords'] = df_predict['raw_keywords'].apply(lambda x: ' '.join(x))\n",
    "df_predict = df_predict[df_predict['raw_keywords'] != '']\n",
    "\n",
    "df_predict_uid = df_predict['uid'] # все UID для которых будет выполняться прогноз !!!!"
   ]
  },
  {
   "cell_type": "markdown",
   "metadata": {},
   "source": [
    "#### Строим матрицу слов по объединенному массиву текстов из наборов df_train и df_predict"
   ]
  },
  {
   "cell_type": "code",
   "execution_count": 124,
   "metadata": {
    "collapsed": true
   },
   "outputs": [],
   "source": [
    "ROWS_FOR_FIT = df_train.shape[0]\n",
    "ROWS_FOR_PREDICT = df_predict.shape[0]"
   ]
  },
  {
   "cell_type": "code",
   "execution_count": 125,
   "metadata": {
    "collapsed": true
   },
   "outputs": [],
   "source": [
    "# Объединенный массив текстов\n",
    "all_texts = pd.concat([df_train['raw_keywords'], df_predict['raw_keywords']], axis=0)"
   ]
  },
  {
   "cell_type": "code",
   "execution_count": 126,
   "metadata": {
    "collapsed": true
   },
   "outputs": [],
   "source": [
    "# with open('data/10999_all_texts.pickle', 'wb') as file:\n",
    "#     pickle.dump(all_texts, file) \n",
    "    \n",
    "# with open('data/10999_all_texts.pickle', 'rb') as file:\n",
    "#     all_texts = pickle.load(file)"
   ]
  },
  {
   "cell_type": "code",
   "execution_count": 35,
   "metadata": {
    "collapsed": true,
    "scrolled": true
   },
   "outputs": [],
   "source": [
    "# cv = CountVectorizer(tokenizer=token_r, stop_words=stop_w)\n",
    "# matrix = cv.fit_transform(all_texts)"
   ]
  },
  {
   "cell_type": "code",
   "execution_count": 127,
   "metadata": {
    "collapsed": true
   },
   "outputs": [],
   "source": [
    "from sklearn.feature_extraction.text import TfidfVectorizer\n",
    "cv = TfidfVectorizer(tokenizer=token_r, stop_words=stop_w)\n",
    "matrix = cv.fit_transform(all_texts)"
   ]
  },
  {
   "cell_type": "code",
   "execution_count": 237,
   "metadata": {
    "collapsed": true
   },
   "outputs": [],
   "source": [
    "# with open('data/10999_matrix.pickle', 'wb') as file:\n",
    "#     pickle.dump(matrix, file)     \n",
    "    \n",
    "# with open('data/10999_matrix.pickle', 'rb') as file:\n",
    "#     matrix = pickle.load(file)"
   ]
  },
  {
   "cell_type": "code",
   "execution_count": 238,
   "metadata": {
    "collapsed": true
   },
   "outputs": [],
   "source": [
    "MATRIX_FOR_FIT = matrix[:ROWS_FOR_FIT][:]\n",
    "MATRIX_FOR_PREDICT = matrix[ROWS_FOR_FIT:][:]"
   ]
  },
  {
   "cell_type": "code",
   "execution_count": null,
   "metadata": {},
   "outputs": [],
   "source": []
  },
  {
   "cell_type": "code",
   "execution_count": 239,
   "metadata": {
    "collapsed": true
   },
   "outputs": [
    {
     "ename": "KeyError",
     "evalue": "'age'",
     "output_type": "error",
     "traceback": [
      "\u001b[0;31m---------------------------------------------------------------------------\u001b[0m",
      "\u001b[0;31mKeyError\u001b[0m                                  Traceback (most recent call last)",
      "\u001b[0;32m~/anaconda3/lib/python3.6/site-packages/pandas/core/indexes/base.py\u001b[0m in \u001b[0;36mget_loc\u001b[0;34m(self, key, method, tolerance)\u001b[0m\n\u001b[1;32m   2441\u001b[0m             \u001b[0;32mtry\u001b[0m\u001b[0;34m:\u001b[0m\u001b[0;34m\u001b[0m\u001b[0m\n\u001b[0;32m-> 2442\u001b[0;31m                 \u001b[0;32mreturn\u001b[0m \u001b[0mself\u001b[0m\u001b[0;34m.\u001b[0m\u001b[0m_engine\u001b[0m\u001b[0;34m.\u001b[0m\u001b[0mget_loc\u001b[0m\u001b[0;34m(\u001b[0m\u001b[0mkey\u001b[0m\u001b[0;34m)\u001b[0m\u001b[0;34m\u001b[0m\u001b[0m\n\u001b[0m\u001b[1;32m   2443\u001b[0m             \u001b[0;32mexcept\u001b[0m \u001b[0mKeyError\u001b[0m\u001b[0;34m:\u001b[0m\u001b[0;34m\u001b[0m\u001b[0m\n",
      "\u001b[0;32mpandas/_libs/index.pyx\u001b[0m in \u001b[0;36mpandas._libs.index.IndexEngine.get_loc\u001b[0;34m()\u001b[0m\n",
      "\u001b[0;32mpandas/_libs/index.pyx\u001b[0m in \u001b[0;36mpandas._libs.index.IndexEngine.get_loc\u001b[0;34m()\u001b[0m\n",
      "\u001b[0;32mpandas/_libs/hashtable_class_helper.pxi\u001b[0m in \u001b[0;36mpandas._libs.hashtable.PyObjectHashTable.get_item\u001b[0;34m()\u001b[0m\n",
      "\u001b[0;32mpandas/_libs/hashtable_class_helper.pxi\u001b[0m in \u001b[0;36mpandas._libs.hashtable.PyObjectHashTable.get_item\u001b[0;34m()\u001b[0m\n",
      "\u001b[0;31mKeyError\u001b[0m: 'age'",
      "\nDuring handling of the above exception, another exception occurred:\n",
      "\u001b[0;31mKeyError\u001b[0m                                  Traceback (most recent call last)",
      "\u001b[0;32m<ipython-input-239-f685bd0b08dd>\u001b[0m in \u001b[0;36m<module>\u001b[0;34m()\u001b[0m\n\u001b[0;32m----> 1\u001b[0;31m \u001b[0mtarget_age\u001b[0m \u001b[0;34m=\u001b[0m \u001b[0mdf_train\u001b[0m\u001b[0;34m[\u001b[0m\u001b[0;34m'age'\u001b[0m\u001b[0;34m]\u001b[0m\u001b[0;34m.\u001b[0m\u001b[0mastype\u001b[0m\u001b[0;34m(\u001b[0m\u001b[0;34m'int32'\u001b[0m\u001b[0;34m)\u001b[0m\u001b[0;34m\u001b[0m\u001b[0m\n\u001b[0m\u001b[1;32m      2\u001b[0m \u001b[0mtarget_gender\u001b[0m \u001b[0;34m=\u001b[0m \u001b[0mdf_train\u001b[0m\u001b[0;34m[\u001b[0m\u001b[0;34m'gender'\u001b[0m\u001b[0;34m]\u001b[0m\u001b[0;34m.\u001b[0m\u001b[0mastype\u001b[0m\u001b[0;34m(\u001b[0m\u001b[0;34m'int32'\u001b[0m\u001b[0;34m)\u001b[0m\u001b[0;34m\u001b[0m\u001b[0m\n\u001b[1;32m      3\u001b[0m \u001b[0mdf_train_uid\u001b[0m \u001b[0;34m=\u001b[0m \u001b[0mdf_train\u001b[0m\u001b[0;34m[\u001b[0m\u001b[0;34m'uid'\u001b[0m\u001b[0;34m]\u001b[0m\u001b[0;34m\u001b[0m\u001b[0m\n\u001b[1;32m      4\u001b[0m \u001b[0mdf_train\u001b[0m \u001b[0;34m=\u001b[0m \u001b[0mdf_train\u001b[0m\u001b[0;34m.\u001b[0m\u001b[0mdrop\u001b[0m\u001b[0;34m(\u001b[0m\u001b[0;34m[\u001b[0m\u001b[0;34m'age'\u001b[0m\u001b[0;34m,\u001b[0m \u001b[0;34m'gender'\u001b[0m\u001b[0;34m,\u001b[0m \u001b[0;34m'uid'\u001b[0m\u001b[0;34m]\u001b[0m\u001b[0;34m,\u001b[0m \u001b[0maxis\u001b[0m\u001b[0;34m=\u001b[0m\u001b[0;36m1\u001b[0m\u001b[0;34m)\u001b[0m\u001b[0;34m\u001b[0m\u001b[0m\n",
      "\u001b[0;32m~/anaconda3/lib/python3.6/site-packages/pandas/core/frame.py\u001b[0m in \u001b[0;36m__getitem__\u001b[0;34m(self, key)\u001b[0m\n\u001b[1;32m   1962\u001b[0m             \u001b[0;32mreturn\u001b[0m \u001b[0mself\u001b[0m\u001b[0;34m.\u001b[0m\u001b[0m_getitem_multilevel\u001b[0m\u001b[0;34m(\u001b[0m\u001b[0mkey\u001b[0m\u001b[0;34m)\u001b[0m\u001b[0;34m\u001b[0m\u001b[0m\n\u001b[1;32m   1963\u001b[0m         \u001b[0;32melse\u001b[0m\u001b[0;34m:\u001b[0m\u001b[0;34m\u001b[0m\u001b[0m\n\u001b[0;32m-> 1964\u001b[0;31m             \u001b[0;32mreturn\u001b[0m \u001b[0mself\u001b[0m\u001b[0;34m.\u001b[0m\u001b[0m_getitem_column\u001b[0m\u001b[0;34m(\u001b[0m\u001b[0mkey\u001b[0m\u001b[0;34m)\u001b[0m\u001b[0;34m\u001b[0m\u001b[0m\n\u001b[0m\u001b[1;32m   1965\u001b[0m \u001b[0;34m\u001b[0m\u001b[0m\n\u001b[1;32m   1966\u001b[0m     \u001b[0;32mdef\u001b[0m \u001b[0m_getitem_column\u001b[0m\u001b[0;34m(\u001b[0m\u001b[0mself\u001b[0m\u001b[0;34m,\u001b[0m \u001b[0mkey\u001b[0m\u001b[0;34m)\u001b[0m\u001b[0;34m:\u001b[0m\u001b[0;34m\u001b[0m\u001b[0m\n",
      "\u001b[0;32m~/anaconda3/lib/python3.6/site-packages/pandas/core/frame.py\u001b[0m in \u001b[0;36m_getitem_column\u001b[0;34m(self, key)\u001b[0m\n\u001b[1;32m   1969\u001b[0m         \u001b[0;31m# get column\u001b[0m\u001b[0;34m\u001b[0m\u001b[0;34m\u001b[0m\u001b[0m\n\u001b[1;32m   1970\u001b[0m         \u001b[0;32mif\u001b[0m \u001b[0mself\u001b[0m\u001b[0;34m.\u001b[0m\u001b[0mcolumns\u001b[0m\u001b[0;34m.\u001b[0m\u001b[0mis_unique\u001b[0m\u001b[0;34m:\u001b[0m\u001b[0;34m\u001b[0m\u001b[0m\n\u001b[0;32m-> 1971\u001b[0;31m             \u001b[0;32mreturn\u001b[0m \u001b[0mself\u001b[0m\u001b[0;34m.\u001b[0m\u001b[0m_get_item_cache\u001b[0m\u001b[0;34m(\u001b[0m\u001b[0mkey\u001b[0m\u001b[0;34m)\u001b[0m\u001b[0;34m\u001b[0m\u001b[0m\n\u001b[0m\u001b[1;32m   1972\u001b[0m \u001b[0;34m\u001b[0m\u001b[0m\n\u001b[1;32m   1973\u001b[0m         \u001b[0;31m# duplicate columns & possible reduce dimensionality\u001b[0m\u001b[0;34m\u001b[0m\u001b[0;34m\u001b[0m\u001b[0m\n",
      "\u001b[0;32m~/anaconda3/lib/python3.6/site-packages/pandas/core/generic.py\u001b[0m in \u001b[0;36m_get_item_cache\u001b[0;34m(self, item)\u001b[0m\n\u001b[1;32m   1643\u001b[0m         \u001b[0mres\u001b[0m \u001b[0;34m=\u001b[0m \u001b[0mcache\u001b[0m\u001b[0;34m.\u001b[0m\u001b[0mget\u001b[0m\u001b[0;34m(\u001b[0m\u001b[0mitem\u001b[0m\u001b[0;34m)\u001b[0m\u001b[0;34m\u001b[0m\u001b[0m\n\u001b[1;32m   1644\u001b[0m         \u001b[0;32mif\u001b[0m \u001b[0mres\u001b[0m \u001b[0;32mis\u001b[0m \u001b[0;32mNone\u001b[0m\u001b[0;34m:\u001b[0m\u001b[0;34m\u001b[0m\u001b[0m\n\u001b[0;32m-> 1645\u001b[0;31m             \u001b[0mvalues\u001b[0m \u001b[0;34m=\u001b[0m \u001b[0mself\u001b[0m\u001b[0;34m.\u001b[0m\u001b[0m_data\u001b[0m\u001b[0;34m.\u001b[0m\u001b[0mget\u001b[0m\u001b[0;34m(\u001b[0m\u001b[0mitem\u001b[0m\u001b[0;34m)\u001b[0m\u001b[0;34m\u001b[0m\u001b[0m\n\u001b[0m\u001b[1;32m   1646\u001b[0m             \u001b[0mres\u001b[0m \u001b[0;34m=\u001b[0m \u001b[0mself\u001b[0m\u001b[0;34m.\u001b[0m\u001b[0m_box_item_values\u001b[0m\u001b[0;34m(\u001b[0m\u001b[0mitem\u001b[0m\u001b[0;34m,\u001b[0m \u001b[0mvalues\u001b[0m\u001b[0;34m)\u001b[0m\u001b[0;34m\u001b[0m\u001b[0m\n\u001b[1;32m   1647\u001b[0m             \u001b[0mcache\u001b[0m\u001b[0;34m[\u001b[0m\u001b[0mitem\u001b[0m\u001b[0;34m]\u001b[0m \u001b[0;34m=\u001b[0m \u001b[0mres\u001b[0m\u001b[0;34m\u001b[0m\u001b[0m\n",
      "\u001b[0;32m~/anaconda3/lib/python3.6/site-packages/pandas/core/internals.py\u001b[0m in \u001b[0;36mget\u001b[0;34m(self, item, fastpath)\u001b[0m\n\u001b[1;32m   3588\u001b[0m \u001b[0;34m\u001b[0m\u001b[0m\n\u001b[1;32m   3589\u001b[0m             \u001b[0;32mif\u001b[0m \u001b[0;32mnot\u001b[0m \u001b[0misnull\u001b[0m\u001b[0;34m(\u001b[0m\u001b[0mitem\u001b[0m\u001b[0;34m)\u001b[0m\u001b[0;34m:\u001b[0m\u001b[0;34m\u001b[0m\u001b[0m\n\u001b[0;32m-> 3590\u001b[0;31m                 \u001b[0mloc\u001b[0m \u001b[0;34m=\u001b[0m \u001b[0mself\u001b[0m\u001b[0;34m.\u001b[0m\u001b[0mitems\u001b[0m\u001b[0;34m.\u001b[0m\u001b[0mget_loc\u001b[0m\u001b[0;34m(\u001b[0m\u001b[0mitem\u001b[0m\u001b[0;34m)\u001b[0m\u001b[0;34m\u001b[0m\u001b[0m\n\u001b[0m\u001b[1;32m   3591\u001b[0m             \u001b[0;32melse\u001b[0m\u001b[0;34m:\u001b[0m\u001b[0;34m\u001b[0m\u001b[0m\n\u001b[1;32m   3592\u001b[0m                 \u001b[0mindexer\u001b[0m \u001b[0;34m=\u001b[0m \u001b[0mnp\u001b[0m\u001b[0;34m.\u001b[0m\u001b[0marange\u001b[0m\u001b[0;34m(\u001b[0m\u001b[0mlen\u001b[0m\u001b[0;34m(\u001b[0m\u001b[0mself\u001b[0m\u001b[0;34m.\u001b[0m\u001b[0mitems\u001b[0m\u001b[0;34m)\u001b[0m\u001b[0;34m)\u001b[0m\u001b[0;34m[\u001b[0m\u001b[0misnull\u001b[0m\u001b[0;34m(\u001b[0m\u001b[0mself\u001b[0m\u001b[0;34m.\u001b[0m\u001b[0mitems\u001b[0m\u001b[0;34m)\u001b[0m\u001b[0;34m]\u001b[0m\u001b[0;34m\u001b[0m\u001b[0m\n",
      "\u001b[0;32m~/anaconda3/lib/python3.6/site-packages/pandas/core/indexes/base.py\u001b[0m in \u001b[0;36mget_loc\u001b[0;34m(self, key, method, tolerance)\u001b[0m\n\u001b[1;32m   2442\u001b[0m                 \u001b[0;32mreturn\u001b[0m \u001b[0mself\u001b[0m\u001b[0;34m.\u001b[0m\u001b[0m_engine\u001b[0m\u001b[0;34m.\u001b[0m\u001b[0mget_loc\u001b[0m\u001b[0;34m(\u001b[0m\u001b[0mkey\u001b[0m\u001b[0;34m)\u001b[0m\u001b[0;34m\u001b[0m\u001b[0m\n\u001b[1;32m   2443\u001b[0m             \u001b[0;32mexcept\u001b[0m \u001b[0mKeyError\u001b[0m\u001b[0;34m:\u001b[0m\u001b[0;34m\u001b[0m\u001b[0m\n\u001b[0;32m-> 2444\u001b[0;31m                 \u001b[0;32mreturn\u001b[0m \u001b[0mself\u001b[0m\u001b[0;34m.\u001b[0m\u001b[0m_engine\u001b[0m\u001b[0;34m.\u001b[0m\u001b[0mget_loc\u001b[0m\u001b[0;34m(\u001b[0m\u001b[0mself\u001b[0m\u001b[0;34m.\u001b[0m\u001b[0m_maybe_cast_indexer\u001b[0m\u001b[0;34m(\u001b[0m\u001b[0mkey\u001b[0m\u001b[0;34m)\u001b[0m\u001b[0;34m)\u001b[0m\u001b[0;34m\u001b[0m\u001b[0m\n\u001b[0m\u001b[1;32m   2445\u001b[0m \u001b[0;34m\u001b[0m\u001b[0m\n\u001b[1;32m   2446\u001b[0m         \u001b[0mindexer\u001b[0m \u001b[0;34m=\u001b[0m \u001b[0mself\u001b[0m\u001b[0;34m.\u001b[0m\u001b[0mget_indexer\u001b[0m\u001b[0;34m(\u001b[0m\u001b[0;34m[\u001b[0m\u001b[0mkey\u001b[0m\u001b[0;34m]\u001b[0m\u001b[0;34m,\u001b[0m \u001b[0mmethod\u001b[0m\u001b[0;34m=\u001b[0m\u001b[0mmethod\u001b[0m\u001b[0;34m,\u001b[0m \u001b[0mtolerance\u001b[0m\u001b[0;34m=\u001b[0m\u001b[0mtolerance\u001b[0m\u001b[0;34m)\u001b[0m\u001b[0;34m\u001b[0m\u001b[0m\n",
      "\u001b[0;32mpandas/_libs/index.pyx\u001b[0m in \u001b[0;36mpandas._libs.index.IndexEngine.get_loc\u001b[0;34m()\u001b[0m\n",
      "\u001b[0;32mpandas/_libs/index.pyx\u001b[0m in \u001b[0;36mpandas._libs.index.IndexEngine.get_loc\u001b[0;34m()\u001b[0m\n",
      "\u001b[0;32mpandas/_libs/hashtable_class_helper.pxi\u001b[0m in \u001b[0;36mpandas._libs.hashtable.PyObjectHashTable.get_item\u001b[0;34m()\u001b[0m\n",
      "\u001b[0;32mpandas/_libs/hashtable_class_helper.pxi\u001b[0m in \u001b[0;36mpandas._libs.hashtable.PyObjectHashTable.get_item\u001b[0;34m()\u001b[0m\n",
      "\u001b[0;31mKeyError\u001b[0m: 'age'"
     ]
    }
   ],
   "source": [
    "target_age = df_train['age'].astype('int32')\n",
    "target_gender = df_train['gender'].astype('int32')\n",
    "df_train_uid = df_train['uid']\n",
    "df_train = df_train.drop(['age', 'gender', 'uid'], axis=1)"
   ]
  },
  {
   "cell_type": "code",
   "execution_count": null,
   "metadata": {
    "collapsed": true
   },
   "outputs": [],
   "source": []
  },
  {
   "cell_type": "code",
   "execution_count": 240,
   "metadata": {
    "collapsed": true
   },
   "outputs": [],
   "source": [
    "def print_metrics(y_test, pred):\n",
    "    fpr, tpr, thresholds = metrics.roc_curve(y_test, pred)\n",
    "    print('AUC             =====> ', metrics.auc(fpr, tpr))\n",
    "    print('accuracy_score  =====> ', metrics.accuracy_score(y_test, pred))\n",
    "    print('precision_score =====> ', metrics.precision_score(y_test, pred))\n",
    "    print('recall_score    =====> ', metrics.recall_score(y_test, pred))"
   ]
  },
  {
   "cell_type": "code",
   "execution_count": 241,
   "metadata": {
    "collapsed": true
   },
   "outputs": [],
   "source": [
    "def print_metrics_for_multiclass(y_test, pred):\n",
    "    print(classification_report(y_test, pred))"
   ]
  },
  {
   "cell_type": "code",
   "execution_count": 242,
   "metadata": {},
   "outputs": [],
   "source": [
    "from sklearn.cross_validation import train_test_split"
   ]
  },
  {
   "cell_type": "markdown",
   "metadata": {},
   "source": [
    "### LogisticRegression"
   ]
  },
  {
   "cell_type": "code",
   "execution_count": 204,
   "metadata": {
    "collapsed": true
   },
   "outputs": [],
   "source": [
    "X_train, X_test, y_train, y_test = train_test_split(\n",
    "    MATRIX_FOR_FIT, \n",
    "    target_gender, \n",
    "    test_size=0.33,\n",
    "    random_state=40)"
   ]
  },
  {
   "cell_type": "code",
   "execution_count": 181,
   "metadata": {},
   "outputs": [
    {
     "name": "stdout",
     "output_type": "stream",
     "text": [
      "AUC             =====>  0.679487896982\n",
      "accuracy_score  =====>  0.68031968032\n",
      "precision_score =====>  0.687853996224\n",
      "recall_score    =====>  0.701991008349\n"
     ]
    }
   ],
   "source": [
    "from sklearn.linear_model import LogisticRegression\n",
    "lr = LogisticRegression(penalty='l1', max_iter=800)\n",
    "lr.fit(X_train, y_train)\n",
    "pred = lr.predict(X_test)\n",
    "print_metrics(y_test, pred)"
   ]
  },
  {
   "cell_type": "code",
   "execution_count": 215,
   "metadata": {
    "collapsed": true
   },
   "outputs": [],
   "source": [
    "X_train, X_test, y_train, y_test = train_test_split(\n",
    "    MATRIX_FOR_FIT, \n",
    "    target_age, \n",
    "    test_size=0.33,\n",
    "    random_state=40)"
   ]
  },
  {
   "cell_type": "code",
   "execution_count": 221,
   "metadata": {},
   "outputs": [
    {
     "name": "stdout",
     "output_type": "stream",
     "text": [
      "             precision    recall  f1-score   support\n",
      "\n",
      "          1       0.25      0.14      0.18       426\n",
      "          2       0.47      0.67      0.55      1271\n",
      "          3       0.34      0.15      0.21       752\n",
      "          4       0.17      0.14      0.15       397\n",
      "          5       0.16      0.31      0.21       157\n",
      "\n",
      "avg / total       0.35      0.37      0.34      3003\n",
      "\n"
     ]
    }
   ],
   "source": [
    "lr = LogisticRegression(penalty='l1', class_weight='balanced')\n",
    "lr.fit(X_train, y_train)\n",
    "pred = lr.predict(X_test)\n",
    "print_metrics_for_multiclass(y_test, pred)"
   ]
  },
  {
   "cell_type": "code",
   "execution_count": 205,
   "metadata": {
    "collapsed": true
   },
   "outputs": [],
   "source": [
    "from sklearn.grid_search import GridSearchCV"
   ]
  },
  {
   "cell_type": "code",
   "execution_count": 217,
   "metadata": {
    "collapsed": true
   },
   "outputs": [],
   "source": [
    "c = [10**x for x in range(-10, 16)]"
   ]
  },
  {
   "cell_type": "code",
   "execution_count": 218,
   "metadata": {
    "collapsed": true
   },
   "outputs": [],
   "source": [
    "gs = GridSearchCV(\n",
    "        LogisticRegression(),\n",
    "        param_grid = { 'penalty' : ['l1','l2'], 'C' : c},\n",
    "        scoring='roc_auc',\n",
    "        cv=5,\n",
    "        verbose=3)"
   ]
  },
  {
   "cell_type": "code",
   "execution_count": null,
   "metadata": {},
   "outputs": [],
   "source": [
    "gs.fit(X_train, y_train)"
   ]
  },
  {
   "cell_type": "code",
   "execution_count": 209,
   "metadata": {},
   "outputs": [
    {
     "data": {
      "text/plain": [
       "LogisticRegression(C=1, class_weight=None, dual=False, fit_intercept=True,\n",
       "          intercept_scaling=1, max_iter=100, multi_class='ovr', n_jobs=1,\n",
       "          penalty='l2', random_state=None, solver='liblinear', tol=0.0001,\n",
       "          verbose=0, warm_start=False)"
      ]
     },
     "execution_count": 209,
     "metadata": {},
     "output_type": "execute_result"
    }
   ],
   "source": [
    "gs.best_estimator_"
   ]
  },
  {
   "cell_type": "code",
   "execution_count": 210,
   "metadata": {
    "scrolled": true
   },
   "outputs": [
    {
     "data": {
      "text/plain": [
       "{'C': 1, 'penalty': 'l2'}"
      ]
     },
     "execution_count": 210,
     "metadata": {},
     "output_type": "execute_result"
    }
   ],
   "source": [
    "gs.best_params_"
   ]
  },
  {
   "cell_type": "code",
   "execution_count": 211,
   "metadata": {},
   "outputs": [
    {
     "data": {
      "text/plain": [
       "0.7343916290444319"
      ]
     },
     "execution_count": 211,
     "metadata": {},
     "output_type": "execute_result"
    }
   ],
   "source": [
    "gs.best_score_"
   ]
  },
  {
   "cell_type": "code",
   "execution_count": 212,
   "metadata": {},
   "outputs": [
    {
     "name": "stdout",
     "output_type": "stream",
     "text": [
      "AUC             =====>  0.687047119554\n",
      "accuracy_score  =====>  0.688311688312\n",
      "precision_score =====>  0.691076923077\n",
      "recall_score    =====>  0.721258831085\n"
     ]
    }
   ],
   "source": [
    "X_train, X_test, y_train, y_test = train_test_split(\n",
    "    MATRIX_FOR_FIT, \n",
    "    target_gender, \n",
    "    test_size=0.33,\n",
    "    random_state=40)\n",
    "\n",
    "lr = LogisticRegression(C=1, class_weight=None, dual=False, fit_intercept=True,\n",
    "          intercept_scaling=1, max_iter=100, multi_class='ovr', n_jobs=1,\n",
    "          penalty='l2', random_state=None, solver='liblinear', tol=0.0001,\n",
    "          verbose=0, warm_start=False)\n",
    "lr.fit(X_train, y_train)\n",
    "pred = lr.predict(X_test)\n",
    "print_metrics(y_test, pred)"
   ]
  },
  {
   "cell_type": "markdown",
   "metadata": {},
   "source": [
    "### RandomForestClassifier"
   ]
  },
  {
   "cell_type": "code",
   "execution_count": 194,
   "metadata": {
    "collapsed": true
   },
   "outputs": [],
   "source": [
    "X_train, X_test, y_train, y_test = train_test_split(\n",
    "    MATRIX_FOR_FIT, \n",
    "    target_gender, \n",
    "    test_size=0.33,\n",
    "    random_state=40)"
   ]
  },
  {
   "cell_type": "code",
   "execution_count": 195,
   "metadata": {},
   "outputs": [
    {
     "name": "stdout",
     "output_type": "stream",
     "text": [
      "AUC             =====>  0.666150992573\n",
      "accuracy_score  =====>  0.667665667666\n",
      "precision_score =====>  0.670115642118\n",
      "recall_score    =====>  0.707129094412\n"
     ]
    }
   ],
   "source": [
    "from sklearn.ensemble import RandomForestClassifier\n",
    "rfc = RandomForestClassifier(n_estimators=100, class_weight='balanced', random_state=0, n_jobs=-1)\n",
    "rfc.fit(X_train, y_train) \n",
    "pred = rfc.predict(X_test)\n",
    "print_metrics(y_test, pred)"
   ]
  },
  {
   "cell_type": "code",
   "execution_count": 201,
   "metadata": {
    "collapsed": true
   },
   "outputs": [],
   "source": [
    "X_train, X_test, y_train, y_test = train_test_split(\n",
    "    MATRIX_FOR_FIT, \n",
    "    target_age, \n",
    "    test_size=0.33,\n",
    "    random_state=40)"
   ]
  },
  {
   "cell_type": "code",
   "execution_count": 198,
   "metadata": {},
   "outputs": [
    {
     "name": "stdout",
     "output_type": "stream",
     "text": [
      "             precision    recall  f1-score   support\n",
      "\n",
      "          1       0.23      0.07      0.10       426\n",
      "          2       0.45      0.82      0.58      1271\n",
      "          3       0.33      0.16      0.22       752\n",
      "          4       0.21      0.07      0.10       397\n",
      "          5       0.20      0.06      0.09       157\n",
      "\n",
      "avg / total       0.34      0.41      0.33      3003\n",
      "\n"
     ]
    }
   ],
   "source": [
    "rfc = RandomForestClassifier(n_estimators=100, class_weight='balanced', random_state=0, n_jobs=-1)\n",
    "rfc.fit(X_train, y_train) \n",
    "pred = rfc.predict(X_test)\n",
    "print_metrics_for_multiclass(y_test, pred)"
   ]
  },
  {
   "cell_type": "markdown",
   "metadata": {},
   "source": [
    "### GradientBoostingClassifier"
   ]
  },
  {
   "cell_type": "markdown",
   "metadata": {},
   "source": [
    "- Gender"
   ]
  },
  {
   "cell_type": "code",
   "execution_count": 199,
   "metadata": {
    "collapsed": true
   },
   "outputs": [],
   "source": [
    "X_train, X_test, y_train, y_test = train_test_split(\n",
    "    MATRIX_FOR_FIT, \n",
    "    target_gender, \n",
    "    test_size=0.33,\n",
    "    random_state=42)"
   ]
  },
  {
   "cell_type": "code",
   "execution_count": 200,
   "metadata": {},
   "outputs": [
    {
     "name": "stdout",
     "output_type": "stream",
     "text": [
      "AUC             =====>  0.669789915966\n",
      "accuracy_score  =====>  0.668331668332\n",
      "precision_score =====>  0.701461377871\n",
      "recall_score    =====>  0.64\n"
     ]
    }
   ],
   "source": [
    "from sklearn.ensemble import GradientBoostingClassifier\n",
    "rfc = GradientBoostingClassifier(n_estimators=100, random_state=0)\n",
    "rfc.fit(X_train, y_train) \n",
    "pred = rfc.predict(X_test)\n",
    "print_metrics(y_test, pred)"
   ]
  },
  {
   "cell_type": "markdown",
   "metadata": {},
   "source": [
    "- Age"
   ]
  },
  {
   "cell_type": "code",
   "execution_count": 202,
   "metadata": {
    "collapsed": true
   },
   "outputs": [],
   "source": [
    "X_train, X_test, y_train, y_test = train_test_split(\n",
    "    MATRIX_FOR_FIT, \n",
    "    target_age, \n",
    "    test_size=0.33,\n",
    "    random_state=42)"
   ]
  },
  {
   "cell_type": "code",
   "execution_count": 203,
   "metadata": {},
   "outputs": [
    {
     "name": "stdout",
     "output_type": "stream",
     "text": [
      "             precision    recall  f1-score   support\n",
      "\n",
      "          1       0.20      0.03      0.05       428\n",
      "          2       0.43      0.89      0.58      1228\n",
      "          3       0.33      0.12      0.18       761\n",
      "          4       0.16      0.03      0.05       427\n",
      "          5       0.16      0.03      0.05       159\n",
      "\n",
      "avg / total       0.32      0.40      0.30      3003\n",
      "\n"
     ]
    }
   ],
   "source": [
    "from sklearn.ensemble import GradientBoostingClassifier\n",
    "rfc = GradientBoostingClassifier(n_estimators=100, random_state=0)\n",
    "rfc.fit(X_train, y_train) \n",
    "pred = rfc.predict(X_test)\n",
    "print_metrics_for_multiclass(y_test, pred)"
   ]
  },
  {
   "cell_type": "markdown",
   "metadata": {},
   "source": [
    "### Обучаем на всем наборе"
   ]
  },
  {
   "cell_type": "markdown",
   "metadata": {},
   "source": [
    "- Gender"
   ]
  },
  {
   "cell_type": "code",
   "execution_count": 254,
   "metadata": {},
   "outputs": [
    {
     "data": {
      "text/plain": [
       "RandomForestClassifier(bootstrap=True, class_weight='balanced',\n",
       "            criterion='gini', max_depth=None, max_features='auto',\n",
       "            max_leaf_nodes=None, min_impurity_decrease=0.0,\n",
       "            min_impurity_split=None, min_samples_leaf=1,\n",
       "            min_samples_split=2, min_weight_fraction_leaf=0.0,\n",
       "            n_estimators=1000, n_jobs=-1, oob_score=False,\n",
       "            random_state=None, verbose=0, warm_start=False)"
      ]
     },
     "execution_count": 254,
     "metadata": {},
     "output_type": "execute_result"
    }
   ],
   "source": [
    "rfc_gender = GradientBoostingClassifier(n_estimators=100)\n",
    "rfc_gender.fit(MATRIX_FOR_FIT, target_gender) "
   ]
  },
  {
   "cell_type": "markdown",
   "metadata": {},
   "source": [
    "- Age"
   ]
  },
  {
   "cell_type": "code",
   "execution_count": 255,
   "metadata": {},
   "outputs": [
    {
     "data": {
      "text/plain": [
       "RandomForestClassifier(bootstrap=True, class_weight='balanced',\n",
       "            criterion='gini', max_depth=None, max_features='auto',\n",
       "            max_leaf_nodes=None, min_impurity_decrease=0.0,\n",
       "            min_impurity_split=None, min_samples_leaf=1,\n",
       "            min_samples_split=2, min_weight_fraction_leaf=0.0,\n",
       "            n_estimators=1000, n_jobs=-1, oob_score=False,\n",
       "            random_state=None, verbose=0, warm_start=False)"
      ]
     },
     "execution_count": 255,
     "metadata": {},
     "output_type": "execute_result"
    }
   ],
   "source": [
    "rfc_age = GradientBoostingClassifier(n_estimators=100)\n",
    "rfc_age.fit(MATRIX_FOR_FIT, target_age) "
   ]
  },
  {
   "cell_type": "markdown",
   "metadata": {},
   "source": [
    "### PREDICT"
   ]
  },
  {
   "cell_type": "markdown",
   "metadata": {},
   "source": [
    "- Gender"
   ]
  },
  {
   "cell_type": "code",
   "execution_count": 256,
   "metadata": {
    "collapsed": true
   },
   "outputs": [],
   "source": [
    "pred_gender = rfc_gender.predict(MATRIX_FOR_PREDICT)"
   ]
  },
  {
   "cell_type": "markdown",
   "metadata": {},
   "source": [
    "- Age"
   ]
  },
  {
   "cell_type": "code",
   "execution_count": 257,
   "metadata": {
    "collapsed": true
   },
   "outputs": [],
   "source": [
    "pred_age = rfc_age.predict(MATRIX_FOR_PREDICT)"
   ]
  },
  {
   "cell_type": "markdown",
   "metadata": {},
   "source": [
    "### Формируем результат"
   ]
  },
  {
   "cell_type": "code",
   "execution_count": 258,
   "metadata": {
    "collapsed": true
   },
   "outputs": [],
   "source": [
    "pre_result = pd.DataFrame()\n",
    "pre_result['uid'] = df_predict_uid\n",
    "pre_result['gender'] = pred_gender\n",
    "pre_result['age'] = pred_age"
   ]
  },
  {
   "cell_type": "markdown",
   "metadata": {},
   "source": [
    "#### обратная перекодировка значений"
   ]
  },
  {
   "cell_type": "code",
   "execution_count": 259,
   "metadata": {
    "collapsed": true
   },
   "outputs": [],
   "source": [
    "genders = {1 : 'M', 0 : 'F'}\n",
    "pre_result[\"gender\"] = pre_result[\"gender\"].apply(lambda x: genders.get(x))"
   ]
  },
  {
   "cell_type": "code",
   "execution_count": 260,
   "metadata": {
    "collapsed": true
   },
   "outputs": [],
   "source": [
    "ages = {1 :'18-24', 2 :'25-34', 3 : '35-44', 4 : '45-54', 5 :'>=55'}\n",
    "pre_result[\"age\"] = pre_result[\"age\"].apply(lambda x: ages.get(x))"
   ]
  },
  {
   "cell_type": "markdown",
   "metadata": {},
   "source": [
    "#### слияние с полным списком uid"
   ]
  },
  {
   "cell_type": "code",
   "execution_count": 261,
   "metadata": {
    "collapsed": true
   },
   "outputs": [],
   "source": [
    "result = pd.DataFrame()\n",
    "result['uid'] = df_predict_ALL_uid[36138:]\n",
    "result = pd.merge(result, pre_result, how='left', on='uid')\n",
    "result = result.fillna('-')"
   ]
  },
  {
   "cell_type": "code",
   "execution_count": 262,
   "metadata": {
    "collapsed": true
   },
   "outputs": [],
   "source": [
    "sorted_res = result.sort_values(by='uid')"
   ]
  },
  {
   "cell_type": "code",
   "execution_count": 263,
   "metadata": {
    "collapsed": true
   },
   "outputs": [],
   "source": [
    "sorted_res.to_csv('project01_gender-age.csv', sep='\\t', index=False)"
   ]
  },
  {
   "cell_type": "code",
   "execution_count": 264,
   "metadata": {},
   "outputs": [
    {
     "data": {
      "text/html": [
       "<div>\n",
       "<style>\n",
       "    .dataframe thead tr:only-child th {\n",
       "        text-align: right;\n",
       "    }\n",
       "\n",
       "    .dataframe thead th {\n",
       "        text-align: left;\n",
       "    }\n",
       "\n",
       "    .dataframe tbody tr th {\n",
       "        vertical-align: top;\n",
       "    }\n",
       "</style>\n",
       "<table border=\"1\" class=\"dataframe\">\n",
       "  <thead>\n",
       "    <tr style=\"text-align: right;\">\n",
       "      <th></th>\n",
       "      <th>uid</th>\n",
       "      <th>gender</th>\n",
       "      <th>age</th>\n",
       "    </tr>\n",
       "  </thead>\n",
       "  <tbody>\n",
       "    <tr>\n",
       "      <th>1675</th>\n",
       "      <td>0000e7ca-32e6-4bef-bdca-e21c025071ff</td>\n",
       "      <td>F</td>\n",
       "      <td>25-34</td>\n",
       "    </tr>\n",
       "    <tr>\n",
       "      <th>1676</th>\n",
       "      <td>0000f3cf-6e9a-4eab-92f4-cefdad108c83</td>\n",
       "      <td>F</td>\n",
       "      <td>25-34</td>\n",
       "    </tr>\n",
       "    <tr>\n",
       "      <th>1677</th>\n",
       "      <td>000381a6-0400-40f8-98c0-93a6c0852d2d</td>\n",
       "      <td>M</td>\n",
       "      <td>35-44</td>\n",
       "    </tr>\n",
       "    <tr>\n",
       "      <th>1678</th>\n",
       "      <td>00062d89-a3ba-40dd-9a25-212c9f429133</td>\n",
       "      <td>F</td>\n",
       "      <td>&gt;=55</td>\n",
       "    </tr>\n",
       "    <tr>\n",
       "      <th>1679</th>\n",
       "      <td>0009233e-a0c2-438e-ac36-bd3e1b7dad1e</td>\n",
       "      <td>-</td>\n",
       "      <td>-</td>\n",
       "    </tr>\n",
       "  </tbody>\n",
       "</table>\n",
       "</div>"
      ],
      "text/plain": [
       "                                       uid gender    age\n",
       "1675  0000e7ca-32e6-4bef-bdca-e21c025071ff      F  25-34\n",
       "1676  0000f3cf-6e9a-4eab-92f4-cefdad108c83      F  25-34\n",
       "1677  000381a6-0400-40f8-98c0-93a6c0852d2d      M  35-44\n",
       "1678  00062d89-a3ba-40dd-9a25-212c9f429133      F   >=55\n",
       "1679  0009233e-a0c2-438e-ac36-bd3e1b7dad1e      -      -"
      ]
     },
     "execution_count": 264,
     "metadata": {},
     "output_type": "execute_result"
    }
   ],
   "source": [
    "sorted_res.head()"
   ]
  },
  {
   "cell_type": "code",
   "execution_count": null,
   "metadata": {
    "collapsed": true
   },
   "outputs": [],
   "source": []
  },
  {
   "cell_type": "code",
   "execution_count": null,
   "metadata": {
    "collapsed": true
   },
   "outputs": [],
   "source": []
  }
 ],
 "metadata": {
  "kernelspec": {
   "display_name": "Python 3",
   "language": "python",
   "name": "python3"
  },
  "language_info": {
   "codemirror_mode": {
    "name": "ipython",
    "version": 3
   },
   "file_extension": ".py",
   "mimetype": "text/x-python",
   "name": "python",
   "nbconvert_exporter": "python",
   "pygments_lexer": "ipython3",
   "version": "3.6.2"
  }
 },
 "nbformat": 4,
 "nbformat_minor": 2
}

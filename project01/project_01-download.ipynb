{
 "cells": [
  {
   "cell_type": "code",
   "execution_count": 17,
   "metadata": {
    "collapsed": true
   },
   "outputs": [],
   "source": [
    "import warnings\n",
    "warnings.simplefilter('ignore')"
   ]
  },
  {
   "cell_type": "code",
   "execution_count": 1,
   "metadata": {
    "collapsed": true
   },
   "outputs": [],
   "source": [
    "from urllib import request as req\n",
    "\n",
    "data_dir = '/Users/ssv/newprolab/project01'\n",
    "filename = 'gender_age_dataset.txt'\n",
    "file_path = '/'.join([data_dir, filename])\n",
    "url = 'http://data.newprolab.com/data-newprolab-com/project01/' + filename\n",
    "\n",
    "# req.urlretrieve(url, file_path)"
   ]
  },
  {
   "cell_type": "code",
   "execution_count": 13,
   "metadata": {
    "collapsed": true
   },
   "outputs": [],
   "source": [
    "import pandas as pd\n",
    "import json\n",
    "from urllib.parse import urlparse\n",
    "from datetime import datetime\n",
    "from tqdm import tqdm_notebook\n",
    "import pickle"
   ]
  },
  {
   "cell_type": "code",
   "execution_count": 3,
   "metadata": {
    "collapsed": true
   },
   "outputs": [],
   "source": [
    "pd.set_option('display.max_columns', 200)\n",
    "pd.set_option('display.max_rows', 200)"
   ]
  },
  {
   "cell_type": "code",
   "execution_count": 4,
   "metadata": {
    "collapsed": true
   },
   "outputs": [],
   "source": [
    "df = pd.read_csv(file_path, sep='\\t')"
   ]
  },
  {
   "cell_type": "code",
   "execution_count": 6,
   "metadata": {
    "collapsed": true
   },
   "outputs": [],
   "source": [
    "df['user_json'] = df['user_json'].apply(lambda x: json.loads(x))"
   ]
  },
  {
   "cell_type": "code",
   "execution_count": 7,
   "metadata": {
    "collapsed": true
   },
   "outputs": [],
   "source": [
    "df['url_counts'] = df['user_json'].apply(lambda x: len(x['visits']))"
   ]
  },
  {
   "cell_type": "code",
   "execution_count": 8,
   "metadata": {
    "collapsed": true
   },
   "outputs": [],
   "source": [
    "#  Формирование столбца, содержащего массив распарсенных урлов, \n",
    "#  тип ParseResult(scheme='http', netloc='zebra-zoya.ru', \n",
    "#  path='/200028-chehol-organayzer-dlja-macbook-11-grid-it.html', \n",
    "#  params='', query='utm_campaign=397720794&utm_content=397729344&utm_medium=cpc&utm_source=begun', fragment='')\n",
    "\n",
    "df['url_list'] = df['user_json'].apply(lambda x: [urlparse(x['url']) for x in x['visits']])"
   ]
  },
  {
   "cell_type": "code",
   "execution_count": 9,
   "metadata": {
    "collapsed": true
   },
   "outputs": [],
   "source": [
    "#  Формирование столбца, содержащего массив дат, полученных из timestamp, \n",
    "#  тип datetime.datetime(2015, 3, 24, 10, 25, 44)\n",
    "df['ts_list'] = df['user_json'].apply(lambda x: \\\n",
    "                                       [datetime.fromtimestamp(int(float(str(x['timestamp'])[:10] + \\\n",
    "                                                            '.' + str(x['timestamp'])[10:13]))) \\\n",
    "                                        for x in x['visits']])"
   ]
  },
  {
   "cell_type": "code",
   "execution_count": 10,
   "metadata": {
    "collapsed": true
   },
   "outputs": [],
   "source": [
    "# Выбор уникальных урлов из массива распарсенных урлов, ParseResult.netloc (str)\n",
    "df['url_netloc'] = df['url_list'].apply(lambda x: list(set([y.scheme + '://' + y.netloc for y in x ])))"
   ]
  },
  {
   "cell_type": "code",
   "execution_count": 13,
   "metadata": {
    "collapsed": true
   },
   "outputs": [],
   "source": [
    "#========================================================"
   ]
  },
  {
   "cell_type": "code",
   "execution_count": 11,
   "metadata": {},
   "outputs": [
    {
     "data": {
      "application/vnd.jupyter.widget-view+json": {
       "model_id": "205eb909b07d44bb9074873fd543e44a",
       "version_major": 2,
       "version_minor": 0
      },
      "text/plain": [
       "A Jupyter Widget"
      ]
     },
     "metadata": {},
     "output_type": "display_data"
    },
    {
     "name": "stdout",
     "output_type": "stream",
     "text": [
      "\n"
     ]
    }
   ],
   "source": [
    "# Перекодировка урлов x.encode('idna').decode('idna') с очисткой от мусора \n",
    "\n",
    "i = 0\n",
    "for items in tqdm_notebook(df['url_netloc']):    \n",
    "    for netloc in items:\n",
    "        try:\n",
    "            netloc.encode('idna').decode('idna')\n",
    "        except:           \n",
    "            df['url_netloc'][i].remove(netloc)\n",
    "            # print('netloc -- {} ==>'.format(i), netloc)\n",
    "            netloc = ''\n",
    "            continue     \n",
    "    i += 1"
   ]
  },
  {
   "cell_type": "code",
   "execution_count": 46,
   "metadata": {
    "collapsed": true
   },
   "outputs": [],
   "source": [
    "import pickle\n",
    "with open('url_for_scraping.pickle', 'wb') as file:\n",
    "    pickle.dump(url_for_scraping, file)"
   ]
  },
  {
   "cell_type": "code",
   "execution_count": null,
   "metadata": {
    "collapsed": true
   },
   "outputs": [],
   "source": [
    "# with open('url_for_scraping.pickle', 'rb') as file:\n",
    "#     url_for_scraping = pickle.load(file)"
   ]
  },
  {
   "cell_type": "code",
   "execution_count": 28,
   "metadata": {
    "collapsed": true
   },
   "outputs": [],
   "source": [
    "df_med_keywords = pd.DataFrame()\n",
    "df_med_keywords[['uid', 'url_netloc']] = df[['uid', 'url_netloc']]\n",
    "df_med_keywords['raw_keywords'] = ''"
   ]
  },
  {
   "cell_type": "code",
   "execution_count": 29,
   "metadata": {},
   "outputs": [
    {
     "data": {
      "text/plain": [
       "Index(['uid', 'url_netloc', 'raw_keywords'], dtype='object')"
      ]
     },
     "execution_count": 29,
     "metadata": {},
     "output_type": "execute_result"
    }
   ],
   "source": [
    "df_med_keywords.columns"
   ]
  },
  {
   "cell_type": "code",
   "execution_count": null,
   "metadata": {},
   "outputs": [],
   "source": [
    "from urllib.request import urlopen\n",
    "from bs4 import BeautifulSoup\n",
    "from tqdm import tqdm_notebook\n",
    "\n",
    "i = 0\n",
    "for index, row in tqdm_notebook(df_med_keywords.iterrows()):\n",
    "    keywords = []\n",
    "    tag = ''\n",
    "    for url in row['url_netloc']:\n",
    "        try:\n",
    "            html = BeautifulSoup(urlopen(url).read())        \n",
    "            tag = html.find('meta', {'name':'description'})    \n",
    "            if tag != None:\n",
    "                keywords.append(tag.attrs['content'])\n",
    "            tag = html.find('meta', {'name':'keywords'})    \n",
    "            if tag != None:\n",
    "                keywords.append(tag.attrs['content'])    \n",
    "        except:\n",
    "            continue\n",
    "            \n",
    "    df_med_keywords.loc[index]['raw_keywords'] = keywords\n",
    "\n",
    "    i += 1\n",
    "    if i == 1000 or index == 41137:\n",
    "        i = 0\n",
    "        filename = 'keywords_' + str(index) + '.pickle'\n",
    "        with open(filename, 'wb') as file:\n",
    "            pickle.dump(df_med_keywords, file)\n",
    "            \n",
    "with open('df_med_keywords.pickle', 'wb') as file:\n",
    "    pickle.dump('df_med_keywords.pickle', file)            "
   ]
  },
  {
   "cell_type": "code",
   "execution_count": 47,
   "metadata": {},
   "outputs": [
    {
     "name": "stdout",
     "output_type": "stream",
     "text": [
      "['Новости информационного агентства Интерфакс: Нападение на ведущую Эха Москвы, Референдум в Каталонии, Дело Алексея Улюкаева, Крах ВИМ-Авиа, Дипломатическая война с США', 'EuroAvtoprokat.Ru предлагает лучшие цены на прокат автомобилей в Европе, аренда автомобилей со скидками во всех крупнейших городах и аэропортах Испании, Италии, Германии, Швейцарии, Швеции и др.', 'автопрокат, прокат автомобилей, аренда автомобилей, прокат машин, бронирование авто, авто на прокат, испании, италии, швейцарии, германии, sixt, hertz, budget, avis, europcar', 'car rental', 'Android в России: Новости, советы, помощь', 'android телефон планшет не работает помощь проблема', 'Ответы на сканворды. Значение слова Ответы на сканворды. Ответы на кроссворды и сканворды. Поиск слов по маске. Слова из 5 букв.', 'слова 5 из букв, поиск по маске, Ответы на сканворды, подобрать слово, разгадать слово, разгадать сканворд, кроссворд', 'This is a user-to-user discussion forum', 'forum,bbs,discussion,bulletin board,Net TV,Blu-ray,TV,Sound,MyRemote,Smart TV', 'Телеканал «Россия 1» онлайн - официальный сайт - RUSSIA.TV. Смотрите прямой эфир телеканала. Архив видео. Телепрограмма на сегодня и на неделю. Сериалы, кино, шоу', 'сайт телеканал Россия 1, смотреть бесплатно, онлайн, видео online, смотреть онлайн, прямой эфир, телепрограмма, программа передач, Russia.tv, телевидение, тв, сериал, документальный фильм, кино, фильм, фото', '101.ru: Вы можете слушать любимую радиостанцию в онлайн режиме из дома, с работы, в дороге всего лишь запустив наш радио-плеер в любом браузере. Присоединяйтесь к сообществу любителей хорошей музыки на 101.ru!', 'радио, онлайн, интернет, музыка, видео, клипы, новости, радиостанция, слушать', 'Аналитические обзоры компьютеров и комплектующих, новости и цены компьютерного рынка - Ferra.ru', 'iphone, компьютеры, lightscribe, sony ericsson, ferra.ru, software, hardware, коммуникаторы, iphone 3g', 'Познакомиться с парнем для секса, найти парня или добавить анкету. Знакомства без регистрации,\\r\\n   бесплатно и без смс, виртуальный секс с парнем. Онлайн обмен интимными фотографиями, откровенные темы. Реальные знакомства и 100% анонимность.', 'бесплатные знакомства, знакомства без регистрации, знакомства бесплатно, секс знакомства без смс, секс, знакомства, секс знакомства, знакомства для секса', \"Fodor's provides expert travel content worth exploring so you can dream up your next trip. The world is a weird and wonderful place—we want to show you around.\", 'Сайт поиска работы rabota.ua. Удобные фильтры, качественная база вакансий и резюме - найди лучшую работу у нас!', 'Торги на рынке форекс для начинающих, полезная информация трейдерам. Рынок форекс для начинающих и продвинутых трейдеров. Вся информация о торгах на форекс.', 'торги на форекс, рынок форекс, forex', 'Сеть супермаркетов цифровой техники DNS: Ноутбуки, Компьютеры, Мониторы, Сотовые, широкий выбор, низкие цены', 'купить, ноутбуки, компьютеры, мониторы, сотовые телефоны, продажа, широкий выбор, низкие цены, Сеть супермаркетов цифровой и бытовой техники DNS, Intel, AMD, Nvidia, Acer, Asus, Samsung, SONY, HP, LG, Nokia, Canon, Epson, Benq, Brother, Dell, ViewSonic, Fujitsu-Siemens, Gigabyte, Toshiba, Microsoft, WD, Philips, Olympus, MSI', 'Хотите арендовать автомобиль? Искать больше не нужно — вы всегда найдете лучшее и наиболее выгодное предложение на Avtoprokat.ru!', 'Аренда авто, прокат авто, автопрокат, аренда машин, аренда авто в Европе, прокат авто в Европе, аренда машины в Европе', '', '', 'Awwwards are the Website Awards that recognize and promote the talent and effort of the best developers, designers and web agencies in the world.']\n"
     ]
    }
   ],
   "source": [
    "print(df_med_keywords.loc[1]['raw_keywords'])\n",
    "\n"
   ]
  },
  {
   "cell_type": "code",
   "execution_count": 42,
   "metadata": {},
   "outputs": [
    {
     "data": {
      "text/plain": [
       "['Zebra Zoya – магазин креативных подарков и стильных товаров для дома. Только качественные товары от лучших мировых брендов. А именно: подарки, товары для кухни и быта, косметика, товары для детей и многое другое.',\n",
       " 'Зебра Зоя,интернет магазин,интернет гипермаркет,товары для дома,товары для кухни,подарки,Магазин подарков,магазин товаров для дома',\n",
       " 'Последние новости в Яндекс.Новостях: Актуальные новости России, регионов и областей, важные и свежие новости дня.',\n",
       " '']"
      ]
     },
     "execution_count": 42,
     "metadata": {},
     "output_type": "execute_result"
    }
   ],
   "source": [
    "df_med_keywords.loc[0]['raw_keywords']"
   ]
  },
  {
   "cell_type": "code",
   "execution_count": 38,
   "metadata": {},
   "outputs": [
    {
     "data": {
      "text/plain": [
       "['gghghghg', 'hghghghgh']"
      ]
     },
     "execution_count": 38,
     "metadata": {},
     "output_type": "execute_result"
    }
   ],
   "source": [
    "df_med_keywords.loc[1]['raw_keywords']"
   ]
  },
  {
   "cell_type": "code",
   "execution_count": 57,
   "metadata": {},
   "outputs": [
    {
     "name": "stdout",
     "output_type": "stream",
     "text": [
      "['http://www.babla.ru', 'http://rdmservice.ru', 'http://go.youlamedia.com', 'http://cekctube.net', 'http://www.mamba.ru', 'http://helpanu.ru', 'http://www.wordreference.com', 'http://www.1zoom.ru', 'https://www.google.com', 'http://perdos.ru', 'http://www.androidlost.com', 'http://spinet.ru', 'http://otzovik.com', 'http://www.bolshoyvopros.ru', 'http://www.intellicast.com', 'http://uhhan.ru', 'http://www.calend.ru', 'http://ymka.tv', 'http://wikibit.me', 'https://topface.com', 'http://yamagu.ru', 'http://zdanie.info', 'http://topface.com', 'http://calculatori.ru', 'http://operatorgid.ru']\n"
     ]
    }
   ],
   "source": [
    "print(df.loc[1725]['url_netloc'])"
   ]
  },
  {
   "cell_type": "code",
   "execution_count": null,
   "metadata": {
    "collapsed": true
   },
   "outputs": [],
   "source": []
  }
 ],
 "metadata": {
  "kernelspec": {
   "display_name": "Python 3",
   "language": "python",
   "name": "python3"
  },
  "language_info": {
   "codemirror_mode": {
    "name": "ipython",
    "version": 3
   },
   "file_extension": ".py",
   "mimetype": "text/x-python",
   "name": "python",
   "nbconvert_exporter": "python",
   "pygments_lexer": "ipython3",
   "version": "3.6.2"
  }
 },
 "nbformat": 4,
 "nbformat_minor": 2
}

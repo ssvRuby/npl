{
 "cells": [
  {
   "cell_type": "code",
   "execution_count": 6,
   "metadata": {
    "collapsed": true
   },
   "outputs": [],
   "source": [
    "import warnings\n",
    "warnings.simplefilter('ignore')"
   ]
  },
  {
   "cell_type": "code",
   "execution_count": 10,
   "metadata": {
    "collapsed": true
   },
   "outputs": [],
   "source": [
    "pd.set_option('display.max_columns', 200)\n",
    "pd.set_option('display.max_rows', 200)"
   ]
  },
  {
   "cell_type": "code",
   "execution_count": 7,
   "metadata": {
    "collapsed": true
   },
   "outputs": [],
   "source": [
    "from urllib import request as req\n",
    "\n",
    "data_dir = '/Users/ssv/newprolab/project01'\n",
    "filename = 'gender_age_dataset.txt'\n",
    "file_path = '/'.join([data_dir, filename])\n",
    "url = 'http://data.newprolab.com/data-newprolab-com/project01/' + filename\n",
    "\n",
    "# req.urlretrieve(url, file_path)"
   ]
  },
  {
   "cell_type": "code",
   "execution_count": 19,
   "metadata": {
    "collapsed": true
   },
   "outputs": [],
   "source": [
    "import pandas as pd\n",
    "import json\n",
    "from urllib.parse import urlparse\n",
    "from datetime import datetime\n",
    "\n",
    "from tqdm import tqdm_notebook"
   ]
  },
  {
   "cell_type": "code",
   "execution_count": 9,
   "metadata": {
    "collapsed": true
   },
   "outputs": [],
   "source": [
    "df = pd.read_csv(file_path, sep='\\t')"
   ]
  },
  {
   "cell_type": "code",
   "execution_count": 11,
   "metadata": {
    "collapsed": true
   },
   "outputs": [],
   "source": [
    "def encode_rf(x):\n",
    "    return x.encode('idna').decode('idna')  "
   ]
  },
  {
   "cell_type": "code",
   "execution_count": null,
   "metadata": {
    "collapsed": true
   },
   "outputs": [],
   "source": [
    "df.shape"
   ]
  },
  {
   "cell_type": "code",
   "execution_count": 12,
   "metadata": {
    "collapsed": true
   },
   "outputs": [],
   "source": [
    "df['user_json'] = df['user_json'].apply(lambda x: json.loads(x))"
   ]
  },
  {
   "cell_type": "code",
   "execution_count": 13,
   "metadata": {
    "collapsed": true
   },
   "outputs": [],
   "source": [
    "df['url_counts'] = df['user_json'].apply(lambda x: len(x['visits']))"
   ]
  },
  {
   "cell_type": "code",
   "execution_count": null,
   "metadata": {
    "collapsed": true
   },
   "outputs": [],
   "source": [
    "#========================================================\n",
    "# Оцифровка значений пола и возраста\n",
    "# Разбиение датасета \n",
    "#========================================================"
   ]
  },
  {
   "cell_type": "code",
   "execution_count": null,
   "metadata": {
    "collapsed": true
   },
   "outputs": [],
   "source": [
    "ages = {'18-24': 1, '25-34': 2, '35-44': 3, '45-54': 4, '>=55': 5}\n",
    "df[\"age\"] = df[\"age\"].apply(lambda x: ages.get(x, '-'))"
   ]
  },
  {
   "cell_type": "code",
   "execution_count": null,
   "metadata": {
    "collapsed": true
   },
   "outputs": [],
   "source": [
    "genders = {'M': 1, 'F': 0}\n",
    "df[\"gender\"] = df[\"gender\"].apply(lambda x: genders.get(x, '-'))\n"
   ]
  },
  {
   "cell_type": "code",
   "execution_count": null,
   "metadata": {
    "collapsed": true
   },
   "outputs": [],
   "source": [
    "test_test_df = df[df['age'] == '-'][df['gender'] == '-']"
   ]
  },
  {
   "cell_type": "code",
   "execution_count": null,
   "metadata": {
    "collapsed": true
   },
   "outputs": [],
   "source": [
    "test_test_df.shape"
   ]
  },
  {
   "cell_type": "code",
   "execution_count": null,
   "metadata": {
    "collapsed": true
   },
   "outputs": [],
   "source": [
    "df = df.drop((df[df['age'] == '-'][df['gender'] == '-']).index)"
   ]
  },
  {
   "cell_type": "code",
   "execution_count": null,
   "metadata": {
    "collapsed": true
   },
   "outputs": [],
   "source": [
    "#====================================================================="
   ]
  },
  {
   "cell_type": "code",
   "execution_count": 15,
   "metadata": {
    "collapsed": true
   },
   "outputs": [],
   "source": [
    "#  Формирование столбца, содержащего массив распарсенных урлов, \n",
    "#  тип ParseResult(scheme='http', netloc='zebra-zoya.ru', \n",
    "#  path='/200028-chehol-organayzer-dlja-macbook-11-grid-it.html', \n",
    "#  params='', query='utm_campaign=397720794&utm_content=397729344&utm_medium=cpc&utm_source=begun', fragment='')\n",
    "\n",
    "df['url_list'] = df['user_json'].apply(lambda x: [urlparse(x['url']) for x in x['visits']])"
   ]
  },
  {
   "cell_type": "code",
   "execution_count": 16,
   "metadata": {
    "collapsed": true
   },
   "outputs": [],
   "source": [
    "#  Формирование столбца, содержащего массив дат, полученных из timestamp, \n",
    "#  тип datetime.datetime(2015, 3, 24, 10, 25, 44)\n",
    "df['ts_list'] = df['user_json'].apply(lambda x: \\\n",
    "                                       [datetime.fromtimestamp(int(float(str(x['timestamp'])[:10] + \\\n",
    "                                                            '.' + str(x['timestamp'])[10:13]))) \\\n",
    "                                        for x in x['visits']])"
   ]
  },
  {
   "cell_type": "code",
   "execution_count": 43,
   "metadata": {
    "collapsed": true
   },
   "outputs": [],
   "source": [
    "# Выбор уникальных урлов из массива распарсенных урлов, ParseResult.netloc (str)\n",
    "df['url_netloc'] = df['url_list'].apply(lambda x: list(set([y.scheme + '://' + y.netloc for y in x ])))"
   ]
  },
  {
   "cell_type": "code",
   "execution_count": null,
   "metadata": {
    "collapsed": true
   },
   "outputs": [],
   "source": [
    "#========================================================"
   ]
  },
  {
   "cell_type": "code",
   "execution_count": 44,
   "metadata": {},
   "outputs": [
    {
     "data": {
      "application/vnd.jupyter.widget-view+json": {
       "model_id": "e68d224c886c410796d4b16bfdcd51c4",
       "version_major": 2,
       "version_minor": 0
      },
      "text/plain": [
       "A Jupyter Widget"
      ]
     },
     "metadata": {},
     "output_type": "display_data"
    }
   ],
   "source": [
    "# Перекодировка урлов x.encode('idna').decode('idna')\n",
    "# с очисткой от мусора \n",
    "# Очищенные индексы:                 \n",
    "# netloc -- 7083 ==> \n",
    "# netloc -- 12521 ==> \n",
    "# netloc -- 22669 ==> \n",
    "# netloc -- 33906 ==>\n",
    "#---------------------------------------------------------\n",
    "i = 0\n",
    "for items in tqdm_notebook(df['url_netloc']):    \n",
    "    for netloc in items:\n",
    "        try:\n",
    "            netloc.encode('idna').decode('idna')\n",
    "        except:           \n",
    "            df['url_netloc'][i].remove(netloc)\n",
    "            # print('netloc -- {} ==>'.format(i), netloc)\n",
    "            netloc = ''\n",
    "            continue     \n",
    "    i += 1"
   ]
  },
  {
   "cell_type": "code",
   "execution_count": 45,
   "metadata": {},
   "outputs": [
    {
     "data": {
      "application/vnd.jupyter.widget-view+json": {
       "model_id": "de6fbdc0325f460491e2d4a1cf92b472",
       "version_major": 2,
       "version_minor": 0
      },
      "text/plain": [
       "A Jupyter Widget"
      ]
     },
     "metadata": {},
     "output_type": "display_data"
    },
    {
     "name": "stdout",
     "output_type": "stream",
     "text": [
      "113909\n"
     ]
    }
   ],
   "source": [
    "url_for_scraping = set()\n",
    "for items in tqdm_notebook(df['url_netloc']):    \n",
    "    for netloc in items:\n",
    "        url_for_scraping.add(netloc.replace('www.', ''))\n",
    "print(len(url_for_scraping))        "
   ]
  },
  {
   "cell_type": "code",
   "execution_count": 46,
   "metadata": {
    "collapsed": true
   },
   "outputs": [],
   "source": [
    "import pickle\n",
    "with open('url_for_scraping.pickle', 'wb') as file:\n",
    "    pickle.dump(url_for_scraping, file)"
   ]
  },
  {
   "cell_type": "code",
   "execution_count": null,
   "metadata": {
    "collapsed": true
   },
   "outputs": [],
   "source": [
    "# with open('url_for_scraping.pickle', 'rb') as file:\n",
    "#     url_for_scraping = pickle.load(file)"
   ]
  },
  {
   "cell_type": "code",
   "execution_count": null,
   "metadata": {},
   "outputs": [
    {
     "data": {
      "application/vnd.jupyter.widget-view+json": {
       "model_id": "0d732539f1f24170aa2ddcdd8c4b9179",
       "version_major": 2,
       "version_minor": 0
      },
      "text/plain": [
       "A Jupyter Widget"
      ]
     },
     "metadata": {},
     "output_type": "display_data"
    },
    {
     "name": "stdout",
     "output_type": "stream",
     "text": [
      "http://realty.tosnenskij-snt-malinovka.qp.ru\n",
      "http://minzdrav.admsakhalin.ru\n",
      "http://ask-yug.com\n",
      "http://huy.su\n",
      "http://ranky.ru\n",
      "http://иваново-постель.рф\n",
      "http://kreditonomika.ru\n",
      "http://workpush.ru\n",
      "http://vodoley.io.ua\n",
      "http://yrategram.com\n"
     ]
    }
   ],
   "source": [
    "from urllib.request import urlopen\n",
    "from bs4 import BeautifulSoup\n",
    "\n",
    "for url in tqdm_notebook(url_for_scraping):\n",
    "    try:\n",
    "        html = urlopen(url)\n",
    "        bsObj = BeautifulSoup(html.read())\n",
    "        break   #==================================================\n",
    "    except:\n",
    "        print(url)\n",
    "        continue\n",
    "    "
   ]
  },
  {
   "cell_type": "code",
   "execution_count": 50,
   "metadata": {
    "collapsed": true
   },
   "outputs": [],
   "source": [
    "for url in url_for_scraping:\n",
    "    pass"
   ]
  },
  {
   "cell_type": "code",
   "execution_count": null,
   "metadata": {
    "collapsed": true
   },
   "outputs": [],
   "source": []
  },
  {
   "cell_type": "code",
   "execution_count": 298,
   "metadata": {
    "scrolled": true
   },
   "outputs": [
    {
     "data": {
      "text/plain": [
       "['zebra-zoya.ru',\n",
       " 'news.yandex.ru',\n",
       " 'www.sotovik.ru',\n",
       " 'news.yandex.ru',\n",
       " 'www.sotovik.ru']"
      ]
     },
     "execution_count": 298,
     "metadata": {},
     "output_type": "execute_result"
    }
   ],
   "source": [
    "[x.encode('idna').decode('idna') for x in netloc_list]"
   ]
  },
  {
   "cell_type": "code",
   "execution_count": 1,
   "metadata": {},
   "outputs": [
    {
     "data": {
      "text/plain": [
       "'порадуй-авто.рф'"
      ]
     },
     "execution_count": 1,
     "metadata": {},
     "output_type": "execute_result"
    }
   ],
   "source": [
    "'xn----7sbbih4a6agbl2ah.xn--p1ai'.encode('idna').decode('idna')"
   ]
  },
  {
   "cell_type": "code",
   "execution_count": 3,
   "metadata": {},
   "outputs": [
    {
     "data": {
      "text/plain": [
       "'m.news.yandex.ru'"
      ]
     },
     "execution_count": 3,
     "metadata": {},
     "output_type": "execute_result"
    }
   ],
   "source": [
    "'gotovim-doma.ru'.encode('idna').decode('idna')"
   ]
  },
  {
   "cell_type": "code",
   "execution_count": null,
   "metadata": {
    "collapsed": true
   },
   "outputs": [],
   "source": []
  },
  {
   "cell_type": "code",
   "execution_count": null,
   "metadata": {
    "collapsed": true
   },
   "outputs": [],
   "source": []
  },
  {
   "cell_type": "code",
   "execution_count": null,
   "metadata": {
    "collapsed": true
   },
   "outputs": [],
   "source": []
  },
  {
   "cell_type": "code",
   "execution_count": null,
   "metadata": {
    "collapsed": true
   },
   "outputs": [],
   "source": []
  },
  {
   "cell_type": "code",
   "execution_count": null,
   "metadata": {
    "collapsed": true
   },
   "outputs": [],
   "source": []
  },
  {
   "cell_type": "code",
   "execution_count": null,
   "metadata": {
    "collapsed": true
   },
   "outputs": [],
   "source": []
  },
  {
   "cell_type": "code",
   "execution_count": null,
   "metadata": {
    "collapsed": true
   },
   "outputs": [],
   "source": []
  },
  {
   "cell_type": "code",
   "execution_count": null,
   "metadata": {
    "collapsed": true
   },
   "outputs": [],
   "source": []
  },
  {
   "cell_type": "code",
   "execution_count": null,
   "metadata": {
    "collapsed": true
   },
   "outputs": [],
   "source": []
  },
  {
   "cell_type": "code",
   "execution_count": 276,
   "metadata": {
    "collapsed": true
   },
   "outputs": [],
   "source": [
    "ddd = datetime.fromtimestamp(int(float(str('1426661722000')[:10] + '.' + str('1426661722000')[10:13])))"
   ]
  },
  {
   "cell_type": "code",
   "execution_count": 288,
   "metadata": {},
   "outputs": [
    {
     "data": {
      "text/plain": [
       "2015"
      ]
     },
     "execution_count": 288,
     "metadata": {},
     "output_type": "execute_result"
    }
   ],
   "source": [
    "ddd.date().day"
   ]
  },
  {
   "cell_type": "code",
   "execution_count": 275,
   "metadata": {},
   "outputs": [
    {
     "data": {
      "text/plain": [
       "[datetime.datetime(2014, 12, 29, 12, 19, 38),\n",
       " datetime.datetime(2015, 3, 25, 13, 3, 50),\n",
       " datetime.datetime(2015, 3, 25, 13, 3, 50),\n",
       " datetime.datetime(2015, 3, 25, 13, 2, 53),\n",
       " datetime.datetime(2015, 3, 25, 13, 2, 53),\n",
       " datetime.datetime(2015, 3, 25, 13, 2, 25),\n",
       " datetime.datetime(2015, 3, 25, 13, 2, 25),\n",
       " datetime.datetime(2015, 3, 25, 13, 2, 20),\n",
       " datetime.datetime(2015, 3, 25, 13, 2, 20),\n",
       " datetime.datetime(2015, 3, 25, 13, 2, 11),\n",
       " datetime.datetime(2015, 3, 25, 13, 2, 11),\n",
       " datetime.datetime(2015, 3, 25, 13, 2, 8),\n",
       " datetime.datetime(2015, 3, 25, 13, 2, 8),\n",
       " datetime.datetime(2015, 3, 25, 13, 1, 56),\n",
       " datetime.datetime(2015, 3, 25, 13, 1, 56),\n",
       " datetime.datetime(2015, 3, 25, 13, 1, 51),\n",
       " datetime.datetime(2015, 3, 25, 13, 1, 51),\n",
       " datetime.datetime(2015, 3, 25, 13, 1, 4),\n",
       " datetime.datetime(2015, 3, 25, 13, 1, 4),\n",
       " datetime.datetime(2015, 3, 24, 10, 26, 14),\n",
       " datetime.datetime(2015, 3, 24, 10, 25, 56),\n",
       " datetime.datetime(2015, 3, 24, 10, 25, 50),\n",
       " datetime.datetime(2015, 3, 24, 10, 25, 44),\n",
       " datetime.datetime(2015, 3, 24, 9, 25, 52),\n",
       " datetime.datetime(2015, 3, 20, 12, 9, 50),\n",
       " datetime.datetime(2015, 3, 19, 12, 25, 16),\n",
       " datetime.datetime(2015, 3, 19, 12, 7, 29)]"
      ]
     },
     "execution_count": 275,
     "metadata": {},
     "output_type": "execute_result"
    }
   ],
   "source": [
    "df['ts_list'][1000]"
   ]
  },
  {
   "cell_type": "code",
   "execution_count": null,
   "metadata": {
    "collapsed": true
   },
   "outputs": [],
   "source": []
  },
  {
   "cell_type": "code",
   "execution_count": null,
   "metadata": {
    "collapsed": true
   },
   "outputs": [],
   "source": []
  },
  {
   "cell_type": "code",
   "execution_count": null,
   "metadata": {
    "collapsed": true
   },
   "outputs": [],
   "source": [
    "%matplotlib inline\n",
    "import seaborn as sns"
   ]
  },
  {
   "cell_type": "code",
   "execution_count": null,
   "metadata": {
    "collapsed": true
   },
   "outputs": [],
   "source": [
    "sns_plot = sns.pairplot(df[['url_counts', 'age']], size=4)"
   ]
  },
  {
   "cell_type": "code",
   "execution_count": null,
   "metadata": {
    "collapsed": true
   },
   "outputs": [],
   "source": [
    "from pylab import rcParams\n",
    "rcParams['figure.figsize'] = 16, 7\n",
    "sns.distplot(df['url_counts'])"
   ]
  },
  {
   "cell_type": "code",
   "execution_count": null,
   "metadata": {
    "collapsed": true
   },
   "outputs": [],
   "source": [
    "df['url_counts'].value_counts().head(50).plot(kind='bar')"
   ]
  },
  {
   "cell_type": "code",
   "execution_count": null,
   "metadata": {
    "collapsed": true
   },
   "outputs": [],
   "source": [
    "rcParams['figure.figsize'] = 16, 7\n",
    "sns.jointplot(df['age'], df['url_counts'], size=10)"
   ]
  },
  {
   "cell_type": "code",
   "execution_count": null,
   "metadata": {
    "collapsed": true
   },
   "outputs": [],
   "source": [
    "df.url_counts.value_counts()"
   ]
  },
  {
   "cell_type": "code",
   "execution_count": null,
   "metadata": {
    "collapsed": true
   },
   "outputs": [],
   "source": []
  }
 ],
 "metadata": {
  "kernelspec": {
   "display_name": "Python 3",
   "language": "python",
   "name": "python3"
  },
  "language_info": {
   "codemirror_mode": {
    "name": "ipython",
    "version": 3
   },
   "file_extension": ".py",
   "mimetype": "text/x-python",
   "name": "python",
   "nbconvert_exporter": "python",
   "pygments_lexer": "ipython3",
   "version": "3.6.2"
  }
 },
 "nbformat": 4,
 "nbformat_minor": 2
}

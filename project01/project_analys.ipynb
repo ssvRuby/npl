{
 "cells": [
  {
   "cell_type": "code",
   "execution_count": 13,
   "metadata": {
    "collapsed": true
   },
   "outputs": [],
   "source": [
    "import pandas as pd\n",
    "import json\n",
    "import pickle\n",
    "from datetime import datetime\n",
    "from sklearn import metrics\n",
    "from tqdm import tqdm_notebook\n",
    "from sklearn.metrics import classification_report\n",
    "from sklearn.ensemble import RandomForestClassifier"
   ]
  },
  {
   "cell_type": "code",
   "execution_count": 2,
   "metadata": {
    "collapsed": true
   },
   "outputs": [],
   "source": [
    "import warnings\n",
    "warnings.simplefilter('ignore')"
   ]
  },
  {
   "cell_type": "code",
   "execution_count": 3,
   "metadata": {
    "collapsed": true
   },
   "outputs": [],
   "source": [
    "pd.set_option('display.max_columns', 200)\n",
    "pd.set_option('display.max_rows', 4000)"
   ]
  },
  {
   "cell_type": "code",
   "execution_count": 10,
   "metadata": {
    "collapsed": true
   },
   "outputs": [],
   "source": [
    "data_dir = '/Users/ssv/newprolab/project01/data'\n",
    "filename = 'gender_age_dataset.txt'\n",
    "file_path = '/'.join([data_dir, filename])\n",
    "df = pd.read_csv(file_path, sep='\\t')"
   ]
  },
  {
   "cell_type": "markdown",
   "metadata": {
    "collapsed": true
   },
   "source": [
    "### Оцифровка значений пола и возраста"
   ]
  },
  {
   "cell_type": "code",
   "execution_count": 11,
   "metadata": {
    "collapsed": true
   },
   "outputs": [],
   "source": [
    "ages = {'18-24': 1, '25-34': 2, '35-44': 3, '45-54': 4, '>=55': 5}\n",
    "df[\"age\"] = df[\"age\"].apply(lambda x: ages.get(x, '-'))"
   ]
  },
  {
   "cell_type": "code",
   "execution_count": 12,
   "metadata": {
    "collapsed": true
   },
   "outputs": [],
   "source": [
    "genders = {'M': 1, 'F': 0}\n",
    "df[\"gender\"] = df[\"gender\"].apply(lambda x: genders.get(x, '-'))\n"
   ]
  },
  {
   "cell_type": "markdown",
   "metadata": {
    "collapsed": true
   },
   "source": [
    "### Формирование набора данных с ключевыми словами посещенных сайтов\n",
    "\n",
    "#### Загружаем из файлов типа df_med_keywords_0000_0999.pickle по мере поступления. Скрапинг сайтов идет очень медленно"
   ]
  },
  {
   "cell_type": "code",
   "execution_count": 14,
   "metadata": {
    "collapsed": true
   },
   "outputs": [],
   "source": [
    "with open('data/keywords_999.pickle', 'rb') as file:\n",
    "    df_med_keywords_0000_0999 = pickle.load(file)\n",
    "\n",
    "with open('data/keywords_2000_10999.pickle', 'rb') as file:\n",
    "    df_med_keywords_2000_10999 = pickle.load(file)\n",
    "\n",
    "with open('data/df_med_keywords_non_age.pickle', 'rb') as file:\n",
    "    df_for_pred = pickle.load(file)"
   ]
  },
  {
   "cell_type": "markdown",
   "metadata": {},
   "source": [
    "#### Удаляем лишние столбцы в наборе данных после скрапинга"
   ]
  },
  {
   "cell_type": "code",
   "execution_count": 17,
   "metadata": {
    "collapsed": true
   },
   "outputs": [],
   "source": [
    "df_med_keywords_0000_0999 = df_med_keywords_0000_0999.drop('url_netloc', axis=1)\n",
    "df_med_keywords_2000_10999 = df_med_keywords_2000_10999.drop('url_netloc', axis=1)\n",
    "df_for_pred = df_for_pred.drop(['url_netloc', 'age'], axis=1)"
   ]
  },
  {
   "cell_type": "markdown",
   "metadata": {},
   "source": [
    "#### Соединяем загруженные таблицы"
   ]
  },
  {
   "cell_type": "code",
   "execution_count": 18,
   "metadata": {
    "collapsed": true
   },
   "outputs": [],
   "source": [
    "df_k = pd.merge(df_med_keywords_0000_0999, \n",
    "                pd.merge(df_med_keywords_2000_10999, df_for_pred, how='left', on='uid'),\n",
    "                how='left', on='uid')"
   ]
  },
  {
   "cell_type": "markdown",
   "metadata": {},
   "source": [
    "#### Сводим ключевые слова в один столбец"
   ]
  },
  {
   "cell_type": "code",
   "execution_count": 19,
   "metadata": {},
   "outputs": [
    {
     "data": {
      "application/vnd.jupyter.widget-view+json": {
       "model_id": "eea32d4b09c143cfa8c2366c7d05ee6e",
       "version_major": 2,
       "version_minor": 0
      },
      "text/plain": [
       "A Jupyter Widget"
      ]
     },
     "metadata": {},
     "output_type": "display_data"
    },
    {
     "name": "stdout",
     "output_type": "stream",
     "text": [
      "\n"
     ]
    }
   ],
   "source": [
    "df['keywords'] = ''\n",
    "for index, row in tqdm_notebook(df_k.iterrows()):\n",
    "    if index < 1000:\n",
    "        df_k['raw_keywords'].loc[index] = df_k['raw_keywords'].iloc[index]\n",
    "    if index >= 2000 and index < 11000:\n",
    "        df_k['raw_keywords'].loc[index] = df_k['raw_keywords_x'].iloc[index]\n",
    "    if index > 36137:    \n",
    "        df_k['raw_keywords'].loc[index] = df_k['raw_keywords_y'].iloc[index]\n",
    "    "
   ]
  },
  {
   "cell_type": "markdown",
   "metadata": {},
   "source": [
    "#### Левое последовательное соединение таблиц по uid. Удаляем лишние столбцы после соединения "
   ]
  },
  {
   "cell_type": "code",
   "execution_count": 20,
   "metadata": {
    "collapsed": true
   },
   "outputs": [],
   "source": [
    "df_k = df_k.drop(['raw_keywords_x', 'raw_keywords_y'], axis=1)\n",
    "df = pd.merge(df, df_k, how='left', on='uid')\n",
    "df = df.drop(['user_json', 'keywords'], axis=1)"
   ]
  },
  {
   "cell_type": "markdown",
   "metadata": {},
   "source": [
    "####  В результате - имеем набор df['gender', 'age', 'uid', 'raw_keywords']. Ключевые слова посещенных сайтов заполнены для строк 0 - 999; 2000 - 10999 и таргет: 36138 - 41137. В заполненных строках есть пустые значения (массив длиной 0)"
   ]
  },
  {
   "cell_type": "markdown",
   "metadata": {},
   "source": [
    "1. Вытащим все ключевые слова для формирования массива стоп-слов\n",
    "2. Разобьем датасет на два фолда: для тренировки (0000 - 36137) и предсказания (36138 - 41137)\n",
    "3. Из фолдов удалим строки в которых нет ключевых слов сайтов\n",
    "4. Сохраняем таргеты и тренируем модель"
   ]
  },
  {
   "cell_type": "code",
   "execution_count": 21,
   "metadata": {
    "collapsed": true
   },
   "outputs": [],
   "source": [
    "raw_words = list(df['raw_keywords'].copy())"
   ]
  },
  {
   "cell_type": "code",
   "execution_count": 22,
   "metadata": {},
   "outputs": [
    {
     "data": {
      "application/vnd.jupyter.widget-view+json": {
       "model_id": "88508561d9f34b20806d1b673f166b19",
       "version_major": 2,
       "version_minor": 0
      },
      "text/plain": [
       "A Jupyter Widget"
      ]
     },
     "metadata": {},
     "output_type": "display_data"
    },
    {
     "name": "stdout",
     "output_type": "stream",
     "text": [
      "\n"
     ]
    }
   ],
   "source": [
    "for item in tqdm_notebook(reversed(raw_words)):\n",
    "    if len(item) == 0:\n",
    "        raw_words.remove(item)"
   ]
  },
  {
   "cell_type": "code",
   "execution_count": 23,
   "metadata": {
    "collapsed": true
   },
   "outputs": [],
   "source": [
    "import pymorphy2\n",
    "m = pymorphy2.MorphAnalyzer()"
   ]
  },
  {
   "cell_type": "code",
   "execution_count": 24,
   "metadata": {
    "collapsed": true
   },
   "outputs": [],
   "source": [
    "import re\n",
    "GROUPING_SPACE_REGEX = re.compile(r'([^\\w]|[+])', re.UNICODE)\n",
    "\n",
    "def simple_word_tokenize(text, _split=GROUPING_SPACE_REGEX.split):\n",
    "    return [t for t in _split(text.lower()) if t and not t.isspace()]"
   ]
  },
  {
   "cell_type": "code",
   "execution_count": 25,
   "metadata": {
    "collapsed": true
   },
   "outputs": [],
   "source": [
    "def token_r(text):\n",
    "    words = simple_word_tokenize(text)\n",
    "    return [m.parse(x)[0].normal_form for x in words if len(x) >= 4]"
   ]
  },
  {
   "cell_type": "code",
   "execution_count": 26,
   "metadata": {
    "collapsed": true
   },
   "outputs": [],
   "source": [
    "raw_words = [' '.join((x)) for x in raw_words]"
   ]
  },
  {
   "cell_type": "code",
   "execution_count": 27,
   "metadata": {},
   "outputs": [
    {
     "data": {
      "application/vnd.jupyter.widget-view+json": {
       "model_id": "5acbade0b4e04634892df413c7c7328c",
       "version_major": 2,
       "version_minor": 0
      },
      "text/plain": [
       "A Jupyter Widget"
      ]
     },
     "metadata": {},
     "output_type": "display_data"
    },
    {
     "name": "stdout",
     "output_type": "stream",
     "text": [
      "\n"
     ]
    }
   ],
   "source": [
    "clear_words = [' '.join(token_r(x)) for x in tqdm_notebook(raw_words)]"
   ]
  },
  {
   "cell_type": "code",
   "execution_count": 28,
   "metadata": {
    "collapsed": true
   },
   "outputs": [],
   "source": [
    "# ---------------------------------------------------------\n",
    "# with open('data/10999_clear_words.pickle', 'wb') as file:\n",
    "#     pickle.dump(clear_words, file) \n",
    "# ---------------------------------------------------------    \n",
    "# with open('data/10999_clear_words.pickle', 'rb') as file:\n",
    "#     clear_words = pickle.load(file)\n",
    "# ---------------------------------------------------------"
   ]
  },
  {
   "cell_type": "code",
   "execution_count": 29,
   "metadata": {
    "collapsed": true
   },
   "outputs": [],
   "source": [
    "from sklearn.feature_extraction.text import CountVectorizer"
   ]
  },
  {
   "cell_type": "code",
   "execution_count": 30,
   "metadata": {
    "collapsed": true
   },
   "outputs": [],
   "source": [
    "cv = CountVectorizer()\n",
    "matrix = cv.fit_transform(clear_words)"
   ]
  },
  {
   "cell_type": "code",
   "execution_count": 31,
   "metadata": {
    "collapsed": true
   },
   "outputs": [],
   "source": [
    "stop_ww = sorted(cv.vocabulary_.items(), reverse=True)[:950] + sorted(cv.vocabulary_.items())[:1827]\n",
    "stop_w = [x[0] for x in stop_ww]"
   ]
  },
  {
   "cell_type": "code",
   "execution_count": 43,
   "metadata": {
    "collapsed": true
   },
   "outputs": [],
   "source": [
    "# ---------------------------------------------------------\n",
    "# with open('data/stop_w.pickle', 'wb') as file:\n",
    "#     pickle.dump(stop_w, file) \n",
    "# ---------------------------------------------------------    \n",
    "# with open('data/stop_w.pickle', 'rb') as file:\n",
    "#     stop_w = pickle.load(file)"
   ]
  },
  {
   "cell_type": "code",
   "execution_count": 32,
   "metadata": {},
   "outputs": [],
   "source": [
    "# sorted(cv.vocabulary_.items())[1827:]\n",
    "# sorted(cv.vocabulary_.items(), reverse=True)[900:]"
   ]
  },
  {
   "cell_type": "markdown",
   "metadata": {},
   "source": [
    "## Построение модели"
   ]
  },
  {
   "cell_type": "markdown",
   "metadata": {},
   "source": [
    "1. Подготовка наборов данных\n",
    "    - Разобьем датасет на два фолда: для тренировки (0000 - 36137) и предсказания (36138 - 41137)\n",
    "    - Из фолдов удалим строки в которых нет ключевых слов сайтов"
   ]
  },
  {
   "cell_type": "code",
   "execution_count": 33,
   "metadata": {
    "collapsed": true
   },
   "outputs": [],
   "source": [
    "# Выделение набора df_train для предсказания (c известными полом и возрастом)\n",
    "df_train = df.loc[0:36137]\n",
    "df_train['raw_keywords'] = df_train['raw_keywords'].apply(lambda x: ' '.join(x))\n",
    "df_train = df_train[df_train['raw_keywords'] != '']"
   ]
  },
  {
   "cell_type": "code",
   "execution_count": 34,
   "metadata": {
    "collapsed": true
   },
   "outputs": [],
   "source": [
    "# Выделение набора df_predict для предсказания (без известных пола и возраста)\n",
    "df_predict = df.loc[36138:]\n",
    "df_predict_ALL_uid = df['uid']         # все UID до удаления тех, для которых НЕ будет выполняться прогноз !!!!\n",
    "df_predict['raw_keywords'] = df_predict['raw_keywords'].apply(lambda x: ' '.join(x))\n",
    "df_predict = df_predict[df_predict['raw_keywords'] != '']\n",
    "df_predict_uid = df_predict['uid']      # все UID для которых будет выполняться прогноз !!!!"
   ]
  },
  {
   "cell_type": "code",
   "execution_count": 35,
   "metadata": {},
   "outputs": [],
   "source": [
    "# TARGETS\n",
    "target_age = df_train['age'].astype('int32')\n",
    "target_gender = df_train['gender'].astype('int32')\n",
    "df_train_uid = df_train['uid']\n",
    "df_train = df_train.drop(['age', 'gender', 'uid'], axis=1)"
   ]
  },
  {
   "cell_type": "code",
   "execution_count": 40,
   "metadata": {
    "collapsed": true
   },
   "outputs": [],
   "source": [
    "TARGETS_FOR_SAVE = [target_age, target_gender, df_train_uid, df_predict_ALL_uid]"
   ]
  },
  {
   "cell_type": "code",
   "execution_count": 39,
   "metadata": {
    "collapsed": true
   },
   "outputs": [],
   "source": [
    "# with open('data/df_train.pickle', 'wb') as file:\n",
    "#     pickle.dump(df_train, file) \n",
    "# with open('data/df_predict.pickle', 'wb') as file:\n",
    "#     pickle.dump(df_predict, file) \n",
    "# with open('data/TARGETS_FOR_SAVE.pickle', 'wb') as file:\n",
    "#     pickle.dump(TARGETS_FOR_SAVE, file) "
   ]
  },
  {
   "cell_type": "markdown",
   "metadata": {},
   "source": [
    "#### Строим матрицу слов по объединенному массиву текстов из наборов df_train и df_predict"
   ]
  },
  {
   "cell_type": "code",
   "execution_count": 45,
   "metadata": {
    "collapsed": true
   },
   "outputs": [],
   "source": [
    "ROWS_FOR_FIT = df_train.shape[0]\n",
    "ROWS_FOR_PREDICT = df_predict.shape[0]"
   ]
  },
  {
   "cell_type": "code",
   "execution_count": 46,
   "metadata": {
    "collapsed": true
   },
   "outputs": [],
   "source": [
    "# Объединенный массив текстов\n",
    "all_texts = pd.concat([df_train['raw_keywords'], df_predict['raw_keywords']], axis=0)"
   ]
  },
  {
   "cell_type": "code",
   "execution_count": 177,
   "metadata": {
    "collapsed": true,
    "scrolled": true
   },
   "outputs": [],
   "source": [
    "from sklearn.feature_extraction.text import CountVectorizer\n",
    "cv = CountVectorizer(tokenizer=token_r, stop_words=stop_w)\n",
    "matrix = cv.fit_transform(all_texts)"
   ]
  },
  {
   "cell_type": "code",
   "execution_count": 49,
   "metadata": {
    "collapsed": true
   },
   "outputs": [],
   "source": [
    "# from sklearn.feature_extraction.text import TfidfVectorizer\n",
    "# cv = TfidfVectorizer(tokenizer=token_r, stop_words=stop_w)\n",
    "# matrix = cv.fit_transform(all_texts)"
   ]
  },
  {
   "cell_type": "code",
   "execution_count": 178,
   "metadata": {
    "collapsed": true
   },
   "outputs": [],
   "source": [
    "# with open('data/10999_matrix.pickle', 'wb') as file:\n",
    "#     pickle.dump(matrix, file)     \n",
    "    \n",
    "# with open('data/10999_matrix.pickle', 'rb') as file:\n",
    "#     matrix = pickle.load(file)"
   ]
  },
  {
   "cell_type": "code",
   "execution_count": null,
   "metadata": {
    "collapsed": true
   },
   "outputs": [],
   "source": []
  },
  {
   "cell_type": "code",
   "execution_count": null,
   "metadata": {
    "collapsed": true
   },
   "outputs": [],
   "source": []
  },
  {
   "cell_type": "code",
   "execution_count": 44,
   "metadata": {
    "collapsed": true
   },
   "outputs": [],
   "source": [
    "# READ DATA 1\n",
    "# ---------------------------------------------------------    \n",
    "# with open('data/stop_w.pickle', 'rb') as file:\n",
    "#     stop_w = pickle.load(file)\n",
    "# ---------------------------------------------------------\n",
    "# with open('data/df_train.pickle', 'rb') as file:\n",
    "#     df_train = pickle.load(file)\n",
    "# ---------------------------------------------------------\n",
    "# with open('data/df_predict.pickle', 'rb') as file:\n",
    "#     df_predict = pickle.load(file)\n",
    "# ---------------------------------------------------------\n",
    "# with open('data/TARGETS_FOR_SAVE.pickle', 'rb') as file:\n",
    "#     TARGETS_FOR_SAVE = pickle.load(file)\n",
    "# target_age         = TARGETS_FOR_SAVE[0]\n",
    "# target_gender      = TARGETS_FOR_SAVE[1]\n",
    "# df_train_uid       = TARGETS_FOR_SAVE[2]\n",
    "# df_predict_ALL_uid = TARGETS_FOR_SAVE[3]\n",
    "# ---------------------------------------------------------\n",
    "# with open('data/10999_matrix.pickle', 'rb') as file:\n",
    "#     matrix = pickle.load(file)"
   ]
  },
  {
   "cell_type": "code",
   "execution_count": 179,
   "metadata": {
    "collapsed": true
   },
   "outputs": [],
   "source": [
    "MATRIX_FOR_FIT = matrix[:ROWS_FOR_FIT][:]\n",
    "MATRIX_FOR_PREDICT = matrix[ROWS_FOR_FIT:][:]"
   ]
  },
  {
   "cell_type": "code",
   "execution_count": null,
   "metadata": {
    "collapsed": true
   },
   "outputs": [],
   "source": []
  },
  {
   "cell_type": "code",
   "execution_count": null,
   "metadata": {
    "collapsed": true
   },
   "outputs": [],
   "source": []
  },
  {
   "cell_type": "code",
   "execution_count": 52,
   "metadata": {
    "collapsed": true
   },
   "outputs": [],
   "source": [
    "def print_metrics(y_test, pred):\n",
    "    fpr, tpr, thresholds = metrics.roc_curve(y_test, pred)\n",
    "    print('AUC             =====> ', metrics.auc(fpr, tpr))\n",
    "    print('accuracy_score  =====> ', metrics.accuracy_score(y_test, pred))\n",
    "    print('precision_score =====> ', metrics.precision_score(y_test, pred))\n",
    "    print('recall_score    =====> ', metrics.recall_score(y_test, pred))"
   ]
  },
  {
   "cell_type": "code",
   "execution_count": 53,
   "metadata": {
    "collapsed": true
   },
   "outputs": [],
   "source": [
    "def print_metrics_for_multiclass(y_test, pred):\n",
    "    print(classification_report(y_test, pred))"
   ]
  },
  {
   "cell_type": "code",
   "execution_count": 54,
   "metadata": {
    "collapsed": true
   },
   "outputs": [],
   "source": [
    "from sklearn.cross_validation import train_test_split"
   ]
  },
  {
   "cell_type": "markdown",
   "metadata": {},
   "source": [
    "### LogisticRegression"
   ]
  },
  {
   "cell_type": "code",
   "execution_count": 180,
   "metadata": {
    "collapsed": true
   },
   "outputs": [],
   "source": [
    "X_train, X_test, y_train, y_test = train_test_split(\n",
    "    MATRIX_FOR_FIT, \n",
    "    target_gender, \n",
    "    test_size=0.33,\n",
    "    random_state=40)"
   ]
  },
  {
   "cell_type": "code",
   "execution_count": 187,
   "metadata": {},
   "outputs": [
    {
     "name": "stdout",
     "output_type": "stream",
     "text": [
      "AUC             =====>  0.672177850265\n",
      "accuracy_score  =====>  0.67365967366\n",
      "precision_score =====>  0.675807434491\n",
      "recall_score    =====>  0.712267180475\n"
     ]
    }
   ],
   "source": [
    "from sklearn.linear_model import LogisticRegression\n",
    "lr = LogisticRegression(penalty='l2', C=0.001)\n",
    "lr.fit(X_train, y_train)\n",
    "pred = lr.predict(X_test)\n",
    "print_metrics(y_test, pred)"
   ]
  },
  {
   "cell_type": "code",
   "execution_count": 188,
   "metadata": {},
   "outputs": [
    {
     "name": "stdout",
     "output_type": "stream",
     "text": [
      "TRAIN dataset accuracy 0.72518\n",
      "TEST dataset accuracy  0.67366\n"
     ]
    }
   ],
   "source": [
    "print('TRAIN dataset accuracy {:.5f}'.format(lr.score(X_train, y_train)))\n",
    "print('TEST dataset accuracy  {:.5f}'.format(lr.score(X_test, y_test)))"
   ]
  },
  {
   "cell_type": "code",
   "execution_count": 190,
   "metadata": {
    "collapsed": true
   },
   "outputs": [],
   "source": [
    "X_train, X_test, y_train, y_test = train_test_split(\n",
    "    MATRIX_FOR_FIT, \n",
    "    target_age, \n",
    "    test_size=0.33,\n",
    "    random_state=40)"
   ]
  },
  {
   "cell_type": "code",
   "execution_count": 193,
   "metadata": {},
   "outputs": [
    {
     "name": "stdout",
     "output_type": "stream",
     "text": [
      "             precision    recall  f1-score   support\n",
      "\n",
      "          1       0.23      0.10      0.14       426\n",
      "          2       0.47      0.64      0.55      1271\n",
      "          3       0.33      0.24      0.28       752\n",
      "          4       0.20      0.17      0.18       397\n",
      "          5       0.15      0.21      0.17       157\n",
      "\n",
      "avg / total       0.35      0.38      0.35      3003\n",
      "\n"
     ]
    }
   ],
   "source": [
    "lr = LogisticRegression(penalty='l2', class_weight='balanced', C=0.001)\n",
    "lr.fit(X_train, y_train)\n",
    "pred = lr.predict(X_test)\n",
    "print_metrics_for_multiclass(y_test, pred)"
   ]
  },
  {
   "cell_type": "code",
   "execution_count": 194,
   "metadata": {},
   "outputs": [
    {
     "name": "stdout",
     "output_type": "stream",
     "text": [
      "TRAIN dataset accuracy 0.52272\n",
      "TEST dataset accuracy  0.37829\n"
     ]
    }
   ],
   "source": [
    "print('TRAIN dataset accuracy {:.5f}'.format(lr.score(X_train, y_train)))\n",
    "print('TEST dataset accuracy  {:.5f}'.format(lr.score(X_test, y_test)))"
   ]
  },
  {
   "cell_type": "markdown",
   "metadata": {},
   "source": [
    "## Линейная регрессия"
   ]
  },
  {
   "cell_type": "code",
   "execution_count": 195,
   "metadata": {
    "collapsed": true
   },
   "outputs": [],
   "source": [
    "X_train, X_test, y_train, y_test = train_test_split(\n",
    "    MATRIX_FOR_FIT, \n",
    "    target_gender, \n",
    "    test_size=0.33,\n",
    "    random_state=40)"
   ]
  },
  {
   "cell_type": "code",
   "execution_count": 196,
   "metadata": {},
   "outputs": [
    {
     "name": "stdout",
     "output_type": "stream",
     "text": [
      "AUC             =====>  0.553714496882\n"
     ]
    }
   ],
   "source": [
    "from sklearn.linear_model import LinearRegression\n",
    "lr = LinearRegression()\n",
    "lr.fit(X_train, y_train)\n",
    "pred = lr.predict(X_test)\n",
    "fpr, tpr, thresholds = metrics.roc_curve(y_test, pred)\n",
    "print('AUC             =====> ', metrics.auc(fpr, tpr))"
   ]
  },
  {
   "cell_type": "code",
   "execution_count": 197,
   "metadata": {},
   "outputs": [
    {
     "name": "stdout",
     "output_type": "stream",
     "text": [
      "TRAIN dataset accuracy 0.83015\n",
      "TEST dataset accuracy  -42.18202\n"
     ]
    }
   ],
   "source": [
    "print('TRAIN dataset accuracy {:.5f}'.format(lr.score(X_train, y_train)))\n",
    "print('TEST dataset accuracy  {:.5f}'.format(lr.score(X_test, y_test)))"
   ]
  },
  {
   "cell_type": "code",
   "execution_count": 198,
   "metadata": {
    "collapsed": true
   },
   "outputs": [],
   "source": [
    "X_train, X_test, y_train, y_test = train_test_split(\n",
    "    MATRIX_FOR_FIT, \n",
    "    target_age, \n",
    "    test_size=0.33,\n",
    "    random_state=40)"
   ]
  },
  {
   "cell_type": "code",
   "execution_count": 199,
   "metadata": {},
   "outputs": [],
   "source": [
    "lr = LinearRegression()\n",
    "lr.fit(X_train, y_train)\n",
    "pred = lr.predict(X_test)"
   ]
  },
  {
   "cell_type": "code",
   "execution_count": 200,
   "metadata": {},
   "outputs": [
    {
     "name": "stdout",
     "output_type": "stream",
     "text": [
      "TRAIN dataset accuracy 0.82704\n",
      "TEST dataset accuracy  -39.58727\n"
     ]
    }
   ],
   "source": [
    "print('TRAIN dataset accuracy {:.5f}'.format(lr.score(X_train, y_train)))\n",
    "print('TEST dataset accuracy  {:.5f}'.format(lr.score(X_test, y_test)))"
   ]
  },
  {
   "cell_type": "markdown",
   "metadata": {},
   "source": [
    "## Байес"
   ]
  },
  {
   "cell_type": "code",
   "execution_count": 201,
   "metadata": {
    "collapsed": true
   },
   "outputs": [],
   "source": [
    "X_train, X_test, y_train, y_test = train_test_split(\n",
    "    MATRIX_FOR_FIT, \n",
    "    target_gender, \n",
    "    test_size=0.33,\n",
    "    random_state=40)"
   ]
  },
  {
   "cell_type": "code",
   "execution_count": 202,
   "metadata": {},
   "outputs": [
    {
     "name": "stdout",
     "output_type": "stream",
     "text": [
      "AUC             =====>  0.682276801062\n",
      "accuracy_score  =====>  0.681984681985\n",
      "precision_score =====>  0.700934579439\n",
      "recall_score    =====>  0.674373795761\n"
     ]
    }
   ],
   "source": [
    "from sklearn.naive_bayes import MultinomialNB\n",
    "lr = MultinomialNB(alpha=0.1)\n",
    "lr.fit(X_train, y_train)\n",
    "pred = lr.predict(X_test)\n",
    "print_metrics(y_test, pred)"
   ]
  },
  {
   "cell_type": "code",
   "execution_count": 203,
   "metadata": {},
   "outputs": [
    {
     "name": "stdout",
     "output_type": "stream",
     "text": [
      "TRAIN dataset accuracy 0.77293\n",
      "TEST  dataset accuracy 0.68198\n"
     ]
    }
   ],
   "source": [
    "print('TRAIN dataset accuracy {:.5f}'.format(lr.score(X_train, y_train)))\n",
    "print('TEST  dataset accuracy {:.5f}'.format(lr.score(X_test, y_test)))"
   ]
  },
  {
   "cell_type": "code",
   "execution_count": 204,
   "metadata": {
    "collapsed": true
   },
   "outputs": [],
   "source": [
    "X_train, X_test, y_train, y_test = train_test_split(\n",
    "    MATRIX_FOR_FIT, \n",
    "    target_age, \n",
    "    test_size=0.33,\n",
    "    random_state=40)"
   ]
  },
  {
   "cell_type": "code",
   "execution_count": 205,
   "metadata": {},
   "outputs": [
    {
     "name": "stdout",
     "output_type": "stream",
     "text": [
      "             precision    recall  f1-score   support\n",
      "\n",
      "          1       0.20      0.26      0.22       426\n",
      "          2       0.46      0.33      0.38      1271\n",
      "          3       0.30      0.26      0.27       752\n",
      "          4       0.16      0.17      0.16       397\n",
      "          5       0.11      0.33      0.17       157\n",
      "\n",
      "avg / total       0.32      0.28      0.29      3003\n",
      "\n"
     ]
    }
   ],
   "source": [
    "lr = MultinomialNB(alpha=0.01)\n",
    "lr.fit(X_train, y_train)\n",
    "pred = lr.predict(X_test)\n",
    "print_metrics_for_multiclass(y_test, pred)"
   ]
  },
  {
   "cell_type": "code",
   "execution_count": 206,
   "metadata": {},
   "outputs": [
    {
     "name": "stdout",
     "output_type": "stream",
     "text": [
      "TRAIN dataset accuracy 0.60574\n",
      "TEST  dataset accuracy 0.27905\n"
     ]
    }
   ],
   "source": [
    "print('TRAIN dataset accuracy {:.5f}'.format(lr.score(X_train, y_train)))\n",
    "print('TEST  dataset accuracy {:.5f}'.format(lr.score(X_test, y_test)))"
   ]
  },
  {
   "cell_type": "code",
   "execution_count": null,
   "metadata": {
    "collapsed": true
   },
   "outputs": [],
   "source": []
  },
  {
   "cell_type": "markdown",
   "metadata": {},
   "source": [
    "## Кросс-валидация"
   ]
  },
  {
   "cell_type": "code",
   "execution_count": 205,
   "metadata": {
    "collapsed": true
   },
   "outputs": [],
   "source": [
    "from sklearn.grid_search import GridSearchCV"
   ]
  },
  {
   "cell_type": "code",
   "execution_count": 217,
   "metadata": {
    "collapsed": true
   },
   "outputs": [],
   "source": [
    "c = [10**x for x in range(-10, 16)]"
   ]
  },
  {
   "cell_type": "code",
   "execution_count": 218,
   "metadata": {
    "collapsed": true
   },
   "outputs": [],
   "source": [
    "gs = GridSearchCV(\n",
    "        LogisticRegression(),\n",
    "        param_grid = { 'penalty' : ['l1','l2'], 'C' : c},\n",
    "        scoring='roc_auc',\n",
    "        cv=5,\n",
    "        verbose=3)"
   ]
  },
  {
   "cell_type": "code",
   "execution_count": null,
   "metadata": {
    "collapsed": true
   },
   "outputs": [],
   "source": [
    "gs.fit(X_train, y_train)"
   ]
  },
  {
   "cell_type": "code",
   "execution_count": 209,
   "metadata": {},
   "outputs": [
    {
     "data": {
      "text/plain": [
       "LogisticRegression(C=1, class_weight=None, dual=False, fit_intercept=True,\n",
       "          intercept_scaling=1, max_iter=100, multi_class='ovr', n_jobs=1,\n",
       "          penalty='l2', random_state=None, solver='liblinear', tol=0.0001,\n",
       "          verbose=0, warm_start=False)"
      ]
     },
     "execution_count": 209,
     "metadata": {},
     "output_type": "execute_result"
    }
   ],
   "source": [
    "gs.best_estimator_"
   ]
  },
  {
   "cell_type": "code",
   "execution_count": 210,
   "metadata": {
    "scrolled": true
   },
   "outputs": [
    {
     "data": {
      "text/plain": [
       "{'C': 1, 'penalty': 'l2'}"
      ]
     },
     "execution_count": 210,
     "metadata": {},
     "output_type": "execute_result"
    }
   ],
   "source": [
    "gs.best_params_"
   ]
  },
  {
   "cell_type": "code",
   "execution_count": 211,
   "metadata": {},
   "outputs": [
    {
     "data": {
      "text/plain": [
       "0.7343916290444319"
      ]
     },
     "execution_count": 211,
     "metadata": {},
     "output_type": "execute_result"
    }
   ],
   "source": [
    "gs.best_score_"
   ]
  },
  {
   "cell_type": "code",
   "execution_count": 212,
   "metadata": {},
   "outputs": [
    {
     "name": "stdout",
     "output_type": "stream",
     "text": [
      "AUC             =====>  0.687047119554\n",
      "accuracy_score  =====>  0.688311688312\n",
      "precision_score =====>  0.691076923077\n",
      "recall_score    =====>  0.721258831085\n"
     ]
    }
   ],
   "source": [
    "X_train, X_test, y_train, y_test = train_test_split(\n",
    "    MATRIX_FOR_FIT, \n",
    "    target_gender, \n",
    "    test_size=0.33,\n",
    "    random_state=40)\n",
    "\n",
    "lr = LogisticRegression(C=1, class_weight=None, dual=False, fit_intercept=True,\n",
    "          intercept_scaling=1, max_iter=100, multi_class='ovr', n_jobs=1,\n",
    "          penalty='l2', random_state=None, solver='liblinear', tol=0.0001,\n",
    "          verbose=0, warm_start=False)\n",
    "lr.fit(X_train, y_train)\n",
    "pred = lr.predict(X_test)\n",
    "print_metrics(y_test, pred)"
   ]
  },
  {
   "cell_type": "markdown",
   "metadata": {},
   "source": [
    "### RandomForestClassifier"
   ]
  },
  {
   "cell_type": "code",
   "execution_count": 207,
   "metadata": {
    "collapsed": true
   },
   "outputs": [],
   "source": [
    "X_train, X_test, y_train, y_test = train_test_split(\n",
    "    MATRIX_FOR_FIT, \n",
    "    target_gender, \n",
    "    test_size=0.33,\n",
    "    random_state=40)"
   ]
  },
  {
   "cell_type": "code",
   "execution_count": 208,
   "metadata": {},
   "outputs": [
    {
     "name": "stdout",
     "output_type": "stream",
     "text": [
      "AUC             =====>  0.65563963575\n",
      "accuracy_score  =====>  0.65034965035\n",
      "precision_score =====>  0.732782369146\n",
      "recall_score    =====>  0.512524084778\n"
     ]
    }
   ],
   "source": [
    "from sklearn.ensemble import RandomForestClassifier\n",
    "rfc = RandomForestClassifier(n_estimators=100, max_depth=4, class_weight='balanced', random_state=0, n_jobs=-1)\n",
    "rfc.fit(X_train, y_train) \n",
    "pred = rfc.predict(X_test)\n",
    "print_metrics(y_test, pred)"
   ]
  },
  {
   "cell_type": "code",
   "execution_count": 209,
   "metadata": {},
   "outputs": [
    {
     "name": "stdout",
     "output_type": "stream",
     "text": [
      "TRAIN dataset accuracy 0.09582\n",
      "TEST  dataset accuracy 0.09324\n"
     ]
    }
   ],
   "source": [
    "print('TRAIN dataset accuracy {:.5f}'.format(lr.score(X_train, y_train)))\n",
    "print('TEST  dataset accuracy {:.5f}'.format(lr.score(X_test, y_test)))"
   ]
  },
  {
   "cell_type": "code",
   "execution_count": 210,
   "metadata": {
    "collapsed": true
   },
   "outputs": [],
   "source": [
    "X_train, X_test, y_train, y_test = train_test_split(\n",
    "    MATRIX_FOR_FIT, \n",
    "    target_age, \n",
    "    test_size=0.33,\n",
    "    random_state=40)"
   ]
  },
  {
   "cell_type": "code",
   "execution_count": 213,
   "metadata": {},
   "outputs": [
    {
     "name": "stdout",
     "output_type": "stream",
     "text": [
      "             precision    recall  f1-score   support\n",
      "\n",
      "          1       0.19      0.08      0.12       426\n",
      "          2       0.45      0.75      0.56      1271\n",
      "          3       0.28      0.16      0.20       752\n",
      "          4       0.20      0.10      0.14       397\n",
      "          5       0.16      0.05      0.08       157\n",
      "\n",
      "avg / total       0.32      0.39      0.33      3003\n",
      "\n"
     ]
    }
   ],
   "source": [
    "rfc = RandomForestClassifier(n_estimators=100, class_weight='balanced', random_state=0, n_jobs=-1)\n",
    "rfc.fit(X_train, y_train) \n",
    "pred = rfc.predict(X_test)\n",
    "print_metrics_for_multiclass(y_test, pred)"
   ]
  },
  {
   "cell_type": "code",
   "execution_count": 214,
   "metadata": {},
   "outputs": [
    {
     "name": "stdout",
     "output_type": "stream",
     "text": [
      "TRAIN dataset accuracy 0.60574\n",
      "TEST  dataset accuracy 0.27905\n"
     ]
    }
   ],
   "source": [
    "print('TRAIN dataset accuracy {:.5f}'.format(lr.score(X_train, y_train)))\n",
    "print('TEST  dataset accuracy {:.5f}'.format(lr.score(X_test, y_test)))"
   ]
  },
  {
   "cell_type": "code",
   "execution_count": null,
   "metadata": {
    "collapsed": true
   },
   "outputs": [],
   "source": []
  },
  {
   "cell_type": "markdown",
   "metadata": {},
   "source": [
    "### GradientBoostingClassifier"
   ]
  },
  {
   "cell_type": "markdown",
   "metadata": {},
   "source": [
    "- Gender"
   ]
  },
  {
   "cell_type": "code",
   "execution_count": 215,
   "metadata": {
    "collapsed": true
   },
   "outputs": [],
   "source": [
    "X_train, X_test, y_train, y_test = train_test_split(\n",
    "    MATRIX_FOR_FIT, \n",
    "    target_gender, \n",
    "    test_size=0.33,\n",
    "    random_state=42)"
   ]
  },
  {
   "cell_type": "code",
   "execution_count": 220,
   "metadata": {},
   "outputs": [
    {
     "name": "stdout",
     "output_type": "stream",
     "text": [
      "AUC             =====>  0.498510737628\n",
      "accuracy_score  =====>  0.522810522811\n",
      "precision_score =====>  0.523729946524\n",
      "recall_score    =====>  0.994920634921\n"
     ]
    }
   ],
   "source": [
    "from sklearn.ensemble import GradientBoostingClassifier\n",
    "rfc = GradientBoostingClassifier(n_estimators=100, learning_rate=0.01, random_state=0)\n",
    "rfc.fit(X_train, y_train) \n",
    "pred = rfc.predict(X_test)\n",
    "print_metrics(y_test, pred)"
   ]
  },
  {
   "cell_type": "code",
   "execution_count": 221,
   "metadata": {},
   "outputs": [
    {
     "name": "stdout",
     "output_type": "stream",
     "text": [
      "TRAIN dataset accuracy 0.09582\n",
      "TEST  dataset accuracy 0.09324\n"
     ]
    }
   ],
   "source": [
    "print('TRAIN dataset accuracy {:.5f}'.format(lr.score(X_train, y_train)))\n",
    "print('TEST  dataset accuracy {:.5f}'.format(lr.score(X_test, y_test)))\n",
    "\n"
   ]
  },
  {
   "cell_type": "code",
   "execution_count": 222,
   "metadata": {},
   "outputs": [
    {
     "name": "stdout",
     "output_type": "stream",
     "text": [
      "0.538970033993\n",
      "0.536463536464\n"
     ]
    }
   ],
   "source": [
    "from sklearn.model_selection import cross_val_score\n",
    "scores = cross_val_score(rfc, X_train, y_train)\n",
    "print(scores.mean())   \n",
    "scores = cross_val_score(rfc, X_test, y_test)\n",
    "print(scores.mean())"
   ]
  },
  {
   "cell_type": "code",
   "execution_count": null,
   "metadata": {
    "collapsed": true
   },
   "outputs": [],
   "source": [
    "0.6767856867512404"
   ]
  },
  {
   "cell_type": "code",
   "execution_count": 219,
   "metadata": {},
   "outputs": [
    {
     "name": "stdout",
     "output_type": "stream",
     "text": [
      "0.650016650017\n"
     ]
    }
   ],
   "source": [
    "scores = cross_val_score(rfc, X_test, y_test)\n",
    "print(scores.mean())"
   ]
  },
  {
   "cell_type": "code",
   "execution_count": null,
   "metadata": {
    "collapsed": true
   },
   "outputs": [],
   "source": [
    "0.650016650017"
   ]
  },
  {
   "cell_type": "markdown",
   "metadata": {},
   "source": [
    "- Age"
   ]
  },
  {
   "cell_type": "code",
   "execution_count": 202,
   "metadata": {
    "collapsed": true
   },
   "outputs": [],
   "source": [
    "X_train, X_test, y_train, y_test = train_test_split(\n",
    "    MATRIX_FOR_FIT, \n",
    "    target_age, \n",
    "    test_size=0.33,\n",
    "    random_state=42)"
   ]
  },
  {
   "cell_type": "code",
   "execution_count": 203,
   "metadata": {},
   "outputs": [
    {
     "name": "stdout",
     "output_type": "stream",
     "text": [
      "             precision    recall  f1-score   support\n",
      "\n",
      "          1       0.20      0.03      0.05       428\n",
      "          2       0.43      0.89      0.58      1228\n",
      "          3       0.33      0.12      0.18       761\n",
      "          4       0.16      0.03      0.05       427\n",
      "          5       0.16      0.03      0.05       159\n",
      "\n",
      "avg / total       0.32      0.40      0.30      3003\n",
      "\n"
     ]
    }
   ],
   "source": [
    "from sklearn.ensemble import GradientBoostingClassifier\n",
    "rfc = GradientBoostingClassifier(n_estimators=100, random_state=0)\n",
    "rfc.fit(X_train, y_train) \n",
    "pred = rfc.predict(X_test)\n",
    "print_metrics_for_multiclass(y_test, pred)"
   ]
  },
  {
   "cell_type": "markdown",
   "metadata": {},
   "source": [
    "### Обучаем на всем наборе"
   ]
  },
  {
   "cell_type": "markdown",
   "metadata": {},
   "source": [
    "- Gender"
   ]
  },
  {
   "cell_type": "code",
   "execution_count": 254,
   "metadata": {},
   "outputs": [
    {
     "data": {
      "text/plain": [
       "RandomForestClassifier(bootstrap=True, class_weight='balanced',\n",
       "            criterion='gini', max_depth=None, max_features='auto',\n",
       "            max_leaf_nodes=None, min_impurity_decrease=0.0,\n",
       "            min_impurity_split=None, min_samples_leaf=1,\n",
       "            min_samples_split=2, min_weight_fraction_leaf=0.0,\n",
       "            n_estimators=1000, n_jobs=-1, oob_score=False,\n",
       "            random_state=None, verbose=0, warm_start=False)"
      ]
     },
     "execution_count": 254,
     "metadata": {},
     "output_type": "execute_result"
    }
   ],
   "source": [
    "rfc_gender = GradientBoostingClassifier(n_estimators=100)\n",
    "rfc_gender.fit(MATRIX_FOR_FIT, target_gender) "
   ]
  },
  {
   "cell_type": "markdown",
   "metadata": {},
   "source": [
    "- Age"
   ]
  },
  {
   "cell_type": "code",
   "execution_count": 255,
   "metadata": {},
   "outputs": [
    {
     "data": {
      "text/plain": [
       "RandomForestClassifier(bootstrap=True, class_weight='balanced',\n",
       "            criterion='gini', max_depth=None, max_features='auto',\n",
       "            max_leaf_nodes=None, min_impurity_decrease=0.0,\n",
       "            min_impurity_split=None, min_samples_leaf=1,\n",
       "            min_samples_split=2, min_weight_fraction_leaf=0.0,\n",
       "            n_estimators=1000, n_jobs=-1, oob_score=False,\n",
       "            random_state=None, verbose=0, warm_start=False)"
      ]
     },
     "execution_count": 255,
     "metadata": {},
     "output_type": "execute_result"
    }
   ],
   "source": [
    "rfc_age = GradientBoostingClassifier(n_estimators=100)\n",
    "rfc_age.fit(MATRIX_FOR_FIT, target_age) "
   ]
  },
  {
   "cell_type": "markdown",
   "metadata": {},
   "source": [
    "### PREDICT"
   ]
  },
  {
   "cell_type": "markdown",
   "metadata": {},
   "source": [
    "- Gender"
   ]
  },
  {
   "cell_type": "code",
   "execution_count": 256,
   "metadata": {
    "collapsed": true
   },
   "outputs": [],
   "source": [
    "pred_gender = rfc_gender.predict(MATRIX_FOR_PREDICT)"
   ]
  },
  {
   "cell_type": "markdown",
   "metadata": {},
   "source": [
    "- Age"
   ]
  },
  {
   "cell_type": "code",
   "execution_count": 257,
   "metadata": {
    "collapsed": true
   },
   "outputs": [],
   "source": [
    "pred_age = rfc_age.predict(MATRIX_FOR_PREDICT)"
   ]
  },
  {
   "cell_type": "markdown",
   "metadata": {},
   "source": [
    "### Формируем результат"
   ]
  },
  {
   "cell_type": "code",
   "execution_count": 258,
   "metadata": {
    "collapsed": true
   },
   "outputs": [],
   "source": [
    "pre_result = pd.DataFrame()\n",
    "pre_result['uid'] = df_predict_uid\n",
    "pre_result['gender'] = pred_gender\n",
    "pre_result['age'] = pred_age"
   ]
  },
  {
   "cell_type": "markdown",
   "metadata": {},
   "source": [
    "#### обратная перекодировка значений"
   ]
  },
  {
   "cell_type": "code",
   "execution_count": 259,
   "metadata": {
    "collapsed": true
   },
   "outputs": [],
   "source": [
    "genders = {1 : 'M', 0 : 'F'}\n",
    "pre_result[\"gender\"] = pre_result[\"gender\"].apply(lambda x: genders.get(x))"
   ]
  },
  {
   "cell_type": "code",
   "execution_count": 260,
   "metadata": {
    "collapsed": true
   },
   "outputs": [],
   "source": [
    "ages = {1 :'18-24', 2 :'25-34', 3 : '35-44', 4 : '45-54', 5 :'>=55'}\n",
    "pre_result[\"age\"] = pre_result[\"age\"].apply(lambda x: ages.get(x))"
   ]
  },
  {
   "cell_type": "markdown",
   "metadata": {},
   "source": [
    "#### слияние с полным списком uid"
   ]
  },
  {
   "cell_type": "code",
   "execution_count": 261,
   "metadata": {
    "collapsed": true
   },
   "outputs": [],
   "source": [
    "result = pd.DataFrame()\n",
    "result['uid'] = df_predict_ALL_uid[36138:]\n",
    "result = pd.merge(result, pre_result, how='left', on='uid')\n",
    "result = result.fillna('-')"
   ]
  },
  {
   "cell_type": "code",
   "execution_count": 262,
   "metadata": {
    "collapsed": true
   },
   "outputs": [],
   "source": [
    "sorted_res = result.sort_values(by='uid')"
   ]
  },
  {
   "cell_type": "code",
   "execution_count": 263,
   "metadata": {
    "collapsed": true
   },
   "outputs": [],
   "source": [
    "sorted_res.to_csv('project01_gender-age.csv', sep='\\t', index=False)"
   ]
  },
  {
   "cell_type": "code",
   "execution_count": 264,
   "metadata": {},
   "outputs": [
    {
     "data": {
      "text/html": [
       "<div>\n",
       "<style>\n",
       "    .dataframe thead tr:only-child th {\n",
       "        text-align: right;\n",
       "    }\n",
       "\n",
       "    .dataframe thead th {\n",
       "        text-align: left;\n",
       "    }\n",
       "\n",
       "    .dataframe tbody tr th {\n",
       "        vertical-align: top;\n",
       "    }\n",
       "</style>\n",
       "<table border=\"1\" class=\"dataframe\">\n",
       "  <thead>\n",
       "    <tr style=\"text-align: right;\">\n",
       "      <th></th>\n",
       "      <th>uid</th>\n",
       "      <th>gender</th>\n",
       "      <th>age</th>\n",
       "    </tr>\n",
       "  </thead>\n",
       "  <tbody>\n",
       "    <tr>\n",
       "      <th>1675</th>\n",
       "      <td>0000e7ca-32e6-4bef-bdca-e21c025071ff</td>\n",
       "      <td>F</td>\n",
       "      <td>25-34</td>\n",
       "    </tr>\n",
       "    <tr>\n",
       "      <th>1676</th>\n",
       "      <td>0000f3cf-6e9a-4eab-92f4-cefdad108c83</td>\n",
       "      <td>F</td>\n",
       "      <td>25-34</td>\n",
       "    </tr>\n",
       "    <tr>\n",
       "      <th>1677</th>\n",
       "      <td>000381a6-0400-40f8-98c0-93a6c0852d2d</td>\n",
       "      <td>M</td>\n",
       "      <td>35-44</td>\n",
       "    </tr>\n",
       "    <tr>\n",
       "      <th>1678</th>\n",
       "      <td>00062d89-a3ba-40dd-9a25-212c9f429133</td>\n",
       "      <td>F</td>\n",
       "      <td>&gt;=55</td>\n",
       "    </tr>\n",
       "    <tr>\n",
       "      <th>1679</th>\n",
       "      <td>0009233e-a0c2-438e-ac36-bd3e1b7dad1e</td>\n",
       "      <td>-</td>\n",
       "      <td>-</td>\n",
       "    </tr>\n",
       "  </tbody>\n",
       "</table>\n",
       "</div>"
      ],
      "text/plain": [
       "                                       uid gender    age\n",
       "1675  0000e7ca-32e6-4bef-bdca-e21c025071ff      F  25-34\n",
       "1676  0000f3cf-6e9a-4eab-92f4-cefdad108c83      F  25-34\n",
       "1677  000381a6-0400-40f8-98c0-93a6c0852d2d      M  35-44\n",
       "1678  00062d89-a3ba-40dd-9a25-212c9f429133      F   >=55\n",
       "1679  0009233e-a0c2-438e-ac36-bd3e1b7dad1e      -      -"
      ]
     },
     "execution_count": 264,
     "metadata": {},
     "output_type": "execute_result"
    }
   ],
   "source": [
    "sorted_res.head()"
   ]
  },
  {
   "cell_type": "code",
   "execution_count": null,
   "metadata": {
    "collapsed": true
   },
   "outputs": [],
   "source": []
  },
  {
   "cell_type": "code",
   "execution_count": null,
   "metadata": {
    "collapsed": true
   },
   "outputs": [],
   "source": []
  }
 ],
 "metadata": {
  "kernelspec": {
   "display_name": "Python 3",
   "language": "python",
   "name": "python3"
  },
  "language_info": {
   "codemirror_mode": {
    "name": "ipython",
    "version": 3
   },
   "file_extension": ".py",
   "mimetype": "text/x-python",
   "name": "python",
   "nbconvert_exporter": "python",
   "pygments_lexer": "ipython3",
   "version": "3.6.2"
  }
 },
 "nbformat": 4,
 "nbformat_minor": 2
}

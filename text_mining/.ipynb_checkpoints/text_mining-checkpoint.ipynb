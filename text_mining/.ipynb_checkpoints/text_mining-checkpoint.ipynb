{
 "cells": [
  {
   "cell_type": "code",
   "execution_count": 20,
   "metadata": {
    "collapsed": true
   },
   "outputs": [],
   "source": [
    "import requests"
   ]
  },
  {
   "cell_type": "code",
   "execution_count": 9,
   "metadata": {
    "collapsed": true
   },
   "outputs": [],
   "source": [
    "resp = requests.get('https://api.hh.ru/vacancies/1')"
   ]
  },
  {
   "cell_type": "code",
   "execution_count": 21,
   "metadata": {
    "collapsed": true
   },
   "outputs": [],
   "source": [
    "# https://api.hh.ru/vacancies?per_page=100&page=10&specialization=1.221\n",
    "# https://api.hh.ru/vacancies?per_page=100&page=10&specialization=13.228\n",
    "\n",
    "url1 = 'https://api.hh.ru/vacancies?specialization=1.221'\n",
    "url2 = 'https://api.hh.ru/vacancies?specialization=13.228'"
   ]
  },
  {
   "cell_type": "code",
   "execution_count": 23,
   "metadata": {
    "collapsed": true
   },
   "outputs": [],
   "source": [
    "searches = []\n",
    "for page in range(20):\n",
    "    searches.append(requests.get(url1 + '&page={}&per_page=100'.format(page)).json())\n",
    "    "
   ]
  },
  {
   "cell_type": "code",
   "execution_count": 26,
   "metadata": {
    "collapsed": true
   },
   "outputs": [],
   "source": [
    "for page in range(20):\n",
    "    searches.append(requests.get(url2 + '&page={}&per_page=100'.format(page)).json())"
   ]
  },
  {
   "cell_type": "code",
   "execution_count": 31,
   "metadata": {},
   "outputs": [
    {
     "data": {
      "text/plain": [
       "'https://api.hh.ru/vacancies/22757322?host=hh.ru'"
      ]
     },
     "execution_count": 31,
     "metadata": {},
     "output_type": "execute_result"
    }
   ],
   "source": [
    "searches[22]['items'][0]['url']\n"
   ]
  },
  {
   "cell_type": "code",
   "execution_count": 32,
   "metadata": {
    "collapsed": true
   },
   "outputs": [],
   "source": [
    "vacs = [x['items'] for x in searches]"
   ]
  },
  {
   "cell_type": "code",
   "execution_count": 36,
   "metadata": {
    "collapsed": true
   },
   "outputs": [],
   "source": [
    "vacs = sum(vacs, [])"
   ]
  },
  {
   "cell_type": "code",
   "execution_count": 38,
   "metadata": {
    "collapsed": true
   },
   "outputs": [],
   "source": [
    "urls = [x['url'] for x in vacs]"
   ]
  },
  {
   "cell_type": "code",
   "execution_count": 43,
   "metadata": {
    "collapsed": true
   },
   "outputs": [],
   "source": [
    "from tqdm import tqdm_notebook"
   ]
  },
  {
   "cell_type": "code",
   "execution_count": 44,
   "metadata": {},
   "outputs": [
    {
     "data": {
      "application/vnd.jupyter.widget-view+json": {
       "model_id": "48b320f3d1fa4812960e29be86640807",
       "version_major": 2,
       "version_minor": 0
      },
      "text/plain": [
       "A Jupyter Widget"
      ]
     },
     "metadata": {},
     "output_type": "display_data"
    },
    {
     "name": "stdout",
     "output_type": "stream",
     "text": [
      "\n"
     ]
    }
   ],
   "source": [
    "vac_dicts = []\n",
    "for url in tqdm_notebook(urls):\n",
    "    vac_dicts.append(requests.get(url).json())"
   ]
  },
  {
   "cell_type": "code",
   "execution_count": 47,
   "metadata": {
    "collapsed": true
   },
   "outputs": [],
   "source": [
    "d = vac_dicts[0]['description']"
   ]
  },
  {
   "cell_type": "code",
   "execution_count": 55,
   "metadata": {
    "collapsed": true
   },
   "outputs": [],
   "source": [
    "import warnings\n",
    "warnings.filterwarnings('ignore')"
   ]
  },
  {
   "cell_type": "code",
   "execution_count": 56,
   "metadata": {
    "collapsed": true
   },
   "outputs": [],
   "source": [
    "from bs4 import BeautifulSoup"
   ]
  },
  {
   "cell_type": "code",
   "execution_count": 58,
   "metadata": {},
   "outputs": [
    {
     "data": {
      "text/plain": [
       "'Обязанности:  Техническая поддержка продуктов на платформе 1С 8.3: 1С Бухгалтерия, ЗУП, 1С документооборот. Внедрение: программирование, настройка и техническая поддержка программ: 1С документооборот, БитФинанс.Холдинг. Взаимодействие с разработчиками и внедренцами (1Бит). Подготовка технических заданий. Проверка исполнения. Оптимизация работы существующего программного функционала   Требования:    высшее образование; наличие диплома программиста и сертификатов специалиста/эксперта по работе с программами на платформе 1С; опыт работы от 3-х лет в качестве программиста 1С хорошие знания возможностей платформы 1С:Предприятие 8.3, архитектуры типовой конфигурации «1С Бухгалтерия», «ЗУП»; опыт работы с программами «1С:Документооборот», «БитФинанс.Холдинг» является преимуществом;   Условия:    официальное оформление с 1-го дня работы, полное соблюдение ТК РФ; место работы - ст. м. \"Алексеевская\".   '"
      ]
     },
     "execution_count": 58,
     "metadata": {},
     "output_type": "execute_result"
    }
   ],
   "source": [
    "BeautifulSoup(d).text"
   ]
  },
  {
   "cell_type": "code",
   "execution_count": 59,
   "metadata": {
    "collapsed": true
   },
   "outputs": [],
   "source": [
    "text = BeautifulSoup(d).text"
   ]
  },
  {
   "cell_type": "code",
   "execution_count": 60,
   "metadata": {
    "collapsed": true
   },
   "outputs": [],
   "source": [
    "from sklearn.feature_extraction.text import CountVectorizer\n",
    "cv = CountVectorizer()"
   ]
  },
  {
   "cell_type": "code",
   "execution_count": 61,
   "metadata": {},
   "outputs": [
    {
     "data": {
      "text/plain": [
       "array([[1, 9, 1, 1, 2, 2, 1, 1, 1, 1, 1, 1, 1, 1, 3, 1, 1, 2, 1, 1, 1, 1,\n",
       "        1, 2, 1, 1, 1, 1, 1, 2, 1, 1, 1, 2, 1, 1, 1, 2, 1, 1, 1, 1, 1, 2,\n",
       "        1, 2, 1, 1, 1, 5, 1, 1, 1, 1, 1, 1, 1, 2, 1, 1, 1, 1, 1, 1, 2, 1,\n",
       "        1, 1]], dtype=int64)"
      ]
     },
     "execution_count": 61,
     "metadata": {},
     "output_type": "execute_result"
    }
   ],
   "source": [
    "cv.fit_transform([text]).toarray()"
   ]
  },
  {
   "cell_type": "code",
   "execution_count": 118,
   "metadata": {
    "collapsed": true
   },
   "outputs": [],
   "source": [
    "import pymorphy2"
   ]
  },
  {
   "cell_type": "code",
   "execution_count": 119,
   "metadata": {
    "collapsed": true
   },
   "outputs": [],
   "source": [
    "m = pymorphy2.MorphAnalyzer()"
   ]
  },
  {
   "cell_type": "code",
   "execution_count": 122,
   "metadata": {},
   "outputs": [
    {
     "data": {
      "text/plain": [
       "'зрдогать'"
      ]
     },
     "execution_count": 122,
     "metadata": {},
     "output_type": "execute_result"
    }
   ],
   "source": [
    "m.parse('зрдоган')[0].normal_form"
   ]
  },
  {
   "cell_type": "code",
   "execution_count": 79,
   "metadata": {
    "collapsed": true
   },
   "outputs": [],
   "source": [
    "import pymystem3"
   ]
  },
  {
   "cell_type": "code",
   "execution_count": 80,
   "metadata": {
    "collapsed": true
   },
   "outputs": [],
   "source": [
    "import pickle"
   ]
  },
  {
   "cell_type": "code",
   "execution_count": 93,
   "metadata": {
    "collapsed": true
   },
   "outputs": [],
   "source": [
    "with open('data.pickle', 'wb') as file:\n",
    "    pickle.dump(vac_dicts, file)"
   ]
  },
  {
   "cell_type": "code",
   "execution_count": 94,
   "metadata": {
    "collapsed": true
   },
   "outputs": [],
   "source": [
    "with open('data.pickle', 'rb') as file:\n",
    "    data = pickle.load(file)"
   ]
  },
  {
   "cell_type": "code",
   "execution_count": 95,
   "metadata": {},
   "outputs": [
    {
     "data": {
      "application/vnd.jupyter.widget-view+json": {
       "model_id": "2886b27e75d845b4bedef319331cacfb",
       "version_major": 2,
       "version_minor": 0
      },
      "text/plain": [
       "A Jupyter Widget"
      ]
     },
     "metadata": {},
     "output_type": "display_data"
    },
    {
     "name": "stdout",
     "output_type": "stream",
     "text": [
      "\n"
     ]
    }
   ],
   "source": [
    "texts = []\n",
    "for v in tqdm_notebook(data):\n",
    "    texts.append(BeautifulSoup(v['description']).text)"
   ]
  },
  {
   "cell_type": "code",
   "execution_count": 114,
   "metadata": {},
   "outputs": [
    {
     "data": {
      "text/plain": [
       "'Обязанности:  Техническая поддержка продуктов на платформе 1С 8.3: 1С Бухгалтерия, ЗУП, 1С документооборот. Внедрение: программирование, настройка и техническая поддержка программ: 1С документооборот, БитФинанс.Холдинг. Взаимодействие с разработчиками и внедренцами (1Бит). Подготовка технических заданий. Проверка исполнения. Оптимизация работы существующего программного функционала   Требования:    высшее образование; наличие диплома программиста и сертификатов специалиста/эксперта по работе с программами на платформе 1С; опыт работы от 3-х лет в качестве программиста 1С хорошие знания возможностей платформы 1С:Предприятие 8.3, архитектуры типовой конфигурации «1С Бухгалтерия», «ЗУП»; опыт работы с программами «1С:Документооборот», «БитФинанс.Холдинг» является преимуществом;   Условия:    официальное оформление с 1-го дня работы, полное соблюдение ТК РФ; место работы - ст. м. \"Алексеевская\".   '"
      ]
     },
     "execution_count": 114,
     "metadata": {},
     "output_type": "execute_result"
    }
   ],
   "source": [
    "texts[0]"
   ]
  },
  {
   "cell_type": "code",
   "execution_count": 134,
   "metadata": {
    "collapsed": true
   },
   "outputs": [],
   "source": [
    "import pymystem3"
   ]
  },
  {
   "cell_type": "code",
   "execution_count": 135,
   "metadata": {
    "collapsed": true
   },
   "outputs": [],
   "source": [
    "mm = pymystem3.Mystem()"
   ]
  },
  {
   "cell_type": "code",
   "execution_count": 137,
   "metadata": {},
   "outputs": [
    {
     "data": {
      "text/plain": [
       "[{'analysis': [{'gr': 'V=инф,сов', 'lex': 'сливать'}], 'text': 'слить'},\n",
       " {'text': '\\n'}]"
      ]
     },
     "execution_count": 137,
     "metadata": {},
     "output_type": "execute_result"
    }
   ],
   "source": [
    "mm.analyze('слить')"
   ]
  },
  {
   "cell_type": "code",
   "execution_count": null,
   "metadata": {
    "collapsed": true
   },
   "outputs": [],
   "source": [
    "import pymorphy2"
   ]
  },
  {
   "cell_type": "code",
   "execution_count": null,
   "metadata": {
    "collapsed": true
   },
   "outputs": [],
   "source": [
    "m = pymorphy2.MorphAnalyzer()"
   ]
  },
  {
   "cell_type": "code",
   "execution_count": 126,
   "metadata": {
    "collapsed": true
   },
   "outputs": [],
   "source": [
    "import re\n",
    "GROUPING_SPACE_REGEX = re.compile(r'([^\\w]|[+])', re.UNICODE)\n",
    "\n",
    "def simple_word_tokenize(text, _split=GROUPING_SPACE_REGEX.split):\n",
    "    return [t for t in _split(text.lower()) if t and not t.isspace()]\n"
   ]
  },
  {
   "cell_type": "code",
   "execution_count": 127,
   "metadata": {
    "collapsed": true
   },
   "outputs": [],
   "source": [
    "def token_r(text):\n",
    "    words = simple_word_tokenize(text)\n",
    "    return [m.parse(x)[0].normal_form for x in words if len(x) >= 4]"
   ]
  },
  {
   "cell_type": "code",
   "execution_count": 177,
   "metadata": {
    "collapsed": true
   },
   "outputs": [],
   "source": [
    "cv = CountVectorizer(tokenizer=token_r, stop_words=stop_w)\n",
    "matrix = cv.fit_transform(texts).toarray()"
   ]
  },
  {
   "cell_type": "code",
   "execution_count": 178,
   "metadata": {},
   "outputs": [
    {
     "data": {
      "text/plain": [
       "(4000, 18557)"
      ]
     },
     "execution_count": 178,
     "metadata": {},
     "output_type": "execute_result"
    }
   ],
   "source": [
    "matrix.shape"
   ]
  },
  {
   "cell_type": "code",
   "execution_count": 167,
   "metadata": {},
   "outputs": [
    {
     "data": {
      "text/plain": [
       "array([0, 0, 0, ..., 0, 0, 0], dtype=int64)"
      ]
     },
     "execution_count": 167,
     "metadata": {},
     "output_type": "execute_result"
    }
   ],
   "source": [
    "matrix[0]"
   ]
  },
  {
   "cell_type": "code",
   "execution_count": 139,
   "metadata": {
    "collapsed": true
   },
   "outputs": [],
   "source": [
    "from sklearn.metrics.pairwise import cosine_similarity"
   ]
  },
  {
   "cell_type": "code",
   "execution_count": 179,
   "metadata": {
    "collapsed": true
   },
   "outputs": [],
   "source": [
    "cos_m = cosine_similarity(matrix)"
   ]
  },
  {
   "cell_type": "code",
   "execution_count": 180,
   "metadata": {},
   "outputs": [
    {
     "data": {
      "text/plain": [
       "(4000, 4000)"
      ]
     },
     "execution_count": 180,
     "metadata": {},
     "output_type": "execute_result"
    }
   ],
   "source": [
    "cos_m.shape\n"
   ]
  },
  {
   "cell_type": "code",
   "execution_count": 146,
   "metadata": {},
   "outputs": [
    {
     "data": {
      "text/plain": [
       "array([ 0.2446791 ,  0.38551404,  0.12381913, ...,  0.13259028,\n",
       "        0.22750788,  0.08495032])"
      ]
     },
     "execution_count": 146,
     "metadata": {},
     "output_type": "execute_result"
    }
   ],
   "source": [
    "cos_m[0][1:]"
   ]
  },
  {
   "cell_type": "code",
   "execution_count": 181,
   "metadata": {
    "collapsed": true
   },
   "outputs": [],
   "source": [
    "matrix = sum(matrix)\n"
   ]
  },
  {
   "cell_type": "code",
   "execution_count": 182,
   "metadata": {
    "collapsed": true
   },
   "outputs": [],
   "source": [
    "words = [y[0] for y in sorted(cv.vocabulary_.items(), key = lambda x: x[1])]"
   ]
  },
  {
   "cell_type": "code",
   "execution_count": 183,
   "metadata": {
    "collapsed": true
   },
   "outputs": [],
   "source": [
    "c_words = zip(words, matrix)"
   ]
  },
  {
   "cell_type": "code",
   "execution_count": 184,
   "metadata": {
    "collapsed": true
   },
   "outputs": [],
   "source": [
    "c_words = sorted(c_words, key = lambda x: x[1], reverse=True)"
   ]
  },
  {
   "cell_type": "code",
   "execution_count": 185,
   "metadata": {},
   "outputs": [
    {
     "data": {
      "text/plain": [
       "[('задача', 1839),\n",
       " ('график', 1809),\n",
       " ('навык', 1799),\n",
       " ('корпоративный', 1798),\n",
       " ('быть', 1792),\n",
       " ('развитие', 1707),\n",
       " ('оформление', 1671),\n",
       " ('участие', 1651),\n",
       " ('продажа', 1650),\n",
       " ('результат', 1641),\n",
       " ('наш', 1611),\n",
       " ('обучение', 1484),\n",
       " ('проведение', 1474),\n",
       " ('технический', 1470),\n",
       " ('рост', 1424),\n",
       " ('качество', 1383),\n",
       " ('язык', 1378),\n",
       " ('плат', 1352),\n",
       " ('дать', 1334),\n",
       " ('новый', 1332)]"
      ]
     },
     "execution_count": 185,
     "metadata": {},
     "output_type": "execute_result"
    }
   ],
   "source": [
    "c_words[:20]"
   ]
  },
  {
   "cell_type": "code",
   "execution_count": 175,
   "metadata": {
    "collapsed": true
   },
   "outputs": [],
   "source": [
    "stop_w = [x[0] for x in c_words[:25]]"
   ]
  },
  {
   "cell_type": "code",
   "execution_count": 176,
   "metadata": {},
   "outputs": [
    {
     "data": {
      "text/plain": [
       "['работа',\n",
       " 'опыт',\n",
       " 'разработка',\n",
       " 'компания',\n",
       " 'знание',\n",
       " 'требование',\n",
       " 'условие',\n",
       " 'обязанность',\n",
       " 'проект',\n",
       " 'система',\n",
       " 'высокий',\n",
       " 'медицинский',\n",
       " 'команда',\n",
       " 'образование',\n",
       " 'фармацевтический',\n",
       " 'профессиональный',\n",
       " 'умение',\n",
       " 'офис',\n",
       " 'контроль',\n",
       " 'возможность',\n",
       " 'препарат',\n",
       " 'заработный',\n",
       " 'работать',\n",
       " 'клиент',\n",
       " 'уровень']"
      ]
     },
     "execution_count": 176,
     "metadata": {},
     "output_type": "execute_result"
    }
   ],
   "source": [
    "stop_w"
   ]
  },
  {
   "cell_type": "code",
   "execution_count": 187,
   "metadata": {},
   "outputs": [
    {
     "data": {
      "text/plain": [
       "array([ 1.18221754,  0.44875802,  0.28394343, ...,  0.20138723,\n",
       "        0.31811708,  0.19886172])"
      ]
     },
     "execution_count": 187,
     "metadata": {},
     "output_type": "execute_result"
    }
   ],
   "source": [
    "cos_m[0][4:] + cos_m[1][4:] + cos_m[2][4:] + cos_m[3][4:] + cos_m[4][4:]"
   ]
  },
  {
   "cell_type": "code",
   "execution_count": 147,
   "metadata": {
    "collapsed": true
   },
   "outputs": [],
   "source": [
    "%matplotlib inline"
   ]
  },
  {
   "cell_type": "code",
   "execution_count": 148,
   "metadata": {
    "collapsed": true
   },
   "outputs": [],
   "source": [
    "from matplotlib import pyplot as plt\n",
    "import seaborn as sns"
   ]
  },
  {
   "cell_type": "code",
   "execution_count": null,
   "metadata": {
    "collapsed": true
   },
   "outputs": [],
   "source": [
    "plt.plot(cos_m[0][1:])"
   ]
  },
  {
   "cell_type": "code",
   "execution_count": 188,
   "metadata": {},
   "outputs": [
    {
     "data": {
      "text/plain": [
       "[<matplotlib.lines.Line2D at 0x1a29756128>]"
      ]
     },
     "execution_count": 188,
     "metadata": {},
     "output_type": "execute_result"
    },
    {
     "data": {
      "image/png": "[encoded data removed]",
      "text/plain": [
       "<matplotlib.figure.Figure at 0x1a1cebf2e8>"
      ]
     },
     "metadata": {},
     "output_type": "display_data"
    }
   ],
   "source": [
    "plt.plot(cos_m[0][4:] + cos_m[1][4:] + cos_m[2][4:] + cos_m[3][4:] + cos_m[4][4:])"
   ]
  },
  {
   "cell_type": "code",
   "execution_count": null,
   "metadata": {
    "collapsed": true
   },
   "outputs": [],
   "source": []
  },
  {
   "cell_type": "code",
   "execution_count": null,
   "metadata": {
    "collapsed": true
   },
   "outputs": [],
   "source": []
  },
  {
   "cell_type": "code",
   "execution_count": null,
   "metadata": {
    "collapsed": true
   },
   "outputs": [],
   "source": []
  },
  {
   "cell_type": "code",
   "execution_count": 129,
   "metadata": {
    "collapsed": true
   },
   "outputs": [],
   "source": [
    "from sklearn.feature_extraction.text import CountVectorizer"
   ]
  },
  {
   "cell_type": "code",
   "execution_count": 130,
   "metadata": {},
   "outputs": [
    {
     "ename": "NameError",
     "evalue": "name 'stop_w' is not defined",
     "output_type": "error",
     "traceback": [
      "\u001b[0;31m---------------------------------------------------------------------------\u001b[0m",
      "\u001b[0;31mNameError\u001b[0m                                 Traceback (most recent call last)",
      "\u001b[0;32m<ipython-input-130-c8f8ad570aa7>\u001b[0m in \u001b[0;36m<module>\u001b[0;34m()\u001b[0m\n\u001b[0;32m----> 1\u001b[0;31m \u001b[0mcv\u001b[0m \u001b[0;34m=\u001b[0m \u001b[0mCountVectorizer\u001b[0m\u001b[0;34m(\u001b[0m\u001b[0mtokenizer\u001b[0m\u001b[0;34m=\u001b[0m\u001b[0mtoken_r\u001b[0m\u001b[0;34m,\u001b[0m \u001b[0mstop_words\u001b[0m\u001b[0;34m=\u001b[0m\u001b[0mstop_w\u001b[0m\u001b[0;34m)\u001b[0m\u001b[0;34m\u001b[0m\u001b[0m\n\u001b[0m",
      "\u001b[0;31mNameError\u001b[0m: name 'stop_w' is not defined"
     ]
    }
   ],
   "source": [
    "cv = CountVectorizer(tokenizer=token_r, stop_words=stop_w)"
   ]
  },
  {
   "cell_type": "code",
   "execution_count": 102,
   "metadata": {
    "collapsed": true
   },
   "outputs": [],
   "source": [
    "matrix = cv.fit_transform(texts).toarray()"
   ]
  },
  {
   "cell_type": "code",
   "execution_count": 103,
   "metadata": {},
   "outputs": [
    {
     "data": {
      "text/plain": [
       "(4000, 35776)"
      ]
     },
     "execution_count": 103,
     "metadata": {},
     "output_type": "execute_result"
    }
   ],
   "source": [
    "matrix.shape"
   ]
  },
  {
   "cell_type": "code",
   "execution_count": 123,
   "metadata": {
    "collapsed": true
   },
   "outputs": [
    {
     "data": {
      "text/plain": [
       "['обязанности',\n",
       " ':',\n",
       " 'техническая',\n",
       " 'поддержка',\n",
       " 'продуктов',\n",
       " 'на',\n",
       " 'платформе',\n",
       " '1с',\n",
       " '8',\n",
       " '.',\n",
       " '3',\n",
       " ':',\n",
       " '1с',\n",
       " 'бухгалтерия',\n",
       " ',',\n",
       " 'зуп',\n",
       " ',',\n",
       " '1с',\n",
       " 'документооборот',\n",
       " '.',\n",
       " 'внедрение',\n",
       " ':',\n",
       " 'программирование',\n",
       " ',',\n",
       " 'настройка',\n",
       " 'и',\n",
       " 'техническая',\n",
       " 'поддержка',\n",
       " 'программ',\n",
       " ':',\n",
       " '1с',\n",
       " 'документооборот',\n",
       " ',',\n",
       " 'битфинанс',\n",
       " '.',\n",
       " 'холдинг',\n",
       " '.',\n",
       " 'взаимодействие',\n",
       " 'с',\n",
       " 'разработчиками',\n",
       " 'и',\n",
       " 'внедренцами',\n",
       " '(',\n",
       " '1бит',\n",
       " ')',\n",
       " '.',\n",
       " 'подготовка',\n",
       " 'технических',\n",
       " 'заданий',\n",
       " '.',\n",
       " 'проверка',\n",
       " 'исполнения',\n",
       " '.',\n",
       " 'оптимизация',\n",
       " 'работы',\n",
       " 'существующего',\n",
       " 'программного',\n",
       " 'функционала',\n",
       " 'требования',\n",
       " ':',\n",
       " 'высшее',\n",
       " 'образование',\n",
       " ';',\n",
       " 'наличие',\n",
       " 'диплома',\n",
       " 'программиста',\n",
       " 'и',\n",
       " 'сертификатов',\n",
       " 'специалиста',\n",
       " '/',\n",
       " 'эксперта',\n",
       " 'по',\n",
       " 'работе',\n",
       " 'с',\n",
       " 'программами',\n",
       " 'на',\n",
       " 'платформе',\n",
       " '1с',\n",
       " ';',\n",
       " 'опыт',\n",
       " 'работы',\n",
       " 'от',\n",
       " '3-х',\n",
       " 'лет',\n",
       " 'в',\n",
       " 'качестве',\n",
       " 'программиста',\n",
       " '1с',\n",
       " 'хорошие',\n",
       " 'знания',\n",
       " 'возможностей',\n",
       " 'платформы',\n",
       " '1с',\n",
       " ':',\n",
       " 'предприятие',\n",
       " '8',\n",
       " '.',\n",
       " '3',\n",
       " ',',\n",
       " 'архитектуры',\n",
       " 'типовой',\n",
       " 'конфигурации',\n",
       " '«',\n",
       " '1с',\n",
       " 'бухгалтерия',\n",
       " '»',\n",
       " ',',\n",
       " '«',\n",
       " 'зуп',\n",
       " '»',\n",
       " ';',\n",
       " 'опыт',\n",
       " 'работы',\n",
       " 'с',\n",
       " 'программами',\n",
       " '«',\n",
       " '1с',\n",
       " ':',\n",
       " 'документооборот',\n",
       " '»',\n",
       " ',',\n",
       " '«',\n",
       " 'битфинанс',\n",
       " '.',\n",
       " 'холдинг',\n",
       " '»',\n",
       " 'является',\n",
       " 'преимуществом',\n",
       " ';',\n",
       " 'условия',\n",
       " ':',\n",
       " 'официальное',\n",
       " 'оформление',\n",
       " 'с',\n",
       " '1-го',\n",
       " 'дня',\n",
       " 'работы',\n",
       " ',',\n",
       " 'полное',\n",
       " 'соблюдение',\n",
       " 'тк',\n",
       " 'рф',\n",
       " ';',\n",
       " 'место',\n",
       " 'работы',\n",
       " '-',\n",
       " 'ст',\n",
       " '.',\n",
       " 'м',\n",
       " '.',\n",
       " '\"',\n",
       " 'алексеевская',\n",
       " '\"',\n",
       " '.']"
      ]
     },
     "execution_count": 123,
     "metadata": {},
     "output_type": "execute_result"
    }
   ],
   "source": [
    "import pymorphy2\n",
    "simple_word_tokenize(texts[0])"
   ]
  },
  {
   "cell_type": "code",
   "execution_count": null,
   "metadata": {
    "collapsed": true
   },
   "outputs": [],
   "source": []
  },
  {
   "cell_type": "code",
   "execution_count": null,
   "metadata": {
    "collapsed": true
   },
   "outputs": [],
   "source": []
  },
  {
   "cell_type": "code",
   "execution_count": null,
   "metadata": {
    "collapsed": true
   },
   "outputs": [],
   "source": []
  },
  {
   "cell_type": "code",
   "execution_count": null,
   "metadata": {
    "collapsed": true
   },
   "outputs": [],
   "source": []
  },
  {
   "cell_type": "code",
   "execution_count": null,
   "metadata": {
    "collapsed": true
   },
   "outputs": [],
   "source": []
  }
 ],
 "metadata": {
  "kernelspec": {
   "display_name": "Python 3",
   "language": "python",
   "name": "python3"
  },
  "language_info": {
   "codemirror_mode": {
    "name": "ipython",
    "version": 3
   },
   "file_extension": ".py",
   "mimetype": "text/x-python",
   "name": "python",
   "nbconvert_exporter": "python",
   "pygments_lexer": "ipython3",
   "version": "3.6.2"
  }
 },
 "nbformat": 4,
 "nbformat_minor": 2
}
